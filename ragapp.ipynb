{
 "cells": [
  {
   "cell_type": "code",
   "execution_count": 1,
   "metadata": {},
   "outputs": [
    {
     "ename": "KeyboardInterrupt",
     "evalue": "",
     "output_type": "error",
     "traceback": [
      "\u001b[0;31m---------------------------------------------------------------------------\u001b[0m",
      "\u001b[0;31mKeyboardInterrupt\u001b[0m                         Traceback (most recent call last)",
      "Cell \u001b[0;32mIn[1], line 4\u001b[0m\n\u001b[1;32m      2\u001b[0m \u001b[38;5;28;01mfrom\u001b[39;00m \u001b[38;5;21;01mlangchain_community\u001b[39;00m\u001b[38;5;21;01m.\u001b[39;00m\u001b[38;5;21;01mdocument_loaders\u001b[39;00m \u001b[38;5;28;01mimport\u001b[39;00m PDFPlumberLoader\n\u001b[1;32m      3\u001b[0m loader \u001b[38;5;241m=\u001b[39m PDFPlumberLoader(\u001b[38;5;124m\"\u001b[39m\u001b[38;5;124mpdf/DCPR_2034_13-09-2024.pdf\u001b[39m\u001b[38;5;124m\"\u001b[39m)\n\u001b[0;32m----> 4\u001b[0m docs \u001b[38;5;241m=\u001b[39m \u001b[43mloader\u001b[49m\u001b[38;5;241;43m.\u001b[39;49m\u001b[43mload\u001b[49m\u001b[43m(\u001b[49m\u001b[43m)\u001b[49m\n\u001b[1;32m      5\u001b[0m \u001b[38;5;28mprint\u001b[39m(\u001b[38;5;124m\"\u001b[39m\u001b[38;5;124mNumber of pages in the PDF:\u001b[39m\u001b[38;5;124m\"\u001b[39m, \u001b[38;5;28mlen\u001b[39m(docs))\n\u001b[1;32m      7\u001b[0m \u001b[38;5;66;03m# Extract text from each page for embedding\u001b[39;00m\n",
      "File \u001b[0;32m~/Documents/PROJECTS/pythonproject/Github/chatbotapp/venv/lib/python3.12/site-packages/langchain_community/document_loaders/pdf.py:645\u001b[0m, in \u001b[0;36mPDFPlumberLoader.load\u001b[0;34m(self)\u001b[0m\n\u001b[1;32m    643\u001b[0m \u001b[38;5;28;01melse\u001b[39;00m:\n\u001b[1;32m    644\u001b[0m     blob \u001b[38;5;241m=\u001b[39m Blob\u001b[38;5;241m.\u001b[39mfrom_path(\u001b[38;5;28mself\u001b[39m\u001b[38;5;241m.\u001b[39mfile_path)  \u001b[38;5;66;03m# type: ignore[attr-defined]\u001b[39;00m\n\u001b[0;32m--> 645\u001b[0m \u001b[38;5;28;01mreturn\u001b[39;00m \u001b[43mparser\u001b[49m\u001b[38;5;241;43m.\u001b[39;49m\u001b[43mparse\u001b[49m\u001b[43m(\u001b[49m\u001b[43mblob\u001b[49m\u001b[43m)\u001b[49m\n",
      "File \u001b[0;32m~/Documents/PROJECTS/pythonproject/Github/chatbotapp/venv/lib/python3.12/site-packages/langchain_core/document_loaders/base.py:127\u001b[0m, in \u001b[0;36mBaseBlobParser.parse\u001b[0;34m(self, blob)\u001b[0m\n\u001b[1;32m    112\u001b[0m \u001b[38;5;28;01mdef\u001b[39;00m \u001b[38;5;21mparse\u001b[39m(\u001b[38;5;28mself\u001b[39m, blob: Blob) \u001b[38;5;241m-\u001b[39m\u001b[38;5;241m>\u001b[39m \u001b[38;5;28mlist\u001b[39m[Document]:\n\u001b[1;32m    113\u001b[0m \u001b[38;5;250m    \u001b[39m\u001b[38;5;124;03m\"\"\"Eagerly parse the blob into a document or documents.\u001b[39;00m\n\u001b[1;32m    114\u001b[0m \n\u001b[1;32m    115\u001b[0m \u001b[38;5;124;03m    This is a convenience method for interactive development environment.\u001b[39;00m\n\u001b[0;32m   (...)\u001b[0m\n\u001b[1;32m    125\u001b[0m \u001b[38;5;124;03m        List of documents\u001b[39;00m\n\u001b[1;32m    126\u001b[0m \u001b[38;5;124;03m    \"\"\"\u001b[39;00m\n\u001b[0;32m--> 127\u001b[0m     \u001b[38;5;28;01mreturn\u001b[39;00m \u001b[38;5;28;43mlist\u001b[39;49m\u001b[43m(\u001b[49m\u001b[38;5;28;43mself\u001b[39;49m\u001b[38;5;241;43m.\u001b[39;49m\u001b[43mlazy_parse\u001b[49m\u001b[43m(\u001b[49m\u001b[43mblob\u001b[49m\u001b[43m)\u001b[49m\u001b[43m)\u001b[49m\n",
      "File \u001b[0;32m~/Documents/PROJECTS/pythonproject/Github/chatbotapp/venv/lib/python3.12/site-packages/langchain_community/document_loaders/parsers/pdf.py:421\u001b[0m, in \u001b[0;36mPDFPlumberParser.lazy_parse\u001b[0;34m(self, blob)\u001b[0m\n\u001b[1;32m    416\u001b[0m \u001b[38;5;28;01mwith\u001b[39;00m blob\u001b[38;5;241m.\u001b[39mas_bytes_io() \u001b[38;5;28;01mas\u001b[39;00m file_path:  \u001b[38;5;66;03m# type: ignore[attr-defined]\u001b[39;00m\n\u001b[1;32m    417\u001b[0m     doc \u001b[38;5;241m=\u001b[39m pdfplumber\u001b[38;5;241m.\u001b[39mopen(file_path)  \u001b[38;5;66;03m# open document\u001b[39;00m\n\u001b[1;32m    419\u001b[0m     \u001b[38;5;28;01myield from\u001b[39;00m [\n\u001b[1;32m    420\u001b[0m         Document(\n\u001b[0;32m--> 421\u001b[0m             page_content\u001b[38;5;241m=\u001b[39m\u001b[38;5;28;43mself\u001b[39;49m\u001b[38;5;241;43m.\u001b[39;49m\u001b[43m_process_page_content\u001b[49m\u001b[43m(\u001b[49m\u001b[43mpage\u001b[49m\u001b[43m)\u001b[49m\n\u001b[1;32m    422\u001b[0m             \u001b[38;5;241m+\u001b[39m \u001b[38;5;124m\"\u001b[39m\u001b[38;5;130;01m\\n\u001b[39;00m\u001b[38;5;124m\"\u001b[39m\n\u001b[1;32m    423\u001b[0m             \u001b[38;5;241m+\u001b[39m \u001b[38;5;28mself\u001b[39m\u001b[38;5;241m.\u001b[39m_extract_images_from_page(page),\n\u001b[1;32m    424\u001b[0m             metadata\u001b[38;5;241m=\u001b[39m\u001b[38;5;28mdict\u001b[39m(\n\u001b[1;32m    425\u001b[0m                 {\n\u001b[1;32m    426\u001b[0m                     \u001b[38;5;124m\"\u001b[39m\u001b[38;5;124msource\u001b[39m\u001b[38;5;124m\"\u001b[39m: blob\u001b[38;5;241m.\u001b[39msource,  \u001b[38;5;66;03m# type: ignore[attr-defined]\u001b[39;00m\n\u001b[1;32m    427\u001b[0m                     \u001b[38;5;124m\"\u001b[39m\u001b[38;5;124mfile_path\u001b[39m\u001b[38;5;124m\"\u001b[39m: blob\u001b[38;5;241m.\u001b[39msource,  \u001b[38;5;66;03m# type: ignore[attr-defined]\u001b[39;00m\n\u001b[1;32m    428\u001b[0m                     \u001b[38;5;124m\"\u001b[39m\u001b[38;5;124mpage\u001b[39m\u001b[38;5;124m\"\u001b[39m: page\u001b[38;5;241m.\u001b[39mpage_number \u001b[38;5;241m-\u001b[39m \u001b[38;5;241m1\u001b[39m,\n\u001b[1;32m    429\u001b[0m                     \u001b[38;5;124m\"\u001b[39m\u001b[38;5;124mtotal_pages\u001b[39m\u001b[38;5;124m\"\u001b[39m: \u001b[38;5;28mlen\u001b[39m(doc\u001b[38;5;241m.\u001b[39mpages),\n\u001b[1;32m    430\u001b[0m                 },\n\u001b[1;32m    431\u001b[0m                 \u001b[38;5;241m*\u001b[39m\u001b[38;5;241m*\u001b[39m{\n\u001b[1;32m    432\u001b[0m                     k: doc\u001b[38;5;241m.\u001b[39mmetadata[k]\n\u001b[1;32m    433\u001b[0m                     \u001b[38;5;28;01mfor\u001b[39;00m k \u001b[38;5;129;01min\u001b[39;00m doc\u001b[38;5;241m.\u001b[39mmetadata\n\u001b[1;32m    434\u001b[0m                     \u001b[38;5;28;01mif\u001b[39;00m \u001b[38;5;28mtype\u001b[39m(doc\u001b[38;5;241m.\u001b[39mmetadata[k]) \u001b[38;5;129;01min\u001b[39;00m [\u001b[38;5;28mstr\u001b[39m, \u001b[38;5;28mint\u001b[39m]\n\u001b[1;32m    435\u001b[0m                 },\n\u001b[1;32m    436\u001b[0m             ),\n\u001b[1;32m    437\u001b[0m         )\n\u001b[1;32m    438\u001b[0m         \u001b[38;5;28;01mfor\u001b[39;00m page \u001b[38;5;129;01min\u001b[39;00m doc\u001b[38;5;241m.\u001b[39mpages\n\u001b[1;32m    439\u001b[0m     ]\n",
      "File \u001b[0;32m~/Documents/PROJECTS/pythonproject/Github/chatbotapp/venv/lib/python3.12/site-packages/langchain_community/document_loaders/parsers/pdf.py:445\u001b[0m, in \u001b[0;36mPDFPlumberParser._process_page_content\u001b[0;34m(self, page)\u001b[0m\n\u001b[1;32m    443\u001b[0m \u001b[38;5;28;01mif\u001b[39;00m \u001b[38;5;28mself\u001b[39m\u001b[38;5;241m.\u001b[39mdedupe:\n\u001b[1;32m    444\u001b[0m     \u001b[38;5;28;01mreturn\u001b[39;00m page\u001b[38;5;241m.\u001b[39mdedupe_chars()\u001b[38;5;241m.\u001b[39mextract_text(\u001b[38;5;241m*\u001b[39m\u001b[38;5;241m*\u001b[39m\u001b[38;5;28mself\u001b[39m\u001b[38;5;241m.\u001b[39mtext_kwargs)\n\u001b[0;32m--> 445\u001b[0m \u001b[38;5;28;01mreturn\u001b[39;00m \u001b[43mpage\u001b[49m\u001b[38;5;241;43m.\u001b[39;49m\u001b[43mextract_text\u001b[49m\u001b[43m(\u001b[49m\u001b[38;5;241;43m*\u001b[39;49m\u001b[38;5;241;43m*\u001b[39;49m\u001b[38;5;28;43mself\u001b[39;49m\u001b[38;5;241;43m.\u001b[39;49m\u001b[43mtext_kwargs\u001b[49m\u001b[43m)\u001b[49m\n",
      "File \u001b[0;32m~/Documents/PROJECTS/pythonproject/Github/chatbotapp/venv/lib/python3.12/site-packages/pdfplumber/page.py:538\u001b[0m, in \u001b[0;36mPage.extract_text\u001b[0;34m(self, **kwargs)\u001b[0m\n\u001b[1;32m    537\u001b[0m \u001b[38;5;28;01mdef\u001b[39;00m \u001b[38;5;21mextract_text\u001b[39m(\u001b[38;5;28mself\u001b[39m, \u001b[38;5;241m*\u001b[39m\u001b[38;5;241m*\u001b[39mkwargs: Any) \u001b[38;5;241m-\u001b[39m\u001b[38;5;241m>\u001b[39m \u001b[38;5;28mstr\u001b[39m:\n\u001b[0;32m--> 538\u001b[0m     \u001b[38;5;28;01mreturn\u001b[39;00m \u001b[38;5;28;43mself\u001b[39;49m\u001b[38;5;241;43m.\u001b[39;49m\u001b[43mget_textmap\u001b[49m\u001b[43m(\u001b[49m\u001b[38;5;241;43m*\u001b[39;49m\u001b[38;5;241;43m*\u001b[39;49m\u001b[43mtuplify_list_kwargs\u001b[49m\u001b[43m(\u001b[49m\u001b[43mkwargs\u001b[49m\u001b[43m)\u001b[49m\u001b[43m)\u001b[49m\u001b[38;5;241m.\u001b[39mas_string\n",
      "File \u001b[0;32m~/Documents/PROJECTS/pythonproject/Github/chatbotapp/venv/lib/python3.12/site-packages/pdfplumber/page.py:515\u001b[0m, in \u001b[0;36mPage._get_textmap\u001b[0;34m(self, **kwargs)\u001b[0m\n\u001b[1;32m    513\u001b[0m     defaults\u001b[38;5;241m.\u001b[39mupdate({\u001b[38;5;124m\"\u001b[39m\u001b[38;5;124mlayout_height\u001b[39m\u001b[38;5;124m\"\u001b[39m: \u001b[38;5;28mself\u001b[39m\u001b[38;5;241m.\u001b[39mheight})\n\u001b[1;32m    514\u001b[0m full_kwargs: Dict[\u001b[38;5;28mstr\u001b[39m, Any] \u001b[38;5;241m=\u001b[39m {\u001b[38;5;241m*\u001b[39m\u001b[38;5;241m*\u001b[39mdefaults, \u001b[38;5;241m*\u001b[39m\u001b[38;5;241m*\u001b[39mkwargs}\n\u001b[0;32m--> 515\u001b[0m \u001b[38;5;28;01mreturn\u001b[39;00m utils\u001b[38;5;241m.\u001b[39mchars_to_textmap(\u001b[38;5;28;43mself\u001b[39;49m\u001b[38;5;241;43m.\u001b[39;49m\u001b[43mchars\u001b[49m, \u001b[38;5;241m*\u001b[39m\u001b[38;5;241m*\u001b[39mfull_kwargs)\n",
      "File \u001b[0;32m~/Documents/PROJECTS/pythonproject/Github/chatbotapp/venv/lib/python3.12/site-packages/pdfplumber/container.py:52\u001b[0m, in \u001b[0;36mContainer.chars\u001b[0;34m(self)\u001b[0m\n\u001b[1;32m     50\u001b[0m \u001b[38;5;129m@property\u001b[39m\n\u001b[1;32m     51\u001b[0m \u001b[38;5;28;01mdef\u001b[39;00m \u001b[38;5;21mchars\u001b[39m(\u001b[38;5;28mself\u001b[39m) \u001b[38;5;241m-\u001b[39m\u001b[38;5;241m>\u001b[39m T_obj_list:\n\u001b[0;32m---> 52\u001b[0m     \u001b[38;5;28;01mreturn\u001b[39;00m \u001b[38;5;28;43mself\u001b[39;49m\u001b[38;5;241;43m.\u001b[39;49m\u001b[43mobjects\u001b[49m\u001b[38;5;241m.\u001b[39mget(\u001b[38;5;124m\"\u001b[39m\u001b[38;5;124mchar\u001b[39m\u001b[38;5;124m\"\u001b[39m, [])\n",
      "File \u001b[0;32m~/Documents/PROJECTS/pythonproject/Github/chatbotapp/venv/lib/python3.12/site-packages/pdfplumber/page.py:347\u001b[0m, in \u001b[0;36mPage.objects\u001b[0;34m(self)\u001b[0m\n\u001b[1;32m    345\u001b[0m \u001b[38;5;28;01mif\u001b[39;00m \u001b[38;5;28mhasattr\u001b[39m(\u001b[38;5;28mself\u001b[39m, \u001b[38;5;124m\"\u001b[39m\u001b[38;5;124m_objects\u001b[39m\u001b[38;5;124m\"\u001b[39m):\n\u001b[1;32m    346\u001b[0m     \u001b[38;5;28;01mreturn\u001b[39;00m \u001b[38;5;28mself\u001b[39m\u001b[38;5;241m.\u001b[39m_objects\n\u001b[0;32m--> 347\u001b[0m \u001b[38;5;28mself\u001b[39m\u001b[38;5;241m.\u001b[39m_objects: Dict[\u001b[38;5;28mstr\u001b[39m, T_obj_list] \u001b[38;5;241m=\u001b[39m \u001b[38;5;28;43mself\u001b[39;49m\u001b[38;5;241;43m.\u001b[39;49m\u001b[43mparse_objects\u001b[49m\u001b[43m(\u001b[49m\u001b[43m)\u001b[49m\n\u001b[1;32m    348\u001b[0m \u001b[38;5;28;01mreturn\u001b[39;00m \u001b[38;5;28mself\u001b[39m\u001b[38;5;241m.\u001b[39m_objects\n",
      "File \u001b[0;32m~/Documents/PROJECTS/pythonproject/Github/chatbotapp/venv/lib/python3.12/site-packages/pdfplumber/page.py:451\u001b[0m, in \u001b[0;36mPage.parse_objects\u001b[0;34m(self)\u001b[0m\n\u001b[1;32m    449\u001b[0m \u001b[38;5;28;01mdef\u001b[39;00m \u001b[38;5;21mparse_objects\u001b[39m(\u001b[38;5;28mself\u001b[39m) \u001b[38;5;241m-\u001b[39m\u001b[38;5;241m>\u001b[39m Dict[\u001b[38;5;28mstr\u001b[39m, T_obj_list]:\n\u001b[1;32m    450\u001b[0m     objects: Dict[\u001b[38;5;28mstr\u001b[39m, T_obj_list] \u001b[38;5;241m=\u001b[39m {}\n\u001b[0;32m--> 451\u001b[0m     \u001b[38;5;28;01mfor\u001b[39;00m obj \u001b[38;5;129;01min\u001b[39;00m \u001b[38;5;28mself\u001b[39m\u001b[38;5;241m.\u001b[39miter_layout_objects(\u001b[38;5;28;43mself\u001b[39;49m\u001b[38;5;241;43m.\u001b[39;49m\u001b[43mlayout\u001b[49m\u001b[38;5;241m.\u001b[39m_objs):\n\u001b[1;32m    452\u001b[0m         kind \u001b[38;5;241m=\u001b[39m obj[\u001b[38;5;124m\"\u001b[39m\u001b[38;5;124mobject_type\u001b[39m\u001b[38;5;124m\"\u001b[39m]\n\u001b[1;32m    453\u001b[0m         \u001b[38;5;28;01mif\u001b[39;00m kind \u001b[38;5;129;01min\u001b[39;00m [\u001b[38;5;124m\"\u001b[39m\u001b[38;5;124manno\u001b[39m\u001b[38;5;124m\"\u001b[39m]:\n",
      "File \u001b[0;32m~/Documents/PROJECTS/pythonproject/Github/chatbotapp/venv/lib/python3.12/site-packages/pdfplumber/page.py:277\u001b[0m, in \u001b[0;36mPage.layout\u001b[0;34m(self)\u001b[0m\n\u001b[1;32m    271\u001b[0m device \u001b[38;5;241m=\u001b[39m PDFPageAggregatorWithMarkedContent(\n\u001b[1;32m    272\u001b[0m     \u001b[38;5;28mself\u001b[39m\u001b[38;5;241m.\u001b[39mpdf\u001b[38;5;241m.\u001b[39mrsrcmgr,\n\u001b[1;32m    273\u001b[0m     pageno\u001b[38;5;241m=\u001b[39m\u001b[38;5;28mself\u001b[39m\u001b[38;5;241m.\u001b[39mpage_number,\n\u001b[1;32m    274\u001b[0m     laparams\u001b[38;5;241m=\u001b[39m\u001b[38;5;28mself\u001b[39m\u001b[38;5;241m.\u001b[39mpdf\u001b[38;5;241m.\u001b[39mlaparams,\n\u001b[1;32m    275\u001b[0m )\n\u001b[1;32m    276\u001b[0m interpreter \u001b[38;5;241m=\u001b[39m PDFPageInterpreter(\u001b[38;5;28mself\u001b[39m\u001b[38;5;241m.\u001b[39mpdf\u001b[38;5;241m.\u001b[39mrsrcmgr, device)\n\u001b[0;32m--> 277\u001b[0m \u001b[43minterpreter\u001b[49m\u001b[38;5;241;43m.\u001b[39;49m\u001b[43mprocess_page\u001b[49m\u001b[43m(\u001b[49m\u001b[38;5;28;43mself\u001b[39;49m\u001b[38;5;241;43m.\u001b[39;49m\u001b[43mpage_obj\u001b[49m\u001b[43m)\u001b[49m\n\u001b[1;32m    278\u001b[0m \u001b[38;5;28mself\u001b[39m\u001b[38;5;241m.\u001b[39m_layout: LTPage \u001b[38;5;241m=\u001b[39m device\u001b[38;5;241m.\u001b[39mget_result()\n\u001b[1;32m    279\u001b[0m \u001b[38;5;28;01mreturn\u001b[39;00m \u001b[38;5;28mself\u001b[39m\u001b[38;5;241m.\u001b[39m_layout\n",
      "File \u001b[0;32m~/Documents/PROJECTS/pythonproject/Github/chatbotapp/venv/lib/python3.12/site-packages/pdfminer/pdfinterp.py:997\u001b[0m, in \u001b[0;36mPDFPageInterpreter.process_page\u001b[0;34m(self, page)\u001b[0m\n\u001b[1;32m    995\u001b[0m     ctm \u001b[38;5;241m=\u001b[39m (\u001b[38;5;241m1\u001b[39m, \u001b[38;5;241m0\u001b[39m, \u001b[38;5;241m0\u001b[39m, \u001b[38;5;241m1\u001b[39m, \u001b[38;5;241m-\u001b[39mx0, \u001b[38;5;241m-\u001b[39my0)\n\u001b[1;32m    996\u001b[0m \u001b[38;5;28mself\u001b[39m\u001b[38;5;241m.\u001b[39mdevice\u001b[38;5;241m.\u001b[39mbegin_page(page, ctm)\n\u001b[0;32m--> 997\u001b[0m \u001b[38;5;28;43mself\u001b[39;49m\u001b[38;5;241;43m.\u001b[39;49m\u001b[43mrender_contents\u001b[49m\u001b[43m(\u001b[49m\u001b[43mpage\u001b[49m\u001b[38;5;241;43m.\u001b[39;49m\u001b[43mresources\u001b[49m\u001b[43m,\u001b[49m\u001b[43m \u001b[49m\u001b[43mpage\u001b[49m\u001b[38;5;241;43m.\u001b[39;49m\u001b[43mcontents\u001b[49m\u001b[43m,\u001b[49m\u001b[43m \u001b[49m\u001b[43mctm\u001b[49m\u001b[38;5;241;43m=\u001b[39;49m\u001b[43mctm\u001b[49m\u001b[43m)\u001b[49m\n\u001b[1;32m    998\u001b[0m \u001b[38;5;28mself\u001b[39m\u001b[38;5;241m.\u001b[39mdevice\u001b[38;5;241m.\u001b[39mend_page(page)\n\u001b[1;32m    999\u001b[0m \u001b[38;5;28;01mreturn\u001b[39;00m\n",
      "File \u001b[0;32m~/Documents/PROJECTS/pythonproject/Github/chatbotapp/venv/lib/python3.12/site-packages/pdfminer/pdfinterp.py:1016\u001b[0m, in \u001b[0;36mPDFPageInterpreter.render_contents\u001b[0;34m(self, resources, streams, ctm)\u001b[0m\n\u001b[1;32m   1014\u001b[0m \u001b[38;5;28mself\u001b[39m\u001b[38;5;241m.\u001b[39minit_resources(resources)\n\u001b[1;32m   1015\u001b[0m \u001b[38;5;28mself\u001b[39m\u001b[38;5;241m.\u001b[39minit_state(ctm)\n\u001b[0;32m-> 1016\u001b[0m \u001b[38;5;28;43mself\u001b[39;49m\u001b[38;5;241;43m.\u001b[39;49m\u001b[43mexecute\u001b[49m\u001b[43m(\u001b[49m\u001b[43mlist_value\u001b[49m\u001b[43m(\u001b[49m\u001b[43mstreams\u001b[49m\u001b[43m)\u001b[49m\u001b[43m)\u001b[49m\n\u001b[1;32m   1017\u001b[0m \u001b[38;5;28;01mreturn\u001b[39;00m\n",
      "File \u001b[0;32m~/Documents/PROJECTS/pythonproject/Github/chatbotapp/venv/lib/python3.12/site-packages/pdfminer/pdfinterp.py:1027\u001b[0m, in \u001b[0;36mPDFPageInterpreter.execute\u001b[0;34m(self, streams)\u001b[0m\n\u001b[1;32m   1025\u001b[0m \u001b[38;5;28;01mwhile\u001b[39;00m \u001b[38;5;241m1\u001b[39m:\n\u001b[1;32m   1026\u001b[0m     \u001b[38;5;28;01mtry\u001b[39;00m:\n\u001b[0;32m-> 1027\u001b[0m         (_, obj) \u001b[38;5;241m=\u001b[39m \u001b[43mparser\u001b[49m\u001b[38;5;241;43m.\u001b[39;49m\u001b[43mnextobject\u001b[49m\u001b[43m(\u001b[49m\u001b[43m)\u001b[49m\n\u001b[1;32m   1028\u001b[0m     \u001b[38;5;28;01mexcept\u001b[39;00m PSEOF:\n\u001b[1;32m   1029\u001b[0m         \u001b[38;5;28;01mbreak\u001b[39;00m\n",
      "File \u001b[0;32m~/Documents/PROJECTS/pythonproject/Github/chatbotapp/venv/lib/python3.12/site-packages/pdfminer/psparser.py:609\u001b[0m, in \u001b[0;36mPSStackParser.nextobject\u001b[0;34m(self)\u001b[0m\n\u001b[1;32m    601\u001b[0m \u001b[38;5;250m\u001b[39m\u001b[38;5;124;03m\"\"\"Yields a list of objects.\u001b[39;00m\n\u001b[1;32m    602\u001b[0m \n\u001b[1;32m    603\u001b[0m \u001b[38;5;124;03mArrays and dictionaries are represented as Python lists and\u001b[39;00m\n\u001b[0;32m   (...)\u001b[0m\n\u001b[1;32m    606\u001b[0m \u001b[38;5;124;03m:return: keywords, literals, strings, numbers, arrays and dictionaries.\u001b[39;00m\n\u001b[1;32m    607\u001b[0m \u001b[38;5;124;03m\"\"\"\u001b[39;00m\n\u001b[1;32m    608\u001b[0m \u001b[38;5;28;01mwhile\u001b[39;00m \u001b[38;5;129;01mnot\u001b[39;00m \u001b[38;5;28mself\u001b[39m\u001b[38;5;241m.\u001b[39mresults:\n\u001b[0;32m--> 609\u001b[0m     (pos, token) \u001b[38;5;241m=\u001b[39m \u001b[38;5;28;43mself\u001b[39;49m\u001b[38;5;241;43m.\u001b[39;49m\u001b[43mnexttoken\u001b[49m\u001b[43m(\u001b[49m\u001b[43m)\u001b[49m\n\u001b[1;32m    610\u001b[0m     \u001b[38;5;28;01mif\u001b[39;00m \u001b[38;5;28misinstance\u001b[39m(token, (\u001b[38;5;28mint\u001b[39m, \u001b[38;5;28mfloat\u001b[39m, \u001b[38;5;28mbool\u001b[39m, \u001b[38;5;28mstr\u001b[39m, \u001b[38;5;28mbytes\u001b[39m, PSLiteral)):\n\u001b[1;32m    611\u001b[0m         \u001b[38;5;66;03m# normal token\u001b[39;00m\n\u001b[1;32m    612\u001b[0m         \u001b[38;5;28mself\u001b[39m\u001b[38;5;241m.\u001b[39mpush((pos, token))\n",
      "File \u001b[0;32m~/Documents/PROJECTS/pythonproject/Github/chatbotapp/venv/lib/python3.12/site-packages/pdfminer/psparser.py:525\u001b[0m, in \u001b[0;36mPSBaseParser.nexttoken\u001b[0;34m(self)\u001b[0m\n\u001b[1;32m    524\u001b[0m \u001b[38;5;28;01mdef\u001b[39;00m \u001b[38;5;21mnexttoken\u001b[39m(\u001b[38;5;28mself\u001b[39m) \u001b[38;5;241m-\u001b[39m\u001b[38;5;241m>\u001b[39m Tuple[\u001b[38;5;28mint\u001b[39m, PSBaseParserToken]:\n\u001b[0;32m--> 525\u001b[0m     \u001b[38;5;28;01mwhile\u001b[39;00m \u001b[38;5;129;01mnot\u001b[39;00m \u001b[38;5;28mself\u001b[39m\u001b[38;5;241m.\u001b[39m_tokens:\n\u001b[1;32m    526\u001b[0m         \u001b[38;5;28mself\u001b[39m\u001b[38;5;241m.\u001b[39mfillbuf()\n\u001b[1;32m    527\u001b[0m         \u001b[38;5;28mself\u001b[39m\u001b[38;5;241m.\u001b[39mcharpos \u001b[38;5;241m=\u001b[39m \u001b[38;5;28mself\u001b[39m\u001b[38;5;241m.\u001b[39m_parse1(\u001b[38;5;28mself\u001b[39m\u001b[38;5;241m.\u001b[39mbuf, \u001b[38;5;28mself\u001b[39m\u001b[38;5;241m.\u001b[39mcharpos)\n",
      "\u001b[0;31mKeyboardInterrupt\u001b[0m: "
     ]
    }
   ],
   "source": [
    "# Load and read PDF content\n",
    "from langchain_community.document_loaders import PDFPlumberLoader\n",
    "loader = PDFPlumberLoader(\"pdf/DCPR_2034_13-09-2024.pdf\")\n",
    "docs = loader.load()\n",
    "print(\"Number of pages in the PDF:\", len(docs))\n",
    "\n",
    "# Extract text from each page for embedding\n",
    "doc_texts = [page.page_content for page in docs]\n",
    "#print(\" Document  texts\",doc_texts)\n"
   ]
  },
  {
   "cell_type": "code",
   "execution_count": 2,
   "metadata": {},
   "outputs": [
    {
     "name": "stderr",
     "output_type": "stream",
     "text": [
      "/Users/krishna/Documents/PROJECTS/pythonproject/Github/chatbotapp/venv/lib/python3.12/site-packages/tqdm/auto.py:21: TqdmWarning: IProgress not found. Please update jupyter and ipywidgets. See https://ipywidgets.readthedocs.io/en/stable/user_install.html\n",
      "  from .autonotebook import tqdm as notebook_tqdm\n",
      "Fetching 30 files: 100%|██████████| 30/30 [00:00<00:00, 206615.96it/s]\n",
      "You're using a XLMRobertaTokenizerFast tokenizer. Please note that with a fast tokenizer, using the `__call__` method is faster than using a method to encode the text followed by a call to the `pad` method to get a padded encoding.\n"
     ]
    }
   ],
   "source": [
    "from milvus_model.hybrid import BGEM3EmbeddingFunction\n",
    "import torch\n",
    "device = \"mps\" if torch.backends.mps.is_available() else \"cpu\"\n",
    "ef = BGEM3EmbeddingFunction(use_fp16=False, device=device)\n",
    "dense_dim = ef.dim[\"dense\"]\n",
    "\n",
    "# Generate embeddings using BGE-M3 model\n",
    "docs_embeddings = ef(doc_texts)"
   ]
  },
  {
   "cell_type": "code",
   "execution_count": 3,
   "metadata": {},
   "outputs": [
    {
     "data": {
      "text/plain": [
       "1024"
      ]
     },
     "execution_count": 3,
     "metadata": {},
     "output_type": "execute_result"
    }
   ],
   "source": [
    "dense_dim"
   ]
  },
  {
   "cell_type": "code",
   "execution_count": 5,
   "metadata": {},
   "outputs": [],
   "source": [
    "from pymilvus import (\n",
    "    connections,\n",
    "    utility,\n",
    "    FieldSchema,\n",
    "    CollectionSchema,\n",
    "    DataType,\n",
    "    Collection,\n",
    ")"
   ]
  },
  {
   "cell_type": "code",
   "execution_count": 6,
   "metadata": {},
   "outputs": [
    {
     "name": "stderr",
     "output_type": "stream",
     "text": [
      "huggingface/tokenizers: The current process just got forked, after parallelism has already been used. Disabling parallelism to avoid deadlocks...\n",
      "To disable this warning, you can either:\n",
      "\t- Avoid using `tokenizers` before the fork if possible\n",
      "\t- Explicitly set the environment variable TOKENIZERS_PARALLELISM=(true | false)\n"
     ]
    }
   ],
   "source": [
    "# Connect to Milvus given URI\n",
    "connections.connect(uri=\"./milvus.db\")\n",
    "\n",
    "# Specify the data schema for the new Collection\n",
    "fields = [\n",
    "    # Use auto generated id as primary key\n",
    "    FieldSchema(\n",
    "        name=\"pk\", dtype=DataType.VARCHAR, is_primary=True, auto_id=True, max_length=100\n",
    "    ),\n",
    "    # Store the original text to retrieve based on semantically distance\n",
    "    FieldSchema(name=\"text\", dtype=DataType.VARCHAR, max_length=2048),\n",
    "    # Milvus now supports both sparse and dense vectors,\n",
    "    # we can store each in a separate field to conduct hybrid search on both vectors\n",
    "    FieldSchema(name=\"sparse_vector\", dtype=DataType.SPARSE_FLOAT_VECTOR),\n",
    "    FieldSchema(name=\"dense_vector\", dtype=DataType.FLOAT_VECTOR, dim=dense_dim),\n",
    "]\n",
    "schema = CollectionSchema(fields)"
   ]
  },
  {
   "cell_type": "code",
   "execution_count": 7,
   "metadata": {},
   "outputs": [],
   "source": [
    "# Create collection (drop the old one if exists)\n",
    "col_name = \"hybrid_demo\"\n",
    "if utility.has_collection(col_name):\n",
    "    Collection(col_name).drop()\n",
    "col = Collection(col_name, schema, consistency_level=\"Strong\")\n",
    "\n",
    "# To make vector search efficient, we need to create indices for the vector fields\n",
    "sparse_index = {\"index_type\": \"SPARSE_INVERTED_INDEX\", \"metric_type\": \"IP\"}\n",
    "col.create_index(\"sparse_vector\", sparse_index)\n",
    "dense_index = {\"index_type\": \"AUTOINDEX\", \"metric_type\": \"IP\"}\n",
    "col.create_index(\"dense_vector\", dense_index)\n",
    "col.load()"
   ]
  },
  {
   "cell_type": "code",
   "execution_count": 8,
   "metadata": {},
   "outputs": [
    {
     "name": "stdout",
     "output_type": "stream",
     "text": [
      "Number of entities inserted: 32\n"
     ]
    }
   ],
   "source": [
    "# For efficiency, we insert 50 records in each small batch\n",
    "for i in range(0, len(doc_texts), 50):\n",
    "    # Extract the raw text from Document objects\n",
    "    batched_texts = [doc.page_content for doc in docs[i : i + 50]]  # Extract the text content\n",
    "    batched_sparse_vectors = docs_embeddings[\"sparse\"][i : i + 50]\n",
    "    batched_dense_vectors = docs_embeddings[\"dense\"][i : i + 50]\n",
    "\n",
    "    # Prepare the batched entities for insertion\n",
    "    batched_entities = [\n",
    "        batched_texts,          # Text content\n",
    "        batched_sparse_vectors, # Sparse vector embeddings\n",
    "        batched_dense_vectors,  # Dense vector embeddings\n",
    "    ]\n",
    "\n",
    "    # Insert the batch into Milvus\n",
    "    col.insert(batched_entities)\n",
    "\n",
    "print(\"Number of entities inserted:\", col.num_entities)"
   ]
  },
  {
   "cell_type": "code",
   "execution_count": 24,
   "metadata": {},
   "outputs": [
    {
     "name": "stdout",
     "output_type": "stream",
     "text": [
      "{'dense': [array([-0.02032133, -0.00229368,  0.00926588, ..., -0.03365859,\n",
      "       -0.04196751,  0.02864992], dtype=float32)], 'sparse': <Compressed Sparse Row sparse array of dtype 'float64'\n",
      "\twith 14 stored elements and shape (1, 250002)>}\n"
     ]
    }
   ],
   "source": [
    "# Generate embeddings for the query\n",
    "query = \"What is the minimum requirement of FSI for building above 70m\"\n",
    "query_embeddings = ef([query])\n",
    "print(query_embeddings)"
   ]
  },
  {
   "cell_type": "code",
   "execution_count": 25,
   "metadata": {},
   "outputs": [],
   "source": [
    "from pymilvus import (\n",
    "    AnnSearchRequest,\n",
    "    WeightedRanker,\n",
    ")\n",
    "\n",
    "def dense_search(col, query_dense_embedding, limit=5):\n",
    "    search_params = {\"metric_type\": \"IP\", \"params\": {}}\n",
    "    res = col.search(\n",
    "        [query_dense_embedding],\n",
    "        anns_field=\"dense_vector\",\n",
    "        limit=limit,\n",
    "        output_fields=[\"text\"],\n",
    "        param=search_params,\n",
    "    )[0]\n",
    "    return [hit.get(\"text\") for hit in res]"
   ]
  },
  {
   "cell_type": "code",
   "execution_count": 26,
   "metadata": {},
   "outputs": [],
   "source": [
    "def sparse_search(col, query_sparse_embedding, limit=5):\n",
    "    search_params = {\n",
    "        \"metric_type\": \"IP\", \"params\": {}, }\n",
    "    res = col.search(\n",
    "        [query_sparse_embedding],\n",
    "        anns_field=\"sparse_vector\",\n",
    "        limit=limit,\n",
    "        output_fields=[\"text\"],\n",
    "        param=search_params,\n",
    "    )[0]\n",
    "    return [hit.get(\"text\") for hit in res]"
   ]
  },
  {
   "cell_type": "code",
   "execution_count": 27,
   "metadata": {},
   "outputs": [],
   "source": [
    "def hybrid_search(\n",
    "    col,\n",
    "    query_dense_embedding,\n",
    "    query_sparse_embedding,\n",
    "    sparse_weight=1.0,\n",
    "    dense_weight=1.0,\n",
    "    limit=5,\n",
    "):\n",
    "    dense_search_params = {\"metric_type\": \"IP\", \"params\": {}}\n",
    "    dense_req = AnnSearchRequest(\n",
    "        [query_dense_embedding], \"dense_vector\", dense_search_params, limit=limit\n",
    "    )\n",
    "    sparse_search_params = {\"metric_type\": \"IP\", \"params\": {}}\n",
    "    sparse_req = AnnSearchRequest(\n",
    "        [query_sparse_embedding], \"sparse_vector\", sparse_search_params, limit=limit\n",
    "    )\n",
    "    rerank = WeightedRanker(sparse_weight, dense_weight)\n",
    "    res = col.hybrid_search(\n",
    "        [sparse_req, dense_req], rerank=rerank, limit=limit, output_fields=[\"text\"]\n",
    "    )[0]\n",
    "    return [hit.get(\"text\") for hit in res]"
   ]
  },
  {
   "cell_type": "code",
   "execution_count": 28,
   "metadata": {},
   "outputs": [],
   "source": [
    "dense_results = dense_search(col, query_embeddings[\"dense\"][0])\n",
    "sparse_results = sparse_search(col, query_embeddings[\"sparse\"][[0]])\n",
    "hybrid_results = hybrid_search(\n",
    "    col,\n",
    "    query_embeddings[\"dense\"][0],\n",
    "    query_embeddings[\"sparse\"][[0]],\n",
    "    sparse_weight=0.7,\n",
    "    dense_weight=1.0,\n",
    ")"
   ]
  },
  {
   "cell_type": "code",
   "execution_count": 29,
   "metadata": {},
   "outputs": [
    {
     "name": "stdout",
     "output_type": "stream",
     "text": [
      "['1\\n1\\nREGULATION 30(A)(1) TABLE NO 12, FSI & BUILT\\n4.\\nUP AREA COMPUTATION\\nArea & Road Zonal Additional Admissible Permiss\\nZone width (Basic) FSI TDR ible FSI\\non payment (3+4+5)\\nof\\nPremium\\n6\\n1 2 3 4 5\\n--- ---\\nLess than 9m 1.33 1.33\\nIsland\\nCity 9m & above but 1.33 0.5 0.17 2.0\\nResidentia less than\\nl 12.00m\\n/Commer\\n12.00 m 1.33 0.62 0.45 2.4\\ncial\\n&above but less\\nthan 18.00m\\n18.00m & 1.33 0.73 0.64 2.7\\nabove but less\\narchitects, project management consultant, valuers\\nthan 27m\\n27 m and above 1.33 0.84 0.83 3.0\\n', '5.\\nACCESS ROAD\\n1. The permissible FSI on a plot is related with the road width it\\nis facing as shown in FSI table.\\n2. TDR and Premium FSI are not permissible on a plot fronting\\nroad width less than 9 mts.\\n3. MCGM shall convert all roads of width less than 9 m to 9 m\\nand above as per site condition through MR&TP Act or MMC\\nAct.\\n4. The plots which are facing on existing roads less than 6 mt.\\nwidth but are proposed to be widened upto 9 mt. in future, will\\nbe permissible for FSI per 9 mt road width.\\n10\\narchitects, project management consultant, valuers\\n', '1.\\nFLOOR SPACE INDEX (FSI)\\na) FSI means the quotient of the ratio of the total\\nPermissible Built Up Area to the total plot area.\\nPermissible Built Up Area\\nFloor space index =\\nPlot area\\nOR\\nFloor space index X Plot area = Permissible Built Up Area.\\ne.g.\\n1.00 X 5000 Sq.Ft. = 5000 Sq.Ft.\\n5\\narchitects, project management consultant, valuers\\n', '1\\n2 Area & Road Zonal Additional Admissib Permissi\\nZone width (Basic) FSI le ble FSI\\non payment TDR\\nof (3+4+5)\\nPremium\\n6\\n1 2 3 4 5\\n--- ---\\nSuburbs Less than 9m 1.00 1.00\\nand\\nExtended\\n9m & above but 1.00 0.5 0.5 2.0\\nSuburbs\\nless than\\n( Except\\n12.00m\\nBARC,\\n12.00 m 1.00 0.5 0.70 2.2\\nAkse,\\n&above but less\\nMarve and\\nthan 18.00m\\nCRZ)\\n18.00m & 1.00 0.5 0.90 2.4\\nabove but less\\nthan 27m\\n27 m and above 1.00 0.5 1.00 2.5\\narchitects, project management consultant, valuers\\n', '1\\n4\\n33(5) FOR MAHARASHTRA HOUSING & AREA\\nA.\\nDEVELOPMENT AUTHORITY (MHADA)\\n1. Applicable to development / redevelopment of housing schemes\\nimplemented by MHADA on MHADA lands for Economically\\nWeaker Sections (EWS), Low Income Group (LIG) and Middle\\nIncome Group (MIG) categories.\\n2. 3 FSI permissible on gross plot area.\\n3. 4 FSI is permitted to Plot area more than 4000 Sq.mt. and\\nfronting road width more than 18 mts.\\n4. Each occupant shall be given the existing carpet area + 35%\\nbasic entitlement subject to minimum 35 Sq.mt. (376Sq.ft.)\\narchitects, project management consultant, valuers\\n']\n"
     ]
    }
   ],
   "source": [
    "print(dense_results)"
   ]
  },
  {
   "cell_type": "code",
   "execution_count": 30,
   "metadata": {},
   "outputs": [
    {
     "name": "stdout",
     "output_type": "stream",
     "text": [
      "['1\\n6 33(7) FOR OF CESSED BUILDINGS IN THE\\nB.\\nISLAND CITY\\n1. Reconstruction or redevelopment of cessed buildings in the island\\ncity by co-operative housing societies or of old buildings belonging\\nto the corporation existing from prior to 30/06/1969\\n2. 3 FSI on gross plot OR Rehab BUA+ Incentive whichever is more.\\n3. Incentive on rehab area is 50% for 1 plot , 60% for 2 to 5 plots and\\n70% 6 plots or more. An Additional incentive is permissible for\\nrehab depending upon the combination of no. of plots.\\n4. Each occupant shall be given the existing carpet area subject to\\nminimum of 300 Sq.ft. and maximum of 1292 Sq.ft. In case of non-\\nresidential occupier carpet to be given shall be equivalent to the\\narea occupied in the old building.\\narchitects, project management consultant, valuers\\n', '1\\n1\\nREGULATION 30(A)(1) TABLE NO 12, FSI & BUILT\\n4.\\nUP AREA COMPUTATION\\nArea & Road Zonal Additional Admissible Permiss\\nZone width (Basic) FSI TDR ible FSI\\non payment (3+4+5)\\nof\\nPremium\\n6\\n1 2 3 4 5\\n--- ---\\nLess than 9m 1.33 1.33\\nIsland\\nCity 9m & above but 1.33 0.5 0.17 2.0\\nResidentia less than\\nl 12.00m\\n/Commer\\n12.00 m 1.33 0.62 0.45 2.4\\ncial\\n&above but less\\nthan 18.00m\\n18.00m & 1.33 0.73 0.64 2.7\\nabove but less\\narchitects, project management consultant, valuers\\nthan 27m\\n27 m and above 1.33 0.84 0.83 3.0\\n', '1\\n7\\nC. 33(7)(A) FOR TENANT OCCUPIED BUILDING\\n1. Applicable to Dilapidated authorized tenanted building/s in Suburbs\\nand Dilapidated authorized Non cessed Tenanted building/s in Island\\nCity\\n2. Rehab area + Incentive OR Permissible FSI as per Table no 12 of\\nregulation 30(A)(1) whichever is more.\\n3. Incentive on rehab area is 50% for 1 plot , 60% for 2 to 5 plots and\\n70% for 6 plots or more.\\n4. Each tenant will get minimum 300 Sq.ft. and maximum of 1292 Sq.ft.\\nof carpet area and non-residential occupier will get equivalent to\\nexisting carpet area.\\n5. No new tenancy created after 13/6/96 shall be considered.\\narchitects, project management consultant, valuers\\n', '1\\n2 Area & Road Zonal Additional Admissib Permissi\\nZone width (Basic) FSI le ble FSI\\non payment TDR\\nof (3+4+5)\\nPremium\\n6\\n1 2 3 4 5\\n--- ---\\nSuburbs Less than 9m 1.00 1.00\\nand\\nExtended\\n9m & above but 1.00 0.5 0.5 2.0\\nSuburbs\\nless than\\n( Except\\n12.00m\\nBARC,\\n12.00 m 1.00 0.5 0.70 2.2\\nAkse,\\n&above but less\\nMarve and\\nthan 18.00m\\nCRZ)\\n18.00m & 1.00 0.5 0.90 2.4\\nabove but less\\nthan 27m\\n27 m and above 1.00 0.5 1.00 2.5\\narchitects, project management consultant, valuers\\n', '1\\n9\\n33(9) FORBUILDINGS UNDER CLUSTER\\nE.\\nDEVELOPMENT SCHEME(S)(CDS)\\n1. For, Redevelopment of Clusters. Minimum Plot area of 4000\\nSq.mt. in Island City and 6000 Sq.mt. in Suburbs. Road width must\\nbe 18 mt. wide or more.\\n2. Cessed Buildings, Non cessed buildings which are 30 years old,\\nSlums upto 50% of area are allowable under Cluster\\nredevelopment.\\n2. 4 FSI OR Rehab Built up area + Incentive whichever is more.\\n3. Each rehab tenement shall be given occupied area subject to\\nminimum 300 Sq.ft. carpet area and maximum of 1076 Sq.ft.(100\\nSq.mt.)\\narchitects, project management consultant, valuers\\n']\n"
     ]
    }
   ],
   "source": [
    "print(sparse_results)"
   ]
  },
  {
   "cell_type": "code",
   "execution_count": 31,
   "metadata": {},
   "outputs": [
    {
     "name": "stdout",
     "output_type": "stream",
     "text": [
      "['1\\n1\\nREGULATION 30(A)(1) TABLE NO 12, FSI & BUILT\\n4.\\nUP AREA COMPUTATION\\nArea & Road Zonal Additional Admissible Permiss\\nZone width (Basic) FSI TDR ible FSI\\non payment (3+4+5)\\nof\\nPremium\\n6\\n1 2 3 4 5\\n--- ---\\nLess than 9m 1.33 1.33\\nIsland\\nCity 9m & above but 1.33 0.5 0.17 2.0\\nResidentia less than\\nl 12.00m\\n/Commer\\n12.00 m 1.33 0.62 0.45 2.4\\ncial\\n&above but less\\nthan 18.00m\\n18.00m & 1.33 0.73 0.64 2.7\\nabove but less\\narchitects, project management consultant, valuers\\nthan 27m\\n27 m and above 1.33 0.84 0.83 3.0\\n', '1\\n2 Area & Road Zonal Additional Admissib Permissi\\nZone width (Basic) FSI le ble FSI\\non payment TDR\\nof (3+4+5)\\nPremium\\n6\\n1 2 3 4 5\\n--- ---\\nSuburbs Less than 9m 1.00 1.00\\nand\\nExtended\\n9m & above but 1.00 0.5 0.5 2.0\\nSuburbs\\nless than\\n( Except\\n12.00m\\nBARC,\\n12.00 m 1.00 0.5 0.70 2.2\\nAkse,\\n&above but less\\nMarve and\\nthan 18.00m\\nCRZ)\\n18.00m & 1.00 0.5 0.90 2.4\\nabove but less\\nthan 27m\\n27 m and above 1.00 0.5 1.00 2.5\\narchitects, project management consultant, valuers\\n', '5.\\nACCESS ROAD\\n1. The permissible FSI on a plot is related with the road width it\\nis facing as shown in FSI table.\\n2. TDR and Premium FSI are not permissible on a plot fronting\\nroad width less than 9 mts.\\n3. MCGM shall convert all roads of width less than 9 m to 9 m\\nand above as per site condition through MR&TP Act or MMC\\nAct.\\n4. The plots which are facing on existing roads less than 6 mt.\\nwidth but are proposed to be widened upto 9 mt. in future, will\\nbe permissible for FSI per 9 mt road width.\\n10\\narchitects, project management consultant, valuers\\n', '1.\\nFLOOR SPACE INDEX (FSI)\\na) FSI means the quotient of the ratio of the total\\nPermissible Built Up Area to the total plot area.\\nPermissible Built Up Area\\nFloor space index =\\nPlot area\\nOR\\nFloor space index X Plot area = Permissible Built Up Area.\\ne.g.\\n1.00 X 5000 Sq.Ft. = 5000 Sq.Ft.\\n5\\narchitects, project management consultant, valuers\\n', '1\\n4\\n33(5) FOR MAHARASHTRA HOUSING & AREA\\nA.\\nDEVELOPMENT AUTHORITY (MHADA)\\n1. Applicable to development / redevelopment of housing schemes\\nimplemented by MHADA on MHADA lands for Economically\\nWeaker Sections (EWS), Low Income Group (LIG) and Middle\\nIncome Group (MIG) categories.\\n2. 3 FSI permissible on gross plot area.\\n3. 4 FSI is permitted to Plot area more than 4000 Sq.mt. and\\nfronting road width more than 18 mts.\\n4. Each occupant shall be given the existing carpet area + 35%\\nbasic entitlement subject to minimum 35 Sq.mt. (376Sq.ft.)\\narchitects, project management consultant, valuers\\n']\n"
     ]
    }
   ],
   "source": [
    "print(hybrid_results)"
   ]
  },
  {
   "cell_type": "code",
   "execution_count": 32,
   "metadata": {},
   "outputs": [],
   "source": [
    "def doc_text_formatting(ef, query, docs):\n",
    "    tokenizer = ef.model.tokenizer\n",
    "    query_tokens_ids = tokenizer.encode(query, return_offsets_mapping=True)\n",
    "    query_tokens = tokenizer.convert_ids_to_tokens(query_tokens_ids)\n",
    "    formatted_texts = []\n",
    "\n",
    "    for doc in docs:\n",
    "        ldx = 0\n",
    "        landmarks = []\n",
    "        encoding = tokenizer.encode_plus(doc, return_offsets_mapping=True)\n",
    "        tokens = tokenizer.convert_ids_to_tokens(encoding[\"input_ids\"])[1:-1]\n",
    "        offsets = encoding[\"offset_mapping\"][1:-1]\n",
    "        for token, (start, end) in zip(tokens, offsets):\n",
    "            if token in query_tokens:\n",
    "                if len(landmarks) != 0 and start == landmarks[-1]:\n",
    "                    landmarks[-1] = end\n",
    "                else:\n",
    "                    landmarks.append(start)\n",
    "                    landmarks.append(end)\n",
    "        close = False\n",
    "        formatted_text = \"\"\n",
    "        for i, c in enumerate(doc):\n",
    "            if ldx == len(landmarks):\n",
    "                pass\n",
    "            elif i == landmarks[ldx]:\n",
    "                if close:\n",
    "                    formatted_text += \"</span>\"\n",
    "                else:\n",
    "                    formatted_text += \"<span style='color:red'>\"\n",
    "                close = not close\n",
    "                ldx = ldx + 1\n",
    "            formatted_text += c\n",
    "        if close is True:\n",
    "            formatted_text += \"</span>\"\n",
    "        formatted_texts.append(formatted_text)\n",
    "    return formatted_texts"
   ]
  },
  {
   "cell_type": "code",
   "execution_count": 33,
   "metadata": {},
   "outputs": [
    {
     "data": {
      "text/markdown": [
       "**Dense Search Results:**"
      ],
      "text/plain": [
       "<IPython.core.display.Markdown object>"
      ]
     },
     "metadata": {},
     "output_type": "display_data"
    },
    {
     "data": {
      "text/markdown": [
       "1\n",
       "1\n",
       "REGULATION 30(A)(1) TABLE NO 12, FSI & BUILT\n",
       "4.\n",
       "UP AREA COMPUTATION\n",
       "Area & Road Zonal Additional Admissible Permiss\n",
       "Zone width (Basic) FSI TDR ible FSI\n",
       "on payment (3+4+5)\n",
       "of\n",
       "Premium\n",
       "6\n",
       "1 2 3 4 5\n",
       "--- ---\n",
       "Less than 9m 1.33 1.33\n",
       "Island\n",
       "City 9m & above but 1.33 0.5 0.17 2.0\n",
       "Residentia less than\n",
       "l 12.00m\n",
       "/Commer\n",
       "12.00 m 1.33 0.62 0.45 2.4\n",
       "cial\n",
       "&above but less\n",
       "than 18.00m\n",
       "18.00m & 1.33 0.73 0.64 2.7\n",
       "above but less\n",
       "architects, project management consultant, valuers\n",
       "than 27m\n",
       "27 m and above 1.33 0.84 0.83 3.0\n"
      ],
      "text/plain": [
       "<IPython.core.display.Markdown object>"
      ]
     },
     "metadata": {},
     "output_type": "display_data"
    },
    {
     "data": {
      "text/markdown": [
       "5.\n",
       "ACCESS ROAD\n",
       "1. The permissible FSI on a plot is related with the road width it\n",
       "is facing as shown in FSI table.\n",
       "2. TDR and Premium FSI are not permissible on a plot fronting\n",
       "road width less than 9 mts.\n",
       "3. MCGM shall convert all roads of width less than 9 m to 9 m\n",
       "and above as per site condition through MR&TP Act or MMC\n",
       "Act.\n",
       "4. The plots which are facing on existing roads less than 6 mt.\n",
       "width but are proposed to be widened upto 9 mt. in future, will\n",
       "be permissible for FSI per 9 mt road width.\n",
       "10\n",
       "architects, project management consultant, valuers\n"
      ],
      "text/plain": [
       "<IPython.core.display.Markdown object>"
      ]
     },
     "metadata": {},
     "output_type": "display_data"
    },
    {
     "data": {
      "text/markdown": [
       "1.\n",
       "FLOOR SPACE INDEX (FSI)\n",
       "a) FSI means the quotient of the ratio of the total\n",
       "Permissible Built Up Area to the total plot area.\n",
       "Permissible Built Up Area\n",
       "Floor space index =\n",
       "Plot area\n",
       "OR\n",
       "Floor space index X Plot area = Permissible Built Up Area.\n",
       "e.g.\n",
       "1.00 X 5000 Sq.Ft. = 5000 Sq.Ft.\n",
       "5\n",
       "architects, project management consultant, valuers\n"
      ],
      "text/plain": [
       "<IPython.core.display.Markdown object>"
      ]
     },
     "metadata": {},
     "output_type": "display_data"
    },
    {
     "data": {
      "text/markdown": [
       "1\n",
       "2 Area & Road Zonal Additional Admissib Permissi\n",
       "Zone width (Basic) FSI le ble FSI\n",
       "on payment TDR\n",
       "of (3+4+5)\n",
       "Premium\n",
       "6\n",
       "1 2 3 4 5\n",
       "--- ---\n",
       "Suburbs Less than 9m 1.00 1.00\n",
       "and\n",
       "Extended\n",
       "9m & above but 1.00 0.5 0.5 2.0\n",
       "Suburbs\n",
       "less than\n",
       "( Except\n",
       "12.00m\n",
       "BARC,\n",
       "12.00 m 1.00 0.5 0.70 2.2\n",
       "Akse,\n",
       "&above but less\n",
       "Marve and\n",
       "than 18.00m\n",
       "CRZ)\n",
       "18.00m & 1.00 0.5 0.90 2.4\n",
       "above but less\n",
       "than 27m\n",
       "27 m and above 1.00 0.5 1.00 2.5\n",
       "architects, project management consultant, valuers\n"
      ],
      "text/plain": [
       "<IPython.core.display.Markdown object>"
      ]
     },
     "metadata": {},
     "output_type": "display_data"
    },
    {
     "data": {
      "text/markdown": [
       "1\n",
       "4\n",
       "33(5) FOR MAHARASHTRA HOUSING & AREA\n",
       "A.\n",
       "DEVELOPMENT AUTHORITY (MHADA)\n",
       "1. Applicable to development / redevelopment of housing schemes\n",
       "implemented by MHADA on MHADA lands for Economically\n",
       "Weaker Sections (EWS), Low Income Group (LIG) and Middle\n",
       "Income Group (MIG) categories.\n",
       "2. 3 FSI permissible on gross plot area.\n",
       "3. 4 FSI is permitted to Plot area more than 4000 Sq.mt. and\n",
       "fronting road width more than 18 mts.\n",
       "4. Each occupant shall be given the existing carpet area + 35%\n",
       "basic entitlement subject to minimum 35 Sq.mt. (376Sq.ft.)\n",
       "architects, project management consultant, valuers\n"
      ],
      "text/plain": [
       "<IPython.core.display.Markdown object>"
      ]
     },
     "metadata": {},
     "output_type": "display_data"
    }
   ],
   "source": [
    "from IPython.display import Markdown, display\n",
    "\n",
    "# Dense search results\n",
    "display(Markdown(\"**Dense Search Results:**\"))\n",
    "formatted_results = doc_text_formatting(ef, query, dense_results)\n",
    "for result in dense_results:\n",
    "    display(Markdown(result))"
   ]
  },
  {
   "cell_type": "code",
   "execution_count": 34,
   "metadata": {},
   "outputs": [
    {
     "data": {
      "text/markdown": [
       "\n",
       "**Sparse Search Results:**"
      ],
      "text/plain": [
       "<IPython.core.display.Markdown object>"
      ]
     },
     "metadata": {},
     "output_type": "display_data"
    },
    {
     "data": {
      "text/markdown": [
       "1\n",
       "6 33(7) FOR OF CESSED BUILDINGS IN THE\n",
       "B.\n",
       "ISLAND CITY\n",
       "1. Reconstruction or redevelop<span style='color:red'>ment of</span> cessed<span style='color:red'> building</span>s in<span style='color:red'> the</span> island\n",
       "city by co-operative housing societies or<span style='color:red'> of</span> old<span style='color:red'> building</span>s belonging\n",
       "to<span style='color:red'> the</span> corporation existing from prior to 30/06/1969\n",
       "2. 3<span style='color:red'> FSI</span> on gross plot OR Rehab BUA+ Incentive whichever<span style='color:red'> is</span> more.\n",
       "3. Incentive on rehab area<span style='color:red'> is</span> 50%<span style='color:red'> for</span> 1 plot , 60%<span style='color:red'> for</span> 2 to 5 plots and\n",
       "70% 6 plots or more. An Additional incentive<span style='color:red'> is</span> permissible<span style='color:red'> for</span>\n",
       "rehab depending upon<span style='color:red'> the</span> combination<span style='color:red'> of</span> no.<span style='color:red'> of</span> plots.\n",
       "4. Each occupant shall be given<span style='color:red'> the</span> existing carpet area subject to<span style='color:red'>\n",
       "minimum of</span> 300 Sq.ft. and maximum<span style='color:red'> of</span> 1292 Sq.ft. In case<span style='color:red'> of</span> non-\n",
       "residential occupier carpet to be given shall be equivalent to<span style='color:red'> the</span>\n",
       "area occupied in<span style='color:red'> the</span> old<span style='color:red'> building</span>.\n",
       "architects, project management consultant, valuers\n"
      ],
      "text/plain": [
       "<IPython.core.display.Markdown object>"
      ]
     },
     "metadata": {},
     "output_type": "display_data"
    },
    {
     "data": {
      "text/markdown": [
       "1\n",
       "1\n",
       "REGULATION 30(A)(1) TABLE NO 12,<span style='color:red'> FSI</span> & BUILT\n",
       "4.\n",
       "UP AREA COMPUTATION\n",
       "Area & Road Zonal Additional Admissible Permiss\n",
       "Zone width (Basic)<span style='color:red'> FSI</span> TDR ible<span style='color:red'> FSI</span>\n",
       "on payment (3+4+5)<span style='color:red'>\n",
       "of</span>\n",
       "Premium\n",
       "6\n",
       "1 2 3 4 5\n",
       "--- ---\n",
       "Less than 9<span style='color:red'>m</span> 1.33 1.33\n",
       "Island\n",
       "City 9<span style='color:red'>m</span> &<span style='color:red'> above</span> but 1.33 0.5 0.17 2.0\n",
       "Residentia less than\n",
       "l 12.00<span style='color:red'>m</span>\n",
       "/Commer\n",
       "12.00 m 1.33 0.62 0.45 2.4\n",
       "cial\n",
       "&above but less\n",
       "than 18.00<span style='color:red'>m</span>\n",
       "18.00<span style='color:red'>m</span> & 1.33 0.73 0.64 2.7<span style='color:red'>\n",
       "above</span> but less\n",
       "architects, project management consultant, valuers\n",
       "than 27<span style='color:red'>m</span>\n",
       "27 m and<span style='color:red'> above</span> 1.33 0.84 0.83 3.0\n"
      ],
      "text/plain": [
       "<IPython.core.display.Markdown object>"
      ]
     },
     "metadata": {},
     "output_type": "display_data"
    },
    {
     "data": {
      "text/markdown": [
       "1\n",
       "7\n",
       "C. 33(7)(A) FOR TENANT OCCUPIED BUILDING\n",
       "1. Applicable to Dilapidated authorized tenanted<span style='color:red'> building</span>/s in Suburbs\n",
       "and Dilapidated authorized Non cessed Tenanted<span style='color:red'> building</span>/s in Island\n",
       "City\n",
       "2. Rehab area + Incentive OR Permissible<span style='color:red'> FSI</span> as per Table no 12<span style='color:red'> of</span>\n",
       "regulation 30(A)(1) whichever<span style='color:red'> is</span> more.\n",
       "3. Incentive on rehab area<span style='color:red'> is</span> 50%<span style='color:red'> for</span> 1 plot , 60%<span style='color:red'> for</span> 2 to 5 plots and\n",
       "70%<span style='color:red'> for</span> 6 plots or more.\n",
       "4. Each tenant will get<span style='color:red'> minimum</span> 300 Sq.ft. and maximum<span style='color:red'> of</span> 1292 Sq.ft.<span style='color:red'>\n",
       "of</span> carpet area and non-residential occupier will get equivalent to\n",
       "existing carpet area.\n",
       "5. No new tenancy created after 13/6/96 shall be considered.\n",
       "architects, project management consultant, valuers\n"
      ],
      "text/plain": [
       "<IPython.core.display.Markdown object>"
      ]
     },
     "metadata": {},
     "output_type": "display_data"
    },
    {
     "data": {
      "text/markdown": [
       "1\n",
       "2 Area & Road Zonal Additional Admissib Permissi\n",
       "Zone width (Basic)<span style='color:red'> FSI</span> le ble<span style='color:red'> FSI</span>\n",
       "on payment TDR<span style='color:red'>\n",
       "of</span> (3+4+5)\n",
       "Premium\n",
       "6\n",
       "1 2 3 4 5\n",
       "--- ---\n",
       "Suburbs Less than 9<span style='color:red'>m</span> 1.00 1.00\n",
       "and\n",
       "Extended\n",
       "9<span style='color:red'>m</span> &<span style='color:red'> above</span> but 1.00 0.5 0.5 2.0\n",
       "Suburbs\n",
       "less than\n",
       "( Except\n",
       "12.00<span style='color:red'>m</span>\n",
       "BARC,\n",
       "12.00 m 1.00 0.5 0.70 2.2\n",
       "Akse,\n",
       "&above but less\n",
       "Marve and\n",
       "than 18.00<span style='color:red'>m</span>\n",
       "CRZ)\n",
       "18.00<span style='color:red'>m</span> & 1.00 0.5 0.90 2.4<span style='color:red'>\n",
       "above</span> but less\n",
       "than 27<span style='color:red'>m</span>\n",
       "27 m and<span style='color:red'> above</span> 1.00 0.5 1.00 2.5\n",
       "architects, project management consultant, valuers\n"
      ],
      "text/plain": [
       "<IPython.core.display.Markdown object>"
      ]
     },
     "metadata": {},
     "output_type": "display_data"
    },
    {
     "data": {
      "text/markdown": [
       "1\n",
       "9\n",
       "33(9) FORBUILDINGS UNDER CLUSTER\n",
       "E.\n",
       "DEVELOPMENT SCHEME(S)(CDS)\n",
       "1. For, Redevelop<span style='color:red'>ment of</span> Clusters. Minimum Plot area<span style='color:red'> of</span> 4000\n",
       "Sq.<span style='color:red'>m</span>t. in Island City and 6000 Sq.<span style='color:red'>m</span>t. in Suburbs. Road width must\n",
       "be 18 mt. wide or more.\n",
       "2. Cessed Buildings, Non cessed<span style='color:red'> building</span>s which are 30 years old,\n",
       "Slums upto 50%<span style='color:red'> of</span> area are allowable under Cluster\n",
       "redevelop<span style='color:red'>ment</span>.\n",
       "2. 4<span style='color:red'> FSI</span> OR Rehab Built up area + Incentive whichever<span style='color:red'> is</span> more.\n",
       "3. Each rehab tenement shall be given occupied area subject to<span style='color:red'>\n",
       "minimum</span> 300 Sq.ft. carpet area and maximum<span style='color:red'> of</span> 1076 Sq.ft.(100\n",
       "Sq.<span style='color:red'>m</span>t.)\n",
       "architects, project management consultant, valuers\n"
      ],
      "text/plain": [
       "<IPython.core.display.Markdown object>"
      ]
     },
     "metadata": {},
     "output_type": "display_data"
    }
   ],
   "source": [
    "# Sparse search results\n",
    "display(Markdown(\"\\n**Sparse Search Results:**\"))\n",
    "formatted_results = doc_text_formatting(ef, query, sparse_results)\n",
    "for result in formatted_results:\n",
    "    display(Markdown(result))"
   ]
  },
  {
   "cell_type": "code",
   "execution_count": 35,
   "metadata": {},
   "outputs": [
    {
     "data": {
      "text/markdown": [
       "\n",
       "**Hybrid Search Results:**"
      ],
      "text/plain": [
       "<IPython.core.display.Markdown object>"
      ]
     },
     "metadata": {},
     "output_type": "display_data"
    },
    {
     "data": {
      "text/markdown": [
       "1\n",
       "1\n",
       "REGULATION 30(A)(1) TABLE NO 12,<span style='color:red'> FSI</span> & BUILT\n",
       "4.\n",
       "UP AREA COMPUTATION\n",
       "Area & Road Zonal Additional Admissible Permiss\n",
       "Zone width (Basic)<span style='color:red'> FSI</span> TDR ible<span style='color:red'> FSI</span>\n",
       "on payment (3+4+5)<span style='color:red'>\n",
       "of</span>\n",
       "Premium\n",
       "6\n",
       "1 2 3 4 5\n",
       "--- ---\n",
       "Less than 9<span style='color:red'>m</span> 1.33 1.33\n",
       "Island\n",
       "City 9<span style='color:red'>m</span> &<span style='color:red'> above</span> but 1.33 0.5 0.17 2.0\n",
       "Residentia less than\n",
       "l 12.00<span style='color:red'>m</span>\n",
       "/Commer\n",
       "12.00 m 1.33 0.62 0.45 2.4\n",
       "cial\n",
       "&above but less\n",
       "than 18.00<span style='color:red'>m</span>\n",
       "18.00<span style='color:red'>m</span> & 1.33 0.73 0.64 2.7<span style='color:red'>\n",
       "above</span> but less\n",
       "architects, project management consultant, valuers\n",
       "than 27<span style='color:red'>m</span>\n",
       "27 m and<span style='color:red'> above</span> 1.33 0.84 0.83 3.0\n"
      ],
      "text/plain": [
       "<IPython.core.display.Markdown object>"
      ]
     },
     "metadata": {},
     "output_type": "display_data"
    },
    {
     "data": {
      "text/markdown": [
       "1\n",
       "2 Area & Road Zonal Additional Admissib Permissi\n",
       "Zone width (Basic)<span style='color:red'> FSI</span> le ble<span style='color:red'> FSI</span>\n",
       "on payment TDR<span style='color:red'>\n",
       "of</span> (3+4+5)\n",
       "Premium\n",
       "6\n",
       "1 2 3 4 5\n",
       "--- ---\n",
       "Suburbs Less than 9<span style='color:red'>m</span> 1.00 1.00\n",
       "and\n",
       "Extended\n",
       "9<span style='color:red'>m</span> &<span style='color:red'> above</span> but 1.00 0.5 0.5 2.0\n",
       "Suburbs\n",
       "less than\n",
       "( Except\n",
       "12.00<span style='color:red'>m</span>\n",
       "BARC,\n",
       "12.00 m 1.00 0.5 0.70 2.2\n",
       "Akse,\n",
       "&above but less\n",
       "Marve and\n",
       "than 18.00<span style='color:red'>m</span>\n",
       "CRZ)\n",
       "18.00<span style='color:red'>m</span> & 1.00 0.5 0.90 2.4<span style='color:red'>\n",
       "above</span> but less\n",
       "than 27<span style='color:red'>m</span>\n",
       "27 m and<span style='color:red'> above</span> 1.00 0.5 1.00 2.5\n",
       "architects, project management consultant, valuers\n"
      ],
      "text/plain": [
       "<IPython.core.display.Markdown object>"
      ]
     },
     "metadata": {},
     "output_type": "display_data"
    },
    {
     "data": {
      "text/markdown": [
       "5.\n",
       "ACCESS ROAD\n",
       "1. The permissible<span style='color:red'> FSI</span> on a plot<span style='color:red'> is</span> related with<span style='color:red'> the</span> road width it<span style='color:red'>\n",
       "is</span> facing as shown in<span style='color:red'> FSI</span> table.\n",
       "2. TDR and Premium<span style='color:red'> FSI</span> are not permissible on a plot fronting\n",
       "road width less than 9 mts.\n",
       "3. MCGM shall convert all roads<span style='color:red'> of</span> width less than 9 m to 9 m\n",
       "and<span style='color:red'> above</span> as per site condition through MR&TP Act or MMC\n",
       "Act.\n",
       "4. The plots which are facing on existing roads less than 6 mt.\n",
       "width but are proposed to be widened upto 9 mt. in future, will\n",
       "be permissible<span style='color:red'> for FSI</span> per 9 mt road width.\n",
       "10\n",
       "architects, project management consultant, valuers\n"
      ],
      "text/plain": [
       "<IPython.core.display.Markdown object>"
      ]
     },
     "metadata": {},
     "output_type": "display_data"
    },
    {
     "data": {
      "text/markdown": [
       "1.\n",
       "FLOOR SPACE INDEX (F<span style='color:red'>SI</span>)\n",
       "a)<span style='color:red'> FSI</span> means<span style='color:red'> the</span> quotient<span style='color:red'> of the</span> ratio<span style='color:red'> of the</span> total\n",
       "Permissible Built Up Area to<span style='color:red'> the</span> total plot area.\n",
       "Permissible Built Up Area\n",
       "Floor space index =\n",
       "Plot area\n",
       "OR\n",
       "Floor space index X Plot area = Permissible Built Up Area.\n",
       "e.g.\n",
       "1.00 X 5000 Sq.Ft. = 5000 Sq.Ft.\n",
       "5\n",
       "architects, project management consultant, valuers\n"
      ],
      "text/plain": [
       "<IPython.core.display.Markdown object>"
      ]
     },
     "metadata": {},
     "output_type": "display_data"
    },
    {
     "data": {
      "text/markdown": [
       "1\n",
       "4\n",
       "33(5) FOR MAHARASHTRA HOUSING & AREA\n",
       "A.\n",
       "DEVELOPMENT AUTHORITY (MHADA)\n",
       "1. Applicable to development / redevelop<span style='color:red'>ment of</span> housing schemes\n",
       "implemented by MHADA on MHADA lands<span style='color:red'> for</span> Economically\n",
       "Weaker Sections (EWS), Low Income Group (LIG) and Middle\n",
       "Income Group (MIG) categories.\n",
       "2. 3<span style='color:red'> FSI</span> permissible on gross plot area.\n",
       "3. 4<span style='color:red'> FSI is</span> permitted to Plot area more than 4000 Sq.<span style='color:red'>m</span>t. and\n",
       "fronting road width more than 18 mts.\n",
       "4. Each occupant shall be given<span style='color:red'> the</span> existing carpet area + 35%\n",
       "basic entitle<span style='color:red'>ment</span> subject to<span style='color:red'> minimum</span> 35 Sq.<span style='color:red'>m</span>t. (376Sq.ft.)\n",
       "architects, project management consultant, valuers\n"
      ],
      "text/plain": [
       "<IPython.core.display.Markdown object>"
      ]
     },
     "metadata": {},
     "output_type": "display_data"
    }
   ],
   "source": [
    "# Hybrid search results\n",
    "display(Markdown(\"\\n**Hybrid Search Results:**\"))\n",
    "formatted_results = doc_text_formatting(ef, query, hybrid_results)\n",
    "for result in formatted_results:\n",
    "    display(Markdown(result))"
   ]
  },
  {
   "cell_type": "code",
   "execution_count": 36,
   "metadata": {},
   "outputs": [
    {
     "data": {
      "text/plain": [
       "\"\\nYou are an expert assistant providing detailed and accurate information. The user has asked the following question:\\n**Question:** What is the minimum requirement of FSI for building above 70m\\n\\nBelow is relevant information retrieved from various sources:\\n**Retrieved Information:**\\n['1\\\\n1\\\\nREGULATION 30(A)(1) TABLE NO 12, FSI & BUILT\\\\n4.\\\\nUP AREA COMPUTATION\\\\nArea & Road Zonal Additional Admissible Permiss\\\\nZone width (Basic) FSI TDR ible FSI\\\\non payment (3+4+5)\\\\nof\\\\nPremium\\\\n6\\\\n1 2 3 4 5\\\\n--- ---\\\\nLess than 9m 1.33 1.33\\\\nIsland\\\\nCity 9m & above but 1.33 0.5 0.17 2.0\\\\nResidentia less than\\\\nl 12.00m\\\\n/Commer\\\\n12.00 m 1.33 0.62 0.45 2.4\\\\ncial\\\\n&above but less\\\\nthan 18.00m\\\\n18.00m & 1.33 0.73 0.64 2.7\\\\nabove but less\\\\narchitects, project management consultant, valuers\\\\nthan 27m\\\\n27 m and above 1.33 0.84 0.83 3.0\\\\n', '1\\\\n2 Area & Road Zonal Additional Admissib Permissi\\\\nZone width (Basic) FSI le ble FSI\\\\non payment TDR\\\\nof (3+4+5)\\\\nPremium\\\\n6\\\\n1 2 3 4 5\\\\n--- ---\\\\nSuburbs Less than 9m 1.00 1.00\\\\nand\\\\nExtended\\\\n9m & above but 1.00 0.5 0.5 2.0\\\\nSuburbs\\\\nless than\\\\n( Except\\\\n12.00m\\\\nBARC,\\\\n12.00 m 1.00 0.5 0.70 2.2\\\\nAkse,\\\\n&above but less\\\\nMarve and\\\\nthan 18.00m\\\\nCRZ)\\\\n18.00m & 1.00 0.5 0.90 2.4\\\\nabove but less\\\\nthan 27m\\\\n27 m and above 1.00 0.5 1.00 2.5\\\\narchitects, project management consultant, valuers\\\\n', '5.\\\\nACCESS ROAD\\\\n1. The permissible FSI on a plot is related with the road width it\\\\nis facing as shown in FSI table.\\\\n2. TDR and Premium FSI are not permissible on a plot fronting\\\\nroad width less than 9 mts.\\\\n3. MCGM shall convert all roads of width less than 9 m to 9 m\\\\nand above as per site condition through MR&TP Act or MMC\\\\nAct.\\\\n4. The plots which are facing on existing roads less than 6 mt.\\\\nwidth but are proposed to be widened upto 9 mt. in future, will\\\\nbe permissible for FSI per 9 mt road width.\\\\n10\\\\narchitects, project management consultant, valuers\\\\n', '1.\\\\nFLOOR SPACE INDEX (FSI)\\\\na) FSI means the quotient of the ratio of the total\\\\nPermissible Built Up Area to the total plot area.\\\\nPermissible Built Up Area\\\\nFloor space index =\\\\nPlot area\\\\nOR\\\\nFloor space index X Plot area = Permissible Built Up Area.\\\\ne.g.\\\\n1.00 X 5000 Sq.Ft. = 5000 Sq.Ft.\\\\n5\\\\narchitects, project management consultant, valuers\\\\n', '1\\\\n4\\\\n33(5) FOR MAHARASHTRA HOUSING & AREA\\\\nA.\\\\nDEVELOPMENT AUTHORITY (MHADA)\\\\n1. Applicable to development / redevelopment of housing schemes\\\\nimplemented by MHADA on MHADA lands for Economically\\\\nWeaker Sections (EWS), Low Income Group (LIG) and Middle\\\\nIncome Group (MIG) categories.\\\\n2. 3 FSI permissible on gross plot area.\\\\n3. 4 FSI is permitted to Plot area more than 4000 Sq.mt. and\\\\nfronting road width more than 18 mts.\\\\n4. Each occupant shall be given the existing carpet area + 35%\\\\nbasic entitlement subject to minimum 35 Sq.mt. (376Sq.ft.)\\\\narchitects, project management consultant, valuers\\\\n']\\n\\n**Instruction:** Use only the query-relevant content from the retrieved information to answer the question. Focus on providing a comprehensive, informative response based solely on the given data. If any conflicting details are present, prioritize the most reliable and consistent information.\\n\""
      ]
     },
     "execution_count": 36,
     "metadata": {},
     "output_type": "execute_result"
    }
   ],
   "source": [
    "final_template = f\"\"\"\n",
    "You are an expert assistant providing detailed and accurate information. The user has asked the following question:\n",
    "**Question:** {query}\n",
    "\n",
    "Below is relevant information retrieved from various sources:\n",
    "**Retrieved Information:**\n",
    "{hybrid_results}\n",
    "\n",
    "**Instruction:** Use only the query-relevant content from the retrieved information to answer the question. Focus on providing a comprehensive, informative response based solely on the given data. If any conflicting details are present, prioritize the most reliable and consistent information.\n",
    "\"\"\"\n",
    "final_template"
   ]
  },
  {
   "cell_type": "code",
   "execution_count": 37,
   "metadata": {},
   "outputs": [
    {
     "name": "stdout",
     "output_type": "stream",
     "text": [
      "Based on the provided information, I couldn't find any specific details about the minimum FSI requirement for buildings above 70 meters. However, I found some general guidelines and FSI calculations for different building heights, which might be related to the query.\n",
      "\n",
      "For buildings above 27 meters, the FSI is as follows:\n",
      "\n",
      "- In the Island City Residential/Commercial zone and suburbs (except BARC, Akse, Marve, and CRZ): 2.5 (composed of 1 (Basic FSI) + 0.5 (Additional FSI) + 1 (TDR))\n",
      "- In the Island City Residential/Commercial zone but not specifically mentioned in other zones: 3.0\n",
      "\n",
      "Considering these calculations, we can infer the following:\n",
      "\n",
      "- A minimum FSI of 2.5 is applicable for buildings above 27 meters and not exceeding 70 meters in the specified zones (excluding BARC, Akse, Marve, and CRZ).\n",
      "- However, this might not be a comprehensive answer, and additional regulations might be applicable for specific zones or areas.\n",
      "\n",
      "In the absence of explicit information on the FSI requirements for buildings above 70 meters, we can only rely on general FSI guidelines for heights up to 27 meters.\n"
     ]
    }
   ],
   "source": [
    "from groq import Groq\n",
    "client = Groq(\n",
    "    api_key='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' ,\n",
    ")\n",
    "\n",
    "chat_completion = client.chat.completions.create(\n",
    "    messages=[\n",
    "        {\n",
    "            \"role\": \"user\",\n",
    "            \"content\": final_template,\n",
    "        }\n",
    "    ],\n",
    "    model=\"llama-3.1-70b-versatile\",\n",
    ")\n",
    "print(chat_completion.choices[0].message.content)"
   ]
  }
 ],
 "metadata": {
  "kernelspec": {
   "display_name": "Python 3",
   "language": "python",
   "name": "python3"
  },
  "language_info": {
   "codemirror_mode": {
    "name": "ipython",
    "version": 3
   },
   "file_extension": ".py",
   "mimetype": "text/x-python",
   "name": "python",
   "nbconvert_exporter": "python",
   "pygments_lexer": "ipython3",
   "version": "3.12.7"
  }
 },
 "nbformat": 4,
 "nbformat_minor": 2
}
