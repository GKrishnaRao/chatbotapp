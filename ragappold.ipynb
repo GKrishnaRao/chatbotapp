{
 "cells": [
  {
   "cell_type": "code",
   "execution_count": 12,
   "metadata": {},
   "outputs": [
    {
     "name": "stdout",
     "output_type": "stream",
     "text": [
      "Number of pages in the PDF: 613\n"
     ]
    }
   ],
   "source": [
    "# Load and read PDF content\n",
    "from langchain_community.document_loaders import PDFPlumberLoader\n",
    "loader = PDFPlumberLoader(\"pdf/DCPR_2034_13-09-2024.pdf\")\n",
    "docs = loader.load()\n",
    "print(\"Number of pages in the PDF:\", len(docs))\n",
    "\n",
    "# Extract text from each page for embedding\n",
    "doc_texts = [page.page_content for page in docs]\n",
    "#print(\" Document  texts\",doc_texts)"
   ]
  },
  {
   "cell_type": "code",
   "execution_count": 13,
   "metadata": {},
   "outputs": [
    {
     "name": "stderr",
     "output_type": "stream",
     "text": [
      "/Users/krishna/Documents/PROJECTS/pythonproject/Github/chatbotapp/venv/lib/python3.12/site-packages/tqdm/auto.py:21: TqdmWarning: IProgress not found. Please update jupyter and ipywidgets. See https://ipywidgets.readthedocs.io/en/stable/user_install.html\n",
      "  from .autonotebook import tqdm as notebook_tqdm\n",
      "Fetching 30 files: 100%|██████████| 30/30 [00:00<00:00, 179499.46it/s]\n",
      "You're using a XLMRobertaTokenizerFast tokenizer. Please note that with a fast tokenizer, using the `__call__` method is faster than using a method to encode the text followed by a call to the `pad` method to get a padded encoding.\n",
      "Inference Embeddings: 100%|██████████| 39/39 [01:47<00:00,  2.75s/it]\n"
     ]
    }
   ],
   "source": [
    "from milvus_model.hybrid import BGEM3EmbeddingFunction\n",
    "import torch\n",
    "device = \"mps\" if torch.backends.mps.is_available() else \"cpu\"\n",
    "ef = BGEM3EmbeddingFunction(use_fp16=False, device=device)\n",
    "dense_dim = ef.dim[\"dense\"]\n",
    "\n",
    "# Generate embeddings using BGE-M3 model\n",
    "docs_embeddings = ef(doc_texts)"
   ]
  },
  {
   "cell_type": "code",
   "execution_count": 14,
   "metadata": {},
   "outputs": [
    {
     "data": {
      "text/plain": [
       "1024"
      ]
     },
     "execution_count": 14,
     "metadata": {},
     "output_type": "execute_result"
    }
   ],
   "source": [
    "dense_dim"
   ]
  },
  {
   "cell_type": "code",
   "execution_count": 15,
   "metadata": {},
   "outputs": [],
   "source": [
    "from pymilvus import (\n",
    "    connections,\n",
    "    utility,\n",
    "    FieldSchema,\n",
    "    CollectionSchema,\n",
    "    DataType,\n",
    "    Collection,\n",
    ")"
   ]
  },
  {
   "cell_type": "code",
   "execution_count": 37,
   "metadata": {},
   "outputs": [],
   "source": [
    "# Connect to Milvus given URI\n",
    "connections.connect(uri=\"./milvus.db\")\n",
    "\n",
    "# Specify the data schema for the new Collection\n",
    "fields = [\n",
    "    # Use auto generated id as primary key\n",
    "    FieldSchema(\n",
    "        name=\"pk\", dtype=DataType.VARCHAR, is_primary=True, auto_id=True, max_length=100\n",
    "    ),\n",
    "    # Store the original text to retrieve based on semantically distance\n",
    "    FieldSchema(name=\"text\", dtype=DataType.VARCHAR, max_length=50000),\n",
    "    # Milvus now supports both sparse and dense vectors,\n",
    "    # we can store each in a separate field to conduct hybrid search on both vectors\n",
    "    FieldSchema(name=\"sparse_vector\", dtype=DataType.SPARSE_FLOAT_VECTOR),\n",
    "    FieldSchema(name=\"dense_vector\", dtype=DataType.FLOAT_VECTOR, dim=1024),\n",
    "]\n",
    "schema = CollectionSchema(fields)"
   ]
  },
  {
   "cell_type": "code",
   "execution_count": 40,
   "metadata": {},
   "outputs": [],
   "source": [
    "# Create collection (drop the old one if exists)\n",
    "col_name = \"hybrid_demo\"\n",
    "if utility.has_collection(col_name):\n",
    "    Collection(col_name).drop()\n",
    "col = Collection(col_name, schema, consistency_level=\"Strong\")\n",
    "\n",
    "# To make vector search efficient, we need to create indices for the vector fields\n",
    "sparse_index = {\"index_type\": \"SPARSE_INVERTED_INDEX\", \"metric_type\": \"IP\"}\n",
    "col.create_index(\"sparse_vector\", sparse_index)\n",
    "dense_index = {\"index_type\": \"AUTOINDEX\", \"metric_type\": \"IP\"}\n",
    "col.create_index(\"dense_vector\", dense_index)\n",
    "col.load()"
   ]
  },
  {
   "cell_type": "code",
   "execution_count": 41,
   "metadata": {},
   "outputs": [
    {
     "name": "stdout",
     "output_type": "stream",
     "text": [
      "Number of entities inserted: 613\n"
     ]
    }
   ],
   "source": [
    "# For efficiency, we insert 50 records in each small batch\n",
    "for i in range(0, len(doc_texts), 50):\n",
    "    # Extract the raw text from Document objects\n",
    "    batched_texts = [doc.page_content for doc in docs[i : i + 50]]  # Extract the text content\n",
    "    batched_sparse_vectors = docs_embeddings[\"sparse\"][i : i + 50]\n",
    "    batched_dense_vectors = docs_embeddings[\"dense\"][i : i + 50]\n",
    "\n",
    "    # Prepare the batched entities for insertion\n",
    "    batched_entities = [\n",
    "        batched_texts,          # Text content\n",
    "        batched_sparse_vectors, # Sparse vector embeddings\n",
    "        batched_dense_vectors,  # Dense vector embeddings\n",
    "    ]\n",
    "\n",
    "    # Insert the batch into Milvus\n",
    "    col.insert(batched_entities)\n",
    "\n",
    "print(\"Number of entities inserted:\", col.num_entities)"
   ]
  },
  {
   "cell_type": "code",
   "execution_count": 58,
   "metadata": {},
   "outputs": [
    {
     "name": "stdout",
     "output_type": "stream",
     "text": [
      "Our land is a leese land , society formed , can we apply for deem conveyance\n",
      "{'dense': [array([-0.0215327 ,  0.03360722,  0.00554481, ..., -0.00876445,\n",
      "       -0.04572418,  0.02149077], dtype=float32)], 'sparse': <Compressed Sparse Row sparse array of dtype 'float64'\n",
      "\twith 17 stored elements and shape (1, 250002)>}\n"
     ]
    }
   ],
   "source": [
    "# Enter your search query\n",
    "query = input(\"Enter your search query: \")\n",
    "print(query)\n",
    "\n",
    "# Generate embeddings for the query\n",
    "query_embeddings = ef([query])\n",
    "print(query_embeddings)"
   ]
  },
  {
   "cell_type": "code",
   "execution_count": 59,
   "metadata": {},
   "outputs": [],
   "source": [
    "from pymilvus import (\n",
    "    AnnSearchRequest,\n",
    "    WeightedRanker,\n",
    ")\n",
    "\n",
    "def dense_search(col, query_dense_embedding, limit=5):\n",
    "    search_params = {\"metric_type\": \"IP\", \"params\": {}}\n",
    "    res = col.search(\n",
    "        [query_dense_embedding],\n",
    "        anns_field=\"dense_vector\",\n",
    "        limit=limit,\n",
    "        output_fields=[\"text\"],\n",
    "        param=search_params,\n",
    "    )[0]\n",
    "    return [hit.get(\"text\") for hit in res]"
   ]
  },
  {
   "cell_type": "code",
   "execution_count": 60,
   "metadata": {},
   "outputs": [],
   "source": [
    "def sparse_search(col, query_sparse_embedding, limit=5):\n",
    "    search_params = {\n",
    "        \"metric_type\": \"IP\", \"params\": {}, }\n",
    "    res = col.search(\n",
    "        [query_sparse_embedding],\n",
    "        anns_field=\"sparse_vector\",\n",
    "        limit=limit,\n",
    "        output_fields=[\"text\"],\n",
    "        param=search_params,\n",
    "    )[0]\n",
    "    return [hit.get(\"text\") for hit in res]"
   ]
  },
  {
   "cell_type": "code",
   "execution_count": 61,
   "metadata": {},
   "outputs": [],
   "source": [
    "def hybrid_search(\n",
    "    col,\n",
    "    query_dense_embedding,\n",
    "    query_sparse_embedding,\n",
    "    sparse_weight=1.0,\n",
    "    dense_weight=1.0,\n",
    "    limit=5,\n",
    "):\n",
    "    dense_search_params = {\"metric_type\": \"IP\", \"params\": {}}\n",
    "    dense_req = AnnSearchRequest(\n",
    "        [query_dense_embedding], \"dense_vector\", dense_search_params, limit=limit\n",
    "    )\n",
    "    sparse_search_params = {\"metric_type\": \"IP\", \"params\": {}}\n",
    "    sparse_req = AnnSearchRequest(\n",
    "        [query_sparse_embedding], \"sparse_vector\", sparse_search_params, limit=limit\n",
    "    )\n",
    "    rerank = WeightedRanker(sparse_weight, dense_weight)\n",
    "    res = col.hybrid_search(\n",
    "        [sparse_req, dense_req], rerank=rerank, limit=limit, output_fields=[\"text\"]\n",
    "    )[0]\n",
    "    return [hit.get(\"text\") for hit in res]"
   ]
  },
  {
   "cell_type": "code",
   "execution_count": 62,
   "metadata": {},
   "outputs": [],
   "source": [
    "dense_results = dense_search(col, query_embeddings[\"dense\"][0])\n",
    "sparse_results = sparse_search(col, query_embeddings[\"sparse\"][[0]])\n",
    "hybrid_results = hybrid_search(\n",
    "    col,\n",
    "    query_embeddings[\"dense\"][0],\n",
    "    query_embeddings[\"sparse\"][[0]],\n",
    "    sparse_weight=0.7,\n",
    "    dense_weight=1.0,\n",
    ")"
   ]
  },
  {
   "cell_type": "code",
   "execution_count": 63,
   "metadata": {},
   "outputs": [
    {
     "name": "stdout",
     "output_type": "stream",
     "text": [
      "['Original Notifications shall\\nbe referred for perspicuity\\n3.11 Notwithstanding anything contained in this regulation,\\nrehabilitation project of a slum located on land belonging to\\npublic authority and needed for a vital public purpose and\\nwhere eligible slum dwellers which cannot be accommodated\\nin the in-situ SRS of land under non-buildable reservations, is\\ntaken up on an unencumbered plot, TDR as per regulation 32\\ntable 12(A) for the area of the land spared for this purpose shall\\nbe sanctioned to the owner of the said unencumbered plot and\\nthe TDR in lieu of cost of construction of BUA as per sub-\\nregulation 4.2 of regulation 32(A) shall be permissible.. For the\\npurpose of this Regulation, the BUA shall be as per clause 3.2 of\\nthis Regulation. No sale component shall be permissible.\\nProvided that the State Govt. or Public authority or a Govt.\\nCompany as defined in Sec. 617 of the Companies Act 1956 and\\nowned and controlled by the State Govt. (herein after referred\\nas the Agency) may undertake Slum Rehabilitation Project on its\\nown land and be eligible for the benefits under this Regulation\\nsubject to following conditions:\\n1) The Rehabilitation Project is approved by the SRA.\\n2) The tenements so constructed in execution of the Project are offered\\nto slum dwellers located on land belonging to Govt. or Public Authority\\nand needed for vital public purpose and within 270 days from the date\\nof issue of LOI the Agency shall identify the slum dwellers.\\n3) If the Agency fails to identify the slum dwellers needed to be shifted\\nfor a vital public purpose, as above, then the tenements so constructed\\nshall be offered.\\na) to the slum dwellers located on land belonging to Government or Public\\nAuthority within a distance of 2 km. from the land on which the Project\\nis undertaken, or\\nb) to the slum dwellers located anywhere in Greater Mumbai on lands\\nbelonging to Govt. or Public Authority, or\\n4) Further provided that in all above cases the relocation of slum dwellers\\nin any case will be undertaken not with reference to individuals but\\nreference to assembly of slum dwellers for the purpose of releasing\\nthe plot of land wholly from slums and not only the patches of land.\\nProvided that notwithstanding anything mentioned above, project\\naffected persons due to any vital Public Projects undertaken by\\nMMRDA including PAP’s under Mumbai Urban Transport Project\\n(MUTP) being resettled as per the provisions contained in Government\\nResolution, Housing and Special Assistance Department, by order no.\\n700/CR 31/slum-2 dated 12/12/2000 and certified by the Project\\nDirector, MUTP will also be eligible for redevelopment scheme under\\nthis Regulation, as amended from time to time.\\n228 DCPR 2034\\n', 'Original Notifications shall Original Notifications shall\\nbe referred for perspicuity be referred for perspicuity\\niinn tthhee ssaammee sseeccttoorr oorr ootthheerr sseeccttoorrss wwiitthhiinn tthhee jjuurriissddiiccttiioonn ooff DDRRPP..\\n1.11 ‘Premium for ownership and terms of lease-. That part of\\n11..44 PPaavveemmeenntt ddwweelllleerrss aanndd hhuuttmmeenntt ddwweelllleerrss iinn tthhee sslluumm oonn tthhee llaanndd Government/MCGM/MHADA land on which the rehabilitation\\nrreeqquuiirreedd ffoorr vviittaall uurrggeenntt ppuubblliicc uuttiilliittyy//ppuurrppoossee oorr oonn tthhee hhaazzaarrddoouuss component of the SRS will be constructed shall be leased to the Co-\\noperative Housing Society of the slum-dwellers for 30 years. Annual\\nllooccaattiioonn oorr aaffffeecctteedd bbyy DDPP pprrooppoossaallss sshhaallll nnoott bbee rreehhaabbiilliittaatteedd iinn--ssiittuu\\nbbuutt iinn ootthheerr aavvaaiillaabbllee pplloottss wwiitthhiinn jjuurriissddiiccttiioonn ooff DDRRPP.. lease rent of Rs. 1001 for 4000 per sq. m. of land or part thereof and\\nlease shall be renewable for a further period of 30 years at a time.\\n11..55 AA cceerrttiiffiieedd eexxttrraacctt ooff tthhee rreelleevvaanntt eelleeccttoorraall rroollll sshhaallll bbee ccoonnssiiddeerreedd Simultaneously, land under free sale component shall be leased\\naaddeeqquuaattee eevviiddeennccee ttoo eessttaabblliisshh tthhee eelliiggiibbiilliittyy ooff aa ppeerrssoonn pprroovviiddeedd hhee directly to the Society/Association of the purchasers of the tenement\\niiss ffoouunndd rreessiiddiinngg iinn tthhee ssttrruuccttuurree.. TThhiiss iiss ttoo aavvooiidd tthhee ppoossssiibbiilliittyy ooff under free sale component. Pending the formation of the\\nppeerrssoonnss wwhhoo hhaavvee lleefftt tthhee ssttrruuccttuurree ccoommiinngg bbaacckk ttoo ccllaaiimm ffrreeee Society/Association of the purchasers in the free sale component with\\ntteenneemmeenntt uunnddeerr tthhee sscchheemmee eevveenn tthhoouugghh tthheeyy hhaavvee iinn tthhee nnoorrmmaall a provision for further renewal for a period of 30 years at a time. The\\nccoouurrssee lleefftt tthhee sslluumm aanndd ggoonnee aawwaayy iinnttoo aa pprrooppeerr nnoonn--sslluumm aarreeaa oorr oouutt lease rent for the free sale component shall be fixed by SRA.\\nooff DDRRPP AArreeaa.. IIff tthhee hhuuttmmeenntt ddwweelllleerrss aarree ffoouunndd rreessiiddeenntt iinn tthhee\\nssttrruuccttuurree,, bbuutt tthhee nnaammeess aarree oonn tthhee eelleeccttoorraall rroollll oonn oorr pprriioorr ttoo 11sstt JJaann In addition to above, the Developer/Co-op. Housing Society shall pay\\n22000000,, aatt aannootthheerr sslluumm//ppaavveemmeenntt ssiittee iinn BBrriihhaann MMuummbbaaii,, tthheeyy sshhaallll bbee premium at the rate of 25% of ASR in respect of SRS proposed to be\\nccoonnssiiddeerreedd eelliiggiibbllee bbuutt oonnllyy aatt tthhee ppllaaccee ooff pprreesseenntt rreessiiddeennccee.. IInn ccaassee undertaken on lands owned by Government, Semi-Government\\nooff ddoouubbtt oorr ddiissppuuttee,, tthhee ddeecciissiioonn ooff tthhee CCoommppeetteenntt AAuutthhoorriittyy ttoo bbee undertakings and Local Bodies and premium shall go to land owing\\naappppooiinntteedd bbyy tthhee GGoovvtt.. iinn HHoouussiinngg DDeeppaarrttmmeenntt sshhaallll bbee ffiinnaall aanndd authority such as MHADA, MCGM, MMRDA as the case may be. The\\nbbiinnddiinngg oonn aallll tthhee ppaarrttiieess ccoonncceerrnneedd.. premium installment so recovered shall be remitted to concerned land\\nowing authority within 30 days from the date of recovery.\\n11..66 AAnn iinnddiivviidduuaall aaggrreeeemmeenntt sshhaallll bbee eenntteerreedd iinnttoo bbyy tthhee ddeevveellooppeerr ssoo\\naappppooiinntteedd uunnddeerr DDRRPP bbyy DDRRPP ((SSRRAA)) wwiitthh tthhee eelliiggiibbllee hhuuttmmeenntt ddwweelllleerrss\\nIn the case of Govt. land, the premium shall be deposited in Nivara\\nooff eeaacchh ssttrruuccttuurree iinn tthhee sslluumm//ppaavveemmeenntt.. Nidhi.\\nThe amount of premium shall be recovered in installment as may be\\n11..77 TThhee iinnddiivviidduuaall aaggrreeeemmeenntt eenntteerreedd iinnttoo bbeettwweeeenn hhuuttmmeenntt ddwweelllleerrss aanndd\\nprescribed by Govt. from time to time. Land owning authority such as\\ntthhee llaanndd--oowwnniinngg aauutthhoorriittyy//SSRRAA//ddeevveellooppeerr sshhaallll bbee iinn tthhee jjooiinntt nnaammeess\\nMCGM, MMRDA, MHADA shall not recover land premium in any other\\nooff pprraammuukkhh hhuuttmmeenntt ddwweelllleerr aanndd ssppoouussee ffoorr eevveerryy ssttrruuccttuurree..\\nform. Proposals for SRS on land owned by Central Govt. shall be\\naccepted only after NOC for the scheme is obtained from the\\n11..88 HHuuttmmeennttss hhaavviinngg aa pphhyyssiiccaallllyy hhaannddiiccaappppeedd ppeerrssoonn oorr ffeemmaallee--hheeaaddeedd\\nconcerned Central Govt. Department.\\nhhoouusseehhoollddss sshhaallll bbee ggiivveenn ffiirrsstt pprreeffeerreennccee iinn aalllloottmmeenntt ooff tteenneemmeennttss\\nttoo tthhee ootthheerr hhuuttmmeenntt--ddwweelllleerrss.. TThheerreeaafftteerr lloottss sshhaallll bbee ddrraawwnn ffoorr 1.12 Automatic cancellation of Vacant Land Tenure – If any land or part of\\naalllloottmmeenntt ooff tteenneemmeennttss ffrroomm tthhee rreemmaaiinniinngg tteenneemmeennttss ttoo tthhee ootthheerr any land on which slum is located is under vacant land tenure the said\\ntenure/lease created by MCGM or Municipal Commissioner shall stand\\nhhuuttmmeenntt--ddwweelllleerrss..\\nautomatically terminated as soon as DRP, which is a public purpose,\\non such land is prepared and submitted for approval to the DRP cell of\\n11..99 TTrraannssffeerr ooff PPhhoottoo ppaasssseess –– SSiinnccee oonnllyy tthhee aaccttuuaall ooccccuuppaanntt aatt pprreesseenntt\\nSRA. Any arrears of dues to be collected by MCGM shall not be linked\\nwwiillll bbee eelliiggiibbllee ffoorr rreeddeevveellooppmmeenntt,, tthheerree sshhaallll bbee nnoo nneeeedd ttoo rreegguullaarriizzee\\nto the issue of any certificate or NOC relating to the DRP.\\ntthhee ttrraannssffeerrss ooff pphhoottoo ppaasssseess tthhaatt hhaavvee ooccccuurrrreedd ssoo ffaarr..\\n1.13 Recovery of pending dues such as assessment, compensation,\\n11..1100 AAnnyy ppeerrssoonn wwhhoossee nnaammee iiss eennrroolllleedd iinn aa nnoonn--sslluumm aarreeaa iinn BBrriihhaann\\noccupational charges, non-agricultural tax/dues etc. pending with\\nMMuummbbaaii bbuutt hhaass ppuurrcchhaasseedd aa hhuuttmmeenntt iinn DDRRPP aarreeaa aanndd tthheerreeffoorree ggoott\\npublic authorities such as State Govt., MHADA, and/or MCGM shall be\\nhhiiss nnaammee aallssoo iinncclluuddeedd iinn eelleeccttoorraall rroollll ffoorr tthhee sslluumm aarreeaa,, ii..ee.. hhee hhaass hhiiss\\ndealt with separately and not be linked to grant of approval or building\\nnnaammee iinn tthhee eelleeccttoorraall rroollll aatt ttwwoo ppllaacceess,, hhee sshhaallll nnoott bbee eelliiggiibbllee ffoorr tthhee\\npermission to the DRP.\\nsscchheemmee..\\n224444 DCPR 2034 245 DCPR 2034\\n', 'Original Notifications shall\\nbe referred for perspicuity\\nvest, by provision in a deed of conveyance, in all the owners on\\naccount of whose cumulative holdings the LOS is required to be\\nkept as LOS in the layout or sub-division/amalgamation/plot of the\\nland.\\n(b) The proposal for construction of such structure should come as a\\nproposal from the owner/owners/society/societies or federation of\\nsocieties shall be meant for the beneficial use of the owner/owners/\\nmembers of such society/societies/federation of societies.\\n(c) Such structures shall not be used for any other purpose, except for\\nrecreational activities.\\n(d) The remaining area of the LOS shall be kept open to sky and\\naccessible to all members as a place of recreation.\\n(e) The owner/owners/or society or societies or federation of the\\nsocieties shall submit to the Commissioner a registered undertaking\\nagreeing to the conditions in (a) to (d) above.\\n(f) LOS in a private layout shall be for the exclusive use of the residents\\nof such private layout only and shall not be subjected to acquisition by\\nMCGM/Appropriate Authority. Further in such cases area of\\nexisting Recreational Open Space shall have to be maintained by\\nresidents of such private layout.\\n(h) Structures/Uses permitted in layout open spaces:\\n“Construction of Solid Waste Management System as per the\\nNational Building Code of India, Part 9 Plumbing Services, Section 1-\\nWater Supply, Drainage & Sanitation (including Solid Waste\\nManagement) paragraph 6 /bio-degradable waste treatment plant,\\nin the layout LOS, having area 2000 Sq.mt. & above within 10% of the\\nLOS area.”\\n(2) LOS in industrial plots/layout of industrial plots in any industrial plot\\nadmeasuring 1000 sq. m or more in area, 15 per cent of the total area\\nshall be provided as LOS subject to:\\n(i.) Such LOS shall have proper means of access and shall be so located\\nthat it can be conveniently utilized by the persons working in the\\nindustry;\\n(ii.) Such LOS shall be kept permanently open to sky and accessible to\\nall the owners and occupants and trees shall be grown therein at\\nthe rate of 5 trees for every 100 sq. m of the said open space or\\n114 DCPR 2034\\n', 'Original Notifications shall\\nbe referred for perspicuity\\nProvided that when the development is composite and where it is not\\npossible to hand over part of land to MCGM in such cases entire\\narea shall be deemed to be marked as existing amenity with the +\\nsign indicating other uses on the said plot.\\n20) General conditions to allow development under above regulations:\\ni) If the area of reservation is not adequate to construct independent\\nbuilding as mentioned above OR When it is not possible to handover\\nindividual plot along with public amenity, then in such cases Municipal\\nCommissioner may allow composite building on said land subject to\\ncondition that the built-up area mentioned as above may be allowed\\nto be handed over to the Planning Authority or Appropriate Authority,\\nas the case may be, preferably on ground floor and subject to premium\\nat the rate of 35% and 40% of ASR of the develop land for the zonal\\n(basic) FSI (In case of suburbs where FSI is 1 it shall be as per ASR of the\\ndeveloped land and in case of City it shall be 1.33 times of ASR of the\\ndeveloped land) for AH/R&R and for other reservations respectively or\\nas may be decided by Government from time to time. If ground floor\\nis utilised for parking, then the built-up area mentioned above may be\\nhanded over on stilt/first floor with separate entry & exit from public\\nstreet. In such cases, built- up area along with proportionate undivided\\nshare of land shall be handed over to the Planning Authority or\\nAppropriate Authority, as the case may be. In such cases no\\ncompensation of proportionate undivided land share shall be\\npermissible to the land owner / developer.\\nii) It shall be obligatory on Municipal Commissioner to make registered\\nagreement with the developer /owner at the time of granting the\\ndevelopment permission subject to terms and conditions as it deem\\nfit. Occupancy Certificate shall be issued only after compliance of all\\nterms & conditions and getting possession of the constructed\\namenity.\\niii) The above permissions for development of reservations shall be\\ngranted by the Municipal Commissioner as per the norms mentioned\\nin these regulations.\\niv) The area / built-up area to be handed over to the Planning Authority\\nunder these Regulations shall be earmarked on the sanctioned\\nbuilding plan clearly mentioning the same, and registered agreement\\nto that effect shall be executed. After completion of construction, the\\nsaid amenity shall be handed over by executing the deed of transfer\\n88 DCPR 2034\\n', 'Original Notifications shall Original Notifications shall\\nbe referred for perspicuity be referred for perspicuity\\n((99)) IInn ccaassee ooff ccoonnvveerrssiioonn//rreevviissiioonn ooff LLOOII aass ppeerr tthhiiss rreegguullaattiioonn aanndd wwhheerree\\npplloott iiss rreesseerrvveedd ffoorr ddiiffffeerreenntt//ssaammee ppuubblliicc ppuurrppoossee ffoorr eeqquuaall oorr mmoorree\\naarreeaa ooff rreesseerrvvaattiioonn iinn DDPP 22003344 tthhaann DDPP 11999911,, tthheenn ddeevveellooppmmeenntt sshhaallll of MCGM/Appropriate Authority. Proforma of possession receipt shall\\nbbee aass ppeerr tthhiiss rreegguullaattiioonn.. TThhee DDPP RRooaadd sshhaallll bbee rreecckkoonneedd wwiitthh aass ppeerr be as per Appendix V.\\nDDPP 22003344..\\n(6) The area of built-up amenity shall be counted in FSI initially and after\\n((bb)) SSlluummss iinn IInndduussttrriiaall ZZoonnee ((II))\\nhanding over of said built up amenity the area of built-up amenity shall\\n((11)) SSlluummss iinn IInndduussttrriiaall ZZoonnee ((II)) sshhaallll bbee aalllloowweedd ttoo bbee rreeddeevveellooppeedd iinn--ssiittuu be allowed free of FSI. Commencement Certificate in respect of BUA in\\nwwiitthhoouutt ggooiinngg tthhrroouugghh tthhee pprroocceessss ooff cchhaannggee ooff zzoonnee.. IInn tthhee ffrreeee--ssaallee lieu of the built-up amenity handed over to MCGM can be granted only\\nccoommppoonneenntt iinn aannyy zzoonnee,, iinn aaddddiittiioonn ttoo rreessiiddeennttiiaall uusseess,, aallll tthhee uusseess after handing over of such built up amenity or before availing zonal\\nppeerrmmiitttteedd ffoorr tthhee oorriiggiinnaall zzoonnee sshhaallll bbee ppeerrmmiitttteedd.. FFoorr iinndduussttrriiaall uusseess,, (basic) FSI beyond 75% of gross plot area or before seeking Occupation\\ntthhee sseeggrreeggaattiinngg ddiissttaannccee sshhaallll bbee mmaaiinnttaaiinneedd ffrroomm tthhee eexxiissttiinngg Certificate to any part of building/ buildings beyond 75% of admissible\\niinndduussttrriiaall uunniitt.. BUA, other than the built-up amenity.\\n((22)) AAnnyy pplloott//llaayyoouutt hhaavviinngg aarreeaa eexxcclluuddiinngg aarreeaa uunnddeerr DDPP RRooaadd//\\npprreessccrriibbeedd RRLL aass ppeerr MMMMCC AAcctt mmaayy bbee aalllloowweedd ttoo bbee ddeevveellooppeedd uunnddeerr\\n(7) The developer shall be entitled to the cost of construction of\\ntthhiiss RReegguullaattiioonn bbyy iinnssiissttiinngg hhaannddiinngg oovveerr ooff 3355%% aammeenniittyy ooff tthhee\\ndevelopment of buildable amenity as per provision of regulation 17(1)\\nrreeqquuiirreedd uunnddeerr RReegguullaattiioonn NNoo.. 1144((BB)) ((cc))..\\nNote (d).\\n((33)) RReeqquuiirreemmeenntt ooff LLOOSS aass ppeerr tthhee pprroovviissiioonnss ooff RReegguullaattiioonn NNoo.. 2277((11))((aa))\\nsshhaallll bbee iinnssiisstteedd..\\n(E) Metro Station inter changes: The buildable reservations if any, on\\n((44)) IInn tthhee eevveenntt ooff DDPP hhaavviinngg pprroovviiddeedd rreesseerrvvaattiioonn//rreesseerrvvaattiioonnss oonn aa pplloott plots abutting Metro Station interchanges shall cease to exist on\\nwwhheerree ddeevveellooppmmeenntt uunnddeerr RReegguullaattiioonn NNoo.. 3333((1100)) iiss pprrooppoosseedd,, tthhee\\nidentification of such Metro Station interchanges within 500 m. from\\nffoolllloowwiinngg sshhaallll aappppllyy..\\nsuch interchange to that extent, subject to condition that 20% of plot\\naa.. IIff tthhee aarreeaa uunnddeerr DDPP rreesseerrvvaattiioonn ttoo bbee hhaannddeedd oovveerr ttoo MMCCGGMM area shall be kept reserved for parking lot, which can be developed\\n((eexxcclluuddiinngg tthhee aarreeaass uunnddeerr DDPP rrooaaddss// rrooaadd sseettbbaacckk)) iiss lleessss tthhaann under accommodation reservation policy under regulation 17(1).\\ntthhee llaanndd ccoommppoonneenntt ooff bbuuiilltt--uupp aammeenniittyy rreeqquuiirreedd aass ppeerr tthhiiss However, the non- buildable (open spaces) reservations shall be\\nRReegguullaattiioonn,, oonnllyy tthhee aaddddiittiioonnaall llaanndd aarreeaa sshhaallll bbee pprroovviiddeedd ffoorr implemented to the full extent.\\naammeenniittyy..\\nbb.. IIff tthhee aarreeaa uunnddeerr DDPP rreesseerrvvaattiioonn ttoo bbee hhaannddeedd oovveerr ttoo MMCCGGMM,,\\n((eexxcclluuddiinngg tthhee aarreeaass uunnddeerr DDPP rrooaaddss// rrooaadd sseettbbaacckk)),, iiss mmoorree tthhaann\\ntthhee llaanndd ccoommppoonneenntt ooff bbuuiilltt--uupp aammeenniittyy rreeqquuiirreedd aass ppeerr tthhiiss\\nRReegguullaattiioonn,, tthheenn tthhee pprroovviissiioonn ffoorr aammeenniittyy iiss nnoott nneecceessssaarryy..\\n((55)) TThhee oowwnneerr sshhaallll ggiivvee aaddvvaanncceedd ppoosssseessssiioonn ooff tthhee llaanndd wwhheerreevveerr\\naapppplliiccaabbllee ((ttoo bbee hhaannddeedd oovveerr)) ttoo MMCCGGMM//AApppprroopprriiaattee AAuutthhoorriittyy aatt tthhee\\nttiimmee ooff sseeeekkiinngg AApppprroovvaall ffoorr DDeevveellooppmmeenntt ooff pplloott.. IItt sshhaallll bbee\\nrreessppoonnssiibbiilliittyy ooff tthhee llaanndd oowwnneerr ttoo cclleeaarr aallll tthhee eennccuummbbrraanncceess aanndd\\nccoommpplleettee tthhee ffoorrmmaalliittiieess ttoowwaarrddss ttrraannssffeerrrriinngg tthhee llaanndd iinn tthhee nnaammee\\n110000 DCPR 2034 101 DCPR 2034\\n']\n"
     ]
    }
   ],
   "source": [
    "print(dense_results)"
   ]
  },
  {
   "cell_type": "code",
   "execution_count": 64,
   "metadata": {},
   "outputs": [
    {
     "name": "stdout",
     "output_type": "stream",
     "text": [
      "['Original Notifications shall\\nbe referred for perspicuity\\nvest, by provision in a deed of conveyance, in all the owners on\\naccount of whose cumulative holdings the LOS is required to be\\nkept as LOS in the layout or sub-division/amalgamation/plot of the\\nland.\\n(b) The proposal for construction of such structure should come as a\\nproposal from the owner/owners/society/societies or federation of\\nsocieties shall be meant for the beneficial use of the owner/owners/\\nmembers of such society/societies/federation of societies.\\n(c) Such structures shall not be used for any other purpose, except for\\nrecreational activities.\\n(d) The remaining area of the LOS shall be kept open to sky and\\naccessible to all members as a place of recreation.\\n(e) The owner/owners/or society or societies or federation of the\\nsocieties shall submit to the Commissioner a registered undertaking\\nagreeing to the conditions in (a) to (d) above.\\n(f) LOS in a private layout shall be for the exclusive use of the residents\\nof such private layout only and shall not be subjected to acquisition by\\nMCGM/Appropriate Authority. Further in such cases area of\\nexisting Recreational Open Space shall have to be maintained by\\nresidents of such private layout.\\n(h) Structures/Uses permitted in layout open spaces:\\n“Construction of Solid Waste Management System as per the\\nNational Building Code of India, Part 9 Plumbing Services, Section 1-\\nWater Supply, Drainage & Sanitation (including Solid Waste\\nManagement) paragraph 6 /bio-degradable waste treatment plant,\\nin the layout LOS, having area 2000 Sq.mt. & above within 10% of the\\nLOS area.”\\n(2) LOS in industrial plots/layout of industrial plots in any industrial plot\\nadmeasuring 1000 sq. m or more in area, 15 per cent of the total area\\nshall be provided as LOS subject to:\\n(i.) Such LOS shall have proper means of access and shall be so located\\nthat it can be conveniently utilized by the persons working in the\\nindustry;\\n(ii.) Such LOS shall be kept permanently open to sky and accessible to\\nall the owners and occupants and trees shall be grown therein at\\nthe rate of 5 trees for every 100 sq. m of the said open space or\\n114 DCPR 2034\\n', 'Original Notifications shall\\nbe referred for perspicuity\\nof the land-owning authority as having been censused in 1976, 1980,\\nor 1985 or prior to 1st January, 1995, and 1st Jan 2000.\\nIII Joint ownership with spouse: The reconstructed tenement shall be of\\nthe ownership of the hutment dweller and spouse conjointly, and shall\\nbe so entered and be deemed to be so entered in the records of the\\nco- operative housing society, including the share certificates or all\\nother relevant documents.\\nIV Denotification as Slum Rehabilitation Area: SRA on being satisfied that\\nit is necessary so to do, or when directed by the State Govt. shall\\ndenotify the Slum Rehabilitation Area.\\nV Applicability: The following provisions will apply for\\nredevelopment/construction of accommodation for hutment/\\npavement-dwellers through owners/developers/co-operative housing\\nsocieties of hutment/pavement-dwellers/public authorities such as\\nMHADA, MIDC, MMRDA etc./Non-Governmental Organizations\\nanywhere within the limits of MCGM. However, NGO should be\\nregistered under the Maharashtra Public Charitable Trusts Act, 1961\\nand the Societies Registration Act, 1960 at least for the last five years\\nshould also be got approved by SRA.\\nVI Right of the Hutment Dwellers:\\n1.1 Hutment-dwellers, in the slum or on the pavement, eligible in\\naccordance with the provisions of this Regulation shall in exchange of\\nthe protected dwelling structure, be given free of cost a residential\\ntenement having a carpet area of 27.88 sq. m including balcony, bath\\nand water closet, but excluding common areas.\\nFor this purpose of “carpet area” means the net usable floor area\\nwithin a tenement excluding that covered by the walls or any other\\nareas specifically exempted from floor space index computation as per\\nprevailing Regulation.\\n1.2 Even those protected dwelling structures having residential areas\\nmore than 27.88 sq. m will be eligible only for 27.88 sq. m of carpet\\narea where Carpet area means area of tenements exclusive of all areas\\nunder walls including partition walls if any in the tenement.\\n1.3 All eligible hutment dwellers taking part in the SRS shall have to be\\nrehabilitated in accordance with the provisions of this Regulation. It\\nmay be in situ and in the same scheme as far as possible.\\n1.4 Pavement dwellers and hutment dwellers in the slum on land\\nrequired for vital public purpose or such location which are otherwise\\nunsuitable for human habitation or non-suitable due to other\\n220 DCPR 2034\\n', 'Original Notifications shall Original Notifications shall\\nbe referred for perspicuity be referred for perspicuity\\nAuthority in a private existing amenity plot, the existing amenity on\\nthe said plot shall be deemed to be lapsed. If the use of the existing\\nPPAARRTT IIIIII LLAANNDD UUSSEESS AANNDD MMAANNNNEERR OOFF DDEEVVEELLOOPPMMEENNTT amenity on the private land is stopped with due permission from\\ncompetent authority, then such private land can be developed with\\n1133.. DDeevveellooppmmeenntt SSttiippuullaattiioonnss..\\nthe special permission of the Commissioner for the permissible land\\nuses in the said zone.\\n11.. GGeenneerraall:: IInn eevveerryy ccaassee ooff ddeevveellooppmmeenntt//rree--ddeevveellooppmmeenntt ooff aannyy\\nllaanndd,, bbuuiillddiinngg oorr pprreemmiisseess,, tthhee iinntteennddeedd uussee sshhaallll ccoonnffoorrmm ttoo tthhee uussee\\nIf schools which have been developed on unreserved plots and are\\nzzoonneess,, ppuurrppoossee ooff ddeessiiggnnaattiioonn,, aallllooccaattiioonn oorr rreesseerrvvaattiioonn aass tthhee ccaassee\\nnow shown as existing amenity in DP 2034 considering their land use,\\nmmaayy bbee,, uunnlleessss ssppeecciiffiieedd ootthheerrwwiissee..\\ncan be redeveloped in future with the additional benefits of FSI\\navailable in DCPR, provided that they shall comply with all other\\n22.. DDeevveellooppmmeenntt ooff tthhee eexxiissttiinngg aammeenniittyy//rreesseerrvvaattiioonn//ppaarrttllyy eexxiissttiinngg\\nregulations of DCPR/ terms & conditions / policy of Govt. Merely by\\naammeenniittyy//ppaarrttllyy rreesseerrvveedd//aammeenniittyy PPlloott::\\nvirtue of showing the existing land use as existing amenity in respect of\\naa)) DDeevveellooppmmeenntt ooff tthhee eexxiissttiinngg aammeenniittyy:: WWhheerree aa bbuuiillddiinngg oonn aa ssiittee school will not give the status of authorization unless it is constructed\\nccoommpprriisseess aa eexxiissttiinngg aammeenniittyy,, tthhee ddeevveellooppmmeenntt ooff ssuucchh llaanndd sshhaallll authorisedly as per the prevailing Regulations/ terms & conditions /\\nnneecceessssaarriillyy ccoommpprriissee mmiinniimmuumm BBUUAA eeqquuaall ttoo tthhee eexxiissttiinngg aammeenniittyy.. AAnnyy policy of Govt.\\nbbaallaannccee ppeerrmmiissssiibbllee BBUUAA,, tthheerreeaafftteerr,, mmaayy bbee ppuutt ttoo uussee iinn ccoonnffoorrmmiittyy\\nProvided further that if a land is shown as existing amenity and such\\nwwiitthh ddeevveellooppmmeenntt ootthheerrwwiissee ppeerrmmiissssiibbllee iinn tthheessee RReegguullaattiioonnss..\\nexisting amenity is spread over a number of adjoining plots as per\\nDP 2034 and if any of such plot has not contributed towards its\\nIInn DDeevveellooppmmeenntt PPllaann iiff pplloott iiss sshhoowwnn aass eexxiissttiinngg aammeenniittyy ffoorr aa ppuubblliicc\\nreservation as per DP 1991 now forming part of existing amenity,\\nppuurrppoossee wwiitthh pplluuss ((++)) ssiiggnn,, tthheenn eexxiissttiinngg aauutthhoorriizzeedd BBUUAA wwhhiicchh iiss bbeeiinngg\\nuusseedd ffoorr tthhee ssaaiidd ppuubblliicc ppuurrppoossee sshhaallll bbee mmaaiinnttaaiinneedd dduurriinngg then such plot will be deemed to be reserved for such purpose and\\nrreeccoonnssttrruuccttiioonn// rreeddeevveellooppmmeenntt ooff ssaaiidd pplloott:: shall be developed as per Regulation No. 17.\\nPPrroovviiddeedd tthhaatt wwhheerree tthhee CCoommmmiissssiioonneerr wwiitthh ssppeecciiaall wwrriitttteenn Exception: Traffic Islands constituting part of the road may be\\nppeerrmmiissssiioonn,, ddeecciiddeess tthhaatt tthhee bbuuiillddaabbllee eexxiissttiinngg aammeenniittyy iiss nnoo lloonnggeerr merged with carriageway in order to improve the traffic movement\\nrreeqquuiirreedd iinn vviieeww ooff tthhee aavvaaiillaabbllee aammeenniittyy iinn tthhee vviicciinniittyy,, tthheenn tthhee with the special written permission of Commissioner. (Unless these\\naammeenniittyy sshhaallll bbee ddeevveellooppeedd ffoorr ootthheerr bbuuiillddaabbllee ppuubblliicc ppuurrppoossee are shown in open space calculation)\\nccoonnssiiddeerriinngg tthhee ddeeffiicciieennccyy iinn tthhee aaddmmiinniissttrraattiivvee wwaarrdd::\\nb) Development of Reservations: Land reserved in the DP shall be\\nPPrroovviiddeedd ffuurrtthheerr tthhaatt iiff aa llaanndd iiss sshhoowwnn aass eexxiissttiinngg aammeenniittyy ppuurrssuuaanntt developed as per the provisions of Regulation No.17, Table No.3, 4\\nttoo vvaalliidd ddeevveellooppmmeenntt ppeerrmmiissssiioonn ((eexxcceepptt iinn ccaassee ooff PPPPLL)),, aass ppeerr LLOOII & 5 for land use and manner of development.\\niissssuueedd// ggrraanntteedd uunnddeerr tthhee pprriinncciippllee ooff AARR//II ttoo RR && CC,, pprriioorr ttoo ccoommiinngg\\nc) Development of land partly shown as of existing amenity: Where a\\niinnttoo ffoorrccee ooff tthheessee RReegguullaattiioonnss,, aanndd wwhheenn ssuucchh aammeenniittyy iiss nnoott\\nbuilding exists on a site shown as existing amenity in the DP, only its\\nddeevveellooppeedd//uunnddeerr ddeevveellooppmmeenntt oonn ssiittee,, tthheenn aatt tthhee ooppttiioonn ooff oowwnneerr\\nappropriate part of land as used for such existing amenity shall be\\n//ddeevveellooppeerr,, tthhee llaanndd uunnddeerr rreeffeerreennccee sshhaallll bbee ddeevveellooppeedd aass ppeerr tthhee\\nused for the said purpose and the remaining part of the land/building\\nddeevveellooppmmeenntt ppeerrmmiissssiioonn ggrraanntteedd oorr mmaayy bbee ddeevveellooppeedd uunnddeerr tthheessee\\nof the developable land may be put to use in conformity with the\\nrreegguullaattiioonnss ccoonnssiiddeerriinngg rreesseerrvvaattiioonn aarreeaa aass ppeerr tthheenn DDPP.. TThhee\\npurpose of development as otherwise permissible in these\\nCCoommmmiissssiioonneerr wwiitthh tthhee ssppeecciiaall wwrriitttteenn ppeerrmmiissssiioonn mmaayy ddeecciiddee tthhaatt tthhee\\nRegulations.\\nssaaiidd aammeenniittyy iiff nnoo lloonnggeerr rreeqquuiirreedd iinn vviieeww ooff tthhee aavvaaiillaabbllee aammeenniittyy iinn\\ntthhee vviicciinniittyy,, tthheenn tthhee aammeenniittyy sshhaallll bbee ddeevveellooppeedd ffoorr ootthheerr ppuubblliicc d) Development of Amenity plot: Wherever possession of land is\\nppuurrppoossee ccoonnssiiddeerriinngg tthhee ddeeffiicciieennccyy iinn tthhee aaddmmiinniissttrraattiivvee wwaarrdd.. obtained by the Planning or Appropriate Authority as an amenity plot\\nas per the provisions of these Regulations, such entire plot shall be\\nPPrroovviiddeedd ffuurrtthheerr tthhaatt,, oonn ssuurrrreennddeerr ooff tteennaannccyy bbyy MMCCGGMM//AApppprroopprriiaattee\\n4422 DCPR 2034 43 DCPR 2034\\n', 'Original Notifications shall Original Notifications shall\\nbe referred for perspicuity be referred for perspicuity\\nRg = Rate for land in Rs. per sq. m. as per ASR of generating plots in\\nWWhheerree,, generating year\\nAA== ccoosstt ooff ccoonnssttrruuccttiioonn ooff aammeenniittyy iinn rruuppeeeess aass ppeerr tthhee rraatteess ooff Rr = Rate for land in Rs. per sq. m. as per ASR of receiving plot in\\nccoonnssttrruuccttiioonn mmeennttiioonneedd iinn AAnnnnuuaall SSttaatteemmeenntt ooff RRaatteess ((AASSRR)) pprreeppaarreedd generating year Y= TDR debited from DRC in sq. m.\\nbbyy tthhee IInnssppeeccttoorr GGeenneerraall ooff RReeggiissttrraattiioonn ffoorr tthhee yyeeaarr iinn wwhhiicchh\\nNote: - All TDR including slum and heritage TDR shall be utilized\\nccoonnssttrruuccttiioonn ooff aammeenniittyy iiss ccoommmmeenncceedd.. as per this regulation only.\\nBB == llaanndd rraattee ppeerr ssqq..mm.. aass ppeerr tthhee AAnnnnuuaall SSttaatteemmeenntt ooff RRaatteess ((AASSRR))\\n5.4 Utilization of TDR:\\npprreeppaarreedd bbyy tthhee IInnssppeeccttoorr GGeenneerraall ooff RReeggiissttrraattiioonn ffoorr tthhee yyeeaarr iinn wwhhiicchh\\nccoonnssttrruuccttiioonn ooff aammeenniittyy iiss ccoommmmeenncceedd.. 5.4.1 Utilization of Transferable Development Rights (TDR) and Road\\nWidth Relation will be governed by regulation 30 (A) subject to\\nBBUUAA == BBuuiilltt--uupp aarreeaa ooff ccoonnssttrruucctteedd//ddeevveellooppeedd aammeenniittyy\\nfollowing notes:\\nPPrroovviiddeedd tthhaatt iinn ccaassee SSlluumm RReeddeevveellooppmmeenntt SScchheemmee uunnddeerr ccllaauussee 33..1111\\nNote: -\\nooff RReegguullaattiioonn 3333((1100)) tthhee CCoonnssttrruuccttiioonn AAmmeenniittyy TTDDRR sshhaallll bbee iinnccrreeaasseedd\\ni) The maximum permissible TDR that can be utilised on any plot shall\\nbbyy 11..3355 ttiimmeess tthhee TTDDRR ggeenneerraatteedd aass ppeerr aabboovvee ffoorrmmuullaa..\\nbe as per regulation 30(A) and/or as specified in these Regulations.\\n55..00 UUTTIILLIISSAATTIIOONN TTRRAANNSSFFEERRAABBLLEE DDEEVVEELLOOPPMMEENNTT RRIIGGHHTTSS ((TTDDRR))::----\\nii) Maximum permissible TDR loading as mentioned above on any plot\\n55..11 AA hhoollddeerr ooff DDRRCC wwhhoo ddeessiirreess ttoo uussee FFSSII ccrreeddiitt tthheerreeiinn oonn aa ppaarrttiiccuullaarr\\nshall be exclusive of FSI allowed for inclusive housing if any.\\npplloott ooff llaanndd sshhaallll aattttaacchh vvaalliidd DDRRCCss ttoo tthhee eexxtteenntt rreeqquuiirreedd wwiitthh hhiiss\\naapppplliiccaattiioonn ffoorr ddeevveellooppmmeenntt ppeerrmmiissssiioonn.. PPrrooppoossaall ffoorr TTrraannssffeerraabbllee iii) The quantum of maximum permissible TDR loading mentioned above\\nDDeevveellooppmmeenntt RRiigghhttss ((TTDDRR)) uuttiilliissaattiioonn sshhaallll bbee ssuubbmmiitttteedd aalloonngg wwiitthh tthhee shall include slum TDR at least 20 % and maximum to the extent of\\nddooccuummeennttss aass mmaayy bbee pprreessccrriibbeedd bbyy tthhee CCoommmmiissssiioonneerr oorr bbyy tthhee 50% of column no. 6 of Table No. 12 regulation 30(A) or as decided by\\nGovt. time to time. Slum TDR as per this regulation and DRC\\nGGoovveerrnnmmeenntt ffrroomm ttiimmee ttoo ttiimmee..\\ngenerated from the vary said land and/or DRC generated from other\\n55..22 WWiitthh aann aapppplliiccaattiioonn ffoorr ddeevveellooppmmeenntt ppeerrmmiissssiioonn,, wwhheerree aann oowwnneerr\\nlocation may be utilized up to the permissible limit mention above.\\nsseeeekkss uuttiilliissaattiioonn ooff DDRRCC,, hhee sshhaallll ssuubbmmiitt tthhee DDRRCC ttoo tthhee MMuunniicciippaall\\nCCoommmmiissssiioonneerr wwhhoo sshhaallll eennddoorrssee tthheerreeoonn iinn wwrriittiinngg iinn ffiigguurreess aanndd iv) If a plot is situated on access road having dead end within 50 mt. from\\nwwoorrddss,, tthhee qquuaannttuumm ooff tthhee TTDDRR pprrooppoosseedd ttoo bbee uuttiilliisseedd,, bbeeffoorree the main road, having minimum width of 9m or more then such plot\\nggrraannttiinngg ddeevveellooppmmeenntt ppeerrmmiissssiioonn.. shall be treated as fronting on main road for the purpose of\\nutilisation of TDR. Similarly, if the plot derives from 9m wide internal\\nroad then such plots also eligible for the purpose for utilisation of\\n55..33 TThhee TTrraannssffeerraabbllee DDeevveellooppmmeenntt RRiigghhttss ((TTDDRR)) ggeenneerraatteedd ffrroomm aannyy llaanndd\\nTDR.\\nuussee zzoonnee sshhaallll bbee uuttiilliisseedd oonn aannyy rreecceeiivviinngg pplloott iirrrreessppeeccttiivvee ooff tthhee\\nv) The relaxation premium for the use of slum TDR i.e.10% of normal\\nllaanndd uussee zzoonnee aanndd aannyywwhheerree iinn MMuummbbaaii CCiittyy aarreeaa ((iissllaanndd cciittyy)) aanndd\\npremium shall be charged while condoning deficiencies in open\\nMMuummbbaaii SSuubbuurrbbaann //EExxtteennddeedd SSuubbuurrbbaann aarreeaa.. TThhee eeqquuiivvaalleenntt\\nspaces.\\nqquuaannttuumm ooff TTrraannssffeerraabbllee DDeevveellooppmmeenntt RRiigghhttss ((TTDDRR)) ttoo bbee ppeerrmmiitttteedd\\noonn rreecceeiivviinngg pplloott sshhaallll bbee ggoovveerrnneedd bbyy tthhee ffoorrmmuullaa ggiivveennbbeellooww:: --\\n5.4.2 The restrictions of total maximum permissible built-up area in terms\\nFFoorrmmuullaa:: XX == ((RRgg // RRrr)) xx YY\\nof FSI with respect to road width mentioned in these Regulation, shall\\nWWhheerree,, XX == PPeerrmmiissssiibbllee UUttiilliissaattiioonn ooff TTDDRR//DDRR iinn ssqqmm oonn rreecceeiivviinngg pplloott\\nnot be applicable in cases where, the permissible FSI is more than\\n114422 DCPR 2034 143 DCPR 2034\\n', 'Original Notifications shall Original Notifications shall\\nbe referred for perspicuity be referred for perspicuity\\n3333((77))((BB)) AAddddiittiioonnaall FFSSII ffoorr RReeddeevveellooppmmeenntt ooff eexxiissttiinngg developed as per Regulation No 33(7)(A) and remainder notional plot\\nrreessiiddeennttiiaall hhoouussiinngg ssoocciieettiieess eexxcclluuddiinngg bbuuiillddiinnggss ccoovveerreedd shall be developed as per this Regulation.\\nuunnddeerr rreegguullaattiioonn 3333((77)) aanndd 3333((77))((AA))::\\n33(8) [ Construction of Affordable Housing in Special Development Zone (SDZ)\\n11)) IInn ccaassee ooff rreeddeevveellooppmmeenntt ooff eexxiissttiinngg rreessiiddeennttiiaall hhoouussiinngg ssoocciieettiieess\\neexxcclluuddiinngg bbuuiillddiinnggss ccoovveerreedd uunnddeerr rreegguullaattiioonn 3333((77)) aanndd 3333((77))((AA)) (I) Private land following in SDZ\\npprrooppoosseedd bbyy HHoouussiinngg ssoocciieettiieess//llaannddlloorrddss oorr tthhrroouugghh tthheeiirr pprrooppoonneennttss (A) General\\nThe provision of this Regulation shall apply to any contiguous, unbroken and\\nwwhheerree eexxiissttiinngg mmeemmbbeerrss aarree pprrooppoosseedd ttoo bbee rree-- aaccccoommmmooddaatteedd oonn tthhee\\nuninterrupted piece of land, not less than 2.0 ha, and not disqualified from\\nssaammee pplloott,, iinncceennttiivvee aaddddiittiioonnaall BBUUAA ttoo tthhee eexxtteenntt ooff 1155%% ooff eexxiissttiinngg\\ndevelopment, on account of other laws or regulations that are binding.\\nBBUUAA oorr 1100 ssqq.. mm ppeerr tteenneemmeenntt wwhhiicchheevveerr iiss mmoorree sshhaallll bbee ppeerrmmiissssiibbllee\\nOwners of land parcels having plot area lesser than 2 ha may come together\\nwwiitthhoouutt pprreemmiiuumm..\\nto create contiguous land parcels of 2 ha or more & submit proposal for\\nPPrroovviiddeedd ffuurrtthheerr tthhaatt iiff tthhee eexxiissttiinngg aauutthhoorriizzeedd BBUUAA aanndd iinncceennttiivvee\\ndevelopment under this Regulation along with proper access as per these\\ntthheerreeoonn aass ssttaatteedd aabboovvee iiss lleessss tthhaann tthhee ppeerrmmiissssiibbllee FFSSII aass ppeerr\\nRegulations. However, the Municipal Commissioner shall sanction the\\nrreegguullaattiioonn 3300((AA))((11)),, tthheenn ssoocciieettyy mmaayy aavvaaiill ‘‘AAddddiittiioonnaall FFSSII oonn ppaayymmeenntt\\nproposal with prior approval of Govt.\\nooff pprreemmiiuumm//TTDDRR’’ uupp ttoo lliimmiitt ooff ppeerrmmiissssiibbllee FFSSII..\\n(B) Planning Considerations /Submission of Proposal\\n22)) IIff ssttaaiirrccaassee,, lliifftt && lliifftt lloobbbbyy aarreeaass aarree ccllaaiimmeedd ffrreeee ooff FFSSII bbyy cchhaarrggiinngg\\nThe proposal shall be submitted by the Owner, containing the demand\\npprreemmiiuumm aass ppeerr tthheenn pprreevvaaiilliinngg RReegguullaattiioonn,, tthheenn ssuucchh aarreeaass ttoo tthhaatt\\nassessment for infrastructure such as roads, water supply, sewerage and\\neexxtteenntt oonnllyy wwiillll bbee ggrraanntteedd ffrreeee ooff FFSSII wwiitthhoouutt cchhaarrggiinngg pprreemmiiuumm.. IIff\\nstorm water drains along with clearly earmarking the area for Public Open\\nssttaaiirrccaassee,, lliifftt && lliifftt lloobbbbyy aarreeaass aarree ccoouunntteedd iinn FFSSII iinn eeaarrlliieerr\\nSpaces (POS), Affordable Housing (AH), Other Amenities (OA), (viz. Education,\\nddeevveellooppmmeenntt,, tthheenn iinncceennttiivvee aaddddiittiioonnaall FFSSII aass ssttaatteedd iinn SSrr.. NNoo.. 11 sshhaallll\\nHealth & Social Amenities) and area for other development i.e. owners share\\naallssoo bbee ggiivveenn oonn ssuucchh aarreeaa && ssuucchh aarreeaass mmaayy bbee aavvaaiilleedd ffrreeee ooff FFSSII bbyy\\nof land. If OA/POS/AH to be handed over to MCGM is not abutting the\\ncchhaarrggiinngg pprreemmiiuumm aass ppeerr tthheessee RReegguullaattiioonnss..\\nmunicipal road, the same shall be provided with uninterrupted access as per\\ntable no 7 of Regulation No 23(1). The area of the land after deduction of the\\n33)) TThhiiss RReegguullaattiioonn sshhaallll bbee aapppplliiccaabbllee oonnllyy wwhheenn eexxiissttiinngg mmeemmbbeerrss ooff tthhee area covered under road/uninterrupted access proposed as above, shall be\\nssoocciieettiieess aarree pprrooppoosseedd ttoo bbee rree--aaccccoommmmooddaatteedd.. apportioned among Owner’s Share, AH, POS, and OA as detailed below.\\n44)) TThhiiss rreegguullaattiioonn wwiillll bbee aapppplliiccaabbllee ffoorr rreeddeevveellooppmmeenntt ooff eexxiissttiinngg These roads/uninterrupted access shall be handed over to MCGM and will be\\naauutthhoorriizzeedd bbuuiillddiinnggss wwhhiicchh aarree ooff tthhiirrttyy yyeeaarrss ooff aaggee oorr mmoorree.. eligible for additional BUA equal to area of land surrendered/transferred over\\n55)) TThhiiss rreegguullaattiioonn sshhaallll nnoott bbee aapppplliiccaabbllee iinn rreessppeecctt ooff rreeddeevveellooppmmeenntt\\nand above FSI as stipulated below in Sr. No. D.\\npprrooppoossaall ttoo bbee//bbeeiinngg pprroocceesssseedd uunnddeerr RReegguullaattiioonn NNoo.. 3333((55)),, 3333((77)),,\\nSr. Plot Affordable Public Other Area for\\n3333((88)),, 3333((99)),, 3333((99))((AA)),, 3333((99))((BB)),, 3333((1100)),, 3333((1100)) ((AA)),, 3333((2200)) ((AA)),, 3333((2211))..\\nNo Area Housing Open Amenities Other\\nEExxppllaannaattiioonn:: --AAggee ooff aa bbuuiillddiinngg sshhaallll bbee aass oonn tthhee 11sstt ooff JJaannuuaarryy ooff tthhee . Spaces Development\\nyyeeaarr iinn wwhhiicchh aa ccoommpplleettee rreeddeevveellooppmmeenntt pprrooppoossaall iiss ssuubbmmiitttteedd ttoo tthhee 1 Not less 30% 15 % 14% 41%\\nCCoommmmiissssiioonneerr aanndd sshhaallll bbee ccaallccuullaatteedd ffrroomm tthhee ddaattee ooff OOccccuuppaattiioonn than 2 ha\\nCCeerrttiiffiiccaattee oorr aalltteerrnnaatteellyy,, ffrroomm tthhee ffiirrsstt ddaattee ooff aasssseessssmmeenntt aass ppeerr tthhee & up to 4\\nha\\npprrooppeerrttyy ttaaxx rreeccoorrdd iinn rreessppeecctt ooff ssuucchh bbuuiillddiinngg oorr bbuuiillddiinngg oonn wwhhiicchh\\n2 More 30% 15 % 12% 43%\\nbbaallaannccee//aaddmmiissssiibbllee FFSSII hhaass bbeeeenn ccoonnssuummeedd bbyy wwaayy ooff vveerrttiiccaall\\nthan 4 ha\\neexxtteennssiioonn aass ppeerr tthheenn pprreevvaaiilliinngg RReegguullaattiioonn,, aavvaaiillaabbllee wwiitthh tthhee MMCCGGMM..\\n66)) TThhiiss iinncceennttiivvee aaddddiittiioonnaall BBUUAA sshhaallll bbee iinnddeeppeennddeenntt ooff aaddddiittiioonnaall BBUUAA\\naass ppeerrmmiissssiibbllee uunnddeerr RReegguullaattiioonn NNoo.. 1144((AA)),, 1155,, 1166 aanndd 1177,, iiff aannyy.. The Owner shall submit his proposal as per above to the Commissioner\\n77)) FFuunnggiibbllee ccoommppeennssaattoorryy aarreeaa aaddmmiissssiibbllee uunnddeerr RReegguullaattiioonn NNoo.. 3311((33)) oonn MCGM. While making such submission, he will take care of the following:\\ntthhee eexxiissttiinngg aauutthhoorriisseedd BBUUAA sshhaallll bbee wwiitthhoouutt cchhaarrggiinngg pprreemmiiuumm aanndd\\n(a) He shall distinctly mark lands for AH, POS, OA and Owner’s share in the layout.\\noovveerr tthhee iinncceennttiivvee aaddddiittiioonnaall BBUUAA bbyy cchhaarrggiinngg ooff pprreemmiiuumm..\\nFurther earmarking of lands for other amenities like education, health and social\\n88)) IIff tteennaanntteedd bbuuiillddiinngg//ss aanndd bbuuiillddiinngg//ss ooff ccoo--ooppeerraattiivvee hhoouussiinngg\\namenities cited above shall be done by the Commissioner taking the amenity\\nssoocciieettyy//nnoonn-- tteennaanntteedd bbuuiillddiinngg//ss ccoo--eexxiisstt oonn tthhee pplloott uunnddeerr\\nstandards prescribed as minimum.\\nddeevveellooppmmeenntt,, tthheenn pprrooppoorrttiioonnaattee llaanndd ccoommppoonneenntt aass ppeerr tthhee eexxiissttiinngg\\n(b) Advance possession of all lands other than the Owner’s Share as detailed in\\naauutthhoorriisseedd BBUUAA ooff eexxiissttiinngg tteennaanntteedd bbuuiillddiinngg oonn tthhee pplloott sshhaallll bbee\\nthe table above shall be handed over to MCGM at the time of approval of\\n118800 DCPR 2034 181 DCPR 2034\\n']\n"
     ]
    }
   ],
   "source": [
    "print(sparse_results)"
   ]
  },
  {
   "cell_type": "code",
   "execution_count": 65,
   "metadata": {},
   "outputs": [
    {
     "name": "stdout",
     "output_type": "stream",
     "text": [
      "['Original Notifications shall\\nbe referred for perspicuity\\nvest, by provision in a deed of conveyance, in all the owners on\\naccount of whose cumulative holdings the LOS is required to be\\nkept as LOS in the layout or sub-division/amalgamation/plot of the\\nland.\\n(b) The proposal for construction of such structure should come as a\\nproposal from the owner/owners/society/societies or federation of\\nsocieties shall be meant for the beneficial use of the owner/owners/\\nmembers of such society/societies/federation of societies.\\n(c) Such structures shall not be used for any other purpose, except for\\nrecreational activities.\\n(d) The remaining area of the LOS shall be kept open to sky and\\naccessible to all members as a place of recreation.\\n(e) The owner/owners/or society or societies or federation of the\\nsocieties shall submit to the Commissioner a registered undertaking\\nagreeing to the conditions in (a) to (d) above.\\n(f) LOS in a private layout shall be for the exclusive use of the residents\\nof such private layout only and shall not be subjected to acquisition by\\nMCGM/Appropriate Authority. Further in such cases area of\\nexisting Recreational Open Space shall have to be maintained by\\nresidents of such private layout.\\n(h) Structures/Uses permitted in layout open spaces:\\n“Construction of Solid Waste Management System as per the\\nNational Building Code of India, Part 9 Plumbing Services, Section 1-\\nWater Supply, Drainage & Sanitation (including Solid Waste\\nManagement) paragraph 6 /bio-degradable waste treatment plant,\\nin the layout LOS, having area 2000 Sq.mt. & above within 10% of the\\nLOS area.”\\n(2) LOS in industrial plots/layout of industrial plots in any industrial plot\\nadmeasuring 1000 sq. m or more in area, 15 per cent of the total area\\nshall be provided as LOS subject to:\\n(i.) Such LOS shall have proper means of access and shall be so located\\nthat it can be conveniently utilized by the persons working in the\\nindustry;\\n(ii.) Such LOS shall be kept permanently open to sky and accessible to\\nall the owners and occupants and trees shall be grown therein at\\nthe rate of 5 trees for every 100 sq. m of the said open space or\\n114 DCPR 2034\\n', 'Original Notifications shall\\nbe referred for perspicuity\\n3.11 Notwithstanding anything contained in this regulation,\\nrehabilitation project of a slum located on land belonging to\\npublic authority and needed for a vital public purpose and\\nwhere eligible slum dwellers which cannot be accommodated\\nin the in-situ SRS of land under non-buildable reservations, is\\ntaken up on an unencumbered plot, TDR as per regulation 32\\ntable 12(A) for the area of the land spared for this purpose shall\\nbe sanctioned to the owner of the said unencumbered plot and\\nthe TDR in lieu of cost of construction of BUA as per sub-\\nregulation 4.2 of regulation 32(A) shall be permissible.. For the\\npurpose of this Regulation, the BUA shall be as per clause 3.2 of\\nthis Regulation. No sale component shall be permissible.\\nProvided that the State Govt. or Public authority or a Govt.\\nCompany as defined in Sec. 617 of the Companies Act 1956 and\\nowned and controlled by the State Govt. (herein after referred\\nas the Agency) may undertake Slum Rehabilitation Project on its\\nown land and be eligible for the benefits under this Regulation\\nsubject to following conditions:\\n1) The Rehabilitation Project is approved by the SRA.\\n2) The tenements so constructed in execution of the Project are offered\\nto slum dwellers located on land belonging to Govt. or Public Authority\\nand needed for vital public purpose and within 270 days from the date\\nof issue of LOI the Agency shall identify the slum dwellers.\\n3) If the Agency fails to identify the slum dwellers needed to be shifted\\nfor a vital public purpose, as above, then the tenements so constructed\\nshall be offered.\\na) to the slum dwellers located on land belonging to Government or Public\\nAuthority within a distance of 2 km. from the land on which the Project\\nis undertaken, or\\nb) to the slum dwellers located anywhere in Greater Mumbai on lands\\nbelonging to Govt. or Public Authority, or\\n4) Further provided that in all above cases the relocation of slum dwellers\\nin any case will be undertaken not with reference to individuals but\\nreference to assembly of slum dwellers for the purpose of releasing\\nthe plot of land wholly from slums and not only the patches of land.\\nProvided that notwithstanding anything mentioned above, project\\naffected persons due to any vital Public Projects undertaken by\\nMMRDA including PAP’s under Mumbai Urban Transport Project\\n(MUTP) being resettled as per the provisions contained in Government\\nResolution, Housing and Special Assistance Department, by order no.\\n700/CR 31/slum-2 dated 12/12/2000 and certified by the Project\\nDirector, MUTP will also be eligible for redevelopment scheme under\\nthis Regulation, as amended from time to time.\\n228 DCPR 2034\\n', 'Original Notifications shall Original Notifications shall\\nbe referred for perspicuity be referred for perspicuity\\niinn tthhee ssaammee sseeccttoorr oorr ootthheerr sseeccttoorrss wwiitthhiinn tthhee jjuurriissddiiccttiioonn ooff DDRRPP..\\n1.11 ‘Premium for ownership and terms of lease-. That part of\\n11..44 PPaavveemmeenntt ddwweelllleerrss aanndd hhuuttmmeenntt ddwweelllleerrss iinn tthhee sslluumm oonn tthhee llaanndd Government/MCGM/MHADA land on which the rehabilitation\\nrreeqquuiirreedd ffoorr vviittaall uurrggeenntt ppuubblliicc uuttiilliittyy//ppuurrppoossee oorr oonn tthhee hhaazzaarrddoouuss component of the SRS will be constructed shall be leased to the Co-\\noperative Housing Society of the slum-dwellers for 30 years. Annual\\nllooccaattiioonn oorr aaffffeecctteedd bbyy DDPP pprrooppoossaallss sshhaallll nnoott bbee rreehhaabbiilliittaatteedd iinn--ssiittuu\\nbbuutt iinn ootthheerr aavvaaiillaabbllee pplloottss wwiitthhiinn jjuurriissddiiccttiioonn ooff DDRRPP.. lease rent of Rs. 1001 for 4000 per sq. m. of land or part thereof and\\nlease shall be renewable for a further period of 30 years at a time.\\n11..55 AA cceerrttiiffiieedd eexxttrraacctt ooff tthhee rreelleevvaanntt eelleeccttoorraall rroollll sshhaallll bbee ccoonnssiiddeerreedd Simultaneously, land under free sale component shall be leased\\naaddeeqquuaattee eevviiddeennccee ttoo eessttaabblliisshh tthhee eelliiggiibbiilliittyy ooff aa ppeerrssoonn pprroovviiddeedd hhee directly to the Society/Association of the purchasers of the tenement\\niiss ffoouunndd rreessiiddiinngg iinn tthhee ssttrruuccttuurree.. TThhiiss iiss ttoo aavvooiidd tthhee ppoossssiibbiilliittyy ooff under free sale component. Pending the formation of the\\nppeerrssoonnss wwhhoo hhaavvee lleefftt tthhee ssttrruuccttuurree ccoommiinngg bbaacckk ttoo ccllaaiimm ffrreeee Society/Association of the purchasers in the free sale component with\\ntteenneemmeenntt uunnddeerr tthhee sscchheemmee eevveenn tthhoouugghh tthheeyy hhaavvee iinn tthhee nnoorrmmaall a provision for further renewal for a period of 30 years at a time. The\\nccoouurrssee lleefftt tthhee sslluumm aanndd ggoonnee aawwaayy iinnttoo aa pprrooppeerr nnoonn--sslluumm aarreeaa oorr oouutt lease rent for the free sale component shall be fixed by SRA.\\nooff DDRRPP AArreeaa.. IIff tthhee hhuuttmmeenntt ddwweelllleerrss aarree ffoouunndd rreessiiddeenntt iinn tthhee\\nssttrruuccttuurree,, bbuutt tthhee nnaammeess aarree oonn tthhee eelleeccttoorraall rroollll oonn oorr pprriioorr ttoo 11sstt JJaann In addition to above, the Developer/Co-op. Housing Society shall pay\\n22000000,, aatt aannootthheerr sslluumm//ppaavveemmeenntt ssiittee iinn BBrriihhaann MMuummbbaaii,, tthheeyy sshhaallll bbee premium at the rate of 25% of ASR in respect of SRS proposed to be\\nccoonnssiiddeerreedd eelliiggiibbllee bbuutt oonnllyy aatt tthhee ppllaaccee ooff pprreesseenntt rreessiiddeennccee.. IInn ccaassee undertaken on lands owned by Government, Semi-Government\\nooff ddoouubbtt oorr ddiissppuuttee,, tthhee ddeecciissiioonn ooff tthhee CCoommppeetteenntt AAuutthhoorriittyy ttoo bbee undertakings and Local Bodies and premium shall go to land owing\\naappppooiinntteedd bbyy tthhee GGoovvtt.. iinn HHoouussiinngg DDeeppaarrttmmeenntt sshhaallll bbee ffiinnaall aanndd authority such as MHADA, MCGM, MMRDA as the case may be. The\\nbbiinnddiinngg oonn aallll tthhee ppaarrttiieess ccoonncceerrnneedd.. premium installment so recovered shall be remitted to concerned land\\nowing authority within 30 days from the date of recovery.\\n11..66 AAnn iinnddiivviidduuaall aaggrreeeemmeenntt sshhaallll bbee eenntteerreedd iinnttoo bbyy tthhee ddeevveellooppeerr ssoo\\naappppooiinntteedd uunnddeerr DDRRPP bbyy DDRRPP ((SSRRAA)) wwiitthh tthhee eelliiggiibbllee hhuuttmmeenntt ddwweelllleerrss\\nIn the case of Govt. land, the premium shall be deposited in Nivara\\nooff eeaacchh ssttrruuccttuurree iinn tthhee sslluumm//ppaavveemmeenntt.. Nidhi.\\nThe amount of premium shall be recovered in installment as may be\\n11..77 TThhee iinnddiivviidduuaall aaggrreeeemmeenntt eenntteerreedd iinnttoo bbeettwweeeenn hhuuttmmeenntt ddwweelllleerrss aanndd\\nprescribed by Govt. from time to time. Land owning authority such as\\ntthhee llaanndd--oowwnniinngg aauutthhoorriittyy//SSRRAA//ddeevveellooppeerr sshhaallll bbee iinn tthhee jjooiinntt nnaammeess\\nMCGM, MMRDA, MHADA shall not recover land premium in any other\\nooff pprraammuukkhh hhuuttmmeenntt ddwweelllleerr aanndd ssppoouussee ffoorr eevveerryy ssttrruuccttuurree..\\nform. Proposals for SRS on land owned by Central Govt. shall be\\naccepted only after NOC for the scheme is obtained from the\\n11..88 HHuuttmmeennttss hhaavviinngg aa pphhyyssiiccaallllyy hhaannddiiccaappppeedd ppeerrssoonn oorr ffeemmaallee--hheeaaddeedd\\nconcerned Central Govt. Department.\\nhhoouusseehhoollddss sshhaallll bbee ggiivveenn ffiirrsstt pprreeffeerreennccee iinn aalllloottmmeenntt ooff tteenneemmeennttss\\nttoo tthhee ootthheerr hhuuttmmeenntt--ddwweelllleerrss.. TThheerreeaafftteerr lloottss sshhaallll bbee ddrraawwnn ffoorr 1.12 Automatic cancellation of Vacant Land Tenure – If any land or part of\\naalllloottmmeenntt ooff tteenneemmeennttss ffrroomm tthhee rreemmaaiinniinngg tteenneemmeennttss ttoo tthhee ootthheerr any land on which slum is located is under vacant land tenure the said\\ntenure/lease created by MCGM or Municipal Commissioner shall stand\\nhhuuttmmeenntt--ddwweelllleerrss..\\nautomatically terminated as soon as DRP, which is a public purpose,\\non such land is prepared and submitted for approval to the DRP cell of\\n11..99 TTrraannssffeerr ooff PPhhoottoo ppaasssseess –– SSiinnccee oonnllyy tthhee aaccttuuaall ooccccuuppaanntt aatt pprreesseenntt\\nSRA. Any arrears of dues to be collected by MCGM shall not be linked\\nwwiillll bbee eelliiggiibbllee ffoorr rreeddeevveellooppmmeenntt,, tthheerree sshhaallll bbee nnoo nneeeedd ttoo rreegguullaarriizzee\\nto the issue of any certificate or NOC relating to the DRP.\\ntthhee ttrraannssffeerrss ooff pphhoottoo ppaasssseess tthhaatt hhaavvee ooccccuurrrreedd ssoo ffaarr..\\n1.13 Recovery of pending dues such as assessment, compensation,\\n11..1100 AAnnyy ppeerrssoonn wwhhoossee nnaammee iiss eennrroolllleedd iinn aa nnoonn--sslluumm aarreeaa iinn BBrriihhaann\\noccupational charges, non-agricultural tax/dues etc. pending with\\nMMuummbbaaii bbuutt hhaass ppuurrcchhaasseedd aa hhuuttmmeenntt iinn DDRRPP aarreeaa aanndd tthheerreeffoorree ggoott\\npublic authorities such as State Govt., MHADA, and/or MCGM shall be\\nhhiiss nnaammee aallssoo iinncclluuddeedd iinn eelleeccttoorraall rroollll ffoorr tthhee sslluumm aarreeaa,, ii..ee.. hhee hhaass hhiiss\\ndealt with separately and not be linked to grant of approval or building\\nnnaammee iinn tthhee eelleeccttoorraall rroollll aatt ttwwoo ppllaacceess,, hhee sshhaallll nnoott bbee eelliiggiibbllee ffoorr tthhee\\npermission to the DRP.\\nsscchheemmee..\\n224444 DCPR 2034 245 DCPR 2034\\n', 'Original Notifications shall\\nbe referred for perspicuity\\nProvided that when the development is composite and where it is not\\npossible to hand over part of land to MCGM in such cases entire\\narea shall be deemed to be marked as existing amenity with the +\\nsign indicating other uses on the said plot.\\n20) General conditions to allow development under above regulations:\\ni) If the area of reservation is not adequate to construct independent\\nbuilding as mentioned above OR When it is not possible to handover\\nindividual plot along with public amenity, then in such cases Municipal\\nCommissioner may allow composite building on said land subject to\\ncondition that the built-up area mentioned as above may be allowed\\nto be handed over to the Planning Authority or Appropriate Authority,\\nas the case may be, preferably on ground floor and subject to premium\\nat the rate of 35% and 40% of ASR of the develop land for the zonal\\n(basic) FSI (In case of suburbs where FSI is 1 it shall be as per ASR of the\\ndeveloped land and in case of City it shall be 1.33 times of ASR of the\\ndeveloped land) for AH/R&R and for other reservations respectively or\\nas may be decided by Government from time to time. If ground floor\\nis utilised for parking, then the built-up area mentioned above may be\\nhanded over on stilt/first floor with separate entry & exit from public\\nstreet. In such cases, built- up area along with proportionate undivided\\nshare of land shall be handed over to the Planning Authority or\\nAppropriate Authority, as the case may be. In such cases no\\ncompensation of proportionate undivided land share shall be\\npermissible to the land owner / developer.\\nii) It shall be obligatory on Municipal Commissioner to make registered\\nagreement with the developer /owner at the time of granting the\\ndevelopment permission subject to terms and conditions as it deem\\nfit. Occupancy Certificate shall be issued only after compliance of all\\nterms & conditions and getting possession of the constructed\\namenity.\\niii) The above permissions for development of reservations shall be\\ngranted by the Municipal Commissioner as per the norms mentioned\\nin these regulations.\\niv) The area / built-up area to be handed over to the Planning Authority\\nunder these Regulations shall be earmarked on the sanctioned\\nbuilding plan clearly mentioning the same, and registered agreement\\nto that effect shall be executed. After completion of construction, the\\nsaid amenity shall be handed over by executing the deed of transfer\\n88 DCPR 2034\\n', 'Original Notifications shall Original Notifications shall\\nbe referred for perspicuity be referred for perspicuity\\n((99)) IInn ccaassee ooff ccoonnvveerrssiioonn//rreevviissiioonn ooff LLOOII aass ppeerr tthhiiss rreegguullaattiioonn aanndd wwhheerree\\npplloott iiss rreesseerrvveedd ffoorr ddiiffffeerreenntt//ssaammee ppuubblliicc ppuurrppoossee ffoorr eeqquuaall oorr mmoorree\\naarreeaa ooff rreesseerrvvaattiioonn iinn DDPP 22003344 tthhaann DDPP 11999911,, tthheenn ddeevveellooppmmeenntt sshhaallll of MCGM/Appropriate Authority. Proforma of possession receipt shall\\nbbee aass ppeerr tthhiiss rreegguullaattiioonn.. TThhee DDPP RRooaadd sshhaallll bbee rreecckkoonneedd wwiitthh aass ppeerr be as per Appendix V.\\nDDPP 22003344..\\n(6) The area of built-up amenity shall be counted in FSI initially and after\\n((bb)) SSlluummss iinn IInndduussttrriiaall ZZoonnee ((II))\\nhanding over of said built up amenity the area of built-up amenity shall\\n((11)) SSlluummss iinn IInndduussttrriiaall ZZoonnee ((II)) sshhaallll bbee aalllloowweedd ttoo bbee rreeddeevveellooppeedd iinn--ssiittuu be allowed free of FSI. Commencement Certificate in respect of BUA in\\nwwiitthhoouutt ggooiinngg tthhrroouugghh tthhee pprroocceessss ooff cchhaannggee ooff zzoonnee.. IInn tthhee ffrreeee--ssaallee lieu of the built-up amenity handed over to MCGM can be granted only\\nccoommppoonneenntt iinn aannyy zzoonnee,, iinn aaddddiittiioonn ttoo rreessiiddeennttiiaall uusseess,, aallll tthhee uusseess after handing over of such built up amenity or before availing zonal\\nppeerrmmiitttteedd ffoorr tthhee oorriiggiinnaall zzoonnee sshhaallll bbee ppeerrmmiitttteedd.. FFoorr iinndduussttrriiaall uusseess,, (basic) FSI beyond 75% of gross plot area or before seeking Occupation\\ntthhee sseeggrreeggaattiinngg ddiissttaannccee sshhaallll bbee mmaaiinnttaaiinneedd ffrroomm tthhee eexxiissttiinngg Certificate to any part of building/ buildings beyond 75% of admissible\\niinndduussttrriiaall uunniitt.. BUA, other than the built-up amenity.\\n((22)) AAnnyy pplloott//llaayyoouutt hhaavviinngg aarreeaa eexxcclluuddiinngg aarreeaa uunnddeerr DDPP RRooaadd//\\npprreessccrriibbeedd RRLL aass ppeerr MMMMCC AAcctt mmaayy bbee aalllloowweedd ttoo bbee ddeevveellooppeedd uunnddeerr\\n(7) The developer shall be entitled to the cost of construction of\\ntthhiiss RReegguullaattiioonn bbyy iinnssiissttiinngg hhaannddiinngg oovveerr ooff 3355%% aammeenniittyy ooff tthhee\\ndevelopment of buildable amenity as per provision of regulation 17(1)\\nrreeqquuiirreedd uunnddeerr RReegguullaattiioonn NNoo.. 1144((BB)) ((cc))..\\nNote (d).\\n((33)) RReeqquuiirreemmeenntt ooff LLOOSS aass ppeerr tthhee pprroovviissiioonnss ooff RReegguullaattiioonn NNoo.. 2277((11))((aa))\\nsshhaallll bbee iinnssiisstteedd..\\n(E) Metro Station inter changes: The buildable reservations if any, on\\n((44)) IInn tthhee eevveenntt ooff DDPP hhaavviinngg pprroovviiddeedd rreesseerrvvaattiioonn//rreesseerrvvaattiioonnss oonn aa pplloott plots abutting Metro Station interchanges shall cease to exist on\\nwwhheerree ddeevveellooppmmeenntt uunnddeerr RReegguullaattiioonn NNoo.. 3333((1100)) iiss pprrooppoosseedd,, tthhee\\nidentification of such Metro Station interchanges within 500 m. from\\nffoolllloowwiinngg sshhaallll aappppllyy..\\nsuch interchange to that extent, subject to condition that 20% of plot\\naa.. IIff tthhee aarreeaa uunnddeerr DDPP rreesseerrvvaattiioonn ttoo bbee hhaannddeedd oovveerr ttoo MMCCGGMM area shall be kept reserved for parking lot, which can be developed\\n((eexxcclluuddiinngg tthhee aarreeaass uunnddeerr DDPP rrooaaddss// rrooaadd sseettbbaacckk)) iiss lleessss tthhaann under accommodation reservation policy under regulation 17(1).\\ntthhee llaanndd ccoommppoonneenntt ooff bbuuiilltt--uupp aammeenniittyy rreeqquuiirreedd aass ppeerr tthhiiss However, the non- buildable (open spaces) reservations shall be\\nRReegguullaattiioonn,, oonnllyy tthhee aaddddiittiioonnaall llaanndd aarreeaa sshhaallll bbee pprroovviiddeedd ffoorr implemented to the full extent.\\naammeenniittyy..\\nbb.. IIff tthhee aarreeaa uunnddeerr DDPP rreesseerrvvaattiioonn ttoo bbee hhaannddeedd oovveerr ttoo MMCCGGMM,,\\n((eexxcclluuddiinngg tthhee aarreeaass uunnddeerr DDPP rrooaaddss// rrooaadd sseettbbaacckk)),, iiss mmoorree tthhaann\\ntthhee llaanndd ccoommppoonneenntt ooff bbuuiilltt--uupp aammeenniittyy rreeqquuiirreedd aass ppeerr tthhiiss\\nRReegguullaattiioonn,, tthheenn tthhee pprroovviissiioonn ffoorr aammeenniittyy iiss nnoott nneecceessssaarryy..\\n((55)) TThhee oowwnneerr sshhaallll ggiivvee aaddvvaanncceedd ppoosssseessssiioonn ooff tthhee llaanndd wwhheerreevveerr\\naapppplliiccaabbllee ((ttoo bbee hhaannddeedd oovveerr)) ttoo MMCCGGMM//AApppprroopprriiaattee AAuutthhoorriittyy aatt tthhee\\nttiimmee ooff sseeeekkiinngg AApppprroovvaall ffoorr DDeevveellooppmmeenntt ooff pplloott.. IItt sshhaallll bbee\\nrreessppoonnssiibbiilliittyy ooff tthhee llaanndd oowwnneerr ttoo cclleeaarr aallll tthhee eennccuummbbrraanncceess aanndd\\nccoommpplleettee tthhee ffoorrmmaalliittiieess ttoowwaarrddss ttrraannssffeerrrriinngg tthhee llaanndd iinn tthhee nnaammee\\n110000 DCPR 2034 101 DCPR 2034\\n']\n"
     ]
    }
   ],
   "source": [
    "print(hybrid_results)"
   ]
  },
  {
   "cell_type": "code",
   "execution_count": 66,
   "metadata": {},
   "outputs": [],
   "source": [
    "def doc_text_formatting(ef, query, docs):\n",
    "    tokenizer = ef.model.tokenizer\n",
    "    query_tokens_ids = tokenizer.encode(query, return_offsets_mapping=True)\n",
    "    query_tokens = tokenizer.convert_ids_to_tokens(query_tokens_ids)\n",
    "    formatted_texts = []\n",
    "\n",
    "    for doc in docs:\n",
    "        ldx = 0\n",
    "        landmarks = []\n",
    "        encoding = tokenizer.encode_plus(doc, return_offsets_mapping=True)\n",
    "        tokens = tokenizer.convert_ids_to_tokens(encoding[\"input_ids\"])[1:-1]\n",
    "        offsets = encoding[\"offset_mapping\"][1:-1]\n",
    "        for token, (start, end) in zip(tokens, offsets):\n",
    "            if token in query_tokens:\n",
    "                if len(landmarks) != 0 and start == landmarks[-1]:\n",
    "                    landmarks[-1] = end\n",
    "                else:\n",
    "                    landmarks.append(start)\n",
    "                    landmarks.append(end)\n",
    "        close = False\n",
    "        formatted_text = \"\"\n",
    "        for i, c in enumerate(doc):\n",
    "            if ldx == len(landmarks):\n",
    "                pass\n",
    "            elif i == landmarks[ldx]:\n",
    "                if close:\n",
    "                    formatted_text += \"</span>\"\n",
    "                else:\n",
    "                    formatted_text += \"<span style='color:red'>\"\n",
    "                close = not close\n",
    "                ldx = ldx + 1\n",
    "            formatted_text += c\n",
    "        if close is True:\n",
    "            formatted_text += \"</span>\"\n",
    "        formatted_texts.append(formatted_text)\n",
    "    return formatted_texts"
   ]
  },
  {
   "cell_type": "code",
   "execution_count": 67,
   "metadata": {},
   "outputs": [
    {
     "data": {
      "text/markdown": [
       "**Dense Search Results:**"
      ],
      "text/plain": [
       "<IPython.core.display.Markdown object>"
      ]
     },
     "metadata": {},
     "output_type": "display_data"
    },
    {
     "data": {
      "text/markdown": [
       "Original Notifications shall\n",
       "be referred for perspicuity\n",
       "3.11 Notwithstanding anything contained in this regulation,\n",
       "rehabilitation project of a slum located on land belonging to\n",
       "public authority and needed for a vital public purpose and\n",
       "where eligible slum dwellers which cannot be accommodated\n",
       "in the in-situ SRS of land under non-buildable reservations, is\n",
       "taken up on an unencumbered plot, TDR as per regulation 32\n",
       "table 12(A) for the area of the land spared for this purpose shall\n",
       "be sanctioned to the owner of the said unencumbered plot and\n",
       "the TDR in lieu of cost of construction of BUA as per sub-\n",
       "regulation 4.2 of regulation 32(A) shall be permissible.. For the\n",
       "purpose of this Regulation, the BUA shall be as per clause 3.2 of\n",
       "this Regulation. No sale component shall be permissible.\n",
       "Provided that the State Govt. or Public authority or a Govt.\n",
       "Company as defined in Sec. 617 of the Companies Act 1956 and\n",
       "owned and controlled by the State Govt. (herein after referred\n",
       "as the Agency) may undertake Slum Rehabilitation Project on its\n",
       "own land and be eligible for the benefits under this Regulation\n",
       "subject to following conditions:\n",
       "1) The Rehabilitation Project is approved by the SRA.\n",
       "2) The tenements so constructed in execution of the Project are offered\n",
       "to slum dwellers located on land belonging to Govt. or Public Authority\n",
       "and needed for vital public purpose and within 270 days from the date\n",
       "of issue of LOI the Agency shall identify the slum dwellers.\n",
       "3) If the Agency fails to identify the slum dwellers needed to be shifted\n",
       "for a vital public purpose, as above, then the tenements so constructed\n",
       "shall be offered.\n",
       "a) to the slum dwellers located on land belonging to Government or Public\n",
       "Authority within a distance of 2 km. from the land on which the Project\n",
       "is undertaken, or\n",
       "b) to the slum dwellers located anywhere in Greater Mumbai on lands\n",
       "belonging to Govt. or Public Authority, or\n",
       "4) Further provided that in all above cases the relocation of slum dwellers\n",
       "in any case will be undertaken not with reference to individuals but\n",
       "reference to assembly of slum dwellers for the purpose of releasing\n",
       "the plot of land wholly from slums and not only the patches of land.\n",
       "Provided that notwithstanding anything mentioned above, project\n",
       "affected persons due to any vital Public Projects undertaken by\n",
       "MMRDA including PAP’s under Mumbai Urban Transport Project\n",
       "(MUTP) being resettled as per the provisions contained in Government\n",
       "Resolution, Housing and Special Assistance Department, by order no.\n",
       "700/CR 31/slum-2 dated 12/12/2000 and certified by the Project\n",
       "Director, MUTP will also be eligible for redevelopment scheme under\n",
       "this Regulation, as amended from time to time.\n",
       "228 DCPR 2034\n"
      ],
      "text/plain": [
       "<IPython.core.display.Markdown object>"
      ]
     },
     "metadata": {},
     "output_type": "display_data"
    },
    {
     "data": {
      "text/markdown": [
       "Original Notifications shall Original Notifications shall\n",
       "be referred for perspicuity be referred for perspicuity\n",
       "iinn tthhee ssaammee sseeccttoorr oorr ootthheerr sseeccttoorrss wwiitthhiinn tthhee jjuurriissddiiccttiioonn ooff DDRRPP..\n",
       "1.11 ‘Premium for ownership and terms of lease-. That part of\n",
       "11..44 PPaavveemmeenntt ddwweelllleerrss aanndd hhuuttmmeenntt ddwweelllleerrss iinn tthhee sslluumm oonn tthhee llaanndd Government/MCGM/MHADA land on which the rehabilitation\n",
       "rreeqquuiirreedd ffoorr vviittaall uurrggeenntt ppuubblliicc uuttiilliittyy//ppuurrppoossee oorr oonn tthhee hhaazzaarrddoouuss component of the SRS will be constructed shall be leased to the Co-\n",
       "operative Housing Society of the slum-dwellers for 30 years. Annual\n",
       "llooccaattiioonn oorr aaffffeecctteedd bbyy DDPP pprrooppoossaallss sshhaallll nnoott bbee rreehhaabbiilliittaatteedd iinn--ssiittuu\n",
       "bbuutt iinn ootthheerr aavvaaiillaabbllee pplloottss wwiitthhiinn jjuurriissddiiccttiioonn ooff DDRRPP.. lease rent of Rs. 1001 for 4000 per sq. m. of land or part thereof and\n",
       "lease shall be renewable for a further period of 30 years at a time.\n",
       "11..55 AA cceerrttiiffiieedd eexxttrraacctt ooff tthhee rreelleevvaanntt eelleeccttoorraall rroollll sshhaallll bbee ccoonnssiiddeerreedd Simultaneously, land under free sale component shall be leased\n",
       "aaddeeqquuaattee eevviiddeennccee ttoo eessttaabblliisshh tthhee eelliiggiibbiilliittyy ooff aa ppeerrssoonn pprroovviiddeedd hhee directly to the Society/Association of the purchasers of the tenement\n",
       "iiss ffoouunndd rreessiiddiinngg iinn tthhee ssttrruuccttuurree.. TThhiiss iiss ttoo aavvooiidd tthhee ppoossssiibbiilliittyy ooff under free sale component. Pending the formation of the\n",
       "ppeerrssoonnss wwhhoo hhaavvee lleefftt tthhee ssttrruuccttuurree ccoommiinngg bbaacckk ttoo ccllaaiimm ffrreeee Society/Association of the purchasers in the free sale component with\n",
       "tteenneemmeenntt uunnddeerr tthhee sscchheemmee eevveenn tthhoouugghh tthheeyy hhaavvee iinn tthhee nnoorrmmaall a provision for further renewal for a period of 30 years at a time. The\n",
       "ccoouurrssee lleefftt tthhee sslluumm aanndd ggoonnee aawwaayy iinnttoo aa pprrooppeerr nnoonn--sslluumm aarreeaa oorr oouutt lease rent for the free sale component shall be fixed by SRA.\n",
       "ooff DDRRPP AArreeaa.. IIff tthhee hhuuttmmeenntt ddwweelllleerrss aarree ffoouunndd rreessiiddeenntt iinn tthhee\n",
       "ssttrruuccttuurree,, bbuutt tthhee nnaammeess aarree oonn tthhee eelleeccttoorraall rroollll oonn oorr pprriioorr ttoo 11sstt JJaann In addition to above, the Developer/Co-op. Housing Society shall pay\n",
       "22000000,, aatt aannootthheerr sslluumm//ppaavveemmeenntt ssiittee iinn BBrriihhaann MMuummbbaaii,, tthheeyy sshhaallll bbee premium at the rate of 25% of ASR in respect of SRS proposed to be\n",
       "ccoonnssiiddeerreedd eelliiggiibbllee bbuutt oonnllyy aatt tthhee ppllaaccee ooff pprreesseenntt rreessiiddeennccee.. IInn ccaassee undertaken on lands owned by Government, Semi-Government\n",
       "ooff ddoouubbtt oorr ddiissppuuttee,, tthhee ddeecciissiioonn ooff tthhee CCoommppeetteenntt AAuutthhoorriittyy ttoo bbee undertakings and Local Bodies and premium shall go to land owing\n",
       "aappppooiinntteedd bbyy tthhee GGoovvtt.. iinn HHoouussiinngg DDeeppaarrttmmeenntt sshhaallll bbee ffiinnaall aanndd authority such as MHADA, MCGM, MMRDA as the case may be. The\n",
       "bbiinnddiinngg oonn aallll tthhee ppaarrttiieess ccoonncceerrnneedd.. premium installment so recovered shall be remitted to concerned land\n",
       "owing authority within 30 days from the date of recovery.\n",
       "11..66 AAnn iinnddiivviidduuaall aaggrreeeemmeenntt sshhaallll bbee eenntteerreedd iinnttoo bbyy tthhee ddeevveellooppeerr ssoo\n",
       "aappppooiinntteedd uunnddeerr DDRRPP bbyy DDRRPP ((SSRRAA)) wwiitthh tthhee eelliiggiibbllee hhuuttmmeenntt ddwweelllleerrss\n",
       "In the case of Govt. land, the premium shall be deposited in Nivara\n",
       "ooff eeaacchh ssttrruuccttuurree iinn tthhee sslluumm//ppaavveemmeenntt.. Nidhi.\n",
       "The amount of premium shall be recovered in installment as may be\n",
       "11..77 TThhee iinnddiivviidduuaall aaggrreeeemmeenntt eenntteerreedd iinnttoo bbeettwweeeenn hhuuttmmeenntt ddwweelllleerrss aanndd\n",
       "prescribed by Govt. from time to time. Land owning authority such as\n",
       "tthhee llaanndd--oowwnniinngg aauutthhoorriittyy//SSRRAA//ddeevveellooppeerr sshhaallll bbee iinn tthhee jjooiinntt nnaammeess\n",
       "MCGM, MMRDA, MHADA shall not recover land premium in any other\n",
       "ooff pprraammuukkhh hhuuttmmeenntt ddwweelllleerr aanndd ssppoouussee ffoorr eevveerryy ssttrruuccttuurree..\n",
       "form. Proposals for SRS on land owned by Central Govt. shall be\n",
       "accepted only after NOC for the scheme is obtained from the\n",
       "11..88 HHuuttmmeennttss hhaavviinngg aa pphhyyssiiccaallllyy hhaannddiiccaappppeedd ppeerrssoonn oorr ffeemmaallee--hheeaaddeedd\n",
       "concerned Central Govt. Department.\n",
       "hhoouusseehhoollddss sshhaallll bbee ggiivveenn ffiirrsstt pprreeffeerreennccee iinn aalllloottmmeenntt ooff tteenneemmeennttss\n",
       "ttoo tthhee ootthheerr hhuuttmmeenntt--ddwweelllleerrss.. TThheerreeaafftteerr lloottss sshhaallll bbee ddrraawwnn ffoorr 1.12 Automatic cancellation of Vacant Land Tenure – If any land or part of\n",
       "aalllloottmmeenntt ooff tteenneemmeennttss ffrroomm tthhee rreemmaaiinniinngg tteenneemmeennttss ttoo tthhee ootthheerr any land on which slum is located is under vacant land tenure the said\n",
       "tenure/lease created by MCGM or Municipal Commissioner shall stand\n",
       "hhuuttmmeenntt--ddwweelllleerrss..\n",
       "automatically terminated as soon as DRP, which is a public purpose,\n",
       "on such land is prepared and submitted for approval to the DRP cell of\n",
       "11..99 TTrraannssffeerr ooff PPhhoottoo ppaasssseess –– SSiinnccee oonnllyy tthhee aaccttuuaall ooccccuuppaanntt aatt pprreesseenntt\n",
       "SRA. Any arrears of dues to be collected by MCGM shall not be linked\n",
       "wwiillll bbee eelliiggiibbllee ffoorr rreeddeevveellooppmmeenntt,, tthheerree sshhaallll bbee nnoo nneeeedd ttoo rreegguullaarriizzee\n",
       "to the issue of any certificate or NOC relating to the DRP.\n",
       "tthhee ttrraannssffeerrss ooff pphhoottoo ppaasssseess tthhaatt hhaavvee ooccccuurrrreedd ssoo ffaarr..\n",
       "1.13 Recovery of pending dues such as assessment, compensation,\n",
       "11..1100 AAnnyy ppeerrssoonn wwhhoossee nnaammee iiss eennrroolllleedd iinn aa nnoonn--sslluumm aarreeaa iinn BBrriihhaann\n",
       "occupational charges, non-agricultural tax/dues etc. pending with\n",
       "MMuummbbaaii bbuutt hhaass ppuurrcchhaasseedd aa hhuuttmmeenntt iinn DDRRPP aarreeaa aanndd tthheerreeffoorree ggoott\n",
       "public authorities such as State Govt., MHADA, and/or MCGM shall be\n",
       "hhiiss nnaammee aallssoo iinncclluuddeedd iinn eelleeccttoorraall rroollll ffoorr tthhee sslluumm aarreeaa,, ii..ee.. hhee hhaass hhiiss\n",
       "dealt with separately and not be linked to grant of approval or building\n",
       "nnaammee iinn tthhee eelleeccttoorraall rroollll aatt ttwwoo ppllaacceess,, hhee sshhaallll nnoott bbee eelliiggiibbllee ffoorr tthhee\n",
       "permission to the DRP.\n",
       "sscchheemmee..\n",
       "224444 DCPR 2034 245 DCPR 2034\n"
      ],
      "text/plain": [
       "<IPython.core.display.Markdown object>"
      ]
     },
     "metadata": {},
     "output_type": "display_data"
    },
    {
     "data": {
      "text/markdown": [
       "Original Notifications shall\n",
       "be referred for perspicuity\n",
       "vest, by provision in a deed of conveyance, in all the owners on\n",
       "account of whose cumulative holdings the LOS is required to be\n",
       "kept as LOS in the layout or sub-division/amalgamation/plot of the\n",
       "land.\n",
       "(b) The proposal for construction of such structure should come as a\n",
       "proposal from the owner/owners/society/societies or federation of\n",
       "societies shall be meant for the beneficial use of the owner/owners/\n",
       "members of such society/societies/federation of societies.\n",
       "(c) Such structures shall not be used for any other purpose, except for\n",
       "recreational activities.\n",
       "(d) The remaining area of the LOS shall be kept open to sky and\n",
       "accessible to all members as a place of recreation.\n",
       "(e) The owner/owners/or society or societies or federation of the\n",
       "societies shall submit to the Commissioner a registered undertaking\n",
       "agreeing to the conditions in (a) to (d) above.\n",
       "(f) LOS in a private layout shall be for the exclusive use of the residents\n",
       "of such private layout only and shall not be subjected to acquisition by\n",
       "MCGM/Appropriate Authority. Further in such cases area of\n",
       "existing Recreational Open Space shall have to be maintained by\n",
       "residents of such private layout.\n",
       "(h) Structures/Uses permitted in layout open spaces:\n",
       "“Construction of Solid Waste Management System as per the\n",
       "National Building Code of India, Part 9 Plumbing Services, Section 1-\n",
       "Water Supply, Drainage & Sanitation (including Solid Waste\n",
       "Management) paragraph 6 /bio-degradable waste treatment plant,\n",
       "in the layout LOS, having area 2000 Sq.mt. & above within 10% of the\n",
       "LOS area.”\n",
       "(2) LOS in industrial plots/layout of industrial plots in any industrial plot\n",
       "admeasuring 1000 sq. m or more in area, 15 per cent of the total area\n",
       "shall be provided as LOS subject to:\n",
       "(i.) Such LOS shall have proper means of access and shall be so located\n",
       "that it can be conveniently utilized by the persons working in the\n",
       "industry;\n",
       "(ii.) Such LOS shall be kept permanently open to sky and accessible to\n",
       "all the owners and occupants and trees shall be grown therein at\n",
       "the rate of 5 trees for every 100 sq. m of the said open space or\n",
       "114 DCPR 2034\n"
      ],
      "text/plain": [
       "<IPython.core.display.Markdown object>"
      ]
     },
     "metadata": {},
     "output_type": "display_data"
    },
    {
     "data": {
      "text/markdown": [
       "Original Notifications shall\n",
       "be referred for perspicuity\n",
       "Provided that when the development is composite and where it is not\n",
       "possible to hand over part of land to MCGM in such cases entire\n",
       "area shall be deemed to be marked as existing amenity with the +\n",
       "sign indicating other uses on the said plot.\n",
       "20) General conditions to allow development under above regulations:\n",
       "i) If the area of reservation is not adequate to construct independent\n",
       "building as mentioned above OR When it is not possible to handover\n",
       "individual plot along with public amenity, then in such cases Municipal\n",
       "Commissioner may allow composite building on said land subject to\n",
       "condition that the built-up area mentioned as above may be allowed\n",
       "to be handed over to the Planning Authority or Appropriate Authority,\n",
       "as the case may be, preferably on ground floor and subject to premium\n",
       "at the rate of 35% and 40% of ASR of the develop land for the zonal\n",
       "(basic) FSI (In case of suburbs where FSI is 1 it shall be as per ASR of the\n",
       "developed land and in case of City it shall be 1.33 times of ASR of the\n",
       "developed land) for AH/R&R and for other reservations respectively or\n",
       "as may be decided by Government from time to time. If ground floor\n",
       "is utilised for parking, then the built-up area mentioned above may be\n",
       "handed over on stilt/first floor with separate entry & exit from public\n",
       "street. In such cases, built- up area along with proportionate undivided\n",
       "share of land shall be handed over to the Planning Authority or\n",
       "Appropriate Authority, as the case may be. In such cases no\n",
       "compensation of proportionate undivided land share shall be\n",
       "permissible to the land owner / developer.\n",
       "ii) It shall be obligatory on Municipal Commissioner to make registered\n",
       "agreement with the developer /owner at the time of granting the\n",
       "development permission subject to terms and conditions as it deem\n",
       "fit. Occupancy Certificate shall be issued only after compliance of all\n",
       "terms & conditions and getting possession of the constructed\n",
       "amenity.\n",
       "iii) The above permissions for development of reservations shall be\n",
       "granted by the Municipal Commissioner as per the norms mentioned\n",
       "in these regulations.\n",
       "iv) The area / built-up area to be handed over to the Planning Authority\n",
       "under these Regulations shall be earmarked on the sanctioned\n",
       "building plan clearly mentioning the same, and registered agreement\n",
       "to that effect shall be executed. After completion of construction, the\n",
       "said amenity shall be handed over by executing the deed of transfer\n",
       "88 DCPR 2034\n"
      ],
      "text/plain": [
       "<IPython.core.display.Markdown object>"
      ]
     },
     "metadata": {},
     "output_type": "display_data"
    },
    {
     "data": {
      "text/markdown": [
       "Original Notifications shall Original Notifications shall\n",
       "be referred for perspicuity be referred for perspicuity\n",
       "((99)) IInn ccaassee ooff ccoonnvveerrssiioonn//rreevviissiioonn ooff LLOOII aass ppeerr tthhiiss rreegguullaattiioonn aanndd wwhheerree\n",
       "pplloott iiss rreesseerrvveedd ffoorr ddiiffffeerreenntt//ssaammee ppuubblliicc ppuurrppoossee ffoorr eeqquuaall oorr mmoorree\n",
       "aarreeaa ooff rreesseerrvvaattiioonn iinn DDPP 22003344 tthhaann DDPP 11999911,, tthheenn ddeevveellooppmmeenntt sshhaallll of MCGM/Appropriate Authority. Proforma of possession receipt shall\n",
       "bbee aass ppeerr tthhiiss rreegguullaattiioonn.. TThhee DDPP RRooaadd sshhaallll bbee rreecckkoonneedd wwiitthh aass ppeerr be as per Appendix V.\n",
       "DDPP 22003344..\n",
       "(6) The area of built-up amenity shall be counted in FSI initially and after\n",
       "((bb)) SSlluummss iinn IInndduussttrriiaall ZZoonnee ((II))\n",
       "handing over of said built up amenity the area of built-up amenity shall\n",
       "((11)) SSlluummss iinn IInndduussttrriiaall ZZoonnee ((II)) sshhaallll bbee aalllloowweedd ttoo bbee rreeddeevveellooppeedd iinn--ssiittuu be allowed free of FSI. Commencement Certificate in respect of BUA in\n",
       "wwiitthhoouutt ggooiinngg tthhrroouugghh tthhee pprroocceessss ooff cchhaannggee ooff zzoonnee.. IInn tthhee ffrreeee--ssaallee lieu of the built-up amenity handed over to MCGM can be granted only\n",
       "ccoommppoonneenntt iinn aannyy zzoonnee,, iinn aaddddiittiioonn ttoo rreessiiddeennttiiaall uusseess,, aallll tthhee uusseess after handing over of such built up amenity or before availing zonal\n",
       "ppeerrmmiitttteedd ffoorr tthhee oorriiggiinnaall zzoonnee sshhaallll bbee ppeerrmmiitttteedd.. FFoorr iinndduussttrriiaall uusseess,, (basic) FSI beyond 75% of gross plot area or before seeking Occupation\n",
       "tthhee sseeggrreeggaattiinngg ddiissttaannccee sshhaallll bbee mmaaiinnttaaiinneedd ffrroomm tthhee eexxiissttiinngg Certificate to any part of building/ buildings beyond 75% of admissible\n",
       "iinndduussttrriiaall uunniitt.. BUA, other than the built-up amenity.\n",
       "((22)) AAnnyy pplloott//llaayyoouutt hhaavviinngg aarreeaa eexxcclluuddiinngg aarreeaa uunnddeerr DDPP RRooaadd//\n",
       "pprreessccrriibbeedd RRLL aass ppeerr MMMMCC AAcctt mmaayy bbee aalllloowweedd ttoo bbee ddeevveellooppeedd uunnddeerr\n",
       "(7) The developer shall be entitled to the cost of construction of\n",
       "tthhiiss RReegguullaattiioonn bbyy iinnssiissttiinngg hhaannddiinngg oovveerr ooff 3355%% aammeenniittyy ooff tthhee\n",
       "development of buildable amenity as per provision of regulation 17(1)\n",
       "rreeqquuiirreedd uunnddeerr RReegguullaattiioonn NNoo.. 1144((BB)) ((cc))..\n",
       "Note (d).\n",
       "((33)) RReeqquuiirreemmeenntt ooff LLOOSS aass ppeerr tthhee pprroovviissiioonnss ooff RReegguullaattiioonn NNoo.. 2277((11))((aa))\n",
       "sshhaallll bbee iinnssiisstteedd..\n",
       "(E) Metro Station inter changes: The buildable reservations if any, on\n",
       "((44)) IInn tthhee eevveenntt ooff DDPP hhaavviinngg pprroovviiddeedd rreesseerrvvaattiioonn//rreesseerrvvaattiioonnss oonn aa pplloott plots abutting Metro Station interchanges shall cease to exist on\n",
       "wwhheerree ddeevveellooppmmeenntt uunnddeerr RReegguullaattiioonn NNoo.. 3333((1100)) iiss pprrooppoosseedd,, tthhee\n",
       "identification of such Metro Station interchanges within 500 m. from\n",
       "ffoolllloowwiinngg sshhaallll aappppllyy..\n",
       "such interchange to that extent, subject to condition that 20% of plot\n",
       "aa.. IIff tthhee aarreeaa uunnddeerr DDPP rreesseerrvvaattiioonn ttoo bbee hhaannddeedd oovveerr ttoo MMCCGGMM area shall be kept reserved for parking lot, which can be developed\n",
       "((eexxcclluuddiinngg tthhee aarreeaass uunnddeerr DDPP rrooaaddss// rrooaadd sseettbbaacckk)) iiss lleessss tthhaann under accommodation reservation policy under regulation 17(1).\n",
       "tthhee llaanndd ccoommppoonneenntt ooff bbuuiilltt--uupp aammeenniittyy rreeqquuiirreedd aass ppeerr tthhiiss However, the non- buildable (open spaces) reservations shall be\n",
       "RReegguullaattiioonn,, oonnllyy tthhee aaddddiittiioonnaall llaanndd aarreeaa sshhaallll bbee pprroovviiddeedd ffoorr implemented to the full extent.\n",
       "aammeenniittyy..\n",
       "bb.. IIff tthhee aarreeaa uunnddeerr DDPP rreesseerrvvaattiioonn ttoo bbee hhaannddeedd oovveerr ttoo MMCCGGMM,,\n",
       "((eexxcclluuddiinngg tthhee aarreeaass uunnddeerr DDPP rrooaaddss// rrooaadd sseettbbaacckk)),, iiss mmoorree tthhaann\n",
       "tthhee llaanndd ccoommppoonneenntt ooff bbuuiilltt--uupp aammeenniittyy rreeqquuiirreedd aass ppeerr tthhiiss\n",
       "RReegguullaattiioonn,, tthheenn tthhee pprroovviissiioonn ffoorr aammeenniittyy iiss nnoott nneecceessssaarryy..\n",
       "((55)) TThhee oowwnneerr sshhaallll ggiivvee aaddvvaanncceedd ppoosssseessssiioonn ooff tthhee llaanndd wwhheerreevveerr\n",
       "aapppplliiccaabbllee ((ttoo bbee hhaannddeedd oovveerr)) ttoo MMCCGGMM//AApppprroopprriiaattee AAuutthhoorriittyy aatt tthhee\n",
       "ttiimmee ooff sseeeekkiinngg AApppprroovvaall ffoorr DDeevveellooppmmeenntt ooff pplloott.. IItt sshhaallll bbee\n",
       "rreessppoonnssiibbiilliittyy ooff tthhee llaanndd oowwnneerr ttoo cclleeaarr aallll tthhee eennccuummbbrraanncceess aanndd\n",
       "ccoommpplleettee tthhee ffoorrmmaalliittiieess ttoowwaarrddss ttrraannssffeerrrriinngg tthhee llaanndd iinn tthhee nnaammee\n",
       "110000 DCPR 2034 101 DCPR 2034\n"
      ],
      "text/plain": [
       "<IPython.core.display.Markdown object>"
      ]
     },
     "metadata": {},
     "output_type": "display_data"
    }
   ],
   "source": [
    "from IPython.display import Markdown, display\n",
    "\n",
    "# Dense search results\n",
    "display(Markdown(\"**Dense Search Results:**\"))\n",
    "formatted_results = doc_text_formatting(ef, query, dense_results)\n",
    "for result in dense_results:\n",
    "    display(Markdown(result))"
   ]
  },
  {
   "cell_type": "code",
   "execution_count": 68,
   "metadata": {},
   "outputs": [
    {
     "data": {
      "text/markdown": [
       "\n",
       "**Sparse Search Results:**"
      ],
      "text/plain": [
       "<IPython.core.display.Markdown object>"
      ]
     },
     "metadata": {},
     "output_type": "display_data"
    },
    {
     "data": {
      "text/markdown": [
       "Original Notifications shall\n",
       "be referred<span style='color:red'> for</span> perspicuity\n",
       "vest<span style='color:red'>,</span> by provision in<span style='color:red'> a de</span>ed of<span style='color:red'> conveyance,</span> in all the owners on\n",
       "account of whose cumulative holdings the LOS<span style='color:red'> is</span> required to be\n",
       "kept as LOS in the layout or sub-division/amalgamation/plot of the<span style='color:red'>\n",
       "land</span>.\n",
       "(b) The proposal<span style='color:red'> for</span> construction of such structure should come as<span style='color:red'> a</span>\n",
       "proposal from the owner/owners/society/soci<span style='color:red'>e</span>ties or federation of\n",
       "societies shall be meant<span style='color:red'> for</span> the beneficial use of the owner/owners/\n",
       "members of such<span style='color:red'> society</span>/soci<span style='color:red'>e</span>ties/federation of societies.\n",
       "(c) Such structures shall not be used<span style='color:red'> for</span> any other purpose<span style='color:red'>,</span> except<span style='color:red'> for</span>\n",
       "recreational activities.\n",
       "(d) The remaining area of the LOS shall be kept open to sky and\n",
       "accessible to all members as<span style='color:red'> a</span> place of recreation.\n",
       "(<span style='color:red'>e</span>) The owner/owners/or<span style='color:red'> society</span> or societies or federation of the\n",
       "societies shall submit to the Commissioner<span style='color:red'> a</span> registered undertaking\n",
       "agreeing to the conditions in (a) to (d) above.\n",
       "(f) LOS in<span style='color:red'> a</span> private layout shall be<span style='color:red'> for</span> the exclusive use of the residents\n",
       "of such private layout only and shall not be subjected to<span style='color:red'> </span>acquisition by\n",
       "MCGM/Appropriate Authority. Further in such cases area of\n",
       "existing Recreational Open Space shall have to be maintained by\n",
       "residents of such private layout.\n",
       "(h) Structures/Uses permitted in layout open spaces:\n",
       "“Construction of Solid Waste Management System as per the\n",
       "National Building Code of India<span style='color:red'>,</span> Part 9 Plumbing Services<span style='color:red'>,</span> Section 1-\n",
       "Water Supply<span style='color:red'>,</span> Drainage & Sanitation (including Solid Waste\n",
       "Management) paragraph 6 /bio-degradable waste treatment plant<span style='color:red'>,</span>\n",
       "in the layout LOS<span style='color:red'>,</span> having area 2000 Sq.mt. & above within 10% of the\n",
       "LOS area.”\n",
       "(2) LOS in industrial plots/layout of industrial plots in any industrial plot\n",
       "admeasuring 1000 sq. m or more in area<span style='color:red'>,</span> 15 per cent of the total area\n",
       "shall be provided as LOS subject to:\n",
       "(i.) Such LOS shall have proper means of access and shall be so located\n",
       "that it<span style='color:red'> can</span> be conveniently utilized by the persons working in the\n",
       "industry;\n",
       "(ii.) Such LOS shall be kept permanently open to sky and accessible to\n",
       "all the owners and occupants and trees shall be grown therein at\n",
       "the rate of 5 trees<span style='color:red'> for</span> every 100 sq. m of the said open space or\n",
       "114 DCPR 2034<span style='color:red'>\n",
       "</span>"
      ],
      "text/plain": [
       "<IPython.core.display.Markdown object>"
      ]
     },
     "metadata": {},
     "output_type": "display_data"
    },
    {
     "data": {
      "text/markdown": [
       "Original Notifications shall\n",
       "be referred<span style='color:red'> for</span> perspicuity\n",
       "of the<span style='color:red'> land</span>-owning authority as having been censused in 1976<span style='color:red'>,</span> 1980<span style='color:red'>,</span>\n",
       "or 1985 or prior to 1st January<span style='color:red'>,</span> 1995<span style='color:red'>,</span> and 1st Jan 2000.\n",
       "III Joint ownership with spouse: The reconstructed tenement shall be of\n",
       "the ownership of the<span style='color:red'> </span>hutment dweller and spouse<span style='color:red'> con</span>jointly<span style='color:red'>,</span> and shall\n",
       "be so entered and be<span style='color:red'> deem</span>ed to be so entered in the records of the\n",
       "co- operativ<span style='color:red'>e</span> housing<span style='color:red'> society,</span> including the share certificates or all\n",
       "other relevant documents.\n",
       "IV Denotification as Slum Rehabilitation Area: SRA on being satisfied that\n",
       "it<span style='color:red'> is</span> necessary so to do<span style='color:red'>,</span> or when directed by the State Govt. shall<span style='color:red'>\n",
       "de</span>notify the Slum Rehabilitation Area.\n",
       "V Applicability: The following provisions will<span style='color:red'> apply for</span>\n",
       "redevelopment/construction of accommodation<span style='color:red'> for </span>hutment/\n",
       "pavement-dwellers through owners/developers/co-operativ<span style='color:red'>e</span> housing\n",
       "societies of<span style='color:red'> </span>hutment/pavement-dwellers/public authorities such as\n",
       "MHADA<span style='color:red'>,</span> MIDC<span style='color:red'>,</span> MMRDA etc./Non-Governmental Organizations\n",
       "anywhere within the limits of MCGM. However<span style='color:red'>,</span> NGO should be\n",
       "registered under the Maharashtra Public Charitable Trusts Act<span style='color:red'>,</span> 1961\n",
       "and the Societies Registration Act<span style='color:red'>,</span> 1960 at least<span style='color:red'> for</span> the last five years\n",
       "should also be got approved by SRA.\n",
       "VI Right of the Hutment Dwellers:\n",
       "1.1 Hutment-dwellers<span style='color:red'>,</span> in the slum or on the pavement<span style='color:red'>,</span> eligible in\n",
       "accordance with the provisions of this Regulation shall in exchange of\n",
       "the protected dwelling structure<span style='color:red'>,</span> be given free of cost<span style='color:red'> a</span> residential\n",
       "tenement having<span style='color:red'> a</span> carpet area of 27.88 sq. m including balcony<span style='color:red'>,</span> bath\n",
       "and water closet<span style='color:red'>,</span> but excluding common areas.\n",
       "For this purpose of “carpet area” means the net usable floor area\n",
       "within<span style='color:red'> a</span> tenement excluding that covered by the walls or any other\n",
       "areas specifically exempted from floor space index computation as per\n",
       "prevailing Regulation.\n",
       "1.2 Even those protected dwelling structures having residential areas\n",
       "more than 27.88 sq. m will be eligible only<span style='color:red'> for</span> 27.88 sq. m of carpet\n",
       "area where Carpet area means area of tenements exclusive of all areas\n",
       "under walls including partition walls if any in the tenement.\n",
       "1.3 All eligible<span style='color:red'> </span>hutment dwellers taking part in the SRS shall have to be\n",
       "rehabilitated in accordance with the provisions of this Regulation. It\n",
       "may be in situ and in the same scheme as far as possible.\n",
       "1.4 Pavement dwellers and<span style='color:red'> </span>hutment dwellers in the slum on<span style='color:red'> land</span>\n",
       "required<span style='color:red'> for</span> vital public purpose or such location which are otherwise\n",
       "unsuitable<span style='color:red'> for</span> human<span style='color:red'> </span>habitation or non-suitable due to other\n",
       "220 DCPR 2034<span style='color:red'>\n",
       "</span>"
      ],
      "text/plain": [
       "<IPython.core.display.Markdown object>"
      ]
     },
     "metadata": {},
     "output_type": "display_data"
    },
    {
     "data": {
      "text/markdown": [
       "Original Notifications shall Original Notifications shall\n",
       "be referred<span style='color:red'> for</span> perspicuity be referred<span style='color:red'> for</span> perspicuity\n",
       "Authority in<span style='color:red'> a</span> private existing amenity plot<span style='color:red'>,</span> the existing amenity on\n",
       "the said plot shall be<span style='color:red'> deem</span>ed to be lapsed. If the use of the existing\n",
       "PPAARRTT IIIIII LLAANNDD UUSSEESS AANNDD MMAANNNNEERR OOFF DDEEVVEELLOOPPMMEENNTT amenity on the private<span style='color:red'> land is</span> stopped with due permission from<span style='color:red'>\n",
       "</span>competent authority<span style='color:red'>,</span> then such private<span style='color:red'> land can</span> be developed with\n",
       "1133.. DDeevveellooppmmeenntt SSttiippuullaattiioonnss..\n",
       "the special permission of the Commissioner<span style='color:red'> for</span> the permissible<span style='color:red'> land</span>\n",
       "uses in the said zone.\n",
       "11.. GGeenneerraall:: IInn eevveerryy ccaasse<span style='color:red'>e</span> ooff ddeevveellooppmmeenntt//rre<span style='color:red'>e</span>--ddeevveellooppmmeenntt ooff aannyy<span style='color:red'>\n",
       "</span>llaanndd<span style='color:red'>,,</span> bbuuiillddiinngg oorr pprre<span style='color:red'>em</span>miisseess<span style='color:red'>,,</span> tthhee iinntteennddeedd uussee sshhaallll<span style='color:red'> </span>ccoonnffoorrmm ttoo tthhee uussee\n",
       "If schools which have been developed on unreserved plots and are<span style='color:red'>\n",
       "</span>zzoonneess<span style='color:red'>,, </span>ppuurrppoossee ooff ddeessiiggnnaattiioonn<span style='color:red'>,, a</span>allllooccaattiioonn oorr rreesseerrvvaattiioonn<span style='color:red'> a</span>ass tthhee ccaasse<span style='color:red'>e</span>\n",
       "now shown as existing amenity in DP 2034 considering their<span style='color:red'> land</span> use<span style='color:red'>,</span>\n",
       "mmaayy<span style='color:red'> </span>bbe<span style='color:red'>e,,</span> uunnlle<span style='color:red'>e</span>ssss ssppeecciiffiieedd ootthheerrwwiisse<span style='color:red'>e</span>..<span style='color:red'>\n",
       "can</span> be redeveloped in future with the additional benefits of FSI\n",
       "available in DCPR<span style='color:red'>,</span> provided that they shall comply with all other\n",
       "22.. DDeevveellooppmmeenntt ooff tthhee eexxiissttiinngg<span style='color:red'> a</span>ammeenniittyy//rreesseerrvvaattiioonn//ppaarrttllyy eexxiissttiinngg\n",
       "regulations of DCPR/ terms & conditions / policy of Govt. Merely by<span style='color:red'>\n",
       "a</span>ammeenniittyy//ppaarrttllyy rreesseerrvveedd//aammeenniittyy PPlloott::\n",
       "virtu<span style='color:red'>e</span> of showing the existing<span style='color:red'> land</span> use as existing amenity in respect of<span style='color:red'>\n",
       "a</span>a)) DDeevveellooppmmeenntt ooff tthhee eexxiissttiinngg<span style='color:red'> a</span>ammeenniittyy::<span style='color:red'> </span>WWhheerre<span style='color:red'>e a</span>a bbuuiillddiinngg oonn<span style='color:red'> a</span>a ssiitte<span style='color:red'>e</span> school will not give the status of authorization unless it<span style='color:red'> is</span> constructed<span style='color:red'>\n",
       "</span>ccoommpprriisseess<span style='color:red'> a</span>a eexxiissttiinngg<span style='color:red'> a</span>ammeenniittyy<span style='color:red'>,,</span> tthhee ddeevveellooppmmeenntt ooff ssuucchh<span style='color:red'> </span>llaanndd sshhaallll authorisedly as per the prevailing Regulations/ terms & conditions /<span style='color:red'>\n",
       "</span>nne<span style='color:red'>e</span>cceessssaarriillyy<span style='color:red'> </span>ccoommpprriisse<span style='color:red'>e</span> mmiinniimmuumm BBUUAA eeqquuaall ttoo tthhee eexxiissttiinngg<span style='color:red'> a</span>ammeenniittyy.. AAnnyy policy of Govt.<span style='color:red'>\n",
       "</span>bbaallaanncce<span style='color:red'>e </span>ppeerrmmiissssiibblle<span style='color:red'>e</span> BBUUAA<span style='color:red'>,,</span> tthheerre<span style='color:red'>e</span>aafftteerr<span style='color:red'>,,</span> mmaayy<span style='color:red'> </span>bbe<span style='color:red'>e</span> ppuutt ttoo uussee iinn<span style='color:red'> </span>ccoonnffoorrmmiittyy\n",
       "Provided further that if<span style='color:red'> a land is</span> shown as existing amenity and such\n",
       "wwiitthh ddeevveellooppmmeenntt ootthheerrwwiisse<span style='color:red'>e </span>ppeerrmmiissssiibblle<span style='color:red'>e</span> iinn tthheesse<span style='color:red'>e</span> RReegguullaattiioonnss..\n",
       "existing amenity<span style='color:red'> is</span> spread over<span style='color:red'> a</span> number of adjoining plots as per\n",
       "DP 2034 and if any of such plot has not contributed towards its\n",
       "IInn DDeevveellooppmmeenntt PPllaann iiff pplloott iiss sshhoowwnn<span style='color:red'> a</span>ass eexxiissttiinngg<span style='color:red'> a</span>ammeenniittyy ffoorr<span style='color:red'> a</span>a<span style='color:red'> </span>ppuubblliicc\n",
       "reservation as per DP 1991 now forming part of existing amenity<span style='color:red'>,\n",
       "</span>ppuurrppoossee wwiitthh pplluuss ((++)) ssiiggnn<span style='color:red'>,,</span> tthheenn eexxiissttiinngg<span style='color:red'> a</span>auutthhoorriizzeedd BBUUAA wwhhiicchh iiss<span style='color:red'> </span>bbeeiinngg\n",
       "uusseedd ffoorr tthhee<span style='color:red'> </span>ssaaiidd<span style='color:red'> </span>ppuubblliicc<span style='color:red'> </span>ppuurrppoossee sshhaallll<span style='color:red'> </span>bbe<span style='color:red'>e </span>mmaaiinnttaaiinneedd dduurriinngg then such plot will be<span style='color:red'> deem</span>ed to be reserved<span style='color:red'> for</span> such purpose and\n",
       "rre<span style='color:red'>e</span>ccoonnssttrruuccttiioonn// rreeddeevveellooppmmeenntt ooff<span style='color:red'> </span>ssaaiidd pplloott:: shall be developed as per Regulation No. 17.\n",
       "PPrroovviiddeedd tthhaatt wwhheerre<span style='color:red'>e</span> tthhee CCoommmmiissssiioonneerr wwiitthh ssppe<span style='color:red'>e</span>cciiaall wwrriitttteenn Exception: Traffic Islands constituting part of the road may be<span style='color:red'>\n",
       "</span>ppeerrmmiissssiioonn<span style='color:red'>,,</span> ddeecciiddeess tthhaatt tthhee bbuuiillddaabblle<span style='color:red'>e</span> eexxiissttiinngg<span style='color:red'> a</span>ammeenniittyy iiss nnoo lloonnggeerr merged with carriageway in order to improve the traffic movement\n",
       "rre<span style='color:red'>e</span>qquuiirreedd iinn vviie<span style='color:red'>e</span>ww ooff tthhee<span style='color:red'> a</span>avvaaiillaabblle<span style='color:red'>e a</span>ammeenniittyy iinn tthhee vviicciinniittyy<span style='color:red'>,,</span> tthheenn tthhee with the special written permission of Commissioner. (Unless these<span style='color:red'>\n",
       "a</span>ammeenniittyy sshhaallll<span style='color:red'> </span>bbe<span style='color:red'>e</span> ddeevveellooppeedd ffoorr ootthheerr bbuuiillddaabblle<span style='color:red'>e </span>ppuubblliicc<span style='color:red'> </span>ppuurrppoossee are shown in open space calculation)<span style='color:red'>\n",
       "</span>ccoonnssiiddeerriinngg tthhee ddeeffiicciieennccyy iinn tthhee aaddmmiinniissttrraattiivve<span style='color:red'>e</span> wwaarrdd::\n",
       "b) Development of Reservations: Land reserved in the DP shall be\n",
       "PPrroovviiddeedd ffuurrtthheerr tthhaatt iiff<span style='color:red'> a</span>a<span style='color:red'> </span>llaanndd iiss sshhoowwnn<span style='color:red'> a</span>ass eexxiissttiinngg<span style='color:red'> a</span>ammeenniittyy<span style='color:red'> </span>ppuurrssuuaanntt developed as per the provisions of Regulation No.17<span style='color:red'>,</span> Table No.3<span style='color:red'>,</span> 4\n",
       "ttoo vvaalliidd ddeevveellooppmmeenntt<span style='color:red'> </span>ppeerrmmiissssiioonn ((eexxcce<span style='color:red'>e</span>pptt iinn ccaasse<span style='color:red'>e</span> ooff PPPPLL)),<span style='color:red'>, a</span>ass<span style='color:red'> </span>ppeerr LLOOII & 5<span style='color:red'> for land</span> use and manner of development.\n",
       "iissssuu<span style='color:red'>e</span>edd// ggrraanntteedd uunnddeerr tthhee pprriinncciipplle<span style='color:red'>e</span> ooff AARR//II ttoo<span style='color:red'> </span>RR && CC<span style='color:red'>,,</span> pprriioorr ttoo<span style='color:red'> </span>ccoommiinngg\n",
       "c) Development of<span style='color:red'> land</span> partly shown as of existing amenity: Where<span style='color:red'> a</span>\n",
       "iinnttoo ffoorrcce<span style='color:red'>e</span> ooff tthheesse<span style='color:red'>e</span> RReegguullaattiioonnss<span style='color:red'>,,</span> aanndd wwhheenn ssuucchh<span style='color:red'> a</span>ammeenniittyy iiss nnoott\n",
       "building exists on<span style='color:red'> a</span> site shown as existing amenity in the DP<span style='color:red'>,</span> only its\n",
       "ddeevveellooppeedd//uunnddeerr ddeevveellooppmmeenntt oonn ssiitte<span style='color:red'>e,,</span> tthheenn<span style='color:red'> a</span>att tthhee ooppttiioonn ooff oowwnneerr\n",
       "appropriate part of<span style='color:red'> land</span> as used<span style='color:red'> for</span> such existing amenity shall be\n",
       "//ddeevveellooppeerr<span style='color:red'>,,</span> tthhee<span style='color:red'> </span>llaanndd uunnddeerr rreeffeerreenncce<span style='color:red'>e</span> sshhaallll<span style='color:red'> </span>bbe<span style='color:red'>e</span> ddeevveellooppeedd<span style='color:red'> a</span>ass<span style='color:red'> </span>ppeerr tthhee\n",
       "used<span style='color:red'> for</span> the said purpose and the remaining part of the<span style='color:red'> land</span>/building\n",
       "ddeevveellooppmmeenntt<span style='color:red'> </span>ppeerrmmiissssiioonn ggrraanntteedd oorr mmaayy<span style='color:red'> </span>bbe<span style='color:red'>e</span> ddeevveellooppeedd uunnddeerr tthheesse<span style='color:red'>e</span>\n",
       "of the developable<span style='color:red'> land</span> may be put to use in conformity with the\n",
       "rreegguullaattiioonnss<span style='color:red'> </span>ccoonnssiiddeerriinngg rreesseerrvvaattiioonn<span style='color:red'> a</span>arre<span style='color:red'>e</span>aa<span style='color:red'> a</span>ass<span style='color:red'> </span>ppeerr tthheenn<span style='color:red'> </span>DDPP.. TThhee\n",
       "purpose of development as otherwise permissible in these\n",
       "CCoommmmiissssiioonneerr wwiitthh tthhee ssppe<span style='color:red'>e</span>cciiaall wwrriitttteenn<span style='color:red'> </span>ppeerrmmiissssiioonn mmaayy ddeecciidde<span style='color:red'>e</span> tthhaatt tthhee\n",
       "Regulations.<span style='color:red'>\n",
       "</span>ssaaiidd<span style='color:red'> a</span>ammeenniittyy iiff nnoo lloonnggeerr rre<span style='color:red'>e</span>qquuiirreedd iinn vviie<span style='color:red'>e</span>ww ooff tthhee<span style='color:red'> a</span>avvaaiillaabblle<span style='color:red'>e a</span>ammeenniittyy iinn\n",
       "tthhee vviicciinniittyy<span style='color:red'>,,</span> tthheenn tthhee<span style='color:red'> a</span>ammeenniittyy sshhaallll<span style='color:red'> </span>bbe<span style='color:red'>e</span> ddeevveellooppeedd ffoorr ootthheerr<span style='color:red'> </span>ppuubblliicc d) Development of Amenity plot: Wherever possession of<span style='color:red'> land is\n",
       "</span>ppuurrppoossee<span style='color:red'> </span>ccoonnssiiddeerriinngg tthhee ddeeffiicciieennccyy iinn tthhee aaddmmiinniissttrraattiivve<span style='color:red'>e</span> wwaarrdd.. obtained by the Planning or Appropriate Authority as an amenity plot\n",
       "as per the provisions of these Regulations<span style='color:red'>,</span> such entire plot shall be\n",
       "PPrroovviiddeedd ffuurrtthheerr tthhaatt<span style='color:red'>,,</span> oonn ssuurrrreennddeerr ooff tteennaannccyy<span style='color:red'> </span>bbyy MMCCGGMM//AApppprroopprriiaatte<span style='color:red'>e</span>\n",
       "4422 DCPR 2034 43 DCPR 2034<span style='color:red'>\n",
       "</span>"
      ],
      "text/plain": [
       "<IPython.core.display.Markdown object>"
      ]
     },
     "metadata": {},
     "output_type": "display_data"
    },
    {
     "data": {
      "text/markdown": [
       "Original Notifications shall Original Notifications shall\n",
       "be referred<span style='color:red'> for</span> perspicuity be referred<span style='color:red'> for</span> perspicuity\n",
       "Rg = Rate<span style='color:red'> for land</span> in Rs. per sq. m. as per ASR of generating plots in<span style='color:red'>\n",
       "</span>WWhheerre<span style='color:red'>e,,</span> generating year\n",
       "AA==<span style='color:red'> </span>ccoosstt ooff<span style='color:red'> </span>ccoonnssttrruuccttiioonn ooff<span style='color:red'> a</span>ammeenniittyy iinn rruuppeeeess<span style='color:red'> a</span>ass<span style='color:red'> </span>ppeerr tthhee<span style='color:red'> </span>rraatteess ooff Rr = Rate<span style='color:red'> for land</span> in Rs. per sq. m. as per ASR of receiving plot in<span style='color:red'>\n",
       "</span>ccoonnssttrruuccttiioonn<span style='color:red'> </span>mmeennttiioonneedd iinn AAnnnnuuaall SSttaatteemmeenntt ooff<span style='color:red'> </span>RRaatteess ((AASSRR)) pprre<span style='color:red'>e</span>ppaarreedd generating year Y= TDR<span style='color:red'> de</span>bited from DRC in sq. m.<span style='color:red'>\n",
       "</span>bbyy tthhee IInnssppe<span style='color:red'>e</span>ccttoorr GGeenneerraall ooff RRe<span style='color:red'>e</span>ggiissttrraattiioonn ffoorr tthhee yye<span style='color:red'>e</span>aarr iinn wwhhiicchh\n",
       "Note: - All TDR including slum and heritage TDR shall be utilized<span style='color:red'>\n",
       "</span>ccoonnssttrruuccttiioonn ooff<span style='color:red'> a</span>ammeenniittyy iiss<span style='color:red'> </span>ccoommmmeenncceedd.. as per this regulation only.\n",
       "BB<span style='color:red'> </span>==<span style='color:red'> </span>llaanndd<span style='color:red'> </span>rraatte<span style='color:red'>e </span>ppeerr ssqq..mm..<span style='color:red'> a</span>ass<span style='color:red'> </span>ppeerr tthhee AAnnnnuuaall SSttaatteemmeenntt ooff<span style='color:red'> </span>RRaatteess ((AASSRR))\n",
       "5.4 Utilization of TDR:\n",
       "pprre<span style='color:red'>e</span>ppaarreedd<span style='color:red'> </span>bbyy tthhee IInnssppe<span style='color:red'>e</span>ccttoorr GGeenneerraall ooff RRe<span style='color:red'>e</span>ggiissttrraattiioonn ffoorr tthhee yye<span style='color:red'>e</span>aarr iinn wwhhiicchh<span style='color:red'>\n",
       "</span>ccoonnssttrruuccttiioonn ooff<span style='color:red'> a</span>ammeenniittyy iiss<span style='color:red'> </span>ccoommmmeenncceedd.. 5.4.1 Utilization of Transferable Development Rights (TDR) and Road\n",
       "Width Relation will be governed by regulation 30 (A) subject to\n",
       "BBUUAA<span style='color:red'> </span>== BBuuiilltt--uupp<span style='color:red'> a</span>arre<span style='color:red'>e</span>aa ooff<span style='color:red'> </span>ccoonnssttrruucctteedd//ddeevveellooppeedd<span style='color:red'> a</span>ammeenniittyy\n",
       "following notes:\n",
       "PPrroovviiddeedd tthhaatt iinn ccaasse<span style='color:red'>e</span> SSlluumm RReeddeevveellooppmmeenntt SScchheemme<span style='color:red'>e</span> uunnddeerr<span style='color:red'> </span>ccllaauusse<span style='color:red'>e</span> 33..1111\n",
       "Note: -\n",
       "ooff RReegguullaattiioonn 3333((1100)) tthhee CCoonnssttrruuccttiioonn AAmmeenniittyy TTDDRR sshhaallll<span style='color:red'> </span>bbe<span style='color:red'>e</span> iinnccrre<span style='color:red'>e</span>aasseedd\n",
       "i) The maximum permissible TDR that<span style='color:red'> can</span> be utilised on any plot shall<span style='color:red'>\n",
       "</span>bbyy 11..3355<span style='color:red'> </span>ttiimmeess tthhee TTDDRR<span style='color:red'> </span>ggeenneerraatteedd<span style='color:red'> a</span>ass<span style='color:red'> </span>ppeerr<span style='color:red'> a</span>abboovve<span style='color:red'>e</span> ffoorrmmuullaa..\n",
       "be as per regulation 30(A) and/or as specified in these Regulations.\n",
       "55..00 UUTTIILLIISSAATTIIOONN TTRRAANNSSFFEERRAABBLLEE DDEEVVEELLOOPPMMEENNTT<span style='color:red'> </span>RRIIGGHHTTSS ((TTDDRR))::----\n",
       "ii) Maximum permissible TDR loading as mentioned above on any plot\n",
       "55..11 AA hhoollddeerr ooff DDRRCC wwhhoo ddeessiirreess ttoo uussee FFSSII<span style='color:red'> </span>ccrreeddiitt tthheerreeiinn oonn<span style='color:red'> a</span>a ppaarrttiiccuullaarr\n",
       "shall be exclusive of FSI allowed<span style='color:red'> for</span> inclusive housing if any.\n",
       "pplloott ooff<span style='color:red'> </span>llaanndd sshhaallll<span style='color:red'> a</span>attttaacchh vvaalliidd DDRRCCss ttoo tthhee eexxtteenntt rre<span style='color:red'>e</span>qquuiirreedd wwiitthh hhiiss<span style='color:red'>\n",
       "a</span>apppplliiccaattiioonn ffoorr ddeevveellooppmmeenntt<span style='color:red'> </span>ppeerrmmiissssiioonn.. PPrrooppoossaall ffoorr TTrraannssffeerraabblle<span style='color:red'>e</span> iii) The quantum of maximum permissible TDR loading mentioned above\n",
       "DDeevveellooppmmeenntt RRiigghhttss ((TTDDRR)) uuttiilliissaattiioonn sshhaallll<span style='color:red'> </span>bbe<span style='color:red'>e</span> ssuubbmmiitttteedd<span style='color:red'> a</span>alloonngg wwiitthh tthhee shall include slum TDR at least 20 % and maximum to the extent of\n",
       "ddooccuummeennttss<span style='color:red'> a</span>ass mmaayy<span style='color:red'> </span>bbe<span style='color:red'>e</span> pprreessccrriibbeedd<span style='color:red'> </span>bbyy tthhee CCoommmmiissssiioonneerr oorr<span style='color:red'> </span>bbyy tthhee 50% of column no. 6 of Table No. 12 regulation 30(A) or as decided by\n",
       "Govt. time to time. Slum TDR as per this regulation and DRC\n",
       "GGoovveerrnnmmeenntt ffrroomm<span style='color:red'> </span>ttiimme<span style='color:red'>e</span> ttoo<span style='color:red'> </span>ttiimme<span style='color:red'>e</span>..\n",
       "generated from the vary said<span style='color:red'> land</span> and/or DRC generated from other\n",
       "55..22 WWiitthh aann<span style='color:red'> a</span>apppplliiccaattiioonn ffoorr ddeevveellooppmmeenntt<span style='color:red'> </span>ppeerrmmiissssiioonn<span style='color:red'>,,</span> wwhheerre<span style='color:red'>e</span> aann oowwnneerr\n",
       "location may be utilized up to the permissible limit mention above.\n",
       "sseeeekkss uuttiilliissaattiioonn ooff DDRRCC<span style='color:red'>,,</span> hhee sshhaallll ssuubbmmiitt tthhee DDRRCC ttoo tthhee MMuunniicciippaall\n",
       "CCoommmmiissssiioonneerr wwhhoo sshhaallll eennddoorrssee tthheerre<span style='color:red'>e</span>oonn iinn wwrriittiinngg iinn<span style='color:red'> </span>ffiigguurreess aanndd iv) If<span style='color:red'> a</span> plot<span style='color:red'> is</span> situated on access road having dead end within 50 mt. from\n",
       "wwoorrddss<span style='color:red'>,,</span> tthhee qquuaannttuumm ooff tthhee TTDDRR pprrooppoosseedd ttoo<span style='color:red'> </span>bbe<span style='color:red'>e</span> uuttiilliisseedd<span style='color:red'>,, </span>bbeeffoorre<span style='color:red'>e</span> the main road<span style='color:red'>,</span> having minimum<span style='color:red'> </span>width of 9m or more then such plot<span style='color:red'>\n",
       "</span>ggrraannttiinngg ddeevveellooppmmeenntt<span style='color:red'> </span>ppeerrmmiissssiioonn.. shall be treated as fronting on main road<span style='color:red'> for</span> the purpose of<span style='color:red'>\n",
       "</span>utilisation of TDR. Similarly<span style='color:red'>,</span> if the plot derives from 9m wide internal\n",
       "road then such plots also eligible<span style='color:red'> for</span> the purpose<span style='color:red'> for </span>utilisation of\n",
       "55..33 TThhee TTrraannssffeerraabblle<span style='color:red'>e</span> DDeevveellooppmmeenntt RRiigghhttss ((TTDDRR))<span style='color:red'> </span>ggeenneerraatteedd ffrroomm aannyy<span style='color:red'> </span>llaanndd\n",
       "TDR.\n",
       "uussee<span style='color:red'> </span>zzoonne<span style='color:red'>e</span> sshhaallll<span style='color:red'> </span>bbe<span style='color:red'>e</span> uuttiilliisseedd oonn aannyy rre<span style='color:red'>e</span>cce<span style='color:red'>e</span>iivviinngg pplloott iirrrreessppe<span style='color:red'>e</span>ccttiivve<span style='color:red'>e</span> ooff tthhee\n",
       "v) The relaxation premium<span style='color:red'> for</span> the use of slum TDR i.<span style='color:red'>e</span>.10% of normal<span style='color:red'>\n",
       "</span>llaanndd uussee<span style='color:red'> </span>zzoonne<span style='color:red'>e</span> aanndd aannyywwhheerre<span style='color:red'>e</span> iinn MMuummbbaaii CCiittyy<span style='color:red'> a</span>arre<span style='color:red'>e</span>aa ((iissllaanndd<span style='color:red'> </span>cciittyy)) aanndd\n",
       "premium shall be charged while<span style='color:red'> con</span>doning<span style='color:red'> de</span>fici<span style='color:red'>e</span>ncies in open\n",
       "MMuummbbaaii SSuubbuurrbbaann //EExxtteennddeedd SSuubbuurrbbaann<span style='color:red'> a</span>arre<span style='color:red'>e</span>aa.. TThhee eeqquuiivvaalleenntt\n",
       "spaces.\n",
       "qquuaannttuumm ooff TTrraannssffeerraabblle<span style='color:red'>e</span> DDeevveellooppmmeenntt RRiigghhttss ((TTDDRR)) ttoo<span style='color:red'> </span>bbe<span style='color:red'>e </span>ppeerrmmiitttteedd\n",
       "oonn rre<span style='color:red'>e</span>cce<span style='color:red'>e</span>iivviinngg pplloott sshhaallll<span style='color:red'> </span>bbe<span style='color:red'>e</span> ggoovveerrnneedd<span style='color:red'> </span>bbyy tthhee ffoorrmmuullaa<span style='color:red'> </span>ggiivveennbbeellooww:: --\n",
       "5.4.2 The restrictions of total maximum permissible built-up area in terms\n",
       "FFoorrmmuullaa:: XX<span style='color:red'> </span>== ((RRgg //<span style='color:red'> </span>RRrr)) xx<span style='color:red'> </span>YY\n",
       "of FSI with respect to road<span style='color:red'> </span>width mentioned in these Regulation<span style='color:red'>,</span> shall<span style='color:red'>\n",
       "</span>WWhheerre<span style='color:red'>e,,</span> XX<span style='color:red'> </span>== PPeerrmmiissssiibblle<span style='color:red'>e</span> UUttiilliissaattiioonn ooff TTDDRR//DDRR iinn ssqqmm oonn rre<span style='color:red'>e</span>cce<span style='color:red'>e</span>iivviinngg pplloott\n",
       "not be applicable in cases where<span style='color:red'>,</span> the permissible FSI<span style='color:red'> is</span> more than\n",
       "114422 DCPR 2034 143 DCPR 2034<span style='color:red'>\n",
       "</span>"
      ],
      "text/plain": [
       "<IPython.core.display.Markdown object>"
      ]
     },
     "metadata": {},
     "output_type": "display_data"
    },
    {
     "data": {
      "text/markdown": [
       "Original Notifications shall Original Notifications shall\n",
       "be referred<span style='color:red'> for</span> perspicuity be referred<span style='color:red'> for</span> perspicuity\n",
       "3333((77))((BB)) AAddddiittiioonnaall FFSSII ffoorr RReeddeevveellooppmmeenntt ooff eexxiissttiinngg developed as per Regulation No 33(7)(A) and remainder notional plot\n",
       "rreessiiddeennttiiaall hhoouussiinngg ssoocciieettiieess eexxcclluuddiinngg bbuuiillddiinnggss<span style='color:red'> </span>ccoovveerreedd shall be developed as per this Regulation.\n",
       "uunnddeerr rreegguullaattiioonn 3333((77)) aanndd 3333((77))((AA))::\n",
       "33(8) [ Construction of Affordable Housing in Special Development Zone (SDZ)\n",
       "11)) IInn ccaasse<span style='color:red'>e</span> ooff rreeddeevveellooppmmeenntt ooff eexxiissttiinngg rreessiiddeennttiiaall hhoouussiinngg ssoocciieettiieess\n",
       "eexxcclluuddiinngg bbuuiillddiinnggss<span style='color:red'> </span>ccoovveerreedd uunnddeerr rreegguullaattiioonn 3333((77)) aanndd 3333((77))((AA)) (I) Private<span style='color:red'> land</span> following in SDZ\n",
       "pprrooppoosseedd<span style='color:red'> </span>bbyy HHoouussiinngg ssoocciieettiieess//llaannddlloorrddss oorr tthhrroouugghh tthheeiirr pprrooppoonneennttss (A) General\n",
       "The provision of this Regulation shall<span style='color:red'> apply</span> to any contiguous<span style='color:red'>,</span> unbroken and\n",
       "wwhheerre<span style='color:red'>e</span> eexxiissttiinngg<span style='color:red'> </span>mme<span style='color:red'>em</span>mbbeerrss<span style='color:red'> a</span>arre<span style='color:red'>e</span> pprrooppoosseedd ttoo<span style='color:red'> </span>bbe<span style='color:red'>e</span> rre<span style='color:red'>e</span>--<span style='color:red'> a</span>accccoommmmooddaatteedd oonn tthhee\n",
       "uninterrupted piece of<span style='color:red'> land,</span> not less than 2.0 ha<span style='color:red'>,</span> and not disqualified from<span style='color:red'>\n",
       "</span>ssaamme<span style='color:red'>e</span> pplloott<span style='color:red'>,,</span> iinncceennttiivve<span style='color:red'>e</span> aaddddiittiioonnaall BBUUAA ttoo tthhee eexxtteenntt ooff 1155%% ooff eexxiissttiinngg\n",
       "development<span style='color:red'>,</span> on account of other laws or regulations that are<span style='color:red'> </span>binding.\n",
       "BBUUAA oorr 1100 ssqq.. mm<span style='color:red'> </span>ppeerr<span style='color:red'> </span>tteenneemmeenntt wwhhiicchheevveerr iiss mmoorre<span style='color:red'>e</span> sshhaallll<span style='color:red'> </span>bbe<span style='color:red'>e </span>ppeerrmmiissssiibblle<span style='color:red'>e</span>\n",
       "Owners of<span style='color:red'> land</span> parcels having plot area lesser than 2 ha may come together\n",
       "wwiitthhoouutt pprre<span style='color:red'>em</span>miiuumm..\n",
       "to create contiguous<span style='color:red'> land</span> parcels of 2 ha or more & submit proposal<span style='color:red'> for</span>\n",
       "PPrroovviiddeedd ffuurrtthheerr tthhaatt iiff tthhee eexxiissttiinngg<span style='color:red'> a</span>auutthhoorriizzeedd BBUUAA aanndd iinncceennttiivve<span style='color:red'>e</span>\n",
       "development under this Regulation along with proper access as per these\n",
       "tthheerre<span style='color:red'>e</span>oonn<span style='color:red'> a</span>ass ssttaatteedd<span style='color:red'> a</span>abboovve<span style='color:red'>e</span> iiss lle<span style='color:red'>e</span>ssss tthhaann tthhee<span style='color:red'> </span>ppeerrmmiissssiibblle<span style='color:red'>e</span> FFSSII<span style='color:red'> a</span>ass<span style='color:red'> </span>ppeerr\n",
       "Regulations. However<span style='color:red'>,</span> the Municipal Commissioner shall sanction the\n",
       "rreegguullaattiioonn 3300((AA))((11)),<span style='color:red'>,</span> tthheenn ssoocciieettyy mmaayy<span style='color:red'> a</span>avvaaiill ‘‘AAddddiittiioonnaall FFSSII oonn<span style='color:red'> </span>ppaayymmeenntt\n",
       "proposal with prior approval of Govt.\n",
       "ooff pprre<span style='color:red'>em</span>miiuumm//TTDDRR’’ uupp ttoo<span style='color:red'> </span>lliimmiitt ooff<span style='color:red'> </span>ppeerrmmiissssiibblle<span style='color:red'>e</span> FFSSII..\n",
       "(B) Planning Considerations /Submission of Proposal\n",
       "22)) IIff ssttaaiirrccaasse<span style='color:red'>e,, </span>lliifftt &&<span style='color:red'> </span>lliifftt lloobbbbyy<span style='color:red'> a</span>arre<span style='color:red'>e</span>aass<span style='color:red'> a</span>arre<span style='color:red'>e </span>ccllaaiimmeedd ffrreeee ooff FFSSII<span style='color:red'> </span>bbyy cchhaarrggiinngg\n",
       "The proposal shall be submitted by the Owner<span style='color:red'>,</span> containing the demand\n",
       "pprre<span style='color:red'>em</span>miiuumm<span style='color:red'> a</span>ass<span style='color:red'> </span>ppeerr tthheenn pprreevvaaiilliinngg RReegguullaattiioonn<span style='color:red'>,,</span> tthheenn ssuucchh<span style='color:red'> a</span>arre<span style='color:red'>e</span>aass ttoo tthhaatt\n",
       "assessment<span style='color:red'> for</span> infrastructure such as roads<span style='color:red'>,</span> water supply<span style='color:red'>,</span> sewerage and\n",
       "eexxtteenntt oonnllyy wwiillll<span style='color:red'> </span>bbe<span style='color:red'>e</span> ggrraanntteedd ffrreeee ooff FFSSII wwiitthhoouutt cchhaarrggiinngg pprre<span style='color:red'>em</span>miiuumm.. IIff\n",
       "storm water drains along with clearly earmarking the area<span style='color:red'> for</span> Public Open\n",
       "ssttaaiirrccaasse<span style='color:red'>e,, </span>lliifftt &&<span style='color:red'> </span>lliifftt lloobbbbyy<span style='color:red'> a</span>arre<span style='color:red'>e</span>aass<span style='color:red'> a</span>arre<span style='color:red'>e </span>ccoouunntteedd iinn FFSSII iinn eeaarrlliieerr\n",
       "Spaces (POS), Affordable Housing (AH), Other Amenities (OA), (viz. Education<span style='color:red'>,</span>\n",
       "ddeevveellooppmmeenntt<span style='color:red'>,,</span> tthheenn iinncceennttiivve<span style='color:red'>e</span> aaddddiittiioonnaall FFSSII<span style='color:red'> a</span>ass ssttaatteedd iinn SSrr.. NNoo.. 11 sshhaallll\n",
       "Health & Social Amenities) and area<span style='color:red'> for</span> other development i.<span style='color:red'>e</span>. owners share<span style='color:red'>\n",
       "a</span>allssoo<span style='color:red'> </span>bbe<span style='color:red'>e </span>ggiivveenn oonn ssuucchh<span style='color:red'> a</span>arre<span style='color:red'>e</span>aa && ssuucchh<span style='color:red'> a</span>arre<span style='color:red'>e</span>aass mmaayy<span style='color:red'> </span>bbe<span style='color:red'>e a</span>avvaaiilleedd ffrreeee ooff FFSSII<span style='color:red'> </span>bbyy\n",
       "of<span style='color:red'> land</span>. If OA/POS/AH to be handed over to MCGM<span style='color:red'> is</span> not abutting the\n",
       "cchhaarrggiinngg pprre<span style='color:red'>em</span>miiuumm<span style='color:red'> a</span>ass<span style='color:red'> </span>ppeerr tthheesse<span style='color:red'>e</span> RReegguullaattiioonnss..\n",
       "municipal road<span style='color:red'>,</span> the same shall be provided with uninterrupted access as per\n",
       "table no 7 of Regulation No 23(1). The area of the<span style='color:red'> land</span> after<span style='color:red'> de</span>duction of the\n",
       "33)) TThhiiss RReegguullaattiioonn sshhaallll<span style='color:red'> </span>bbe<span style='color:red'>e a</span>apppplliiccaabblle<span style='color:red'>e</span> oonnllyy wwhheenn eexxiissttiinngg<span style='color:red'> </span>mme<span style='color:red'>em</span>mbbeerrss ooff tthhee area covered under road/uninterrupted access proposed as above<span style='color:red'>,</span> shall be\n",
       "ssoocciieettiieess<span style='color:red'> a</span>arre<span style='color:red'>e</span> pprrooppoosseedd ttoo<span style='color:red'> </span>bbe<span style='color:red'>e</span> rre<span style='color:red'>e</span>--aaccccoommmmooddaatteedd..<span style='color:red'> </span>apportioned among Owner’s Share<span style='color:red'>,</span> AH<span style='color:red'>,</span> POS<span style='color:red'>,</span> and OA as detailed below.\n",
       "44)) TThhiiss rreegguullaattiioonn wwiillll<span style='color:red'> </span>bbe<span style='color:red'>e a</span>apppplliiccaabblle<span style='color:red'>e</span> ffoorr rreeddeevveellooppmmeenntt ooff eexxiissttiinngg These roads/uninterrupted access shall be handed over to MCGM and will be<span style='color:red'>\n",
       "a</span>auutthhoorriizzeedd bbuuiillddiinnggss wwhhiicchh<span style='color:red'> a</span>arre<span style='color:red'>e</span> ooff tthhiirrttyy yye<span style='color:red'>e</span>aarrss ooff<span style='color:red'> a</span>agge<span style='color:red'>e</span> oorr mmoorre<span style='color:red'>e</span>.. eligible<span style='color:red'> for</span> additional BUA equal to area of<span style='color:red'> land</span> surrendered/transferred over\n",
       "55)) TThhiiss rreegguullaattiioonn sshhaallll nnoott<span style='color:red'> </span>bbe<span style='color:red'>e a</span>apppplliiccaabblle<span style='color:red'>e</span> iinn rreessppe<span style='color:red'>e</span>cctt ooff rreeddeevveellooppmmeenntt\n",
       "and above FSI as stipulated below in Sr. No. D.\n",
       "pprrooppoossaall ttoo<span style='color:red'> </span>bbe<span style='color:red'>e</span>//bbeeiinngg pprroocceesssseedd uunnddeerr RReegguullaattiioonn NNoo.. 3333((55)),<span style='color:red'>,</span> 3333((77)),<span style='color:red'>,</span>\n",
       "Sr. Plot Affordable Public Other Area<span style='color:red'> for</span>\n",
       "3333((88)),<span style='color:red'>,</span> 3333((99)),<span style='color:red'>,</span> 3333((99))((AA)),<span style='color:red'>,</span> 3333((99))((BB)),<span style='color:red'>,</span> 3333((1100)),<span style='color:red'>,</span> 3333((1100)) ((AA)),<span style='color:red'>,</span> 3333((2200)) ((AA)),<span style='color:red'>,</span> 3333((2211))..\n",
       "No Area Housing Open Amenities Other\n",
       "EExxppllaannaattiioonn:: --AAgge<span style='color:red'>e</span> ooff<span style='color:red'> a</span>a bbuuiillddiinngg sshhaallll<span style='color:red'> </span>bbe<span style='color:red'>e a</span>ass oonn tthhee 11sstt ooff JJaannuuaarryy ooff tthhee<span style='color:red'> </span>. Spaces Development\n",
       "yye<span style='color:red'>e</span>aarr iinn wwhhiicchh<span style='color:red'> a</span>a<span style='color:red'> </span>ccoommpplleette<span style='color:red'>e</span> rreeddeevveellooppmmeenntt pprrooppoossaall iiss ssuubbmmiitttteedd ttoo tthhee 1 Not less 30% 15 % 14% 41%\n",
       "CCoommmmiissssiioonneerr aanndd sshhaallll<span style='color:red'> </span>bbe<span style='color:red'>e</span> ccaallccuullaatteedd ffrroomm tthhee ddaatte<span style='color:red'>e</span> ooff<span style='color:red'> </span>OOccccuuppaattiioonn than 2 ha\n",
       "CCeerrttiiffiiccaatte<span style='color:red'>e</span> oorr<span style='color:red'> a</span>alltteerrnnaatteellyy<span style='color:red'>,,</span> ffrroomm tthhee<span style='color:red'> </span>ffiirrsstt ddaatte<span style='color:red'>e</span> ooff<span style='color:red'> a</span>asssse<span style='color:red'>e</span>ssssmmeenntt<span style='color:red'> a</span>ass<span style='color:red'> </span>ppeerr tthhee & up to 4\n",
       "ha\n",
       "pprrooppeerrttyy<span style='color:red'> </span>ttaaxx rre<span style='color:red'>e</span>ccoorrdd iinn rreessppe<span style='color:red'>e</span>cctt ooff ssuucchh bbuuiillddiinngg oorr bbuuiillddiinngg oonn wwhhiicchh\n",
       "2 More 30% 15 % 12% 43%<span style='color:red'>\n",
       "</span>bbaallaanncce<span style='color:red'>e</span>//aaddmmiissssiibblle<span style='color:red'>e</span> FFSSII hhaass<span style='color:red'> </span>bbe<span style='color:red'>e</span>eenn<span style='color:red'> </span>ccoonnssuummeedd<span style='color:red'> </span>bbyy wwaayy ooff vveerrttiiccaall\n",
       "than 4 ha\n",
       "eexxtteennssiioonn<span style='color:red'> a</span>ass<span style='color:red'> </span>ppeerr tthheenn pprreevvaaiilliinngg RReegguullaattiioonn<span style='color:red'>,, a</span>avvaaiillaabblle<span style='color:red'>e</span> wwiitthh tthhee MMCCGGMM..<span style='color:red'>\n",
       "</span>66)) TThhiiss iinncceennttiivve<span style='color:red'>e</span> aaddddiittiioonnaall BBUUAA sshhaallll<span style='color:red'> </span>bbe<span style='color:red'>e</span> iinndde<span style='color:red'>e</span>ppeennddeenntt ooff aaddddiittiioonnaall BBUUAA<span style='color:red'>\n",
       "a</span>ass<span style='color:red'> </span>ppeerrmmiissssiibblle<span style='color:red'>e</span> uunnddeerr RReegguullaattiioonn NNoo.. 1144((AA)),<span style='color:red'>,</span> 1155<span style='color:red'>,,</span> 1166 aanndd 1177<span style='color:red'>,,</span> iiff aannyy.. The Owner shall submit his proposal as per above to the Commissioner\n",
       "77)) FFuunnggiibblle<span style='color:red'>e </span>ccoommppeennssaattoorryy<span style='color:red'> a</span>arre<span style='color:red'>e</span>aa aaddmmiissssiibblle<span style='color:red'>e</span> uunnddeerr RReegguullaattiioonn NNoo.. 3311((33)) oonn MCGM. While making such submission<span style='color:red'>,</span> he will take care of the following:\n",
       "tthhee eexxiissttiinngg<span style='color:red'> a</span>auutthhoorriisseedd BBUUAA sshhaallll<span style='color:red'> </span>bbe<span style='color:red'>e</span> wwiitthhoouutt cchhaarrggiinngg pprre<span style='color:red'>em</span>miiuumm aanndd\n",
       "(a) He shall distinctly mark lands<span style='color:red'> for</span> AH<span style='color:red'>,</span> POS<span style='color:red'>,</span> OA and Owner’s share in the layout.\n",
       "oovveerr tthhee iinncceennttiivve<span style='color:red'>e</span> aaddddiittiioonnaall BBUUAA<span style='color:red'> </span>bbyy cchhaarrggiinngg ooff pprre<span style='color:red'>em</span>miiuumm..\n",
       "Further earmarking of lands<span style='color:red'> for</span> other amenities like education<span style='color:red'>,</span> health and social<span style='color:red'>\n",
       "</span>88)) IIff tteennaanntteedd bbuuiillddiinngg//ss aanndd bbuuiillddiinngg//ss ooff<span style='color:red'> </span>ccoo--ooppeerraattiivve<span style='color:red'>e</span> hhoouussiinngg\n",
       "amenities cited above shall be done by the Commissioner taking the amenity\n",
       "ssoocciieettyy//nnoonn-- tteennaanntteedd bbuuiillddiinngg//ss<span style='color:red'> </span>ccoo--<span style='color:red'>e</span>exxiisstt oonn tthhee pplloott uunnddeerr\n",
       "standards prescribed as minimum.\n",
       "ddeevveellooppmmeenntt<span style='color:red'>,,</span> tthheenn pprrooppoorrttiioonnaatte<span style='color:red'>e </span>llaanndd<span style='color:red'> </span>ccoommppoonneenntt<span style='color:red'> a</span>ass<span style='color:red'> </span>ppeerr tthhee eexxiissttiinngg\n",
       "(b) Advance possession of all lands other than the Owner’s Share as detailed in<span style='color:red'>\n",
       "a</span>auutthhoorriisseedd BBUUAA ooff eexxiissttiinngg tteennaanntteedd bbuuiillddiinngg oonn tthhee pplloott sshhaallll<span style='color:red'> </span>bbe<span style='color:red'>e</span>\n",
       "the table above shall be handed over to MCGM at the time of approval of\n",
       "118800 DCPR 2034 181 DCPR 2034<span style='color:red'>\n",
       "</span>"
      ],
      "text/plain": [
       "<IPython.core.display.Markdown object>"
      ]
     },
     "metadata": {},
     "output_type": "display_data"
    }
   ],
   "source": [
    "# Sparse search results\n",
    "display(Markdown(\"\\n**Sparse Search Results:**\"))\n",
    "formatted_results = doc_text_formatting(ef, query, sparse_results)\n",
    "for result in formatted_results:\n",
    "    display(Markdown(result))"
   ]
  },
  {
   "cell_type": "code",
   "execution_count": 69,
   "metadata": {},
   "outputs": [
    {
     "data": {
      "text/markdown": [
       "\n",
       "**Hybrid Search Results:**"
      ],
      "text/plain": [
       "<IPython.core.display.Markdown object>"
      ]
     },
     "metadata": {},
     "output_type": "display_data"
    },
    {
     "data": {
      "text/markdown": [
       "Original Notifications shall\n",
       "be referred<span style='color:red'> for</span> perspicuity\n",
       "vest<span style='color:red'>,</span> by provision in<span style='color:red'> a de</span>ed of<span style='color:red'> conveyance,</span> in all the owners on\n",
       "account of whose cumulative holdings the LOS<span style='color:red'> is</span> required to be\n",
       "kept as LOS in the layout or sub-division/amalgamation/plot of the<span style='color:red'>\n",
       "land</span>.\n",
       "(b) The proposal<span style='color:red'> for</span> construction of such structure should come as<span style='color:red'> a</span>\n",
       "proposal from the owner/owners/society/soci<span style='color:red'>e</span>ties or federation of\n",
       "societies shall be meant<span style='color:red'> for</span> the beneficial use of the owner/owners/\n",
       "members of such<span style='color:red'> society</span>/soci<span style='color:red'>e</span>ties/federation of societies.\n",
       "(c) Such structures shall not be used<span style='color:red'> for</span> any other purpose<span style='color:red'>,</span> except<span style='color:red'> for</span>\n",
       "recreational activities.\n",
       "(d) The remaining area of the LOS shall be kept open to sky and\n",
       "accessible to all members as<span style='color:red'> a</span> place of recreation.\n",
       "(<span style='color:red'>e</span>) The owner/owners/or<span style='color:red'> society</span> or societies or federation of the\n",
       "societies shall submit to the Commissioner<span style='color:red'> a</span> registered undertaking\n",
       "agreeing to the conditions in (a) to (d) above.\n",
       "(f) LOS in<span style='color:red'> a</span> private layout shall be<span style='color:red'> for</span> the exclusive use of the residents\n",
       "of such private layout only and shall not be subjected to<span style='color:red'> </span>acquisition by\n",
       "MCGM/Appropriate Authority. Further in such cases area of\n",
       "existing Recreational Open Space shall have to be maintained by\n",
       "residents of such private layout.\n",
       "(h) Structures/Uses permitted in layout open spaces:\n",
       "“Construction of Solid Waste Management System as per the\n",
       "National Building Code of India<span style='color:red'>,</span> Part 9 Plumbing Services<span style='color:red'>,</span> Section 1-\n",
       "Water Supply<span style='color:red'>,</span> Drainage & Sanitation (including Solid Waste\n",
       "Management) paragraph 6 /bio-degradable waste treatment plant<span style='color:red'>,</span>\n",
       "in the layout LOS<span style='color:red'>,</span> having area 2000 Sq.mt. & above within 10% of the\n",
       "LOS area.”\n",
       "(2) LOS in industrial plots/layout of industrial plots in any industrial plot\n",
       "admeasuring 1000 sq. m or more in area<span style='color:red'>,</span> 15 per cent of the total area\n",
       "shall be provided as LOS subject to:\n",
       "(i.) Such LOS shall have proper means of access and shall be so located\n",
       "that it<span style='color:red'> can</span> be conveniently utilized by the persons working in the\n",
       "industry;\n",
       "(ii.) Such LOS shall be kept permanently open to sky and accessible to\n",
       "all the owners and occupants and trees shall be grown therein at\n",
       "the rate of 5 trees<span style='color:red'> for</span> every 100 sq. m of the said open space or\n",
       "114 DCPR 2034<span style='color:red'>\n",
       "</span>"
      ],
      "text/plain": [
       "<IPython.core.display.Markdown object>"
      ]
     },
     "metadata": {},
     "output_type": "display_data"
    },
    {
     "data": {
      "text/markdown": [
       "Original Notifications shall\n",
       "be referred<span style='color:red'> for</span> perspicuity\n",
       "3.11 Notwithstanding anything contained in this regulation<span style='color:red'>,</span>\n",
       "rehabilitation project of<span style='color:red'> a</span> slum located on<span style='color:red'> land</span> belonging to\n",
       "public authority and needed<span style='color:red'> for a</span> vital public purpose and\n",
       "where eligible slum dwellers which cannot be accommodated\n",
       "in the in-situ SRS of<span style='color:red'> land</span> under non-buildable reservations<span style='color:red'>, is</span>\n",
       "taken up on an unencumbered plot<span style='color:red'>,</span> TDR as per regulation 32\n",
       "table 12(A)<span style='color:red'> for</span> the area of the<span style='color:red'> land</span> spared<span style='color:red'> for</span> this purpose shall\n",
       "be sanctioned to the owner of the said unencumbered plot and\n",
       "the TDR in lieu of cost of construction of BUA as per sub-\n",
       "regulation 4.2 of regulation 32(A) shall be permissible.. For the\n",
       "purpose of this Regulation<span style='color:red'>,</span> the BUA shall be as per claus<span style='color:red'>e</span> 3.2 of\n",
       "this Regulation. No sale component shall be permissible.\n",
       "Provided that the State Govt. or Public authority or<span style='color:red'> a</span> Govt.\n",
       "Company as defined in Sec. 617 of the Companies Act 1956 and<span style='color:red'>\n",
       "</span>owned and controlled by the State Govt. (herein after referred\n",
       "as the Agency) may undertake Slum Rehabilitation Project on its\n",
       "own<span style='color:red'> land</span> and be eligible<span style='color:red'> for</span> the benefits under this Regulation\n",
       "subject to following conditions:\n",
       "1) The Rehabilitation Project<span style='color:red'> is</span> approved by the SRA.\n",
       "2) The tenements so constructed in execution of the Project are offered\n",
       "to slum dwellers located on<span style='color:red'> land</span> belonging to Govt. or Public Authority\n",
       "and needed<span style='color:red'> for</span> vital public purpose and within 270 days from the date\n",
       "of issue of LOI the Agency shall identify the slum dwellers.\n",
       "3) If the Agency fails to identify the slum dwellers needed to be shifted<span style='color:red'>\n",
       "for a</span> vital public purpose<span style='color:red'>,</span> as above<span style='color:red'>,</span> then the tenements so constructed\n",
       "shall be offered.<span style='color:red'>\n",
       "a</span>) to the slum dwellers located on<span style='color:red'> land</span> belonging to Government or Public\n",
       "Authority within<span style='color:red'> a</span> distance of 2 km. from the<span style='color:red'> land</span> on which the Project<span style='color:red'>\n",
       "is</span> undertaken<span style='color:red'>,</span> or\n",
       "b) to the slum dwellers located anywhere in Greater Mumbai on lands\n",
       "belonging to Govt. or Public Authority<span style='color:red'>,</span> or\n",
       "4) Further provided that in all above cases the relocation of slum dwellers\n",
       "in any case will be undertaken not with reference to individuals but\n",
       "reference to<span style='color:red'> a</span>ssembly of slum dwellers<span style='color:red'> for</span> the purpose of releasing\n",
       "the plot of<span style='color:red'> land</span> wholly from slums and not only the patches of<span style='color:red'> land</span>.\n",
       "Provided that notwithstanding anything mentioned above<span style='color:red'>,</span> project\n",
       "affected persons due to any vital Public Projects undertaken by\n",
       "MMRDA including PAP’s under Mumbai Urban Transport Project\n",
       "(MUTP) being resettled as per the provisions contained in Government\n",
       "Resolution<span style='color:red'>,</span> Housing and Special Assist<span style='color:red'>ance</span> Department<span style='color:red'>,</span> by order no.\n",
       "700/CR 31/slum-2 dated 12/12/2000 and certified by the Project\n",
       "Director<span style='color:red'>,</span> MUTP will also be eligible<span style='color:red'> for</span> redevelopment scheme under\n",
       "this Regulation<span style='color:red'>,</span> as amended from time to time.\n",
       "228 DCPR 2034<span style='color:red'>\n",
       "</span>"
      ],
      "text/plain": [
       "<IPython.core.display.Markdown object>"
      ]
     },
     "metadata": {},
     "output_type": "display_data"
    },
    {
     "data": {
      "text/markdown": [
       "Original Notifications shall Original Notifications shall\n",
       "be referred<span style='color:red'> for</span> perspicuity be referred<span style='color:red'> for</span> perspicuity\n",
       "iinn tthhee<span style='color:red'> </span>ssaamme<span style='color:red'>e</span> sseeccttoorr oorr ootthheerr sseeccttoorrss wwiitthhiinn tthhee jjuurriissddiiccttiioonn ooff DDRRPP..\n",
       "1.11 ‘Premium<span style='color:red'> for</span> ownership and terms of lease-. That part of\n",
       "11..44 PPaavveemmeenntt ddwweelllleerrss aanndd hhuuttmmeenntt ddwweelllleerrss iinn tthhee sslluumm oonn tthhee<span style='color:red'> </span>llaanndd Government/MCGM/MHADA<span style='color:red'> land</span> on which the rehabilitation\n",
       "rre<span style='color:red'>e</span>qquuiirreedd ffoorr vviittaall uurrggeenntt<span style='color:red'> </span>ppuubblliicc uuttiilliittyy//ppuurrppoossee oorr oonn tthhee hhaazzaarrddoouuss component of the SRS will be constructed shall be leased to the Co-\n",
       "operativ<span style='color:red'>e</span> Housing Society of the slum-dwellers<span style='color:red'> for</span> 30 years. Annual\n",
       "llooccaattiioonn oorr<span style='color:red'> a</span>affffe<span style='color:red'>e</span>cctteedd<span style='color:red'> </span>bbyy<span style='color:red'> </span>DDPP pprrooppoossaallss sshhaallll nnoott<span style='color:red'> </span>bbe<span style='color:red'>e</span> rreehhaabbiilliittaatteedd iinn--ssiittuu\n",
       "bbuutt iinn ootthheerr<span style='color:red'> a</span>avvaaiillaabblle<span style='color:red'>e</span> pplloottss wwiitthhiinn jjuurriissddiiccttiioonn ooff DDRRPP.. lease rent of Rs. 1001<span style='color:red'> for</span> 4000 per sq. m. of<span style='color:red'> land</span> or part thereof and\n",
       "lease shall be renewable<span style='color:red'> for a</span> further period of 30 years at<span style='color:red'> a</span> time.\n",
       "11..55 AA<span style='color:red'> </span>cceerrttiiffiieedd eexxttrraacctt ooff tthhee rreelleevvaanntt eelle<span style='color:red'>e</span>ccttoorraall<span style='color:red'> </span>rroollll sshhaallll<span style='color:red'> </span>bbe<span style='color:red'>e </span>ccoonnssiiddeerreedd Simultaneously<span style='color:red'>, land</span> under free sale component shall be leased\n",
       "aadde<span style='color:red'>e</span>qquuaatte<span style='color:red'>e</span> eevviiddeenncce<span style='color:red'>e</span> ttoo eessttaabblliisshh tthhee eelliiggiibbiilliittyy ooff<span style='color:red'> a</span>a<span style='color:red'> </span>ppeerrssoonn pprroovviiddeedd hhee directly to the Society/Association of the purchasers of the tenement\n",
       "iiss<span style='color:red'> </span>ffoouunndd rreessiiddiinngg iinn tthhee ssttrruuccttuurre<span style='color:red'>e</span>.. TThhiiss iiss ttoo<span style='color:red'> a</span>avvooiidd tthhee<span style='color:red'> </span>ppoossssiibbiilliittyy ooff under free sale component. Pending the formation of the<span style='color:red'>\n",
       "</span>ppeerrssoonnss wwhhoo hhaavve<span style='color:red'>e</span> lleefftt tthhee ssttrruuccttuurre<span style='color:red'>e </span>ccoommiinngg<span style='color:red'> </span>bbaacckk ttoo<span style='color:red'> </span>ccllaaiimm ffrreeee Society/Association of the purchasers in the free sale component with<span style='color:red'>\n",
       "</span>tteenneemmeenntt uunnddeerr tthhee sscchheemme<span style='color:red'>e</span> eevveenn tthhoouugghh tthheeyy hhaavve<span style='color:red'>e</span> iinn tthhee nnoorrmmaall<span style='color:red'> a</span> provision<span style='color:red'> for</span> further renewal<span style='color:red'> for a</span> period of 30 years at<span style='color:red'> a</span> time. The<span style='color:red'>\n",
       "</span>ccoouurrssee lleefftt tthhee sslluumm aanndd ggoonne<span style='color:red'>e a</span>awwaayy iinnttoo<span style='color:red'> a</span>a pprrooppeerr nnoonn--sslluumm<span style='color:red'> a</span>arre<span style='color:red'>e</span>aa oorr oouutt lease rent<span style='color:red'> for</span> the free sale component shall be fixed by SRA.\n",
       "ooff DDRRPP AArre<span style='color:red'>e</span>aa.. IIff tthhee hhuuttmmeenntt ddwweelllleerrss<span style='color:red'> a</span>arre<span style='color:red'>e </span>ffoouunndd rreessiiddeenntt iinn tthhee\n",
       "ssttrruuccttuurre<span style='color:red'>e,,</span> bbuutt tthhee<span style='color:red'> </span>nnaammeess<span style='color:red'> a</span>arre<span style='color:red'>e</span> oonn tthhee eelle<span style='color:red'>e</span>ccttoorraall<span style='color:red'> </span>rroollll oonn oorr pprriioorr ttoo 11sstt JJaann In addition to above<span style='color:red'>,</span> the Developer/Co-op. Housing Society shall pay\n",
       "22000000<span style='color:red'>,, a</span>att aannootthheerr sslluumm//ppaavveemmeenntt ssiitte<span style='color:red'>e</span> iinn BBrriihhaann MMuummbbaaii<span style='color:red'>,,</span> tthheeyy sshhaallll<span style='color:red'> </span>bbe<span style='color:red'>e</span> premium at the rate of 25% of ASR in respect of SRS proposed to be<span style='color:red'>\n",
       "</span>ccoonnssiiddeerreedd eelliiggiibblle<span style='color:red'>e</span> bbuutt oonnllyy<span style='color:red'> a</span>att tthhee ppllaacce<span style='color:red'>e</span> ooff pprreesseenntt rreessiiddeenncce<span style='color:red'>e</span>.. IInn ccaasse<span style='color:red'>e</span> undertaken on lands<span style='color:red'> </span>owned by Government<span style='color:red'>,</span> Semi-Government\n",
       "ooff ddoouubbtt oorr ddiissppuutte<span style='color:red'>e,,</span> tthhee dde<span style='color:red'>e</span>cciissiioonn ooff tthhee CCoommppeetteenntt AAuutthhoorriittyy ttoo<span style='color:red'> </span>bbe<span style='color:red'>e</span> undertakings and Local Bodies and premium shall go to<span style='color:red'> land</span> owing<span style='color:red'>\n",
       "a</span>appppooiinntteedd<span style='color:red'> </span>bbyy tthhee GGoovvtt.. iinn HHoouussiinngg DDeeppaarrttmmeenntt sshhaallll<span style='color:red'> </span>bbe<span style='color:red'>e </span>ffiinnaall aanndd authority such as MHADA<span style='color:red'>,</span> MCGM<span style='color:red'>,</span> MMRDA as the case may be. The<span style='color:red'>\n",
       "</span>bbiinnddiinngg oonn<span style='color:red'> a</span>allll tthhee ppaarrttiieess<span style='color:red'> </span>ccoonncceerrnneedd.. premium installment so recovered shall be remitted to concerned<span style='color:red'> land</span>\n",
       "owing authority within 30 days from the date of recovery.\n",
       "11..66 AAnn iinnddiivviidduuaall<span style='color:red'> a</span>aggrreeeemmeenntt sshhaallll<span style='color:red'> </span>bbe<span style='color:red'>e</span> eenntteerreedd iinnttoo<span style='color:red'> </span>bbyy tthhee ddeevveellooppeerr ssoo<span style='color:red'>\n",
       "a</span>appppooiinntteedd uunnddeerr DDRRPP<span style='color:red'> </span>bbyy DDRRPP ((SSRRAA)) wwiitthh tthhee eelliiggiibblle<span style='color:red'>e</span> hhuuttmmeenntt ddwweelllleerrss\n",
       "In the case of Govt.<span style='color:red'> land,</span> the premium shall be deposited in Nivara\n",
       "ooff eeaacchh ssttrruuccttuurre<span style='color:red'>e</span> iinn tthhee sslluumm//ppaavveemmeenntt.. Nidhi.\n",
       "The amount of premium shall be recovered in installment as may be\n",
       "11..77 TThhee iinnddiivviidduuaall<span style='color:red'> a</span>aggrreeeemmeenntt eenntteerreedd iinnttoo<span style='color:red'> </span>bbeettwweeeenn hhuuttmmeenntt ddwweelllleerrss aanndd\n",
       "prescribed by Govt. from time to time. Land owning authority such as\n",
       "tthhee<span style='color:red'> </span>llaanndd--oowwnniinngg<span style='color:red'> a</span>auutthhoorriittyy//SSRRAA//ddeevveellooppeerr sshhaallll<span style='color:red'> </span>bbe<span style='color:red'>e</span> iinn tthhee jjooiinntt<span style='color:red'> </span>nnaammeess\n",
       "MCGM<span style='color:red'>,</span> MMRDA<span style='color:red'>,</span> MHADA shall not recover<span style='color:red'> land</span> premium in any other\n",
       "ooff pprraammuukkhh hhuuttmmeenntt ddwweelllleerr aanndd ssppoouusse<span style='color:red'>e</span> ffoorr eevveerryy ssttrruuccttuurre<span style='color:red'>e</span>..\n",
       "form. Proposals<span style='color:red'> for</span> SRS on<span style='color:red'> land </span>owned by Central Govt. shall be\n",
       "accepted only after NOC<span style='color:red'> for</span> the scheme<span style='color:red'> is</span> obtained from the\n",
       "11..88 HHuuttmmeennttss hhaavviinngg<span style='color:red'> a</span>a pphhyyssiiccaallllyy hhaannddiiccaappppeedd<span style='color:red'> </span>ppeerrssoonn oorr<span style='color:red'> </span>ffe<span style='color:red'>em</span>maallee--hheeaaddeedd\n",
       "concerned Central Govt. Department.\n",
       "hhoouusseehhoollddss sshhaallll<span style='color:red'> </span>bbe<span style='color:red'>e </span>ggiivveenn<span style='color:red'> </span>ffiirrsstt pprreeffeerreenncce<span style='color:red'>e</span> iinn<span style='color:red'> a</span>alllloottmmeenntt ooff<span style='color:red'> </span>tteenneemmeennttss\n",
       "ttoo tthhee ootthheerr hhuuttmmeenntt--ddwweelllleerrss.. TThheerre<span style='color:red'>e</span>aafftteerr lloottss sshhaallll<span style='color:red'> </span>bbe<span style='color:red'>e </span>ddrraawwnn ffoorr 1.12 Automatic cancellation of Vacant Land Tenure – If any<span style='color:red'> land</span> or part of<span style='color:red'>\n",
       "a</span>alllloottmmeenntt ooff<span style='color:red'> </span>tteenneemmeennttss ffrroomm tthhee rre<span style='color:red'>em</span>maaiinniinngg<span style='color:red'> </span>tteenneemmeennttss ttoo tthhee ootthheerr any<span style='color:red'> land</span> on which slum<span style='color:red'> is</span> located<span style='color:red'> is</span> under vacant<span style='color:red'> land</span> tenure the said\n",
       "tenure/lease created by MCGM or Municipal Commissioner shall stand\n",
       "hhuuttmmeenntt--ddwweelllleerrss..\n",
       "automatically terminated as soon as DRP<span style='color:red'>,</span> which<span style='color:red'> is a</span> public purpose<span style='color:red'>,</span>\n",
       "on such<span style='color:red'> land is</span> prepared and submitted<span style='color:red'> for</span> approval to the DRP cell of\n",
       "11..99 TTrraannssffeerr ooff PPhhoottoo<span style='color:red'> </span>ppaasssseess –– SSiinncce<span style='color:red'>e</span> oonnllyy tthhee<span style='color:red'> a</span>accttuuaall ooccccuuppaanntt<span style='color:red'> a</span>att pprreesseenntt\n",
       "SRA. Any arrears of dues to be collected by MCGM shall not be linked\n",
       "wwiillll<span style='color:red'> </span>bbe<span style='color:red'>e</span> eelliiggiibblle<span style='color:red'>e</span> ffoorr rreeddeevveellooppmmeenntt<span style='color:red'>,,</span> tthheerre<span style='color:red'>e</span> sshhaallll<span style='color:red'> </span>bbe<span style='color:red'>e</span> nnoo<span style='color:red'> </span>nneeeedd ttoo rreegguullaarriizze<span style='color:red'>e</span>\n",
       "to the issue of any certificate or NOC relating to the DRP.\n",
       "tthhee<span style='color:red'> </span>ttrraannssffeerrss ooff pphhoottoo<span style='color:red'> </span>ppaasssseess tthhaatt hhaavve<span style='color:red'>e</span> ooccccuurrrreedd ssoo<span style='color:red'> </span>ffaarr..\n",
       "1.13 Recovery of<span style='color:red'> </span>pending dues such as assessment<span style='color:red'>,</span> compensation<span style='color:red'>,</span>\n",
       "11..1100 AAnnyy<span style='color:red'> </span>ppeerrssoonn wwhhoossee<span style='color:red'> </span>nnaamme<span style='color:red'>e</span> iiss eennrroolllleedd iinn<span style='color:red'> a</span>a nnoonn--sslluumm<span style='color:red'> a</span>arre<span style='color:red'>e</span>aa iinn BBrriihhaann\n",
       "occupational charges<span style='color:red'>,</span> non-agricultural tax/dues etc.<span style='color:red'> </span>pending with\n",
       "MMuummbbaaii bbuutt hhaass<span style='color:red'> </span>ppuurrcchhaasseedd<span style='color:red'> a</span>a hhuuttmmeenntt iinn DDRRPP<span style='color:red'> a</span>arre<span style='color:red'>e</span>aa aanndd tthheerreeffoorre<span style='color:red'>e</span> ggoott\n",
       "public authorities such as State Govt.<span style='color:red'>,</span> MHADA<span style='color:red'>,</span> and/or MCGM shall be\n",
       "hhiiss<span style='color:red'> </span>nnaamme<span style='color:red'>e a</span>allssoo iinncclluuddeedd iinn eelle<span style='color:red'>e</span>ccttoorraall<span style='color:red'> </span>rroollll ffoorr tthhee sslluumm<span style='color:red'> a</span>arre<span style='color:red'>e</span>aa<span style='color:red'>,,</span> ii..ee.. hhee hhaass hhiiss<span style='color:red'>\n",
       "de</span>alt with separately and not be linked to grant of approval or building<span style='color:red'>\n",
       "</span>nnaamme<span style='color:red'>e</span> iinn tthhee eelle<span style='color:red'>e</span>ccttoorraall<span style='color:red'> </span>rroollll<span style='color:red'> a</span>att ttwwoo ppllaacceess<span style='color:red'>,,</span> hhee sshhaallll nnoott<span style='color:red'> </span>bbe<span style='color:red'>e</span> eelliiggiibblle<span style='color:red'>e</span> ffoorr tthhee\n",
       "permission to the DRP.\n",
       "sscchheemme<span style='color:red'>e</span>..\n",
       "224444 DCPR 2034 245 DCPR 2034<span style='color:red'>\n",
       "</span>"
      ],
      "text/plain": [
       "<IPython.core.display.Markdown object>"
      ]
     },
     "metadata": {},
     "output_type": "display_data"
    },
    {
     "data": {
      "text/markdown": [
       "Original Notifications shall\n",
       "be referred<span style='color:red'> for</span> perspicuity\n",
       "Provided that when the development<span style='color:red'> is</span> composit<span style='color:red'>e</span> and where it<span style='color:red'> is</span> not\n",
       "possible to hand over part of<span style='color:red'> land</span> to MCGM in such cases entire\n",
       "area shall be<span style='color:red'> deem</span>ed to be marked as existing amenity with the +\n",
       "sign indicating other uses on the said plot.\n",
       "20) General conditions to allow development under above regulations:\n",
       "i) If the area of reservation<span style='color:red'> is</span> not adequat<span style='color:red'>e</span> to construct independent\n",
       "building as mentioned above OR When it<span style='color:red'> is</span> not possible to handover\n",
       "individual plot along with public amenity<span style='color:red'>,</span> then in such cases Municipal\n",
       "Commissioner may allow composit<span style='color:red'>e</span> building on said<span style='color:red'> land</span> subject to\n",
       "condition that the built-up area mentioned as above may be allowed\n",
       "to be handed over to the Planning Authority or Appropriate Authority<span style='color:red'>,</span>\n",
       "as the case may be<span style='color:red'>,</span> preferably on ground floor and subject to premium\n",
       "at the rate of 35% and 40% of ASR of the develop<span style='color:red'> land for</span> the zonal\n",
       "(basic) FSI (In case of suburbs where FSI<span style='color:red'> is</span> 1 it shall be as per ASR of the\n",
       "developed<span style='color:red'> land</span> and in case of City it shall be 1.33 times of ASR of the\n",
       "developed<span style='color:red'> land</span>)<span style='color:red'> for</span> AH/R&R and<span style='color:red'> for</span> other reservations respectively or\n",
       "as may be decided by Government from time to time. If ground floor<span style='color:red'>\n",
       "is</span> utilised<span style='color:red'> for</span> parking<span style='color:red'>,</span> then the built-up area mentioned above may be\n",
       "handed over on stilt/first floor with separate entry & exit from public\n",
       "street. In such cases<span style='color:red'>,</span> built- up area along with proportionate undivided\n",
       "share of<span style='color:red'> land</span> shall be handed over to the Planning Authority or\n",
       "Appropriate Authority<span style='color:red'>,</span> as the case may be. In such cases no\n",
       "compensation of proportionate undivided<span style='color:red'> land</span> share shall be\n",
       "permissible to the<span style='color:red'> land</span> owner / developer.\n",
       "ii) It shall be obligatory on Municipal Commissioner to make registered\n",
       "agreement with the developer /owner at the time of granting the\n",
       "development permission subject to terms and conditions as it<span style='color:red'> deem</span>\n",
       "fit. Occupancy Certificate shall be issued only after compliance of all\n",
       "terms & conditions and getting possession of the constructed\n",
       "amenity.\n",
       "iii) The above permissions<span style='color:red'> for</span> development of reservations shall be\n",
       "granted by the Municipal Commissioner as per the norms mentioned\n",
       "in these regulations.\n",
       "iv) The area / built-up area to be handed over to the Planning Authority\n",
       "under these Regulations shall be earmarked on the sanctioned\n",
       "building plan clearly mentioning the same<span style='color:red'>,</span> and registered agreement\n",
       "to that effect shall be executed. After completion of construction<span style='color:red'>,</span> the\n",
       "said amenity shall be handed over by executing the<span style='color:red'> de</span>ed of transfer\n",
       "88 DCPR 2034<span style='color:red'>\n",
       "</span>"
      ],
      "text/plain": [
       "<IPython.core.display.Markdown object>"
      ]
     },
     "metadata": {},
     "output_type": "display_data"
    },
    {
     "data": {
      "text/markdown": [
       "Original Notifications shall Original Notifications shall\n",
       "be referred<span style='color:red'> for</span> perspicuity be referred<span style='color:red'> for</span> perspicuity\n",
       "((99)) IInn ccaasse<span style='color:red'>e</span> ooff<span style='color:red'> </span>ccoonnvveerrssiioonn//rreevviissiioonn ooff LLOOII<span style='color:red'> a</span>ass<span style='color:red'> </span>ppeerr tthhiiss rreegguullaattiioonn aanndd wwhheerre<span style='color:red'>e</span>\n",
       "pplloott iiss rreesseerrvveedd ffoorr ddiiffffeerreenntt//ssaamme<span style='color:red'>e </span>ppuubblliicc<span style='color:red'> </span>ppuurrppoossee ffoorr eeqquuaall oorr mmoorre<span style='color:red'>e\n",
       "a</span>arre<span style='color:red'>e</span>aa ooff rreesseerrvvaattiioonn iinn<span style='color:red'> </span>DDPP 22003344 tthhaann<span style='color:red'> </span>DDPP 11999911<span style='color:red'>,,</span> tthheenn ddeevveellooppmmeenntt sshhaallll of MCGM/Appropriate Authority. Proforma of possession receipt shall<span style='color:red'>\n",
       "</span>bbe<span style='color:red'>e a</span>ass<span style='color:red'> </span>ppeerr tthhiiss rreegguullaattiioonn.. TThhee<span style='color:red'> </span>DDPP RRooaadd sshhaallll<span style='color:red'> </span>bbe<span style='color:red'>e</span> rreecckkoonneedd wwiitthh<span style='color:red'> a</span>ass<span style='color:red'> </span>ppeerr be as per Appendix V.<span style='color:red'>\n",
       "</span>DDPP 22003344..\n",
       "(6) The area of built-up amenity shall be counted in FSI initially and after\n",
       "((bb)) SSlluummss iinn IInndduussttrriiaall ZZoonne<span style='color:red'>e</span> ((II))\n",
       "handing over of said built up amenity the area of built-up amenity shall\n",
       "((11)) SSlluummss iinn IInndduussttrriiaall ZZoonne<span style='color:red'>e</span> ((II)) sshhaallll<span style='color:red'> </span>bbe<span style='color:red'>e a</span>alllloowweedd ttoo<span style='color:red'> </span>bbe<span style='color:red'>e</span> rreeddeevveellooppeedd iinn--ssiittuu be allowed free of FSI. Commencement Certificate in respect of BUA in\n",
       "wwiitthhoouutt ggooiinngg tthhrroouugghh tthhee pprroocce<span style='color:red'>e</span>ssss ooff cchhaannggee ooff<span style='color:red'> </span>zzoonne<span style='color:red'>e</span>.. IInn tthhee ffrreeee--ssaalle<span style='color:red'>e</span> lieu of the built-up amenity handed over to MCGM<span style='color:red'> can</span> be granted only<span style='color:red'>\n",
       "</span>ccoommppoonneenntt iinn aannyy<span style='color:red'> </span>zzoonne<span style='color:red'>e,,</span> iinn aaddddiittiioonn ttoo rreessiiddeennttiiaall uusseess<span style='color:red'>,, a</span>allll tthhee uusseess after handing over of such built up amenity or before availing zonal<span style='color:red'>\n",
       "</span>ppeerrmmiitttteedd ffoorr tthhee oorriiggiinnaall<span style='color:red'> </span>zzoonne<span style='color:red'>e</span> sshhaallll<span style='color:red'> </span>bbe<span style='color:red'>e </span>ppeerrmmiitttteedd.. FFoorr iinndduussttrriiaall uusseess<span style='color:red'>,,</span> (basic) FSI beyond 75% of gross plot area or before seeking Occupation\n",
       "tthhee sseeggrre<span style='color:red'>e</span>ggaattiinngg ddiissttaanncce<span style='color:red'>e</span> sshhaallll<span style='color:red'> </span>bbe<span style='color:red'>e </span>mmaaiinnttaaiinneedd ffrroomm tthhee eexxiissttiinngg Certificate to any part of building/ buildings beyond 75% of admissible\n",
       "iinndduussttrriiaall uunniitt.. BUA<span style='color:red'>,</span> other than the built-up amenity.\n",
       "((22)) AAnnyy pplloott//llaayyoouutt hhaavviinngg<span style='color:red'> a</span>arre<span style='color:red'>e</span>aa eexxcclluuddiinngg<span style='color:red'> a</span>arre<span style='color:red'>e</span>aa uunnddeerr<span style='color:red'> </span>DDPP RRooaadd//\n",
       "pprreessccrriibbeedd<span style='color:red'> </span>RRLL<span style='color:red'> a</span>ass<span style='color:red'> </span>ppeerr MMMMCC AAcctt mmaayy<span style='color:red'> </span>bbe<span style='color:red'>e a</span>alllloowweedd ttoo<span style='color:red'> </span>bbe<span style='color:red'>e</span> ddeevveellooppeedd uunnddeerr\n",
       "(7) The developer shall be entitled to the cost of construction of\n",
       "tthhiiss RReegguullaattiioonn<span style='color:red'> </span>bbyy iinnssiissttiinngg hhaannddiinngg oovveerr ooff 3355%%<span style='color:red'> a</span>ammeenniittyy ooff tthhee\n",
       "development of buildable amenity as per provision of regulation 17(1)\n",
       "rre<span style='color:red'>e</span>qquuiirreedd uunnddeerr RReegguullaattiioonn NNoo.. 1144((BB)) ((cc))..\n",
       "Note (d).\n",
       "((33)) RRe<span style='color:red'>e</span>qquuiirreemmeenntt ooff<span style='color:red'> </span>LLOOSS<span style='color:red'> a</span>ass<span style='color:red'> </span>ppeerr tthhee pprroovviissiioonnss ooff RReegguullaattiioonn NNoo.. 2277((11))((aa))\n",
       "sshhaallll<span style='color:red'> </span>bbe<span style='color:red'>e</span> iinnssiisstteedd..\n",
       "(E) Metro Station inter changes: The buildable reservations if any<span style='color:red'>,</span> on\n",
       "((44)) IInn tthhee eevveenntt ooff<span style='color:red'> </span>DDPP hhaavviinngg pprroovviiddeedd rreesseerrvvaattiioonn//rreesseerrvvaattiioonnss oonn<span style='color:red'> a</span>a pplloott plots abutting Metro Station interchanges shall cease to exist on\n",
       "wwhheerre<span style='color:red'>e</span> ddeevveellooppmmeenntt uunnddeerr RReegguullaattiioonn NNoo.. 3333((1100)) iiss pprrooppoosseedd<span style='color:red'>,,</span> tthhee<span style='color:red'>\n",
       "</span>identification of such Metro Station interchanges within 500 m. from\n",
       "ffoolllloowwiinngg sshhaallll<span style='color:red'> a</span>appppllyy..\n",
       "such interchange to that extent<span style='color:red'>,</span> subject to condition that 20% of plot<span style='color:red'>\n",
       "a</span>a.. IIff tthhee<span style='color:red'> a</span>arre<span style='color:red'>e</span>aa uunnddeerr<span style='color:red'> </span>DDPP rreesseerrvvaattiioonn ttoo<span style='color:red'> </span>bbe<span style='color:red'>e</span> hhaannddeedd oovveerr ttoo MMCCGGMM area shall be kept reserved<span style='color:red'> for</span> parking lot<span style='color:red'>,</span> which<span style='color:red'> can</span> be developed\n",
       "((eexxcclluuddiinngg tthhee<span style='color:red'> a</span>arre<span style='color:red'>e</span>aass uunnddeerr<span style='color:red'> </span>DDPP<span style='color:red'> </span>rrooaaddss//<span style='color:red'> </span>rrooaadd<span style='color:red'> </span>sseettbbaacckk)) iiss lle<span style='color:red'>e</span>ssss tthhaann under accommodation reservation policy under regulation 17(1).\n",
       "tthhee<span style='color:red'> </span>llaanndd<span style='color:red'> </span>ccoommppoonneenntt ooff bbuuiilltt--uupp<span style='color:red'> a</span>ammeenniittyy rre<span style='color:red'>e</span>qquuiirreedd<span style='color:red'> a</span>ass<span style='color:red'> </span>ppeerr tthhiiss However<span style='color:red'>,</span> the non- buildable (open spaces) reservations shall be\n",
       "RReegguullaattiioonn<span style='color:red'>,,</span> oonnllyy tthhee aaddddiittiioonnaall<span style='color:red'> </span>llaanndd<span style='color:red'> a</span>arre<span style='color:red'>e</span>aa sshhaallll<span style='color:red'> </span>bbe<span style='color:red'>e</span> pprroovviiddeedd ffoorr implemented to the full extent.<span style='color:red'>\n",
       "a</span>ammeenniittyy..<span style='color:red'>\n",
       "</span>bb.. IIff tthhee<span style='color:red'> a</span>arre<span style='color:red'>e</span>aa uunnddeerr<span style='color:red'> </span>DDPP rreesseerrvvaattiioonn ttoo<span style='color:red'> </span>bbe<span style='color:red'>e</span> hhaannddeedd oovveerr ttoo MMCCGGMM<span style='color:red'>,,</span>\n",
       "((eexxcclluuddiinngg tthhee<span style='color:red'> a</span>arre<span style='color:red'>e</span>aass uunnddeerr<span style='color:red'> </span>DDPP<span style='color:red'> </span>rrooaaddss//<span style='color:red'> </span>rrooaadd<span style='color:red'> </span>sseettbbaacckk)),<span style='color:red'>,</span> iiss mmoorre<span style='color:red'>e</span> tthhaann\n",
       "tthhee<span style='color:red'> </span>llaanndd<span style='color:red'> </span>ccoommppoonneenntt ooff bbuuiilltt--uupp<span style='color:red'> a</span>ammeenniittyy rre<span style='color:red'>e</span>qquuiirreedd<span style='color:red'> a</span>ass<span style='color:red'> </span>ppeerr tthhiiss\n",
       "RReegguullaattiioonn<span style='color:red'>,,</span> tthheenn tthhee pprroovviissiioonn ffoorr<span style='color:red'> a</span>ammeenniittyy iiss nnoott<span style='color:red'> </span>nne<span style='color:red'>e</span>cceessssaarryy..\n",
       "((55)) TThhee oowwnneerr sshhaallll<span style='color:red'> </span>ggiivve<span style='color:red'>e</span> aaddvvaanncceedd<span style='color:red'> </span>ppoosssseessssiioonn ooff tthhee<span style='color:red'> </span>llaanndd wwhheerreevveerr<span style='color:red'>\n",
       "a</span>apppplliiccaabblle<span style='color:red'>e</span> ((ttoo<span style='color:red'> </span>bbe<span style='color:red'>e</span> hhaannddeedd oovveerr)) ttoo MMCCGGMM//AApppprroopprriiaatte<span style='color:red'>e</span> AAuutthhoorriittyy<span style='color:red'> a</span>att tthhee<span style='color:red'>\n",
       "</span>ttiimme<span style='color:red'>e</span> ooff sseeeekkiinngg AApppprroovvaall ffoorr DDeevveellooppmmeenntt ooff pplloott.. IItt sshhaallll<span style='color:red'> </span>bbe<span style='color:red'>e</span>\n",
       "rreessppoonnssiibbiilliittyy ooff tthhee<span style='color:red'> </span>llaanndd oowwnneerr ttoo<span style='color:red'> </span>cclle<span style='color:red'>e</span>aarr<span style='color:red'> a</span>allll tthhee eennccuummbbrraanncceess aanndd<span style='color:red'>\n",
       "</span>ccoommpplleette<span style='color:red'>e</span> tthhee ffoorrmmaalliittiieess<span style='color:red'> </span>ttoowwaarrddss<span style='color:red'> </span>ttrraannssffeerrrriinngg tthhee<span style='color:red'> </span>llaanndd iinn tthhee<span style='color:red'> </span>nnaamme<span style='color:red'>e</span>\n",
       "110000 DCPR 2034 101 DCPR 2034<span style='color:red'>\n",
       "</span>"
      ],
      "text/plain": [
       "<IPython.core.display.Markdown object>"
      ]
     },
     "metadata": {},
     "output_type": "display_data"
    }
   ],
   "source": [
    "# Hybrid search results\n",
    "display(Markdown(\"\\n**Hybrid Search Results:**\"))\n",
    "formatted_results = doc_text_formatting(ef, query, hybrid_results)\n",
    "for result in formatted_results:\n",
    "    display(Markdown(result))"
   ]
  },
  {
   "cell_type": "code",
   "execution_count": null,
   "metadata": {},
   "outputs": [
    {
     "data": {
      "text/plain": [
       "\"\\nYou are an Legal expert assistant providing detailed and accurate information. The user has asked the following question:\\n**Question:** Our land is a leese land , society formed , can we apply for deem conveyance\\n\\nBelow is relevant information retrieved from various sources:\\n**Retrieved Information:**\\n['Original Notifications shall\\\\nbe referred for perspicuity\\\\nvest, by provision in a deed of conveyance, in all the owners on\\\\naccount of whose cumulative holdings the LOS is required to be\\\\nkept as LOS in the layout or sub-division/amalgamation/plot of the\\\\nland.\\\\n(b) The proposal for construction of such structure should come as a\\\\nproposal from the owner/owners/society/societies or federation of\\\\nsocieties shall be meant for the beneficial use of the owner/owners/\\\\nmembers of such society/societies/federation of societies.\\\\n(c) Such structures shall not be used for any other purpose, except for\\\\nrecreational activities.\\\\n(d) The remaining area of the LOS shall be kept open to sky and\\\\naccessible to all members as a place of recreation.\\\\n(e) The owner/owners/or society or societies or federation of the\\\\nsocieties shall submit to the Commissioner a registered undertaking\\\\nagreeing to the conditions in (a) to (d) above.\\\\n(f) LOS in a private layout shall be for the exclusive use of the residents\\\\nof such private layout only and shall not be subjected to acquisition by\\\\nMCGM/Appropriate Authority. Further in such cases area of\\\\nexisting Recreational Open Space shall have to be maintained by\\\\nresidents of such private layout.\\\\n(h) Structures/Uses permitted in layout open spaces:\\\\n“Construction of Solid Waste Management System as per the\\\\nNational Building Code of India, Part 9 Plumbing Services, Section 1-\\\\nWater Supply, Drainage & Sanitation (including Solid Waste\\\\nManagement) paragraph 6 /bio-degradable waste treatment plant,\\\\nin the layout LOS, having area 2000 Sq.mt. & above within 10% of the\\\\nLOS area.”\\\\n(2) LOS in industrial plots/layout of industrial plots in any industrial plot\\\\nadmeasuring 1000 sq. m or more in area, 15 per cent of the total area\\\\nshall be provided as LOS subject to:\\\\n(i.) Such LOS shall have proper means of access and shall be so located\\\\nthat it can be conveniently utilized by the persons working in the\\\\nindustry;\\\\n(ii.) Such LOS shall be kept permanently open to sky and accessible to\\\\nall the owners and occupants and trees shall be grown therein at\\\\nthe rate of 5 trees for every 100 sq. m of the said open space or\\\\n114 DCPR 2034\\\\n', 'Original Notifications shall\\\\nbe referred for perspicuity\\\\n3.11 Notwithstanding anything contained in this regulation,\\\\nrehabilitation project of a slum located on land belonging to\\\\npublic authority and needed for a vital public purpose and\\\\nwhere eligible slum dwellers which cannot be accommodated\\\\nin the in-situ SRS of land under non-buildable reservations, is\\\\ntaken up on an unencumbered plot, TDR as per regulation 32\\\\ntable 12(A) for the area of the land spared for this purpose shall\\\\nbe sanctioned to the owner of the said unencumbered plot and\\\\nthe TDR in lieu of cost of construction of BUA as per sub-\\\\nregulation 4.2 of regulation 32(A) shall be permissible.. For the\\\\npurpose of this Regulation, the BUA shall be as per clause 3.2 of\\\\nthis Regulation. No sale component shall be permissible.\\\\nProvided that the State Govt. or Public authority or a Govt.\\\\nCompany as defined in Sec. 617 of the Companies Act 1956 and\\\\nowned and controlled by the State Govt. (herein after referred\\\\nas the Agency) may undertake Slum Rehabilitation Project on its\\\\nown land and be eligible for the benefits under this Regulation\\\\nsubject to following conditions:\\\\n1) The Rehabilitation Project is approved by the SRA.\\\\n2) The tenements so constructed in execution of the Project are offered\\\\nto slum dwellers located on land belonging to Govt. or Public Authority\\\\nand needed for vital public purpose and within 270 days from the date\\\\nof issue of LOI the Agency shall identify the slum dwellers.\\\\n3) If the Agency fails to identify the slum dwellers needed to be shifted\\\\nfor a vital public purpose, as above, then the tenements so constructed\\\\nshall be offered.\\\\na) to the slum dwellers located on land belonging to Government or Public\\\\nAuthority within a distance of 2 km. from the land on which the Project\\\\nis undertaken, or\\\\nb) to the slum dwellers located anywhere in Greater Mumbai on lands\\\\nbelonging to Govt. or Public Authority, or\\\\n4) Further provided that in all above cases the relocation of slum dwellers\\\\nin any case will be undertaken not with reference to individuals but\\\\nreference to assembly of slum dwellers for the purpose of releasing\\\\nthe plot of land wholly from slums and not only the patches of land.\\\\nProvided that notwithstanding anything mentioned above, project\\\\naffected persons due to any vital Public Projects undertaken by\\\\nMMRDA including PAP’s under Mumbai Urban Transport Project\\\\n(MUTP) being resettled as per the provisions contained in Government\\\\nResolution, Housing and Special Assistance Department, by order no.\\\\n700/CR 31/slum-2 dated 12/12/2000 and certified by the Project\\\\nDirector, MUTP will also be eligible for redevelopment scheme under\\\\nthis Regulation, as amended from time to time.\\\\n228 DCPR 2034\\\\n', 'Original Notifications shall Original Notifications shall\\\\nbe referred for perspicuity be referred for perspicuity\\\\niinn tthhee ssaammee sseeccttoorr oorr ootthheerr sseeccttoorrss wwiitthhiinn tthhee jjuurriissddiiccttiioonn ooff DDRRPP..\\\\n1.11 ‘Premium for ownership and terms of lease-. That part of\\\\n11..44 PPaavveemmeenntt ddwweelllleerrss aanndd hhuuttmmeenntt ddwweelllleerrss iinn tthhee sslluumm oonn tthhee llaanndd Government/MCGM/MHADA land on which the rehabilitation\\\\nrreeqquuiirreedd ffoorr vviittaall uurrggeenntt ppuubblliicc uuttiilliittyy//ppuurrppoossee oorr oonn tthhee hhaazzaarrddoouuss component of the SRS will be constructed shall be leased to the Co-\\\\noperative Housing Society of the slum-dwellers for 30 years. Annual\\\\nllooccaattiioonn oorr aaffffeecctteedd bbyy DDPP pprrooppoossaallss sshhaallll nnoott bbee rreehhaabbiilliittaatteedd iinn--ssiittuu\\\\nbbuutt iinn ootthheerr aavvaaiillaabbllee pplloottss wwiitthhiinn jjuurriissddiiccttiioonn ooff DDRRPP.. lease rent of Rs. 1001 for 4000 per sq. m. of land or part thereof and\\\\nlease shall be renewable for a further period of 30 years at a time.\\\\n11..55 AA cceerrttiiffiieedd eexxttrraacctt ooff tthhee rreelleevvaanntt eelleeccttoorraall rroollll sshhaallll bbee ccoonnssiiddeerreedd Simultaneously, land under free sale component shall be leased\\\\naaddeeqquuaattee eevviiddeennccee ttoo eessttaabblliisshh tthhee eelliiggiibbiilliittyy ooff aa ppeerrssoonn pprroovviiddeedd hhee directly to the Society/Association of the purchasers of the tenement\\\\niiss ffoouunndd rreessiiddiinngg iinn tthhee ssttrruuccttuurree.. TThhiiss iiss ttoo aavvooiidd tthhee ppoossssiibbiilliittyy ooff under free sale component. Pending the formation of the\\\\nppeerrssoonnss wwhhoo hhaavvee lleefftt tthhee ssttrruuccttuurree ccoommiinngg bbaacckk ttoo ccllaaiimm ffrreeee Society/Association of the purchasers in the free sale component with\\\\ntteenneemmeenntt uunnddeerr tthhee sscchheemmee eevveenn tthhoouugghh tthheeyy hhaavvee iinn tthhee nnoorrmmaall a provision for further renewal for a period of 30 years at a time. The\\\\nccoouurrssee lleefftt tthhee sslluumm aanndd ggoonnee aawwaayy iinnttoo aa pprrooppeerr nnoonn--sslluumm aarreeaa oorr oouutt lease rent for the free sale component shall be fixed by SRA.\\\\nooff DDRRPP AArreeaa.. IIff tthhee hhuuttmmeenntt ddwweelllleerrss aarree ffoouunndd rreessiiddeenntt iinn tthhee\\\\nssttrruuccttuurree,, bbuutt tthhee nnaammeess aarree oonn tthhee eelleeccttoorraall rroollll oonn oorr pprriioorr ttoo 11sstt JJaann In addition to above, the Developer/Co-op. Housing Society shall pay\\\\n22000000,, aatt aannootthheerr sslluumm//ppaavveemmeenntt ssiittee iinn BBrriihhaann MMuummbbaaii,, tthheeyy sshhaallll bbee premium at the rate of 25% of ASR in respect of SRS proposed to be\\\\nccoonnssiiddeerreedd eelliiggiibbllee bbuutt oonnllyy aatt tthhee ppllaaccee ooff pprreesseenntt rreessiiddeennccee.. IInn ccaassee undertaken on lands owned by Government, Semi-Government\\\\nooff ddoouubbtt oorr ddiissppuuttee,, tthhee ddeecciissiioonn ooff tthhee CCoommppeetteenntt AAuutthhoorriittyy ttoo bbee undertakings and Local Bodies and premium shall go to land owing\\\\naappppooiinntteedd bbyy tthhee GGoovvtt.. iinn HHoouussiinngg DDeeppaarrttmmeenntt sshhaallll bbee ffiinnaall aanndd authority such as MHADA, MCGM, MMRDA as the case may be. The\\\\nbbiinnddiinngg oonn aallll tthhee ppaarrttiieess ccoonncceerrnneedd.. premium installment so recovered shall be remitted to concerned land\\\\nowing authority within 30 days from the date of recovery.\\\\n11..66 AAnn iinnddiivviidduuaall aaggrreeeemmeenntt sshhaallll bbee eenntteerreedd iinnttoo bbyy tthhee ddeevveellooppeerr ssoo\\\\naappppooiinntteedd uunnddeerr DDRRPP bbyy DDRRPP ((SSRRAA)) wwiitthh tthhee eelliiggiibbllee hhuuttmmeenntt ddwweelllleerrss\\\\nIn the case of Govt. land, the premium shall be deposited in Nivara\\\\nooff eeaacchh ssttrruuccttuurree iinn tthhee sslluumm//ppaavveemmeenntt.. Nidhi.\\\\nThe amount of premium shall be recovered in installment as may be\\\\n11..77 TThhee iinnddiivviidduuaall aaggrreeeemmeenntt eenntteerreedd iinnttoo bbeettwweeeenn hhuuttmmeenntt ddwweelllleerrss aanndd\\\\nprescribed by Govt. from time to time. Land owning authority such as\\\\ntthhee llaanndd--oowwnniinngg aauutthhoorriittyy//SSRRAA//ddeevveellooppeerr sshhaallll bbee iinn tthhee jjooiinntt nnaammeess\\\\nMCGM, MMRDA, MHADA shall not recover land premium in any other\\\\nooff pprraammuukkhh hhuuttmmeenntt ddwweelllleerr aanndd ssppoouussee ffoorr eevveerryy ssttrruuccttuurree..\\\\nform. Proposals for SRS on land owned by Central Govt. shall be\\\\naccepted only after NOC for the scheme is obtained from the\\\\n11..88 HHuuttmmeennttss hhaavviinngg aa pphhyyssiiccaallllyy hhaannddiiccaappppeedd ppeerrssoonn oorr ffeemmaallee--hheeaaddeedd\\\\nconcerned Central Govt. Department.\\\\nhhoouusseehhoollddss sshhaallll bbee ggiivveenn ffiirrsstt pprreeffeerreennccee iinn aalllloottmmeenntt ooff tteenneemmeennttss\\\\nttoo tthhee ootthheerr hhuuttmmeenntt--ddwweelllleerrss.. TThheerreeaafftteerr lloottss sshhaallll bbee ddrraawwnn ffoorr 1.12 Automatic cancellation of Vacant Land Tenure – If any land or part of\\\\naalllloottmmeenntt ooff tteenneemmeennttss ffrroomm tthhee rreemmaaiinniinngg tteenneemmeennttss ttoo tthhee ootthheerr any land on which slum is located is under vacant land tenure the said\\\\ntenure/lease created by MCGM or Municipal Commissioner shall stand\\\\nhhuuttmmeenntt--ddwweelllleerrss..\\\\nautomatically terminated as soon as DRP, which is a public purpose,\\\\non such land is prepared and submitted for approval to the DRP cell of\\\\n11..99 TTrraannssffeerr ooff PPhhoottoo ppaasssseess –– SSiinnccee oonnllyy tthhee aaccttuuaall ooccccuuppaanntt aatt pprreesseenntt\\\\nSRA. Any arrears of dues to be collected by MCGM shall not be linked\\\\nwwiillll bbee eelliiggiibbllee ffoorr rreeddeevveellooppmmeenntt,, tthheerree sshhaallll bbee nnoo nneeeedd ttoo rreegguullaarriizzee\\\\nto the issue of any certificate or NOC relating to the DRP.\\\\ntthhee ttrraannssffeerrss ooff pphhoottoo ppaasssseess tthhaatt hhaavvee ooccccuurrrreedd ssoo ffaarr..\\\\n1.13 Recovery of pending dues such as assessment, compensation,\\\\n11..1100 AAnnyy ppeerrssoonn wwhhoossee nnaammee iiss eennrroolllleedd iinn aa nnoonn--sslluumm aarreeaa iinn BBrriihhaann\\\\noccupational charges, non-agricultural tax/dues etc. pending with\\\\nMMuummbbaaii bbuutt hhaass ppuurrcchhaasseedd aa hhuuttmmeenntt iinn DDRRPP aarreeaa aanndd tthheerreeffoorree ggoott\\\\npublic authorities such as State Govt., MHADA, and/or MCGM shall be\\\\nhhiiss nnaammee aallssoo iinncclluuddeedd iinn eelleeccttoorraall rroollll ffoorr tthhee sslluumm aarreeaa,, ii..ee.. hhee hhaass hhiiss\\\\ndealt with separately and not be linked to grant of approval or building\\\\nnnaammee iinn tthhee eelleeccttoorraall rroollll aatt ttwwoo ppllaacceess,, hhee sshhaallll nnoott bbee eelliiggiibbllee ffoorr tthhee\\\\npermission to the DRP.\\\\nsscchheemmee..\\\\n224444 DCPR 2034 245 DCPR 2034\\\\n', 'Original Notifications shall\\\\nbe referred for perspicuity\\\\nProvided that when the development is composite and where it is not\\\\npossible to hand over part of land to MCGM in such cases entire\\\\narea shall be deemed to be marked as existing amenity with the +\\\\nsign indicating other uses on the said plot.\\\\n20) General conditions to allow development under above regulations:\\\\ni) If the area of reservation is not adequate to construct independent\\\\nbuilding as mentioned above OR When it is not possible to handover\\\\nindividual plot along with public amenity, then in such cases Municipal\\\\nCommissioner may allow composite building on said land subject to\\\\ncondition that the built-up area mentioned as above may be allowed\\\\nto be handed over to the Planning Authority or Appropriate Authority,\\\\nas the case may be, preferably on ground floor and subject to premium\\\\nat the rate of 35% and 40% of ASR of the develop land for the zonal\\\\n(basic) FSI (In case of suburbs where FSI is 1 it shall be as per ASR of the\\\\ndeveloped land and in case of City it shall be 1.33 times of ASR of the\\\\ndeveloped land) for AH/R&R and for other reservations respectively or\\\\nas may be decided by Government from time to time. If ground floor\\\\nis utilised for parking, then the built-up area mentioned above may be\\\\nhanded over on stilt/first floor with separate entry & exit from public\\\\nstreet. In such cases, built- up area along with proportionate undivided\\\\nshare of land shall be handed over to the Planning Authority or\\\\nAppropriate Authority, as the case may be. In such cases no\\\\ncompensation of proportionate undivided land share shall be\\\\npermissible to the land owner / developer.\\\\nii) It shall be obligatory on Municipal Commissioner to make registered\\\\nagreement with the developer /owner at the time of granting the\\\\ndevelopment permission subject to terms and conditions as it deem\\\\nfit. Occupancy Certificate shall be issued only after compliance of all\\\\nterms & conditions and getting possession of the constructed\\\\namenity.\\\\niii) The above permissions for development of reservations shall be\\\\ngranted by the Municipal Commissioner as per the norms mentioned\\\\nin these regulations.\\\\niv) The area / built-up area to be handed over to the Planning Authority\\\\nunder these Regulations shall be earmarked on the sanctioned\\\\nbuilding plan clearly mentioning the same, and registered agreement\\\\nto that effect shall be executed. After completion of construction, the\\\\nsaid amenity shall be handed over by executing the deed of transfer\\\\n88 DCPR 2034\\\\n', 'Original Notifications shall Original Notifications shall\\\\nbe referred for perspicuity be referred for perspicuity\\\\n((99)) IInn ccaassee ooff ccoonnvveerrssiioonn//rreevviissiioonn ooff LLOOII aass ppeerr tthhiiss rreegguullaattiioonn aanndd wwhheerree\\\\npplloott iiss rreesseerrvveedd ffoorr ddiiffffeerreenntt//ssaammee ppuubblliicc ppuurrppoossee ffoorr eeqquuaall oorr mmoorree\\\\naarreeaa ooff rreesseerrvvaattiioonn iinn DDPP 22003344 tthhaann DDPP 11999911,, tthheenn ddeevveellooppmmeenntt sshhaallll of MCGM/Appropriate Authority. Proforma of possession receipt shall\\\\nbbee aass ppeerr tthhiiss rreegguullaattiioonn.. TThhee DDPP RRooaadd sshhaallll bbee rreecckkoonneedd wwiitthh aass ppeerr be as per Appendix V.\\\\nDDPP 22003344..\\\\n(6) The area of built-up amenity shall be counted in FSI initially and after\\\\n((bb)) SSlluummss iinn IInndduussttrriiaall ZZoonnee ((II))\\\\nhanding over of said built up amenity the area of built-up amenity shall\\\\n((11)) SSlluummss iinn IInndduussttrriiaall ZZoonnee ((II)) sshhaallll bbee aalllloowweedd ttoo bbee rreeddeevveellooppeedd iinn--ssiittuu be allowed free of FSI. Commencement Certificate in respect of BUA in\\\\nwwiitthhoouutt ggooiinngg tthhrroouugghh tthhee pprroocceessss ooff cchhaannggee ooff zzoonnee.. IInn tthhee ffrreeee--ssaallee lieu of the built-up amenity handed over to MCGM can be granted only\\\\nccoommppoonneenntt iinn aannyy zzoonnee,, iinn aaddddiittiioonn ttoo rreessiiddeennttiiaall uusseess,, aallll tthhee uusseess after handing over of such built up amenity or before availing zonal\\\\nppeerrmmiitttteedd ffoorr tthhee oorriiggiinnaall zzoonnee sshhaallll bbee ppeerrmmiitttteedd.. FFoorr iinndduussttrriiaall uusseess,, (basic) FSI beyond 75% of gross plot area or before seeking Occupation\\\\ntthhee sseeggrreeggaattiinngg ddiissttaannccee sshhaallll bbee mmaaiinnttaaiinneedd ffrroomm tthhee eexxiissttiinngg Certificate to any part of building/ buildings beyond 75% of admissible\\\\niinndduussttrriiaall uunniitt.. BUA, other than the built-up amenity.\\\\n((22)) AAnnyy pplloott//llaayyoouutt hhaavviinngg aarreeaa eexxcclluuddiinngg aarreeaa uunnddeerr DDPP RRooaadd//\\\\npprreessccrriibbeedd RRLL aass ppeerr MMMMCC AAcctt mmaayy bbee aalllloowweedd ttoo bbee ddeevveellooppeedd uunnddeerr\\\\n(7) The developer shall be entitled to the cost of construction of\\\\ntthhiiss RReegguullaattiioonn bbyy iinnssiissttiinngg hhaannddiinngg oovveerr ooff 3355%% aammeenniittyy ooff tthhee\\\\ndevelopment of buildable amenity as per provision of regulation 17(1)\\\\nrreeqquuiirreedd uunnddeerr RReegguullaattiioonn NNoo.. 1144((BB)) ((cc))..\\\\nNote (d).\\\\n((33)) RReeqquuiirreemmeenntt ooff LLOOSS aass ppeerr tthhee pprroovviissiioonnss ooff RReegguullaattiioonn NNoo.. 2277((11))((aa))\\\\nsshhaallll bbee iinnssiisstteedd..\\\\n(E) Metro Station inter changes: The buildable reservations if any, on\\\\n((44)) IInn tthhee eevveenntt ooff DDPP hhaavviinngg pprroovviiddeedd rreesseerrvvaattiioonn//rreesseerrvvaattiioonnss oonn aa pplloott plots abutting Metro Station interchanges shall cease to exist on\\\\nwwhheerree ddeevveellooppmmeenntt uunnddeerr RReegguullaattiioonn NNoo.. 3333((1100)) iiss pprrooppoosseedd,, tthhee\\\\nidentification of such Metro Station interchanges within 500 m. from\\\\nffoolllloowwiinngg sshhaallll aappppllyy..\\\\nsuch interchange to that extent, subject to condition that 20% of plot\\\\naa.. IIff tthhee aarreeaa uunnddeerr DDPP rreesseerrvvaattiioonn ttoo bbee hhaannddeedd oovveerr ttoo MMCCGGMM area shall be kept reserved for parking lot, which can be developed\\\\n((eexxcclluuddiinngg tthhee aarreeaass uunnddeerr DDPP rrooaaddss// rrooaadd sseettbbaacckk)) iiss lleessss tthhaann under accommodation reservation policy under regulation 17(1).\\\\ntthhee llaanndd ccoommppoonneenntt ooff bbuuiilltt--uupp aammeenniittyy rreeqquuiirreedd aass ppeerr tthhiiss However, the non- buildable (open spaces) reservations shall be\\\\nRReegguullaattiioonn,, oonnllyy tthhee aaddddiittiioonnaall llaanndd aarreeaa sshhaallll bbee pprroovviiddeedd ffoorr implemented to the full extent.\\\\naammeenniittyy..\\\\nbb.. IIff tthhee aarreeaa uunnddeerr DDPP rreesseerrvvaattiioonn ttoo bbee hhaannddeedd oovveerr ttoo MMCCGGMM,,\\\\n((eexxcclluuddiinngg tthhee aarreeaass uunnddeerr DDPP rrooaaddss// rrooaadd sseettbbaacckk)),, iiss mmoorree tthhaann\\\\ntthhee llaanndd ccoommppoonneenntt ooff bbuuiilltt--uupp aammeenniittyy rreeqquuiirreedd aass ppeerr tthhiiss\\\\nRReegguullaattiioonn,, tthheenn tthhee pprroovviissiioonn ffoorr aammeenniittyy iiss nnoott nneecceessssaarryy..\\\\n((55)) TThhee oowwnneerr sshhaallll ggiivvee aaddvvaanncceedd ppoosssseessssiioonn ooff tthhee llaanndd wwhheerreevveerr\\\\naapppplliiccaabbllee ((ttoo bbee hhaannddeedd oovveerr)) ttoo MMCCGGMM//AApppprroopprriiaattee AAuutthhoorriittyy aatt tthhee\\\\nttiimmee ooff sseeeekkiinngg AApppprroovvaall ffoorr DDeevveellooppmmeenntt ooff pplloott.. IItt sshhaallll bbee\\\\nrreessppoonnssiibbiilliittyy ooff tthhee llaanndd oowwnneerr ttoo cclleeaarr aallll tthhee eennccuummbbrraanncceess aanndd\\\\nccoommpplleettee tthhee ffoorrmmaalliittiieess ttoowwaarrddss ttrraannssffeerrrriinngg tthhee llaanndd iinn tthhee nnaammee\\\\n110000 DCPR 2034 101 DCPR 2034\\\\n']\\n\\n**Instruction:** Use only the query-relevant content from the retrieved information to answer the question. Focus on providing a detailed comprehensive, informative response based solely on the given data. If any conflicting details are present, prioritize the most reliable and consistent information.\\n\""
      ]
     },
     "execution_count": 70,
     "metadata": {},
     "output_type": "execute_result"
    }
   ],
   "source": [
    "final_template = f\"\"\"\n",
    "You are an Legal expert Real Estate Agent assistant providing detailed and accurate information. The user has asked the following question:\n",
    "**Question:** {query}\n",
    "\n",
    "Below is relevant information retrieved from various sources:\n",
    "**Retrieved Information:**\n",
    "{hybrid_results}\n",
    "\n",
    "**Instruction:** Use only the query-relevant content from the retrieved information to answer the question. Focus on providing a detailed comprehensive, informative response based solely on the given data. If any conflicting details are present, prioritize the most reliable and consistent information.\n",
    "\"\"\"\n",
    "final_template"
   ]
  },
  {
   "cell_type": "code",
   "execution_count": 71,
   "metadata": {},
   "outputs": [
    {
     "name": "stdout",
     "output_type": "stream",
     "text": [
      "**Deemed Conveyance on Lease Land with a Formed Society: A Detailed Analysis**\n",
      "\n",
      "The concept of deemed conveyance on lease land with a formed society is an important aspect of real estate development in India, particularly in states like Maharashtra. Deemed conveyance is a legal process that grants the lessee (lease holder) the rights equivalent to ownership of the property.\n",
      "\n",
      "**Eligibility Criteria:**\n",
      "\n",
      "Based on the retrieved information, it appears that a lease land with a formed society can apply for deemed conveyance. The society must have been formed and registered under the relevant laws, such as the Maharashtra Co-operative Societies Act, 1960. The lease agreement must also have been executed and registered in favor of the society.\n",
      "\n",
      "**Procedure:**\n",
      "\n",
      "The procedure for obtaining deemed conveyance on lease land with a formed society involves several steps:\n",
      "\n",
      "1. **Application:** The society must submit an application to the competent authority, such as the Commissioner of the Municipal Corporation of Greater Mumbai (MCGM), seeking deemed conveyance.\n",
      "2. **Documentation:** The society must provide all relevant documents, including the registered lease agreement, society registration certificate, and other supporting documents.\n",
      "3. **Verification:** The competent authority verifies the documents and ensures that the society meets all eligibility criteria.\n",
      "4. **Order:** The competent authority passes an order granting deemed conveyance to the society, which is then transmitted to the society.\n",
      "\n",
      "**Rights and Obligations:**\n",
      "\n",
      "Deemed conveyance grants the society the rights equivalent to ownership of the property, including the right to:\n",
      "\n",
      "1. **Develop and use the land:** The society can develop and use the land for the purposes specified in the lease agreement.\n",
      "2. **Mortgage and pledge:** The society can mortgage and pledge the property to secure loans and other financial assistance.\n",
      "3. **Dispose and transfer:** The society can dispose of and transfer the property, subject to the provisions of the lease agreement.\n",
      "\n",
      "**Conclusion:**\n",
      "\n",
      "In conclusion, a lease land with a formed society can apply for deemed conveyance, subject to meeting the eligibility criteria and following the prescribed procedure. Deemed conveyance grants the society the rights equivalent to ownership of the property, including the right to develop, use, mortgage, pledge, dispose of, and transfer the property.\n"
     ]
    }
   ],
   "source": [
    "from groq import Groq\n",
    "client = Groq(\n",
    "    api_key='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' ,\n",
    ")\n",
    "\n",
    "chat_completion = client.chat.completions.create(\n",
    "    messages=[\n",
    "        {\n",
    "            \"role\": \"user\",\n",
    "            \"content\": final_template,\n",
    "        }\n",
    "    ],\n",
    "    model=\"llama-3.1-70b-versatile\",\n",
    ")\n",
    "print(chat_completion.choices[0].message.content)"
   ]
  }
 ],
 "metadata": {
  "kernelspec": {
   "display_name": "Python 3",
   "language": "python",
   "name": "python3"
  },
  "language_info": {
   "codemirror_mode": {
    "name": "ipython",
    "version": 3
   },
   "file_extension": ".py",
   "mimetype": "text/x-python",
   "name": "python",
   "nbconvert_exporter": "python",
   "pygments_lexer": "ipython3",
   "version": "3.12.7"
  }
 },
 "nbformat": 4,
 "nbformat_minor": 2
}
