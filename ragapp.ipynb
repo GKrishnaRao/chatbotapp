{
 "cells": [
  {
   "cell_type": "code",
   "execution_count": 1,
   "metadata": {},
   "outputs": [
    {
     "name": "stdout",
     "output_type": "stream",
     "text": [
      "Number of pages in the PDF: 613\n"
     ]
    }
   ],
   "source": [
    "# Load and read PDF content\n",
    "from langchain_community.document_loaders import PDFPlumberLoader\n",
    "loader = PDFPlumberLoader(\"pdf/DCPR_2034_13-09-2024.pdf\")\n",
    "docs = loader.load()\n",
    "print(\"Number of pages in the PDF:\", len(docs))\n",
    "\n",
    "# Extract text from each page for embedding\n",
    "doc_texts = [page.page_content for page in docs]\n",
    "#print(\" Document  texts\",doc_texts)\n"
   ]
  },
  {
   "cell_type": "code",
   "execution_count": 2,
   "metadata": {},
   "outputs": [
    {
     "data": {
      "application/vnd.jupyter.widget-view+json": {
       "model_id": "ebe7158610344bbf9c16b2a9a75094b2",
       "version_major": 2,
       "version_minor": 0
      },
      "text/plain": [
       "Fetching 30 files:   0%|          | 0/30 [00:00<?, ?it/s]"
      ]
     },
     "metadata": {},
     "output_type": "display_data"
    },
    {
     "name": "stderr",
     "output_type": "stream",
     "text": [
      "You're using a XLMRobertaTokenizerFast tokenizer. Please note that with a fast tokenizer, using the `__call__` method is faster than using a method to encode the text followed by a call to the `pad` method to get a padded encoding.\n",
      "Inference Embeddings: 100%|██████████| 39/39 [17:51<00:00, 27.47s/it]\n"
     ]
    }
   ],
   "source": [
    "from milvus_model.hybrid import BGEM3EmbeddingFunction\n",
    "import torch\n",
    "device = \"mps\" if torch.backends.mps.is_available() else \"cpu\"\n",
    "ef = BGEM3EmbeddingFunction(use_fp16=False, device=device)\n",
    "dense_dim = ef.dim[\"dense\"]\n",
    "\n",
    "# Generate embeddings using BGE-M3 model\n",
    "docs_embeddings = ef(doc_texts)"
   ]
  },
  {
   "cell_type": "code",
   "execution_count": 3,
   "metadata": {},
   "outputs": [
    {
     "data": {
      "text/plain": [
       "1024"
      ]
     },
     "execution_count": 3,
     "metadata": {},
     "output_type": "execute_result"
    }
   ],
   "source": [
    "dense_dim"
   ]
  },
  {
   "cell_type": "code",
   "execution_count": 4,
   "metadata": {},
   "outputs": [],
   "source": [
    "from pymilvus import (\n",
    "    connections,\n",
    "    utility,\n",
    "    FieldSchema,\n",
    "    CollectionSchema,\n",
    "    DataType,\n",
    "    Collection,\n",
    ")"
   ]
  },
  {
   "cell_type": "code",
   "execution_count": 5,
   "metadata": {},
   "outputs": [
    {
     "name": "stdout",
     "output_type": "stream",
     "text": [
      "Successfully connected to Milvus\n"
     ]
    }
   ],
   "source": [
    "# Connect to Milvus given URI\n",
    "try:\n",
    "    connections.connect(\n",
    "        alias=\"default\",\n",
    "        uri=\"https://in03-4e569f605c32eab.serverless.gcp-us-west1.cloud.zilliz.com\",  # Replace with your endpoint\n",
    "        token=\"99cd003de770782d436a049c87fb669188dc4424443531a325043d7f42859ca8c3d058b952d2e92d33677cf72b4931d12150c29d\"  # Replace with your API key\n",
    "    )\n",
    "    print(\"Successfully connected to Milvus\")\n",
    "except Exception as e:\n",
    "    print(f\"Failed to connect to Milvus: {e}\")\n"
   ]
  },
  {
   "cell_type": "code",
   "execution_count": 6,
   "metadata": {},
   "outputs": [],
   "source": [
    "# Specify the data schema for the new Collection\n",
    "fields = [\n",
    "    # Use auto generated id as primary key\n",
    "    FieldSchema(\n",
    "        name=\"pk\", dtype=DataType.VARCHAR, is_primary=True, auto_id=True, max_length=100\n",
    "    ),\n",
    "    # Store the original text to retrieve based on semantically distance\n",
    "    FieldSchema(name=\"text\", dtype=DataType.VARCHAR, max_length=65535),\n",
    "    # Milvus now supports both sparse and dense vectors,\n",
    "    # we can store each in a separate field to conduct hybrid search on both vectors\n",
    "    FieldSchema(name=\"sparse_vector\", dtype=DataType.SPARSE_FLOAT_VECTOR),\n",
    "    FieldSchema(name=\"dense_vector\", dtype=DataType.FLOAT_VECTOR, dim=dense_dim),\n",
    "]\n",
    "\n",
    "# Define the collection name\n",
    "collection_name = \"hybrid_demo\"\n",
    "schema = CollectionSchema(fields)\n",
    "\n",
    "# Create collection\n",
    "col = Collection(\n",
    "    name=collection_name, \n",
    "    schema=schema, \n",
    "    using='default',  # Uses the default connection,\n",
    "    consistency_level=\"Strong\"\n",
    ")\n",
    "\n",
    "# To make vector search efficient, we need to create indices for the vector fields\n",
    "sparse_index = {\"index_type\": \"SPARSE_INVERTED_INDEX\", \"metric_type\": \"IP\"}\n",
    "col.create_index(\"sparse_vector\", sparse_index)\n",
    "dense_index = {\"index_type\": \"AUTOINDEX\", \"metric_type\": \"IP\"}\n",
    "col.create_index(\"dense_vector\", dense_index)\n",
    "col.load()"
   ]
  },
  {
   "cell_type": "code",
   "execution_count": 7,
   "metadata": {},
   "outputs": [
    {
     "name": "stdout",
     "output_type": "stream",
     "text": [
      "Number of entities inserted: 1226\n"
     ]
    }
   ],
   "source": [
    "\n",
    "\n",
    "\n",
    "\n",
    "# For efficiency, we insert 50 records in each small batch\n",
    "for i in range(0, len(doc_texts), 50):\n",
    "    # Extract the raw text from Document objects\n",
    "    batched_texts = [doc.page_content for doc in docs[i : i + 50]]  # Extract the text content\n",
    "    batched_sparse_vectors = docs_embeddings[\"sparse\"][i : i + 50]\n",
    "    batched_dense_vectors = docs_embeddings[\"dense\"][i : i + 50]\n",
    "\n",
    "    # Prepare the batched entities for insertion\n",
    "    batched_entities = [\n",
    "        batched_texts,          # Text content\n",
    "        batched_sparse_vectors, # Sparse vector embeddings\n",
    "        batched_dense_vectors,  # Dense vector embeddings\n",
    "    ]\n",
    "\n",
    "    # Insert the batch into Milvus\n",
    "    col.insert(batched_entities)\n",
    "\n",
    "print(\"Number of entities inserted:\", col.num_entities)"
   ]
  },
  {
   "cell_type": "code",
   "execution_count": 22,
   "metadata": {},
   "outputs": [
    {
     "name": "stdout",
     "output_type": "stream",
     "text": [
      "Incentive in 33(7)\n"
     ]
    }
   ],
   "source": [
    "# Enter your search query\n",
    "query = input(\"Enter your search query: \")\n",
    "print(query)\n",
    "\n",
    "# Generate embeddings for the query\n",
    "query_embeddings = ef([query])\n",
    "#print(query_embeddings)"
   ]
  },
  {
   "cell_type": "code",
   "execution_count": 23,
   "metadata": {},
   "outputs": [],
   "source": [
    "from pymilvus import (\n",
    "    AnnSearchRequest,\n",
    "    WeightedRanker,\n",
    ")\n",
    "\n",
    "def dense_search(col, query_dense_embedding, limit=5):\n",
    "    search_params = {\"metric_type\": \"IP\", \"params\": {}}\n",
    "    res = col.search(\n",
    "        [query_dense_embedding],\n",
    "        anns_field=\"dense_vector\",\n",
    "        limit=limit,\n",
    "        output_fields=[\"text\"],\n",
    "        param=search_params,\n",
    "    )[0]\n",
    "    return [hit.get(\"text\") for hit in res]"
   ]
  },
  {
   "cell_type": "code",
   "execution_count": 24,
   "metadata": {},
   "outputs": [],
   "source": [
    "def sparse_search(col, query_sparse_embedding, limit=5):\n",
    "    search_params = {\n",
    "        \"metric_type\": \"IP\", \"params\": {}, }\n",
    "    res = col.search(\n",
    "        [query_sparse_embedding],\n",
    "        anns_field=\"sparse_vector\",\n",
    "        limit=limit,\n",
    "        output_fields=[\"text\"],\n",
    "        param=search_params,\n",
    "    )[0]\n",
    "    return [hit.get(\"text\") for hit in res]"
   ]
  },
  {
   "cell_type": "code",
   "execution_count": 25,
   "metadata": {},
   "outputs": [],
   "source": [
    "def hybrid_search(\n",
    "    col,\n",
    "    query_dense_embedding,\n",
    "    query_sparse_embedding,\n",
    "    sparse_weight=1.0,\n",
    "    dense_weight=1.0,\n",
    "    limit=5,\n",
    "):\n",
    "    dense_search_params = {\"metric_type\": \"IP\", \"params\": {}}\n",
    "    dense_req = AnnSearchRequest(\n",
    "        [query_dense_embedding], \"dense_vector\", dense_search_params, limit=limit\n",
    "    )\n",
    "    sparse_search_params = {\"metric_type\": \"IP\", \"params\": {}}\n",
    "    sparse_req = AnnSearchRequest(\n",
    "        [query_sparse_embedding], \"sparse_vector\", sparse_search_params, limit=limit\n",
    "    )\n",
    "    rerank = WeightedRanker(sparse_weight, dense_weight)\n",
    "    res = col.hybrid_search(\n",
    "        [sparse_req, dense_req], rerank=rerank, limit=limit, output_fields=[\"text\"]\n",
    "    )[0]\n",
    "    return [hit.get(\"text\") for hit in res]"
   ]
  },
  {
   "cell_type": "code",
   "execution_count": 26,
   "metadata": {},
   "outputs": [],
   "source": [
    "dense_results = dense_search(col, query_embeddings[\"dense\"][0])\n",
    "sparse_results = sparse_search(col, query_embeddings[\"sparse\"][[0]])\n",
    "hybrid_results = hybrid_search(\n",
    "    col,\n",
    "    query_embeddings[\"dense\"][0],\n",
    "    query_embeddings[\"sparse\"][[0]],\n",
    "    sparse_weight=0.7,\n",
    "    dense_weight=1.0,\n",
    ")"
   ]
  },
  {
   "cell_type": "code",
   "execution_count": 27,
   "metadata": {},
   "outputs": [
    {
     "name": "stdout",
     "output_type": "stream",
     "text": [
      "['Original Notifications shall\\nbe referred for perspicuity\\n33(7)(B) Additional FSI for Redevelopment of existing\\nresidential housing societies excluding buildings covered\\nunder regulation 33(7) and 33(7)(A):\\n1) In case of redevelopment of existing residential housing societies\\nexcluding buildings covered under regulation 33(7) and 33(7)(A)\\nproposed by Housing societies/landlords or through their proponents\\nwhere existing members are proposed to be re- accommodated on the\\nsame plot, incentive additional BUA to the extent of 15% of existing\\nBUA or 10 sq. m per tenement whichever is more shall be permissible\\nwithout premium.\\nProvided further that if the existing authorized BUA and incentive\\nthereon as stated above is less than the permissible FSI as per\\nregulation 30(A)(1), then society may avail ‘Additional FSI on payment\\nof premium/TDR’ up to limit of permissible FSI.\\n2) If staircase, lift & lift lobby areas are claimed free of FSI by charging\\npremium as per then prevailing Regulation, then such areas to that\\nextent only will be granted free of FSI without charging premium. If\\nstaircase, lift & lift lobby areas are counted in FSI in earlier\\ndevelopment, then incentive additional FSI as stated in Sr. No. 1 shall\\nalso be given on such area & such areas may be availed free of FSI by\\ncharging premium as per these Regulations.\\n3) This Regulation shall be applicable only when existing members of the\\nsocieties are proposed to be re-accommodated.\\n4) This regulation will be applicable for redevelopment of existing\\nauthorized buildings which are of thirty years of age or more.\\n5) This regulation shall not be applicable in respect of redevelopment\\nproposal to be/being processed under Regulation No. 33(5), 33(7),\\n33(8), 33(9), 33(9)(A), 33(9)(B), 33(10), 33(10) (A), 33(20) (A), 33(21).\\nExplanation: -Age of a building shall be as on the 1st of January of the\\nyear in which a complete redevelopment proposal is submitted to the\\nCommissioner and shall be calculated from the date of Occupation\\nCertificate or alternately, from the first date of assessment as per the\\nproperty tax record in respect of such building or building on which\\nbalance/admissible FSI has been consumed by way of vertical\\nextension as per then prevailing Regulation, available with the MCGM.\\n6) This incentive additional BUA shall be independent of additional BUA\\nas permissible under Regulation No. 14(A), 15, 16 and 17, if any.\\n7) Fungible compensatory area admissible under Regulation No. 31(3) on\\nthe existing authorised BUA shall be without charging premium and\\nover the incentive additional BUA by charging of premium.\\n8) If tenanted building/s and building/s of co-operative housing\\nsociety/non- tenanted building/s co-exist on the plot under\\ndevelopment, then proportionate land component as per the existing\\nauthorised BUA of existing tenanted building on the plot shall be\\n180 DCPR 2034\\n', 'Original Notifications shall\\nbe referred for perspicuity\\n33(7)(B) Additional FSI for Redevelopment of existing\\nresidential housing societies excluding buildings covered\\nunder regulation 33(7) and 33(7)(A):\\n1) In case of redevelopment of existing residential housing societies\\nexcluding buildings covered under regulation 33(7) and 33(7)(A)\\nproposed by Housing societies/landlords or through their proponents\\nwhere existing members are proposed to be re- accommodated on the\\nsame plot, incentive additional BUA to the extent of 15% of existing\\nBUA or 10 sq. m per tenement whichever is more shall be permissible\\nwithout premium.\\nProvided further that if the existing authorized BUA and incentive\\nthereon as stated above is less than the permissible FSI as per\\nregulation 30(A)(1), then society may avail ‘Additional FSI on payment\\nof premium/TDR’ up to limit of permissible FSI.\\n2) If staircase, lift & lift lobby areas are claimed free of FSI by charging\\npremium as per then prevailing Regulation, then such areas to that\\nextent only will be granted free of FSI without charging premium. If\\nstaircase, lift & lift lobby areas are counted in FSI in earlier\\ndevelopment, then incentive additional FSI as stated in Sr. No. 1 shall\\nalso be given on such area & such areas may be availed free of FSI by\\ncharging premium as per these Regulations.\\n3) This Regulation shall be applicable only when existing members of the\\nsocieties are proposed to be re-accommodated.\\n4) This regulation will be applicable for redevelopment of existing\\nauthorized buildings which are of thirty years of age or more.\\n5) This regulation shall not be applicable in respect of redevelopment\\nproposal to be/being processed under Regulation No. 33(5), 33(7),\\n33(8), 33(9), 33(9)(A), 33(9)(B), 33(10), 33(10) (A), 33(20) (A), 33(21).\\nExplanation: -Age of a building shall be as on the 1st of January of the\\nyear in which a complete redevelopment proposal is submitted to the\\nCommissioner and shall be calculated from the date of Occupation\\nCertificate or alternately, from the first date of assessment as per the\\nproperty tax record in respect of such building or building on which\\nbalance/admissible FSI has been consumed by way of vertical\\nextension as per then prevailing Regulation, available with the MCGM.\\n6) This incentive additional BUA shall be independent of additional BUA\\nas permissible under Regulation No. 14(A), 15, 16 and 17, if any.\\n7) Fungible compensatory area admissible under Regulation No. 31(3) on\\nthe existing authorised BUA shall be without charging premium and\\nover the incentive additional BUA by charging of premium.\\n8) If tenanted building/s and building/s of co-operative housing\\nsociety/non- tenanted building/s co-exist on the plot under\\ndevelopment, then proportionate land component as per the existing\\nauthorised BUA of existing tenanted building on the plot shall be\\n180 DCPR 2034\\n', 'Original Notifications shall\\nbe referred for perspicuity\\n33(7)(B) Additional FSI for Redevelopment of existing\\nresidential housing societies excluding buildings covered\\nunder regulation 33(7) and 33(7)(A):\\n1) In case of redevelopment of existing residential housing societies\\nexcluding buildings covered under regulation 33(7) and 33(7)(A)\\nproposed by Housing societies/landlords or through their proponents\\nwhere existing members are proposed to be re- accommodated on the\\nsame plot, incentive additional BUA to the extent of 15% of existing\\nBUA or 10 sq. m per tenement whichever is more shall be permissible\\nwithout premium.\\nProvided further that if the existing authorized BUA and incentive\\nthereon as stated above is less than the permissible FSI as per\\nregulation 30(A)(1), then society may avail ‘Additional FSI on payment\\nof premium/TDR’ up to limit of permissible FSI.\\n2) If staircase, lift & lift lobby areas are claimed free of FSI by charging\\npremium as per then prevailing Regulation, then such areas to that\\nextent only will be granted free of FSI without charging premium. If\\nstaircase, lift & lift lobby areas are counted in FSI in earlier\\ndevelopment, then incentive additional FSI as stated in Sr. No. 1 shall\\nalso be given on such area & such areas may be availed free of FSI by\\ncharging premium as per these Regulations.\\n3) This Regulation shall be applicable only when existing members of the\\nsocieties are proposed to be re-accommodated.\\n4) This regulation will be applicable for redevelopment of existing\\nauthorized buildings which are of thirty years of age or more.\\n5) This regulation shall not be applicable in respect of redevelopment\\nproposal to be/being processed under Regulation No. 33(5), 33(7),\\n33(8), 33(9), 33(9)(A), 33(9)(B), 33(10), 33(10) (A), 33(20) (A), 33(21).\\nExplanation: -Age of a building shall be as on the 1st of January of the\\nyear in which a complete redevelopment proposal is submitted to the\\nCommissioner and shall be calculated from the date of Occupation\\nCertificate or alternately, from the first date of assessment as per the\\nproperty tax record in respect of such building or building on which\\nbalance/admissible FSI has been consumed by way of vertical\\nextension as per then prevailing Regulation, available with the MCGM.\\n6) This incentive additional BUA shall be independent of additional BUA\\nas permissible under Regulation No. 14(A), 15, 16 and 17, if any.\\n7) Fungible compensatory area admissible under Regulation No. 31(3) on\\nthe existing authorised BUA shall be without charging premium and\\nover the incentive additional BUA by charging of premium.\\n8) If tenanted building/s and building/s of co-operative housing\\nsociety/non- tenanted building/s co-exist on the plot under\\ndevelopment, then proportionate land component as per the existing\\nauthorised BUA of existing tenanted building on the plot shall be\\n180 DCPR 2034\\n', 'Original Notifications shall Original Notifications shall\\nbe referred for perspicuity be referred for perspicuity\\nbb.. BByy aappppooiinnttiinngg PPrriivvaattee ddeevveellooppeerr bbyy aauutthhoorriittyy wwiitthh ttrriippaarrttyy aaggrreeeemmeenntt\\nbbeettwweeeenn ddeevveellooppeerr MMHHAADDAA//MMCCGGMM aauutthhoorriittyy aanndd ooccccuuppaannttss 7. FSI Permissible:\\naassssoocciiaattiioonn aass ppeerr 77((1133)) ooff tthhiiss rreegguullaattiioonn.. A. For redevelopment undertaken by Private developers as per clause 2(a)\\ncc.. MMHHAADDAA // MMCCGGMM tthheemmsseellvveess bbyy aappppooiinnttiinngg ddeevveellooppeerr tthhrroouugghh above:\\nccoommppeettiittiivvee bbiiddddiinngg aass ppeerr ccllaauussee 77((CC)) ooff tthhiiss rreegguullaattiioonn FSI required for rehabilitation of existing occupants plus incentive\\n33.. AAllll tthhee eelliiggiibbllee ooccccuuppaannttss iinn bbuuiillddiinngg//ssttrruuccttuurreess sshhaallll bbee cceerrttiiffiieedd bbyy thereon as mentioned below, subject to minimum 3 FSI\\nrreessppeeccttiivvee aauutthhoorriittiieess oorr MMHHAADDAA // MMCCGGMM..\\n44.. EEaacchh ooccccuuppaanntt sshhaallll bbee rreehhaabbiilliittaatteedd aanndd ggiivveenn tthhee ccaarrppeett aarreeaa ooccccuuppiieedd Basic Ratio LR/RC Incentive (as % of Admissible rehab Area)\\nbbyy hhiimm ffoorr rreessiiddeennttiiaall ppuurrppoossee iinn tthhee oolldd bbuuiillddiinngg ssuubbjjeecctt ttoo tthhee For Single Plot For Composite redevelopment of\\nmmiinniimmuumm ffiixxeedd ccaarrppeett aarreeaa ooff 2277..8888 ssqq.. mm ((330000 ssqq..fftt..)) aanndd//oorr mmaaxxiimmuumm Two to Five Plots Six or more Plots\\nccaarrppeett aarreeaa uuppttoo 112200 ssqq..mm ((11229922 ssqq..fftt..)) IInn ccaassee ooff nnoonn--rreessiiddeennttiiaall Above 6 75 85 90\\nooccccuuppiieerr,, tthhee aarreeaa ttoo bbee ggiivveenn iinn tthhee rreeccoonnssttrruucctteedd bbuuiillddiinngg wwiillll bbee Above 4 and upto 6 78 88 95\\neeqquuiivvaalleenntt ttoo tthhee aarreeaa ooccccuuppiieedd iinn tthhee oolldd bbuuiillddiinngg.. PPrroovviiddeedd ffuurrtthheerr tthhaatt Upto 4 80 90 100\\neeaacchh eelliiggiibbllee rreessiiddeennttiiaall ccuumm ccoommmmeerrcciiaall ooccccuuppaanntt sshhaallll bbee eennttiittlleedd ttoo\\naa tteenneemmeenntt ooff mmiinniimmuumm ccaarrppeett aarreeaa ooff 2277..8888 ssqq.. mm ((330000 ssqq.. mm..))..\\nExplanation: - RC is rate of construction in respect of RCC\\nPPrroovviiddeedd ffuurrtthheerr tthhaatt tthhee rreehhaabbiilliittaattiioonn aarreeaa ooff aannyy ooccccuuppaanntt ooff aa\\nConstruction and Land Rate (LR) is the rate of Open Land for FSI 1.\\nccoommmmeerrcciiaall eessttaabblliisshhmmeenntt,, wwhhoo iiss aalllloowweedd bbyy tthhee rreessppeeccttiivvee aauutthhoorriittyy\\nProvided further that in ease there is more than one land rate applicable\\nMMHHAADDAA//MMCCGGMM ttoo bbee rreehhaabbiilliittaatteedd iinn aa rreessiiddeennttiiaall tteenneemmeenntt iinn lliieeuu\\nto different parts of the plot under the CDS, a weighted average of all\\nooff hhiiss ccoommmmeerrcciiaall eessttaabblliisshhmmeenntt,, sshhaallll aallssoo bbee ggoovveerrnneedd bbyy tthhee\\nthe applicable rates shall be taken for calculating the Average Land Rate\\naaffoorreessaaiidd pprroovviissiioonnss aapppplliiccaabbllee ttoo tthhee rreessiiddeennttiiaall ooccccuuppaannttss iinn tthheessee\\nand the Basic Ratio. Provided further that for calculation of the Basic\\nRReegguullaattiioonnss..\\nRatio, the Land Rate (LR) and the Rate of Construction (RC) shall be\\n55.. TThhee lliisstt ooff eelliiggiibbllee ooccccuuppaannttss aanndd aarreeaa ooccccuuppiieedd bbyy eeaacchh ooff tthheemm sshhaallll\\ntaken for the year in which the proposal is approved by the Authority\\nbbee cceerrttiiffiieedd bbyy tthhee rreessppeeccttiivvee aauutthhoorriittyy ii..ee.. MMHHAADDAA oorr MMCCGGMM..\\nand the said ratio shall remain unchanged even if such Scheme\\n66.. FFuunnggiibbllee CCoommppeennssaattoorryy AArreeaa aass aapppplliiccaabbllee oonn tthhee aarreeaa ttoo bbee hhaannddeedd\\nundergoes any revision or modification subsequently during its course\\noovveerr ttoo MMHHAADDAA//MMCCGGMM sshhaallll nnoott bbee aalllloowweedd ttoo bbee uuttiilliizzeedd oonn ssaallee\\nof completion.\\nccoommppoonneenntt.. NNoo pprreemmiiuumm sshhaallll bbee cchhaarrggeedd oonn tthhee ffuunnggiibbllee\\nccoommppeennssaattoorryy aarreeaa iinn rreessppeecctt ooff aarreeaa ttoo bbee hhaannddeedd oovveerr ttoo\\nB. For redevelopment with tripartite agreement as per 2(b) above:\\nMMHHAADDAA//MMCCGGMM aanndd sshhaallll bbee eexxcclluussiivvee ooff tthhee FFuunnggiibbllee ccoommppeennssaattoorryy\\nWhen there is no developer coming forward for redevelopment of the\\nBBUUAA iiff aavvaaiilleedd..\\nbuilding as per above regulation 7(A) and at least 51% or the occupants\\nPPrroovviiddeedd tthhaatt aatt tthhee ooppttiioonn ooff tthhee OOwwnneerr//DDeevveellooppeerr,, tthhee aarreeaa eeqquuiivvaalleenntt\\nof at least 5 building adjacent at one location requested\\nttoo tthhee mmaarrkkeett vvaalluuee ((aass ppeerr AASSRR ooff tthhaatt yyeeaarr)) ooff aarreeaa aaddmmiissssiibbllee aass ppeerr\\nMHADA/MCGM to undertake redevelopment by appointing private\\ntthhee pprreessccrriibbeedd ppeerrcceennttaaggee ooff BBUUAA ttoo MMHHAADDAA//MMCCGGMM ccaann bbee mmaaddee\\ndeveloper, then in such case MHADA/MCGM may undertake the\\naavvaaiillaabbllee wwiitthhiinn tthhee ssaammee oorr aaddjjooiinniinngg mmuunniicciippaall wwaarrdd ooff MMCCGGMM..\\nredevelopment of cluster of all such buildings belongings to the\\n330066 DCPR 2034 307 DCPR 2034\\n', 'Original Notifications shall Original Notifications shall\\nbe referred for perspicuity be referred for perspicuity\\nbb.. BByy aappppooiinnttiinngg PPrriivvaattee ddeevveellooppeerr bbyy aauutthhoorriittyy wwiitthh ttrriippaarrttyy aaggrreeeemmeenntt\\nbbeettwweeeenn ddeevveellooppeerr MMHHAADDAA//MMCCGGMM aauutthhoorriittyy aanndd ooccccuuppaannttss 7. FSI Permissible:\\naassssoocciiaattiioonn aass ppeerr 77((1133)) ooff tthhiiss rreegguullaattiioonn.. A. For redevelopment undertaken by Private developers as per clause 2(a)\\ncc.. MMHHAADDAA // MMCCGGMM tthheemmsseellvveess bbyy aappppooiinnttiinngg ddeevveellooppeerr tthhrroouugghh above:\\nccoommppeettiittiivvee bbiiddddiinngg aass ppeerr ccllaauussee 77((CC)) ooff tthhiiss rreegguullaattiioonn FSI required for rehabilitation of existing occupants plus incentive\\n33.. AAllll tthhee eelliiggiibbllee ooccccuuppaannttss iinn bbuuiillddiinngg//ssttrruuccttuurreess sshhaallll bbee cceerrttiiffiieedd bbyy thereon as mentioned below, subject to minimum 3 FSI\\nrreessppeeccttiivvee aauutthhoorriittiieess oorr MMHHAADDAA // MMCCGGMM..\\n44.. EEaacchh ooccccuuppaanntt sshhaallll bbee rreehhaabbiilliittaatteedd aanndd ggiivveenn tthhee ccaarrppeett aarreeaa ooccccuuppiieedd Basic Ratio LR/RC Incentive (as % of Admissible rehab Area)\\nbbyy hhiimm ffoorr rreessiiddeennttiiaall ppuurrppoossee iinn tthhee oolldd bbuuiillddiinngg ssuubbjjeecctt ttoo tthhee For Single Plot For Composite redevelopment of\\nmmiinniimmuumm ffiixxeedd ccaarrppeett aarreeaa ooff 2277..8888 ssqq.. mm ((330000 ssqq..fftt..)) aanndd//oorr mmaaxxiimmuumm Two to Five Plots Six or more Plots\\nccaarrppeett aarreeaa uuppttoo 112200 ssqq..mm ((11229922 ssqq..fftt..)) IInn ccaassee ooff nnoonn--rreessiiddeennttiiaall Above 6 75 85 90\\nooccccuuppiieerr,, tthhee aarreeaa ttoo bbee ggiivveenn iinn tthhee rreeccoonnssttrruucctteedd bbuuiillddiinngg wwiillll bbee Above 4 and upto 6 78 88 95\\neeqquuiivvaalleenntt ttoo tthhee aarreeaa ooccccuuppiieedd iinn tthhee oolldd bbuuiillddiinngg.. PPrroovviiddeedd ffuurrtthheerr tthhaatt Upto 4 80 90 100\\neeaacchh eelliiggiibbllee rreessiiddeennttiiaall ccuumm ccoommmmeerrcciiaall ooccccuuppaanntt sshhaallll bbee eennttiittlleedd ttoo\\naa tteenneemmeenntt ooff mmiinniimmuumm ccaarrppeett aarreeaa ooff 2277..8888 ssqq.. mm ((330000 ssqq.. mm..))..\\nExplanation: - RC is rate of construction in respect of RCC\\nPPrroovviiddeedd ffuurrtthheerr tthhaatt tthhee rreehhaabbiilliittaattiioonn aarreeaa ooff aannyy ooccccuuppaanntt ooff aa\\nConstruction and Land Rate (LR) is the rate of Open Land for FSI 1.\\nccoommmmeerrcciiaall eessttaabblliisshhmmeenntt,, wwhhoo iiss aalllloowweedd bbyy tthhee rreessppeeccttiivvee aauutthhoorriittyy\\nProvided further that in ease there is more than one land rate applicable\\nMMHHAADDAA//MMCCGGMM ttoo bbee rreehhaabbiilliittaatteedd iinn aa rreessiiddeennttiiaall tteenneemmeenntt iinn lliieeuu\\nto different parts of the plot under the CDS, a weighted average of all\\nooff hhiiss ccoommmmeerrcciiaall eessttaabblliisshhmmeenntt,, sshhaallll aallssoo bbee ggoovveerrnneedd bbyy tthhee\\nthe applicable rates shall be taken for calculating the Average Land Rate\\naaffoorreessaaiidd pprroovviissiioonnss aapppplliiccaabbllee ttoo tthhee rreessiiddeennttiiaall ooccccuuppaannttss iinn tthheessee\\nand the Basic Ratio. Provided further that for calculation of the Basic\\nRReegguullaattiioonnss..\\nRatio, the Land Rate (LR) and the Rate of Construction (RC) shall be\\n55.. TThhee lliisstt ooff eelliiggiibbllee ooccccuuppaannttss aanndd aarreeaa ooccccuuppiieedd bbyy eeaacchh ooff tthheemm sshhaallll\\ntaken for the year in which the proposal is approved by the Authority\\nbbee cceerrttiiffiieedd bbyy tthhee rreessppeeccttiivvee aauutthhoorriittyy ii..ee.. MMHHAADDAA oorr MMCCGGMM..\\nand the said ratio shall remain unchanged even if such Scheme\\n66.. FFuunnggiibbllee CCoommppeennssaattoorryy AArreeaa aass aapppplliiccaabbllee oonn tthhee aarreeaa ttoo bbee hhaannddeedd\\nundergoes any revision or modification subsequently during its course\\noovveerr ttoo MMHHAADDAA//MMCCGGMM sshhaallll nnoott bbee aalllloowweedd ttoo bbee uuttiilliizzeedd oonn ssaallee\\nof completion.\\nccoommppoonneenntt.. NNoo pprreemmiiuumm sshhaallll bbee cchhaarrggeedd oonn tthhee ffuunnggiibbllee\\nccoommppeennssaattoorryy aarreeaa iinn rreessppeecctt ooff aarreeaa ttoo bbee hhaannddeedd oovveerr ttoo\\nB. For redevelopment with tripartite agreement as per 2(b) above:\\nMMHHAADDAA//MMCCGGMM aanndd sshhaallll bbee eexxcclluussiivvee ooff tthhee FFuunnggiibbllee ccoommppeennssaattoorryy\\nWhen there is no developer coming forward for redevelopment of the\\nBBUUAA iiff aavvaaiilleedd..\\nbuilding as per above regulation 7(A) and at least 51% or the occupants\\nPPrroovviiddeedd tthhaatt aatt tthhee ooppttiioonn ooff tthhee OOwwnneerr//DDeevveellooppeerr,, tthhee aarreeaa eeqquuiivvaalleenntt\\nof at least 5 building adjacent at one location requested\\nttoo tthhee mmaarrkkeett vvaalluuee ((aass ppeerr AASSRR ooff tthhaatt yyeeaarr)) ooff aarreeaa aaddmmiissssiibbllee aass ppeerr\\nMHADA/MCGM to undertake redevelopment by appointing private\\ntthhee pprreessccrriibbeedd ppeerrcceennttaaggee ooff BBUUAA ttoo MMHHAADDAA//MMCCGGMM ccaann bbee mmaaddee\\ndeveloper, then in such case MHADA/MCGM may undertake the\\naavvaaiillaabbllee wwiitthhiinn tthhee ssaammee oorr aaddjjooiinniinngg mmuunniicciippaall wwaarrdd ooff MMCCGGMM..\\nredevelopment of cluster of all such buildings belongings to the\\n330066 DCPR 2034 307 DCPR 2034\\n']\n"
     ]
    }
   ],
   "source": [
    "print(dense_results)"
   ]
  },
  {
   "cell_type": "code",
   "execution_count": 28,
   "metadata": {},
   "outputs": [
    {
     "name": "stdout",
     "output_type": "stream",
     "text": [
      "['Original Notifications shall\\nbe referred for perspicuity\\nredevelopment.\\n16. Restriction on transfer of tenements shall be governed by provisions\\nof Maharashtra Rent Control Act, till such time that a Co-op. Housing Society\\nis formed and thereafter the same shall be governed by the provision of\\nMaharashtra Co-op. Societies Act. However, tenements constructed for slum\\nrehabilitation shall not be transferable for a period of 10 years.\\n17. Corpus Fund: An amount of minimum Rs. 50,000/- per tenement or as\\ndirected by the HPC shall be created by the Promoter/Developer as a\\nCorpus fund, which will be utilised for maintenance of the\\nrehabilitation buildings for a period of 10 years.\\n18. Any ongoing scheme under Regulation 33(7) which fulfills the criteria\\nunder this Regulation can be included in the proposal under Regulation\\n33(9) for approval or converted into a CDS under this Regulation 33(9).\\nHowever, all dilutions of reservations under Regulation 33(7) shall have\\nto be restored as per this Regulation.\\n19. Heritage buildings of Grade-I and II as well as authorized and\\nstructurally sound retainable buildings may be included in the CD, but\\nshall have to be kept as they are, along with land appurtenant, and this\\narea shall be counted towards the slab of Incentive FSI, but shall not\\nbe considered for FSI under this Regulation. As regards such Heritage\\nStructures, the Promoter/Developer shall have to contribute Heritage\\nCess at 5% of ASR on the basis of BUA of the Heritage structure.\\nExisting provisions under the DCPR shall apply to Heritage Buildings of\\nGrade-III and buildings in heritage precincts. However, if the URS\\ncontains Grade I structure, the HPC shall consult the MHCC before\\ngranting approval.\\n20. If HPC MC/MCGM approves areas for amenities such as Fire\\nStations/Hospitals/ Police Stations/Schools, PAP/R&R etc. additional\\nArea required by the land-owning Authority other than\\nreservations/designations under the DP, such amenities shall be\\nhanded over to the concerned Authority free of cost. The BUA of such\\namenity shall be considered towards rehabilitation FSI, and incentive\\nFSI as admissible under this Regulation shall be permissible.\\n21. HPC, headed by Municipal Commissioner and constituted by the Govt.,\\nshall be competent to approve the CDS with the previous sanction of\\nthe Govt. under this Regulation. On approval by HPC, the proposal shall\\nbe submitted to the Municipal Commissioner, MCGM for approval of\\nplans. The decision of HPC shall be appealable as if it is an appeal under\\nsection 47 of the MR&TP Act, 1966.\\nProvided that no CDS shall be sanctioned by the Govt without giving\\n202 DCPR 2034\\n', 'Original Notifications shall\\nbe referred for perspicuity\\nredevelopment.\\n16. Restriction on transfer of tenements shall be governed by provisions\\nof Maharashtra Rent Control Act, till such time that a Co-op. Housing Society\\nis formed and thereafter the same shall be governed by the provision of\\nMaharashtra Co-op. Societies Act. However, tenements constructed for slum\\nrehabilitation shall not be transferable for a period of 10 years.\\n17. Corpus Fund: An amount of minimum Rs. 50,000/- per tenement or as\\ndirected by the HPC shall be created by the Promoter/Developer as a\\nCorpus fund, which will be utilised for maintenance of the\\nrehabilitation buildings for a period of 10 years.\\n18. Any ongoing scheme under Regulation 33(7) which fulfills the criteria\\nunder this Regulation can be included in the proposal under Regulation\\n33(9) for approval or converted into a CDS under this Regulation 33(9).\\nHowever, all dilutions of reservations under Regulation 33(7) shall have\\nto be restored as per this Regulation.\\n19. Heritage buildings of Grade-I and II as well as authorized and\\nstructurally sound retainable buildings may be included in the CD, but\\nshall have to be kept as they are, along with land appurtenant, and this\\narea shall be counted towards the slab of Incentive FSI, but shall not\\nbe considered for FSI under this Regulation. As regards such Heritage\\nStructures, the Promoter/Developer shall have to contribute Heritage\\nCess at 5% of ASR on the basis of BUA of the Heritage structure.\\nExisting provisions under the DCPR shall apply to Heritage Buildings of\\nGrade-III and buildings in heritage precincts. However, if the URS\\ncontains Grade I structure, the HPC shall consult the MHCC before\\ngranting approval.\\n20. If HPC MC/MCGM approves areas for amenities such as Fire\\nStations/Hospitals/ Police Stations/Schools, PAP/R&R etc. additional\\nArea required by the land-owning Authority other than\\nreservations/designations under the DP, such amenities shall be\\nhanded over to the concerned Authority free of cost. The BUA of such\\namenity shall be considered towards rehabilitation FSI, and incentive\\nFSI as admissible under this Regulation shall be permissible.\\n21. HPC, headed by Municipal Commissioner and constituted by the Govt.,\\nshall be competent to approve the CDS with the previous sanction of\\nthe Govt. under this Regulation. On approval by HPC, the proposal shall\\nbe submitted to the Municipal Commissioner, MCGM for approval of\\nplans. The decision of HPC shall be appealable as if it is an appeal under\\nsection 47 of the MR&TP Act, 1966.\\nProvided that no CDS shall be sanctioned by the Govt without giving\\n202 DCPR 2034\\n', 'Original Notifications shall\\nbe referred for perspicuity\\nredevelopment.\\n16. Restriction on transfer of tenements shall be governed by provisions\\nof Maharashtra Rent Control Act, till such time that a Co-op. Housing Society\\nis formed and thereafter the same shall be governed by the provision of\\nMaharashtra Co-op. Societies Act. However, tenements constructed for slum\\nrehabilitation shall not be transferable for a period of 10 years.\\n17. Corpus Fund: An amount of minimum Rs. 50,000/- per tenement or as\\ndirected by the HPC shall be created by the Promoter/Developer as a\\nCorpus fund, which will be utilised for maintenance of the\\nrehabilitation buildings for a period of 10 years.\\n18. Any ongoing scheme under Regulation 33(7) which fulfills the criteria\\nunder this Regulation can be included in the proposal under Regulation\\n33(9) for approval or converted into a CDS under this Regulation 33(9).\\nHowever, all dilutions of reservations under Regulation 33(7) shall have\\nto be restored as per this Regulation.\\n19. Heritage buildings of Grade-I and II as well as authorized and\\nstructurally sound retainable buildings may be included in the CD, but\\nshall have to be kept as they are, along with land appurtenant, and this\\narea shall be counted towards the slab of Incentive FSI, but shall not\\nbe considered for FSI under this Regulation. As regards such Heritage\\nStructures, the Promoter/Developer shall have to contribute Heritage\\nCess at 5% of ASR on the basis of BUA of the Heritage structure.\\nExisting provisions under the DCPR shall apply to Heritage Buildings of\\nGrade-III and buildings in heritage precincts. However, if the URS\\ncontains Grade I structure, the HPC shall consult the MHCC before\\ngranting approval.\\n20. If HPC MC/MCGM approves areas for amenities such as Fire\\nStations/Hospitals/ Police Stations/Schools, PAP/R&R etc. additional\\nArea required by the land-owning Authority other than\\nreservations/designations under the DP, such amenities shall be\\nhanded over to the concerned Authority free of cost. The BUA of such\\namenity shall be considered towards rehabilitation FSI, and incentive\\nFSI as admissible under this Regulation shall be permissible.\\n21. HPC, headed by Municipal Commissioner and constituted by the Govt.,\\nshall be competent to approve the CDS with the previous sanction of\\nthe Govt. under this Regulation. On approval by HPC, the proposal shall\\nbe submitted to the Municipal Commissioner, MCGM for approval of\\nplans. The decision of HPC shall be appealable as if it is an appeal under\\nsection 47 of the MR&TP Act, 1966.\\nProvided that no CDS shall be sanctioned by the Govt without giving\\n202 DCPR 2034\\n', 'Original Notifications shall Original Notifications shall\\nbe referred for perspicuity be referred for perspicuity\\nmmeeaannss tthhee nneett uussaabbllee fflloooorr aarreeaa wwiitthhiinn aa tteenneemmeenntt eexxcclluuddiinngg tthhaatt\\nccoovveerreedd bbyy tthhee wwaallllss oorr aannyy ootthheerr aarreeaass ssppeecciiffiiccaallllyy eexxeemmpptteedd ffrroomm\\nfflloooorr ssppaaccee iinnddeexx ccoommppuuttaattiioonn aass ppeerr tthheenn//pprreevvaaiilliinngg RReegguullaattiioonn bbuutt Basic Ratio Incentive (As % of Admissible Rehabilitation Area)\\n(LR/RC)\\niinncclluuddiinngg tthhee aarreeaass ooff bbaallccoonnyy iiff aalllloowweedd ffrreeee ooff FFSSII aass ppeerr tthheenn\\nRReegguullaattiioonn For 0.4 ha up More than 1 More than 5 For more\\nto 1 ha. ha up to 5 ha ha up to 10 ha. than 10 ha\\nAbove 6.00 85% 90% 95% 100%\\nAbove 4.00 95% 100% 105% 110%\\n66.. TToottaall PPeerrmmiissssiibbllee FFSSII ffoorr CCDDSS::\\nAnd upto 6.00\\naa)) TThhee ttoottaall ppeerrmmiissssiibbllee FFSSII ffoorr aann CCDDSS sshhaallll bbee 44..0000 oonn ggrroossss pplloott aarreeaa,, bbuutt\\nAbove 2.00 and 105% 110% 115% 120%\\neexxcclluuddiinngg tthhee rreesseerrvvaattiioonnss// eexxiissttiinngg aammeenniittyy,, rrooaadd sseett bbaacckk,, aarreeaa uunnddeerr\\nupto 4.00\\neexxiissttiinngg MMuunniicciippaall RRooaaddss bbuutt iinncclluuddiinngg tthhee BBUUAA uunnddeerr\\nUpto 2.00 115% 120% 125% 130%\\nrreesseerrvvaattiioonn//eexxiissttiinngg aammeenniittyy,, rrooaadd sseett bbaacckk oorr ssuumm ttoottaall ooff tthhee\\nRReehhaabbiilliittaattiioonn FFSSII ++ IInncceennttiivvee FFSSII,, wwhhiicchheevveerr iiss mmoorree..\\nExplanation: -\\nPPrroovviiddeedd tthhaatt tthhee aaffoorreessaaiidd FFSSII sshhaallll bbee eexxcclluussiivvee ooff tthhee FFuunnggiibbllee\\nCCoommppeennssaattoorryy aarreeaa aaddmmiissssiibbllee uunnddeerr tthhee pprroovviissiioonn ooff DDCCRR 3311((33))..\\n(i) *RC is rate of construction in respect of RCC Construction and Land\\nbb)) TThhee iinncceennttiivvee FFSSII aaddmmiissssiibbllee aaggaaiinnsstt tthhee FFSSII rreeqquuiirreedd ffoorr rreehhaabbiilliittaattiioonn Rate (LR) is the rate of Open Land for FSI 1.\\nsshhaallll bbee bbaasseedd oonn tthhee rraattiioo ((hheerreeiinnaafftteerr rreeffeerrrreedd ttoo aass BBaassiicc RRaattiioo)) ooff Provided further that in case there is more than one land rate\\nLLaanndd RRaattee ((LLRR)),, iinn RRss//ssqq.. mm..,, ooff tthhee llaannddss iinncclluuddeedd iinn tthhee UURRCC;; aass ppeerr tthhee applicable to different parts of the plot under the CDS, a weighted\\nAASSRR aanndd RRaattee ooff CCoonnssttrruuccttiioonn ((RRCC))** iinn RRss//ssqq.. mm,, aapppplliiccaabbllee ttoo tthhee aarreeaa average of all the applicable rates shall be taken for calculating the\\naass ppeerr tthhee AASSRR aanndd sshhaallll bbee ggiivveenn aass ppeerr tthhee TTaabbllee--BB bbeellooww:: Average Land Rate and the Basic Ratio.\\nProvided further that for calculation of the Basic Ratio, the Land Rate\\nTTaabbllee--BB (LR) and the Rate of Construction (RC) shall be taken for the year in\\nwhich the Cluster Development Project is approved and LOI is issued\\nby the Authority competent to approve it and the said ratio shall\\nBBaassiicc IInncceennttiivvee ((AAss %% ooff AAddmmiissssiibbllee RReehhaabbiilliittaattiioonn AArreeaa))\\nremain unchanged even if such Scheme undergoes any revision or\\nRRaattiioo\\nmodification subsequently during its course of completion.\\n((LLRR//RRCC))**\\nFFoorr 00..44 hhaa uupp MMoorree tthhaann MMoorree tthhaann 55 FFoorr Provided further that if any new area is allowed to be added to or\\nttoo 11 hhaa 11 hhaa uupp ttoo 55 hhaa uupp ttoo 1100 mmoorr ee deleted from the CDS after such Scheme has been approved and if\\nhhaa hhaa.. tthhaann there is change in the slab prescribed above, the incentive FSI for the\\n1100hhaa\\ntotal area of the revised Scheme shall be determined as per the new\\nAAbboovvee 5555%% 6600%% 6655%% 7700%%\\nslab. Provided further that any new area being added to a CDS shall\\n66..0000\\nnot be less than 75% of the minimum area required for CDS.\\nAAbboovvee 6655%% 7700%% 7755%% 8800%% Provided further that augmentation of area of CD shall not be allowed\\n44..0000 aanndd after further CC has been issued in respect of more than 75% of the\\nuuppttoo 66..0000\\ntotal permissible BUA sanctioned under the original Scheme and there\\nAAbboovvee 7755%% 8800%% 8855%% 9900%%\\nshall be no revision of individual areas as a result of such amalgamation\\n22..0000 aanndd\\nof area. However, deletion of area from a sanctioned scheme will be\\nuuppttoo 44..0000\\npermissible, provided the construction of rehabilitation component\\nUUppttoo 8855%% 9900%% 9955%% 110000%%\\n22..0000 has not commenced and such deletion does not break the contiguity\\nof the area under CDS.\\n119944 DCPR 2034 195 DCPR 2034\\n', 'Original Notifications shall Original Notifications shall\\nbe referred for perspicuity be referred for perspicuity\\nmmeeaannss tthhee nneett uussaabbllee fflloooorr aarreeaa wwiitthhiinn aa tteenneemmeenntt eexxcclluuddiinngg tthhaatt\\nccoovveerreedd bbyy tthhee wwaallllss oorr aannyy ootthheerr aarreeaass ssppeecciiffiiccaallllyy eexxeemmpptteedd ffrroomm\\nfflloooorr ssppaaccee iinnddeexx ccoommppuuttaattiioonn aass ppeerr tthheenn//pprreevvaaiilliinngg RReegguullaattiioonn bbuutt Basic Ratio Incentive (As % of Admissible Rehabilitation Area)\\n(LR/RC)\\niinncclluuddiinngg tthhee aarreeaass ooff bbaallccoonnyy iiff aalllloowweedd ffrreeee ooff FFSSII aass ppeerr tthheenn\\nRReegguullaattiioonn For 0.4 ha up More than 1 More than 5 For more\\nto 1 ha. ha up to 5 ha ha up to 10 ha. than 10 ha\\nAbove 6.00 85% 90% 95% 100%\\nAbove 4.00 95% 100% 105% 110%\\n66.. TToottaall PPeerrmmiissssiibbllee FFSSII ffoorr CCDDSS::\\nAnd upto 6.00\\naa)) TThhee ttoottaall ppeerrmmiissssiibbllee FFSSII ffoorr aann CCDDSS sshhaallll bbee 44..0000 oonn ggrroossss pplloott aarreeaa,, bbuutt\\nAbove 2.00 and 105% 110% 115% 120%\\neexxcclluuddiinngg tthhee rreesseerrvvaattiioonnss// eexxiissttiinngg aammeenniittyy,, rrooaadd sseett bbaacckk,, aarreeaa uunnddeerr\\nupto 4.00\\neexxiissttiinngg MMuunniicciippaall RRooaaddss bbuutt iinncclluuddiinngg tthhee BBUUAA uunnddeerr\\nUpto 2.00 115% 120% 125% 130%\\nrreesseerrvvaattiioonn//eexxiissttiinngg aammeenniittyy,, rrooaadd sseett bbaacckk oorr ssuumm ttoottaall ooff tthhee\\nRReehhaabbiilliittaattiioonn FFSSII ++ IInncceennttiivvee FFSSII,, wwhhiicchheevveerr iiss mmoorree..\\nExplanation: -\\nPPrroovviiddeedd tthhaatt tthhee aaffoorreessaaiidd FFSSII sshhaallll bbee eexxcclluussiivvee ooff tthhee FFuunnggiibbllee\\nCCoommppeennssaattoorryy aarreeaa aaddmmiissssiibbllee uunnddeerr tthhee pprroovviissiioonn ooff DDCCRR 3311((33))..\\n(i) *RC is rate of construction in respect of RCC Construction and Land\\nbb)) TThhee iinncceennttiivvee FFSSII aaddmmiissssiibbllee aaggaaiinnsstt tthhee FFSSII rreeqquuiirreedd ffoorr rreehhaabbiilliittaattiioonn Rate (LR) is the rate of Open Land for FSI 1.\\nsshhaallll bbee bbaasseedd oonn tthhee rraattiioo ((hheerreeiinnaafftteerr rreeffeerrrreedd ttoo aass BBaassiicc RRaattiioo)) ooff Provided further that in case there is more than one land rate\\nLLaanndd RRaattee ((LLRR)),, iinn RRss//ssqq.. mm..,, ooff tthhee llaannddss iinncclluuddeedd iinn tthhee UURRCC;; aass ppeerr tthhee applicable to different parts of the plot under the CDS, a weighted\\nAASSRR aanndd RRaattee ooff CCoonnssttrruuccttiioonn ((RRCC))** iinn RRss//ssqq.. mm,, aapppplliiccaabbllee ttoo tthhee aarreeaa average of all the applicable rates shall be taken for calculating the\\naass ppeerr tthhee AASSRR aanndd sshhaallll bbee ggiivveenn aass ppeerr tthhee TTaabbllee--BB bbeellooww:: Average Land Rate and the Basic Ratio.\\nProvided further that for calculation of the Basic Ratio, the Land Rate\\nTTaabbllee--BB (LR) and the Rate of Construction (RC) shall be taken for the year in\\nwhich the Cluster Development Project is approved and LOI is issued\\nby the Authority competent to approve it and the said ratio shall\\nBBaassiicc IInncceennttiivvee ((AAss %% ooff AAddmmiissssiibbllee RReehhaabbiilliittaattiioonn AArreeaa))\\nremain unchanged even if such Scheme undergoes any revision or\\nRRaattiioo\\nmodification subsequently during its course of completion.\\n((LLRR//RRCC))**\\nFFoorr 00..44 hhaa uupp MMoorree tthhaann MMoorree tthhaann 55 FFoorr Provided further that if any new area is allowed to be added to or\\nttoo 11 hhaa 11 hhaa uupp ttoo 55 hhaa uupp ttoo 1100 mmoorr ee deleted from the CDS after such Scheme has been approved and if\\nhhaa hhaa.. tthhaann there is change in the slab prescribed above, the incentive FSI for the\\n1100hhaa\\ntotal area of the revised Scheme shall be determined as per the new\\nAAbboovvee 5555%% 6600%% 6655%% 7700%%\\nslab. Provided further that any new area being added to a CDS shall\\n66..0000\\nnot be less than 75% of the minimum area required for CDS.\\nAAbboovvee 6655%% 7700%% 7755%% 8800%% Provided further that augmentation of area of CD shall not be allowed\\n44..0000 aanndd after further CC has been issued in respect of more than 75% of the\\nuuppttoo 66..0000\\ntotal permissible BUA sanctioned under the original Scheme and there\\nAAbboovvee 7755%% 8800%% 8855%% 9900%%\\nshall be no revision of individual areas as a result of such amalgamation\\n22..0000 aanndd\\nof area. However, deletion of area from a sanctioned scheme will be\\nuuppttoo 44..0000\\npermissible, provided the construction of rehabilitation component\\nUUppttoo 8855%% 9900%% 9955%% 110000%%\\n22..0000 has not commenced and such deletion does not break the contiguity\\nof the area under CDS.\\n119944 DCPR 2034 195 DCPR 2034\\n']\n"
     ]
    }
   ],
   "source": [
    "print(sparse_results)"
   ]
  },
  {
   "cell_type": "code",
   "execution_count": 29,
   "metadata": {},
   "outputs": [
    {
     "name": "stdout",
     "output_type": "stream",
     "text": [
      "['Original Notifications shall\\nbe referred for perspicuity\\n33(7)(B) Additional FSI for Redevelopment of existing\\nresidential housing societies excluding buildings covered\\nunder regulation 33(7) and 33(7)(A):\\n1) In case of redevelopment of existing residential housing societies\\nexcluding buildings covered under regulation 33(7) and 33(7)(A)\\nproposed by Housing societies/landlords or through their proponents\\nwhere existing members are proposed to be re- accommodated on the\\nsame plot, incentive additional BUA to the extent of 15% of existing\\nBUA or 10 sq. m per tenement whichever is more shall be permissible\\nwithout premium.\\nProvided further that if the existing authorized BUA and incentive\\nthereon as stated above is less than the permissible FSI as per\\nregulation 30(A)(1), then society may avail ‘Additional FSI on payment\\nof premium/TDR’ up to limit of permissible FSI.\\n2) If staircase, lift & lift lobby areas are claimed free of FSI by charging\\npremium as per then prevailing Regulation, then such areas to that\\nextent only will be granted free of FSI without charging premium. If\\nstaircase, lift & lift lobby areas are counted in FSI in earlier\\ndevelopment, then incentive additional FSI as stated in Sr. No. 1 shall\\nalso be given on such area & such areas may be availed free of FSI by\\ncharging premium as per these Regulations.\\n3) This Regulation shall be applicable only when existing members of the\\nsocieties are proposed to be re-accommodated.\\n4) This regulation will be applicable for redevelopment of existing\\nauthorized buildings which are of thirty years of age or more.\\n5) This regulation shall not be applicable in respect of redevelopment\\nproposal to be/being processed under Regulation No. 33(5), 33(7),\\n33(8), 33(9), 33(9)(A), 33(9)(B), 33(10), 33(10) (A), 33(20) (A), 33(21).\\nExplanation: -Age of a building shall be as on the 1st of January of the\\nyear in which a complete redevelopment proposal is submitted to the\\nCommissioner and shall be calculated from the date of Occupation\\nCertificate or alternately, from the first date of assessment as per the\\nproperty tax record in respect of such building or building on which\\nbalance/admissible FSI has been consumed by way of vertical\\nextension as per then prevailing Regulation, available with the MCGM.\\n6) This incentive additional BUA shall be independent of additional BUA\\nas permissible under Regulation No. 14(A), 15, 16 and 17, if any.\\n7) Fungible compensatory area admissible under Regulation No. 31(3) on\\nthe existing authorised BUA shall be without charging premium and\\nover the incentive additional BUA by charging of premium.\\n8) If tenanted building/s and building/s of co-operative housing\\nsociety/non- tenanted building/s co-exist on the plot under\\ndevelopment, then proportionate land component as per the existing\\nauthorised BUA of existing tenanted building on the plot shall be\\n180 DCPR 2034\\n', 'Original Notifications shall\\nbe referred for perspicuity\\n33(7)(B) Additional FSI for Redevelopment of existing\\nresidential housing societies excluding buildings covered\\nunder regulation 33(7) and 33(7)(A):\\n1) In case of redevelopment of existing residential housing societies\\nexcluding buildings covered under regulation 33(7) and 33(7)(A)\\nproposed by Housing societies/landlords or through their proponents\\nwhere existing members are proposed to be re- accommodated on the\\nsame plot, incentive additional BUA to the extent of 15% of existing\\nBUA or 10 sq. m per tenement whichever is more shall be permissible\\nwithout premium.\\nProvided further that if the existing authorized BUA and incentive\\nthereon as stated above is less than the permissible FSI as per\\nregulation 30(A)(1), then society may avail ‘Additional FSI on payment\\nof premium/TDR’ up to limit of permissible FSI.\\n2) If staircase, lift & lift lobby areas are claimed free of FSI by charging\\npremium as per then prevailing Regulation, then such areas to that\\nextent only will be granted free of FSI without charging premium. If\\nstaircase, lift & lift lobby areas are counted in FSI in earlier\\ndevelopment, then incentive additional FSI as stated in Sr. No. 1 shall\\nalso be given on such area & such areas may be availed free of FSI by\\ncharging premium as per these Regulations.\\n3) This Regulation shall be applicable only when existing members of the\\nsocieties are proposed to be re-accommodated.\\n4) This regulation will be applicable for redevelopment of existing\\nauthorized buildings which are of thirty years of age or more.\\n5) This regulation shall not be applicable in respect of redevelopment\\nproposal to be/being processed under Regulation No. 33(5), 33(7),\\n33(8), 33(9), 33(9)(A), 33(9)(B), 33(10), 33(10) (A), 33(20) (A), 33(21).\\nExplanation: -Age of a building shall be as on the 1st of January of the\\nyear in which a complete redevelopment proposal is submitted to the\\nCommissioner and shall be calculated from the date of Occupation\\nCertificate or alternately, from the first date of assessment as per the\\nproperty tax record in respect of such building or building on which\\nbalance/admissible FSI has been consumed by way of vertical\\nextension as per then prevailing Regulation, available with the MCGM.\\n6) This incentive additional BUA shall be independent of additional BUA\\nas permissible under Regulation No. 14(A), 15, 16 and 17, if any.\\n7) Fungible compensatory area admissible under Regulation No. 31(3) on\\nthe existing authorised BUA shall be without charging premium and\\nover the incentive additional BUA by charging of premium.\\n8) If tenanted building/s and building/s of co-operative housing\\nsociety/non- tenanted building/s co-exist on the plot under\\ndevelopment, then proportionate land component as per the existing\\nauthorised BUA of existing tenanted building on the plot shall be\\n180 DCPR 2034\\n', 'Original Notifications shall\\nbe referred for perspicuity\\n33(7)(B) Additional FSI for Redevelopment of existing\\nresidential housing societies excluding buildings covered\\nunder regulation 33(7) and 33(7)(A):\\n1) In case of redevelopment of existing residential housing societies\\nexcluding buildings covered under regulation 33(7) and 33(7)(A)\\nproposed by Housing societies/landlords or through their proponents\\nwhere existing members are proposed to be re- accommodated on the\\nsame plot, incentive additional BUA to the extent of 15% of existing\\nBUA or 10 sq. m per tenement whichever is more shall be permissible\\nwithout premium.\\nProvided further that if the existing authorized BUA and incentive\\nthereon as stated above is less than the permissible FSI as per\\nregulation 30(A)(1), then society may avail ‘Additional FSI on payment\\nof premium/TDR’ up to limit of permissible FSI.\\n2) If staircase, lift & lift lobby areas are claimed free of FSI by charging\\npremium as per then prevailing Regulation, then such areas to that\\nextent only will be granted free of FSI without charging premium. If\\nstaircase, lift & lift lobby areas are counted in FSI in earlier\\ndevelopment, then incentive additional FSI as stated in Sr. No. 1 shall\\nalso be given on such area & such areas may be availed free of FSI by\\ncharging premium as per these Regulations.\\n3) This Regulation shall be applicable only when existing members of the\\nsocieties are proposed to be re-accommodated.\\n4) This regulation will be applicable for redevelopment of existing\\nauthorized buildings which are of thirty years of age or more.\\n5) This regulation shall not be applicable in respect of redevelopment\\nproposal to be/being processed under Regulation No. 33(5), 33(7),\\n33(8), 33(9), 33(9)(A), 33(9)(B), 33(10), 33(10) (A), 33(20) (A), 33(21).\\nExplanation: -Age of a building shall be as on the 1st of January of the\\nyear in which a complete redevelopment proposal is submitted to the\\nCommissioner and shall be calculated from the date of Occupation\\nCertificate or alternately, from the first date of assessment as per the\\nproperty tax record in respect of such building or building on which\\nbalance/admissible FSI has been consumed by way of vertical\\nextension as per then prevailing Regulation, available with the MCGM.\\n6) This incentive additional BUA shall be independent of additional BUA\\nas permissible under Regulation No. 14(A), 15, 16 and 17, if any.\\n7) Fungible compensatory area admissible under Regulation No. 31(3) on\\nthe existing authorised BUA shall be without charging premium and\\nover the incentive additional BUA by charging of premium.\\n8) If tenanted building/s and building/s of co-operative housing\\nsociety/non- tenanted building/s co-exist on the plot under\\ndevelopment, then proportionate land component as per the existing\\nauthorised BUA of existing tenanted building on the plot shall be\\n180 DCPR 2034\\n', 'Original Notifications shall Original Notifications shall\\nbe referred for perspicuity be referred for perspicuity\\nbb.. BByy aappppooiinnttiinngg PPrriivvaattee ddeevveellooppeerr bbyy aauutthhoorriittyy wwiitthh ttrriippaarrttyy aaggrreeeemmeenntt\\nbbeettwweeeenn ddeevveellooppeerr MMHHAADDAA//MMCCGGMM aauutthhoorriittyy aanndd ooccccuuppaannttss 7. FSI Permissible:\\naassssoocciiaattiioonn aass ppeerr 77((1133)) ooff tthhiiss rreegguullaattiioonn.. A. For redevelopment undertaken by Private developers as per clause 2(a)\\ncc.. MMHHAADDAA // MMCCGGMM tthheemmsseellvveess bbyy aappppooiinnttiinngg ddeevveellooppeerr tthhrroouugghh above:\\nccoommppeettiittiivvee bbiiddddiinngg aass ppeerr ccllaauussee 77((CC)) ooff tthhiiss rreegguullaattiioonn FSI required for rehabilitation of existing occupants plus incentive\\n33.. AAllll tthhee eelliiggiibbllee ooccccuuppaannttss iinn bbuuiillddiinngg//ssttrruuccttuurreess sshhaallll bbee cceerrttiiffiieedd bbyy thereon as mentioned below, subject to minimum 3 FSI\\nrreessppeeccttiivvee aauutthhoorriittiieess oorr MMHHAADDAA // MMCCGGMM..\\n44.. EEaacchh ooccccuuppaanntt sshhaallll bbee rreehhaabbiilliittaatteedd aanndd ggiivveenn tthhee ccaarrppeett aarreeaa ooccccuuppiieedd Basic Ratio LR/RC Incentive (as % of Admissible rehab Area)\\nbbyy hhiimm ffoorr rreessiiddeennttiiaall ppuurrppoossee iinn tthhee oolldd bbuuiillddiinngg ssuubbjjeecctt ttoo tthhee For Single Plot For Composite redevelopment of\\nmmiinniimmuumm ffiixxeedd ccaarrppeett aarreeaa ooff 2277..8888 ssqq.. mm ((330000 ssqq..fftt..)) aanndd//oorr mmaaxxiimmuumm Two to Five Plots Six or more Plots\\nccaarrppeett aarreeaa uuppttoo 112200 ssqq..mm ((11229922 ssqq..fftt..)) IInn ccaassee ooff nnoonn--rreessiiddeennttiiaall Above 6 75 85 90\\nooccccuuppiieerr,, tthhee aarreeaa ttoo bbee ggiivveenn iinn tthhee rreeccoonnssttrruucctteedd bbuuiillddiinngg wwiillll bbee Above 4 and upto 6 78 88 95\\neeqquuiivvaalleenntt ttoo tthhee aarreeaa ooccccuuppiieedd iinn tthhee oolldd bbuuiillddiinngg.. PPrroovviiddeedd ffuurrtthheerr tthhaatt Upto 4 80 90 100\\neeaacchh eelliiggiibbllee rreessiiddeennttiiaall ccuumm ccoommmmeerrcciiaall ooccccuuppaanntt sshhaallll bbee eennttiittlleedd ttoo\\naa tteenneemmeenntt ooff mmiinniimmuumm ccaarrppeett aarreeaa ooff 2277..8888 ssqq.. mm ((330000 ssqq.. mm..))..\\nExplanation: - RC is rate of construction in respect of RCC\\nPPrroovviiddeedd ffuurrtthheerr tthhaatt tthhee rreehhaabbiilliittaattiioonn aarreeaa ooff aannyy ooccccuuppaanntt ooff aa\\nConstruction and Land Rate (LR) is the rate of Open Land for FSI 1.\\nccoommmmeerrcciiaall eessttaabblliisshhmmeenntt,, wwhhoo iiss aalllloowweedd bbyy tthhee rreessppeeccttiivvee aauutthhoorriittyy\\nProvided further that in ease there is more than one land rate applicable\\nMMHHAADDAA//MMCCGGMM ttoo bbee rreehhaabbiilliittaatteedd iinn aa rreessiiddeennttiiaall tteenneemmeenntt iinn lliieeuu\\nto different parts of the plot under the CDS, a weighted average of all\\nooff hhiiss ccoommmmeerrcciiaall eessttaabblliisshhmmeenntt,, sshhaallll aallssoo bbee ggoovveerrnneedd bbyy tthhee\\nthe applicable rates shall be taken for calculating the Average Land Rate\\naaffoorreessaaiidd pprroovviissiioonnss aapppplliiccaabbllee ttoo tthhee rreessiiddeennttiiaall ooccccuuppaannttss iinn tthheessee\\nand the Basic Ratio. Provided further that for calculation of the Basic\\nRReegguullaattiioonnss..\\nRatio, the Land Rate (LR) and the Rate of Construction (RC) shall be\\n55.. TThhee lliisstt ooff eelliiggiibbllee ooccccuuppaannttss aanndd aarreeaa ooccccuuppiieedd bbyy eeaacchh ooff tthheemm sshhaallll\\ntaken for the year in which the proposal is approved by the Authority\\nbbee cceerrttiiffiieedd bbyy tthhee rreessppeeccttiivvee aauutthhoorriittyy ii..ee.. MMHHAADDAA oorr MMCCGGMM..\\nand the said ratio shall remain unchanged even if such Scheme\\n66.. FFuunnggiibbllee CCoommppeennssaattoorryy AArreeaa aass aapppplliiccaabbllee oonn tthhee aarreeaa ttoo bbee hhaannddeedd\\nundergoes any revision or modification subsequently during its course\\noovveerr ttoo MMHHAADDAA//MMCCGGMM sshhaallll nnoott bbee aalllloowweedd ttoo bbee uuttiilliizzeedd oonn ssaallee\\nof completion.\\nccoommppoonneenntt.. NNoo pprreemmiiuumm sshhaallll bbee cchhaarrggeedd oonn tthhee ffuunnggiibbllee\\nccoommppeennssaattoorryy aarreeaa iinn rreessppeecctt ooff aarreeaa ttoo bbee hhaannddeedd oovveerr ttoo\\nB. For redevelopment with tripartite agreement as per 2(b) above:\\nMMHHAADDAA//MMCCGGMM aanndd sshhaallll bbee eexxcclluussiivvee ooff tthhee FFuunnggiibbllee ccoommppeennssaattoorryy\\nWhen there is no developer coming forward for redevelopment of the\\nBBUUAA iiff aavvaaiilleedd..\\nbuilding as per above regulation 7(A) and at least 51% or the occupants\\nPPrroovviiddeedd tthhaatt aatt tthhee ooppttiioonn ooff tthhee OOwwnneerr//DDeevveellooppeerr,, tthhee aarreeaa eeqquuiivvaalleenntt\\nof at least 5 building adjacent at one location requested\\nttoo tthhee mmaarrkkeett vvaalluuee ((aass ppeerr AASSRR ooff tthhaatt yyeeaarr)) ooff aarreeaa aaddmmiissssiibbllee aass ppeerr\\nMHADA/MCGM to undertake redevelopment by appointing private\\ntthhee pprreessccrriibbeedd ppeerrcceennttaaggee ooff BBUUAA ttoo MMHHAADDAA//MMCCGGMM ccaann bbee mmaaddee\\ndeveloper, then in such case MHADA/MCGM may undertake the\\naavvaaiillaabbllee wwiitthhiinn tthhee ssaammee oorr aaddjjooiinniinngg mmuunniicciippaall wwaarrdd ooff MMCCGGMM..\\nredevelopment of cluster of all such buildings belongings to the\\n330066 DCPR 2034 307 DCPR 2034\\n', 'Original Notifications shall Original Notifications shall\\nbe referred for perspicuity be referred for perspicuity\\nbb.. BByy aappppooiinnttiinngg PPrriivvaattee ddeevveellooppeerr bbyy aauutthhoorriittyy wwiitthh ttrriippaarrttyy aaggrreeeemmeenntt\\nbbeettwweeeenn ddeevveellooppeerr MMHHAADDAA//MMCCGGMM aauutthhoorriittyy aanndd ooccccuuppaannttss 7. FSI Permissible:\\naassssoocciiaattiioonn aass ppeerr 77((1133)) ooff tthhiiss rreegguullaattiioonn.. A. For redevelopment undertaken by Private developers as per clause 2(a)\\ncc.. MMHHAADDAA // MMCCGGMM tthheemmsseellvveess bbyy aappppooiinnttiinngg ddeevveellooppeerr tthhrroouugghh above:\\nccoommppeettiittiivvee bbiiddddiinngg aass ppeerr ccllaauussee 77((CC)) ooff tthhiiss rreegguullaattiioonn FSI required for rehabilitation of existing occupants plus incentive\\n33.. AAllll tthhee eelliiggiibbllee ooccccuuppaannttss iinn bbuuiillddiinngg//ssttrruuccttuurreess sshhaallll bbee cceerrttiiffiieedd bbyy thereon as mentioned below, subject to minimum 3 FSI\\nrreessppeeccttiivvee aauutthhoorriittiieess oorr MMHHAADDAA // MMCCGGMM..\\n44.. EEaacchh ooccccuuppaanntt sshhaallll bbee rreehhaabbiilliittaatteedd aanndd ggiivveenn tthhee ccaarrppeett aarreeaa ooccccuuppiieedd Basic Ratio LR/RC Incentive (as % of Admissible rehab Area)\\nbbyy hhiimm ffoorr rreessiiddeennttiiaall ppuurrppoossee iinn tthhee oolldd bbuuiillddiinngg ssuubbjjeecctt ttoo tthhee For Single Plot For Composite redevelopment of\\nmmiinniimmuumm ffiixxeedd ccaarrppeett aarreeaa ooff 2277..8888 ssqq.. mm ((330000 ssqq..fftt..)) aanndd//oorr mmaaxxiimmuumm Two to Five Plots Six or more Plots\\nccaarrppeett aarreeaa uuppttoo 112200 ssqq..mm ((11229922 ssqq..fftt..)) IInn ccaassee ooff nnoonn--rreessiiddeennttiiaall Above 6 75 85 90\\nooccccuuppiieerr,, tthhee aarreeaa ttoo bbee ggiivveenn iinn tthhee rreeccoonnssttrruucctteedd bbuuiillddiinngg wwiillll bbee Above 4 and upto 6 78 88 95\\neeqquuiivvaalleenntt ttoo tthhee aarreeaa ooccccuuppiieedd iinn tthhee oolldd bbuuiillddiinngg.. PPrroovviiddeedd ffuurrtthheerr tthhaatt Upto 4 80 90 100\\neeaacchh eelliiggiibbllee rreessiiddeennttiiaall ccuumm ccoommmmeerrcciiaall ooccccuuppaanntt sshhaallll bbee eennttiittlleedd ttoo\\naa tteenneemmeenntt ooff mmiinniimmuumm ccaarrppeett aarreeaa ooff 2277..8888 ssqq.. mm ((330000 ssqq.. mm..))..\\nExplanation: - RC is rate of construction in respect of RCC\\nPPrroovviiddeedd ffuurrtthheerr tthhaatt tthhee rreehhaabbiilliittaattiioonn aarreeaa ooff aannyy ooccccuuppaanntt ooff aa\\nConstruction and Land Rate (LR) is the rate of Open Land for FSI 1.\\nccoommmmeerrcciiaall eessttaabblliisshhmmeenntt,, wwhhoo iiss aalllloowweedd bbyy tthhee rreessppeeccttiivvee aauutthhoorriittyy\\nProvided further that in ease there is more than one land rate applicable\\nMMHHAADDAA//MMCCGGMM ttoo bbee rreehhaabbiilliittaatteedd iinn aa rreessiiddeennttiiaall tteenneemmeenntt iinn lliieeuu\\nto different parts of the plot under the CDS, a weighted average of all\\nooff hhiiss ccoommmmeerrcciiaall eessttaabblliisshhmmeenntt,, sshhaallll aallssoo bbee ggoovveerrnneedd bbyy tthhee\\nthe applicable rates shall be taken for calculating the Average Land Rate\\naaffoorreessaaiidd pprroovviissiioonnss aapppplliiccaabbllee ttoo tthhee rreessiiddeennttiiaall ooccccuuppaannttss iinn tthheessee\\nand the Basic Ratio. Provided further that for calculation of the Basic\\nRReegguullaattiioonnss..\\nRatio, the Land Rate (LR) and the Rate of Construction (RC) shall be\\n55.. TThhee lliisstt ooff eelliiggiibbllee ooccccuuppaannttss aanndd aarreeaa ooccccuuppiieedd bbyy eeaacchh ooff tthheemm sshhaallll\\ntaken for the year in which the proposal is approved by the Authority\\nbbee cceerrttiiffiieedd bbyy tthhee rreessppeeccttiivvee aauutthhoorriittyy ii..ee.. MMHHAADDAA oorr MMCCGGMM..\\nand the said ratio shall remain unchanged even if such Scheme\\n66.. FFuunnggiibbllee CCoommppeennssaattoorryy AArreeaa aass aapppplliiccaabbllee oonn tthhee aarreeaa ttoo bbee hhaannddeedd\\nundergoes any revision or modification subsequently during its course\\noovveerr ttoo MMHHAADDAA//MMCCGGMM sshhaallll nnoott bbee aalllloowweedd ttoo bbee uuttiilliizzeedd oonn ssaallee\\nof completion.\\nccoommppoonneenntt.. NNoo pprreemmiiuumm sshhaallll bbee cchhaarrggeedd oonn tthhee ffuunnggiibbllee\\nccoommppeennssaattoorryy aarreeaa iinn rreessppeecctt ooff aarreeaa ttoo bbee hhaannddeedd oovveerr ttoo\\nB. For redevelopment with tripartite agreement as per 2(b) above:\\nMMHHAADDAA//MMCCGGMM aanndd sshhaallll bbee eexxcclluussiivvee ooff tthhee FFuunnggiibbllee ccoommppeennssaattoorryy\\nWhen there is no developer coming forward for redevelopment of the\\nBBUUAA iiff aavvaaiilleedd..\\nbuilding as per above regulation 7(A) and at least 51% or the occupants\\nPPrroovviiddeedd tthhaatt aatt tthhee ooppttiioonn ooff tthhee OOwwnneerr//DDeevveellooppeerr,, tthhee aarreeaa eeqquuiivvaalleenntt\\nof at least 5 building adjacent at one location requested\\nttoo tthhee mmaarrkkeett vvaalluuee ((aass ppeerr AASSRR ooff tthhaatt yyeeaarr)) ooff aarreeaa aaddmmiissssiibbllee aass ppeerr\\nMHADA/MCGM to undertake redevelopment by appointing private\\ntthhee pprreessccrriibbeedd ppeerrcceennttaaggee ooff BBUUAA ttoo MMHHAADDAA//MMCCGGMM ccaann bbee mmaaddee\\ndeveloper, then in such case MHADA/MCGM may undertake the\\naavvaaiillaabbllee wwiitthhiinn tthhee ssaammee oorr aaddjjooiinniinngg mmuunniicciippaall wwaarrdd ooff MMCCGGMM..\\nredevelopment of cluster of all such buildings belongings to the\\n330066 DCPR 2034 307 DCPR 2034\\n']\n"
     ]
    }
   ],
   "source": [
    "print(hybrid_results)"
   ]
  },
  {
   "cell_type": "code",
   "execution_count": 30,
   "metadata": {},
   "outputs": [],
   "source": [
    "def doc_text_formatting(ef, query, docs):\n",
    "    tokenizer = ef.model.tokenizer\n",
    "    query_tokens_ids = tokenizer.encode(query, return_offsets_mapping=True)\n",
    "    query_tokens = tokenizer.convert_ids_to_tokens(query_tokens_ids)\n",
    "    formatted_texts = []\n",
    "\n",
    "    for doc in docs:\n",
    "        ldx = 0\n",
    "        landmarks = []\n",
    "        encoding = tokenizer.encode_plus(doc, return_offsets_mapping=True)\n",
    "        tokens = tokenizer.convert_ids_to_tokens(encoding[\"input_ids\"])[1:-1]\n",
    "        offsets = encoding[\"offset_mapping\"][1:-1]\n",
    "        for token, (start, end) in zip(tokens, offsets):\n",
    "            if token in query_tokens:\n",
    "                if len(landmarks) != 0 and start == landmarks[-1]:\n",
    "                    landmarks[-1] = end\n",
    "                else:\n",
    "                    landmarks.append(start)\n",
    "                    landmarks.append(end)\n",
    "        close = False\n",
    "        formatted_text = \"\"\n",
    "        for i, c in enumerate(doc):\n",
    "            if ldx == len(landmarks):\n",
    "                pass\n",
    "            elif i == landmarks[ldx]:\n",
    "                if close:\n",
    "                    formatted_text += \"</span>\"\n",
    "                else:\n",
    "                    formatted_text += \"<span style='color:red'>\"\n",
    "                close = not close\n",
    "                ldx = ldx + 1\n",
    "            formatted_text += c\n",
    "        if close is True:\n",
    "            formatted_text += \"</span>\"\n",
    "        formatted_texts.append(formatted_text)\n",
    "    return formatted_texts"
   ]
  },
  {
   "cell_type": "code",
   "execution_count": 31,
   "metadata": {},
   "outputs": [
    {
     "data": {
      "text/markdown": [
       "**Dense Search Results:**"
      ],
      "text/plain": [
       "<IPython.core.display.Markdown object>"
      ]
     },
     "metadata": {},
     "output_type": "display_data"
    },
    {
     "data": {
      "text/markdown": [
       "Original Notifications shall\n",
       "be referred for perspicuity\n",
       "33(7)(B) Additional FSI for Redevelopment of existing\n",
       "residential housing societies excluding buildings covered\n",
       "under regulation 33(7) and 33(7)(A):\n",
       "1) In case of redevelopment of existing residential housing societies\n",
       "excluding buildings covered under regulation 33(7) and 33(7)(A)\n",
       "proposed by Housing societies/landlords or through their proponents\n",
       "where existing members are proposed to be re- accommodated on the\n",
       "same plot, incentive additional BUA to the extent of 15% of existing\n",
       "BUA or 10 sq. m per tenement whichever is more shall be permissible\n",
       "without premium.\n",
       "Provided further that if the existing authorized BUA and incentive\n",
       "thereon as stated above is less than the permissible FSI as per\n",
       "regulation 30(A)(1), then society may avail ‘Additional FSI on payment\n",
       "of premium/TDR’ up to limit of permissible FSI.\n",
       "2) If staircase, lift & lift lobby areas are claimed free of FSI by charging\n",
       "premium as per then prevailing Regulation, then such areas to that\n",
       "extent only will be granted free of FSI without charging premium. If\n",
       "staircase, lift & lift lobby areas are counted in FSI in earlier\n",
       "development, then incentive additional FSI as stated in Sr. No. 1 shall\n",
       "also be given on such area & such areas may be availed free of FSI by\n",
       "charging premium as per these Regulations.\n",
       "3) This Regulation shall be applicable only when existing members of the\n",
       "societies are proposed to be re-accommodated.\n",
       "4) This regulation will be applicable for redevelopment of existing\n",
       "authorized buildings which are of thirty years of age or more.\n",
       "5) This regulation shall not be applicable in respect of redevelopment\n",
       "proposal to be/being processed under Regulation No. 33(5), 33(7),\n",
       "33(8), 33(9), 33(9)(A), 33(9)(B), 33(10), 33(10) (A), 33(20) (A), 33(21).\n",
       "Explanation: -Age of a building shall be as on the 1st of January of the\n",
       "year in which a complete redevelopment proposal is submitted to the\n",
       "Commissioner and shall be calculated from the date of Occupation\n",
       "Certificate or alternately, from the first date of assessment as per the\n",
       "property tax record in respect of such building or building on which\n",
       "balance/admissible FSI has been consumed by way of vertical\n",
       "extension as per then prevailing Regulation, available with the MCGM.\n",
       "6) This incentive additional BUA shall be independent of additional BUA\n",
       "as permissible under Regulation No. 14(A), 15, 16 and 17, if any.\n",
       "7) Fungible compensatory area admissible under Regulation No. 31(3) on\n",
       "the existing authorised BUA shall be without charging premium and\n",
       "over the incentive additional BUA by charging of premium.\n",
       "8) If tenanted building/s and building/s of co-operative housing\n",
       "society/non- tenanted building/s co-exist on the plot under\n",
       "development, then proportionate land component as per the existing\n",
       "authorised BUA of existing tenanted building on the plot shall be\n",
       "180 DCPR 2034\n"
      ],
      "text/plain": [
       "<IPython.core.display.Markdown object>"
      ]
     },
     "metadata": {},
     "output_type": "display_data"
    },
    {
     "data": {
      "text/markdown": [
       "Original Notifications shall\n",
       "be referred for perspicuity\n",
       "33(7)(B) Additional FSI for Redevelopment of existing\n",
       "residential housing societies excluding buildings covered\n",
       "under regulation 33(7) and 33(7)(A):\n",
       "1) In case of redevelopment of existing residential housing societies\n",
       "excluding buildings covered under regulation 33(7) and 33(7)(A)\n",
       "proposed by Housing societies/landlords or through their proponents\n",
       "where existing members are proposed to be re- accommodated on the\n",
       "same plot, incentive additional BUA to the extent of 15% of existing\n",
       "BUA or 10 sq. m per tenement whichever is more shall be permissible\n",
       "without premium.\n",
       "Provided further that if the existing authorized BUA and incentive\n",
       "thereon as stated above is less than the permissible FSI as per\n",
       "regulation 30(A)(1), then society may avail ‘Additional FSI on payment\n",
       "of premium/TDR’ up to limit of permissible FSI.\n",
       "2) If staircase, lift & lift lobby areas are claimed free of FSI by charging\n",
       "premium as per then prevailing Regulation, then such areas to that\n",
       "extent only will be granted free of FSI without charging premium. If\n",
       "staircase, lift & lift lobby areas are counted in FSI in earlier\n",
       "development, then incentive additional FSI as stated in Sr. No. 1 shall\n",
       "also be given on such area & such areas may be availed free of FSI by\n",
       "charging premium as per these Regulations.\n",
       "3) This Regulation shall be applicable only when existing members of the\n",
       "societies are proposed to be re-accommodated.\n",
       "4) This regulation will be applicable for redevelopment of existing\n",
       "authorized buildings which are of thirty years of age or more.\n",
       "5) This regulation shall not be applicable in respect of redevelopment\n",
       "proposal to be/being processed under Regulation No. 33(5), 33(7),\n",
       "33(8), 33(9), 33(9)(A), 33(9)(B), 33(10), 33(10) (A), 33(20) (A), 33(21).\n",
       "Explanation: -Age of a building shall be as on the 1st of January of the\n",
       "year in which a complete redevelopment proposal is submitted to the\n",
       "Commissioner and shall be calculated from the date of Occupation\n",
       "Certificate or alternately, from the first date of assessment as per the\n",
       "property tax record in respect of such building or building on which\n",
       "balance/admissible FSI has been consumed by way of vertical\n",
       "extension as per then prevailing Regulation, available with the MCGM.\n",
       "6) This incentive additional BUA shall be independent of additional BUA\n",
       "as permissible under Regulation No. 14(A), 15, 16 and 17, if any.\n",
       "7) Fungible compensatory area admissible under Regulation No. 31(3) on\n",
       "the existing authorised BUA shall be without charging premium and\n",
       "over the incentive additional BUA by charging of premium.\n",
       "8) If tenanted building/s and building/s of co-operative housing\n",
       "society/non- tenanted building/s co-exist on the plot under\n",
       "development, then proportionate land component as per the existing\n",
       "authorised BUA of existing tenanted building on the plot shall be\n",
       "180 DCPR 2034\n"
      ],
      "text/plain": [
       "<IPython.core.display.Markdown object>"
      ]
     },
     "metadata": {},
     "output_type": "display_data"
    },
    {
     "data": {
      "text/markdown": [
       "Original Notifications shall\n",
       "be referred for perspicuity\n",
       "33(7)(B) Additional FSI for Redevelopment of existing\n",
       "residential housing societies excluding buildings covered\n",
       "under regulation 33(7) and 33(7)(A):\n",
       "1) In case of redevelopment of existing residential housing societies\n",
       "excluding buildings covered under regulation 33(7) and 33(7)(A)\n",
       "proposed by Housing societies/landlords or through their proponents\n",
       "where existing members are proposed to be re- accommodated on the\n",
       "same plot, incentive additional BUA to the extent of 15% of existing\n",
       "BUA or 10 sq. m per tenement whichever is more shall be permissible\n",
       "without premium.\n",
       "Provided further that if the existing authorized BUA and incentive\n",
       "thereon as stated above is less than the permissible FSI as per\n",
       "regulation 30(A)(1), then society may avail ‘Additional FSI on payment\n",
       "of premium/TDR’ up to limit of permissible FSI.\n",
       "2) If staircase, lift & lift lobby areas are claimed free of FSI by charging\n",
       "premium as per then prevailing Regulation, then such areas to that\n",
       "extent only will be granted free of FSI without charging premium. If\n",
       "staircase, lift & lift lobby areas are counted in FSI in earlier\n",
       "development, then incentive additional FSI as stated in Sr. No. 1 shall\n",
       "also be given on such area & such areas may be availed free of FSI by\n",
       "charging premium as per these Regulations.\n",
       "3) This Regulation shall be applicable only when existing members of the\n",
       "societies are proposed to be re-accommodated.\n",
       "4) This regulation will be applicable for redevelopment of existing\n",
       "authorized buildings which are of thirty years of age or more.\n",
       "5) This regulation shall not be applicable in respect of redevelopment\n",
       "proposal to be/being processed under Regulation No. 33(5), 33(7),\n",
       "33(8), 33(9), 33(9)(A), 33(9)(B), 33(10), 33(10) (A), 33(20) (A), 33(21).\n",
       "Explanation: -Age of a building shall be as on the 1st of January of the\n",
       "year in which a complete redevelopment proposal is submitted to the\n",
       "Commissioner and shall be calculated from the date of Occupation\n",
       "Certificate or alternately, from the first date of assessment as per the\n",
       "property tax record in respect of such building or building on which\n",
       "balance/admissible FSI has been consumed by way of vertical\n",
       "extension as per then prevailing Regulation, available with the MCGM.\n",
       "6) This incentive additional BUA shall be independent of additional BUA\n",
       "as permissible under Regulation No. 14(A), 15, 16 and 17, if any.\n",
       "7) Fungible compensatory area admissible under Regulation No. 31(3) on\n",
       "the existing authorised BUA shall be without charging premium and\n",
       "over the incentive additional BUA by charging of premium.\n",
       "8) If tenanted building/s and building/s of co-operative housing\n",
       "society/non- tenanted building/s co-exist on the plot under\n",
       "development, then proportionate land component as per the existing\n",
       "authorised BUA of existing tenanted building on the plot shall be\n",
       "180 DCPR 2034\n"
      ],
      "text/plain": [
       "<IPython.core.display.Markdown object>"
      ]
     },
     "metadata": {},
     "output_type": "display_data"
    },
    {
     "data": {
      "text/markdown": [
       "Original Notifications shall Original Notifications shall\n",
       "be referred for perspicuity be referred for perspicuity\n",
       "bb.. BByy aappppooiinnttiinngg PPrriivvaattee ddeevveellooppeerr bbyy aauutthhoorriittyy wwiitthh ttrriippaarrttyy aaggrreeeemmeenntt\n",
       "bbeettwweeeenn ddeevveellooppeerr MMHHAADDAA//MMCCGGMM aauutthhoorriittyy aanndd ooccccuuppaannttss 7. FSI Permissible:\n",
       "aassssoocciiaattiioonn aass ppeerr 77((1133)) ooff tthhiiss rreegguullaattiioonn.. A. For redevelopment undertaken by Private developers as per clause 2(a)\n",
       "cc.. MMHHAADDAA // MMCCGGMM tthheemmsseellvveess bbyy aappppooiinnttiinngg ddeevveellooppeerr tthhrroouugghh above:\n",
       "ccoommppeettiittiivvee bbiiddddiinngg aass ppeerr ccllaauussee 77((CC)) ooff tthhiiss rreegguullaattiioonn FSI required for rehabilitation of existing occupants plus incentive\n",
       "33.. AAllll tthhee eelliiggiibbllee ooccccuuppaannttss iinn bbuuiillddiinngg//ssttrruuccttuurreess sshhaallll bbee cceerrttiiffiieedd bbyy thereon as mentioned below, subject to minimum 3 FSI\n",
       "rreessppeeccttiivvee aauutthhoorriittiieess oorr MMHHAADDAA // MMCCGGMM..\n",
       "44.. EEaacchh ooccccuuppaanntt sshhaallll bbee rreehhaabbiilliittaatteedd aanndd ggiivveenn tthhee ccaarrppeett aarreeaa ooccccuuppiieedd Basic Ratio LR/RC Incentive (as % of Admissible rehab Area)\n",
       "bbyy hhiimm ffoorr rreessiiddeennttiiaall ppuurrppoossee iinn tthhee oolldd bbuuiillddiinngg ssuubbjjeecctt ttoo tthhee For Single Plot For Composite redevelopment of\n",
       "mmiinniimmuumm ffiixxeedd ccaarrppeett aarreeaa ooff 2277..8888 ssqq.. mm ((330000 ssqq..fftt..)) aanndd//oorr mmaaxxiimmuumm Two to Five Plots Six or more Plots\n",
       "ccaarrppeett aarreeaa uuppttoo 112200 ssqq..mm ((11229922 ssqq..fftt..)) IInn ccaassee ooff nnoonn--rreessiiddeennttiiaall Above 6 75 85 90\n",
       "ooccccuuppiieerr,, tthhee aarreeaa ttoo bbee ggiivveenn iinn tthhee rreeccoonnssttrruucctteedd bbuuiillddiinngg wwiillll bbee Above 4 and upto 6 78 88 95\n",
       "eeqquuiivvaalleenntt ttoo tthhee aarreeaa ooccccuuppiieedd iinn tthhee oolldd bbuuiillddiinngg.. PPrroovviiddeedd ffuurrtthheerr tthhaatt Upto 4 80 90 100\n",
       "eeaacchh eelliiggiibbllee rreessiiddeennttiiaall ccuumm ccoommmmeerrcciiaall ooccccuuppaanntt sshhaallll bbee eennttiittlleedd ttoo\n",
       "aa tteenneemmeenntt ooff mmiinniimmuumm ccaarrppeett aarreeaa ooff 2277..8888 ssqq.. mm ((330000 ssqq.. mm..))..\n",
       "Explanation: - RC is rate of construction in respect of RCC\n",
       "PPrroovviiddeedd ffuurrtthheerr tthhaatt tthhee rreehhaabbiilliittaattiioonn aarreeaa ooff aannyy ooccccuuppaanntt ooff aa\n",
       "Construction and Land Rate (LR) is the rate of Open Land for FSI 1.\n",
       "ccoommmmeerrcciiaall eessttaabblliisshhmmeenntt,, wwhhoo iiss aalllloowweedd bbyy tthhee rreessppeeccttiivvee aauutthhoorriittyy\n",
       "Provided further that in ease there is more than one land rate applicable\n",
       "MMHHAADDAA//MMCCGGMM ttoo bbee rreehhaabbiilliittaatteedd iinn aa rreessiiddeennttiiaall tteenneemmeenntt iinn lliieeuu\n",
       "to different parts of the plot under the CDS, a weighted average of all\n",
       "ooff hhiiss ccoommmmeerrcciiaall eessttaabblliisshhmmeenntt,, sshhaallll aallssoo bbee ggoovveerrnneedd bbyy tthhee\n",
       "the applicable rates shall be taken for calculating the Average Land Rate\n",
       "aaffoorreessaaiidd pprroovviissiioonnss aapppplliiccaabbllee ttoo tthhee rreessiiddeennttiiaall ooccccuuppaannttss iinn tthheessee\n",
       "and the Basic Ratio. Provided further that for calculation of the Basic\n",
       "RReegguullaattiioonnss..\n",
       "Ratio, the Land Rate (LR) and the Rate of Construction (RC) shall be\n",
       "55.. TThhee lliisstt ooff eelliiggiibbllee ooccccuuppaannttss aanndd aarreeaa ooccccuuppiieedd bbyy eeaacchh ooff tthheemm sshhaallll\n",
       "taken for the year in which the proposal is approved by the Authority\n",
       "bbee cceerrttiiffiieedd bbyy tthhee rreessppeeccttiivvee aauutthhoorriittyy ii..ee.. MMHHAADDAA oorr MMCCGGMM..\n",
       "and the said ratio shall remain unchanged even if such Scheme\n",
       "66.. FFuunnggiibbllee CCoommppeennssaattoorryy AArreeaa aass aapppplliiccaabbllee oonn tthhee aarreeaa ttoo bbee hhaannddeedd\n",
       "undergoes any revision or modification subsequently during its course\n",
       "oovveerr ttoo MMHHAADDAA//MMCCGGMM sshhaallll nnoott bbee aalllloowweedd ttoo bbee uuttiilliizzeedd oonn ssaallee\n",
       "of completion.\n",
       "ccoommppoonneenntt.. NNoo pprreemmiiuumm sshhaallll bbee cchhaarrggeedd oonn tthhee ffuunnggiibbllee\n",
       "ccoommppeennssaattoorryy aarreeaa iinn rreessppeecctt ooff aarreeaa ttoo bbee hhaannddeedd oovveerr ttoo\n",
       "B. For redevelopment with tripartite agreement as per 2(b) above:\n",
       "MMHHAADDAA//MMCCGGMM aanndd sshhaallll bbee eexxcclluussiivvee ooff tthhee FFuunnggiibbllee ccoommppeennssaattoorryy\n",
       "When there is no developer coming forward for redevelopment of the\n",
       "BBUUAA iiff aavvaaiilleedd..\n",
       "building as per above regulation 7(A) and at least 51% or the occupants\n",
       "PPrroovviiddeedd tthhaatt aatt tthhee ooppttiioonn ooff tthhee OOwwnneerr//DDeevveellooppeerr,, tthhee aarreeaa eeqquuiivvaalleenntt\n",
       "of at least 5 building adjacent at one location requested\n",
       "ttoo tthhee mmaarrkkeett vvaalluuee ((aass ppeerr AASSRR ooff tthhaatt yyeeaarr)) ooff aarreeaa aaddmmiissssiibbllee aass ppeerr\n",
       "MHADA/MCGM to undertake redevelopment by appointing private\n",
       "tthhee pprreessccrriibbeedd ppeerrcceennttaaggee ooff BBUUAA ttoo MMHHAADDAA//MMCCGGMM ccaann bbee mmaaddee\n",
       "developer, then in such case MHADA/MCGM may undertake the\n",
       "aavvaaiillaabbllee wwiitthhiinn tthhee ssaammee oorr aaddjjooiinniinngg mmuunniicciippaall wwaarrdd ooff MMCCGGMM..\n",
       "redevelopment of cluster of all such buildings belongings to the\n",
       "330066 DCPR 2034 307 DCPR 2034\n"
      ],
      "text/plain": [
       "<IPython.core.display.Markdown object>"
      ]
     },
     "metadata": {},
     "output_type": "display_data"
    },
    {
     "data": {
      "text/markdown": [
       "Original Notifications shall Original Notifications shall\n",
       "be referred for perspicuity be referred for perspicuity\n",
       "bb.. BByy aappppooiinnttiinngg PPrriivvaattee ddeevveellooppeerr bbyy aauutthhoorriittyy wwiitthh ttrriippaarrttyy aaggrreeeemmeenntt\n",
       "bbeettwweeeenn ddeevveellooppeerr MMHHAADDAA//MMCCGGMM aauutthhoorriittyy aanndd ooccccuuppaannttss 7. FSI Permissible:\n",
       "aassssoocciiaattiioonn aass ppeerr 77((1133)) ooff tthhiiss rreegguullaattiioonn.. A. For redevelopment undertaken by Private developers as per clause 2(a)\n",
       "cc.. MMHHAADDAA // MMCCGGMM tthheemmsseellvveess bbyy aappppooiinnttiinngg ddeevveellooppeerr tthhrroouugghh above:\n",
       "ccoommppeettiittiivvee bbiiddddiinngg aass ppeerr ccllaauussee 77((CC)) ooff tthhiiss rreegguullaattiioonn FSI required for rehabilitation of existing occupants plus incentive\n",
       "33.. AAllll tthhee eelliiggiibbllee ooccccuuppaannttss iinn bbuuiillddiinngg//ssttrruuccttuurreess sshhaallll bbee cceerrttiiffiieedd bbyy thereon as mentioned below, subject to minimum 3 FSI\n",
       "rreessppeeccttiivvee aauutthhoorriittiieess oorr MMHHAADDAA // MMCCGGMM..\n",
       "44.. EEaacchh ooccccuuppaanntt sshhaallll bbee rreehhaabbiilliittaatteedd aanndd ggiivveenn tthhee ccaarrppeett aarreeaa ooccccuuppiieedd Basic Ratio LR/RC Incentive (as % of Admissible rehab Area)\n",
       "bbyy hhiimm ffoorr rreessiiddeennttiiaall ppuurrppoossee iinn tthhee oolldd bbuuiillddiinngg ssuubbjjeecctt ttoo tthhee For Single Plot For Composite redevelopment of\n",
       "mmiinniimmuumm ffiixxeedd ccaarrppeett aarreeaa ooff 2277..8888 ssqq.. mm ((330000 ssqq..fftt..)) aanndd//oorr mmaaxxiimmuumm Two to Five Plots Six or more Plots\n",
       "ccaarrppeett aarreeaa uuppttoo 112200 ssqq..mm ((11229922 ssqq..fftt..)) IInn ccaassee ooff nnoonn--rreessiiddeennttiiaall Above 6 75 85 90\n",
       "ooccccuuppiieerr,, tthhee aarreeaa ttoo bbee ggiivveenn iinn tthhee rreeccoonnssttrruucctteedd bbuuiillddiinngg wwiillll bbee Above 4 and upto 6 78 88 95\n",
       "eeqquuiivvaalleenntt ttoo tthhee aarreeaa ooccccuuppiieedd iinn tthhee oolldd bbuuiillddiinngg.. PPrroovviiddeedd ffuurrtthheerr tthhaatt Upto 4 80 90 100\n",
       "eeaacchh eelliiggiibbllee rreessiiddeennttiiaall ccuumm ccoommmmeerrcciiaall ooccccuuppaanntt sshhaallll bbee eennttiittlleedd ttoo\n",
       "aa tteenneemmeenntt ooff mmiinniimmuumm ccaarrppeett aarreeaa ooff 2277..8888 ssqq.. mm ((330000 ssqq.. mm..))..\n",
       "Explanation: - RC is rate of construction in respect of RCC\n",
       "PPrroovviiddeedd ffuurrtthheerr tthhaatt tthhee rreehhaabbiilliittaattiioonn aarreeaa ooff aannyy ooccccuuppaanntt ooff aa\n",
       "Construction and Land Rate (LR) is the rate of Open Land for FSI 1.\n",
       "ccoommmmeerrcciiaall eessttaabblliisshhmmeenntt,, wwhhoo iiss aalllloowweedd bbyy tthhee rreessppeeccttiivvee aauutthhoorriittyy\n",
       "Provided further that in ease there is more than one land rate applicable\n",
       "MMHHAADDAA//MMCCGGMM ttoo bbee rreehhaabbiilliittaatteedd iinn aa rreessiiddeennttiiaall tteenneemmeenntt iinn lliieeuu\n",
       "to different parts of the plot under the CDS, a weighted average of all\n",
       "ooff hhiiss ccoommmmeerrcciiaall eessttaabblliisshhmmeenntt,, sshhaallll aallssoo bbee ggoovveerrnneedd bbyy tthhee\n",
       "the applicable rates shall be taken for calculating the Average Land Rate\n",
       "aaffoorreessaaiidd pprroovviissiioonnss aapppplliiccaabbllee ttoo tthhee rreessiiddeennttiiaall ooccccuuppaannttss iinn tthheessee\n",
       "and the Basic Ratio. Provided further that for calculation of the Basic\n",
       "RReegguullaattiioonnss..\n",
       "Ratio, the Land Rate (LR) and the Rate of Construction (RC) shall be\n",
       "55.. TThhee lliisstt ooff eelliiggiibbllee ooccccuuppaannttss aanndd aarreeaa ooccccuuppiieedd bbyy eeaacchh ooff tthheemm sshhaallll\n",
       "taken for the year in which the proposal is approved by the Authority\n",
       "bbee cceerrttiiffiieedd bbyy tthhee rreessppeeccttiivvee aauutthhoorriittyy ii..ee.. MMHHAADDAA oorr MMCCGGMM..\n",
       "and the said ratio shall remain unchanged even if such Scheme\n",
       "66.. FFuunnggiibbllee CCoommppeennssaattoorryy AArreeaa aass aapppplliiccaabbllee oonn tthhee aarreeaa ttoo bbee hhaannddeedd\n",
       "undergoes any revision or modification subsequently during its course\n",
       "oovveerr ttoo MMHHAADDAA//MMCCGGMM sshhaallll nnoott bbee aalllloowweedd ttoo bbee uuttiilliizzeedd oonn ssaallee\n",
       "of completion.\n",
       "ccoommppoonneenntt.. NNoo pprreemmiiuumm sshhaallll bbee cchhaarrggeedd oonn tthhee ffuunnggiibbllee\n",
       "ccoommppeennssaattoorryy aarreeaa iinn rreessppeecctt ooff aarreeaa ttoo bbee hhaannddeedd oovveerr ttoo\n",
       "B. For redevelopment with tripartite agreement as per 2(b) above:\n",
       "MMHHAADDAA//MMCCGGMM aanndd sshhaallll bbee eexxcclluussiivvee ooff tthhee FFuunnggiibbllee ccoommppeennssaattoorryy\n",
       "When there is no developer coming forward for redevelopment of the\n",
       "BBUUAA iiff aavvaaiilleedd..\n",
       "building as per above regulation 7(A) and at least 51% or the occupants\n",
       "PPrroovviiddeedd tthhaatt aatt tthhee ooppttiioonn ooff tthhee OOwwnneerr//DDeevveellooppeerr,, tthhee aarreeaa eeqquuiivvaalleenntt\n",
       "of at least 5 building adjacent at one location requested\n",
       "ttoo tthhee mmaarrkkeett vvaalluuee ((aass ppeerr AASSRR ooff tthhaatt yyeeaarr)) ooff aarreeaa aaddmmiissssiibbllee aass ppeerr\n",
       "MHADA/MCGM to undertake redevelopment by appointing private\n",
       "tthhee pprreessccrriibbeedd ppeerrcceennttaaggee ooff BBUUAA ttoo MMHHAADDAA//MMCCGGMM ccaann bbee mmaaddee\n",
       "developer, then in such case MHADA/MCGM may undertake the\n",
       "aavvaaiillaabbllee wwiitthhiinn tthhee ssaammee oorr aaddjjooiinniinngg mmuunniicciippaall wwaarrdd ooff MMCCGGMM..\n",
       "redevelopment of cluster of all such buildings belongings to the\n",
       "330066 DCPR 2034 307 DCPR 2034\n"
      ],
      "text/plain": [
       "<IPython.core.display.Markdown object>"
      ]
     },
     "metadata": {},
     "output_type": "display_data"
    }
   ],
   "source": [
    "from IPython.display import Markdown, display\n",
    "\n",
    "# Dense search results\n",
    "display(Markdown(\"**Dense Search Results:**\"))\n",
    "formatted_results = doc_text_formatting(ef, query, dense_results)\n",
    "for result in dense_results:\n",
    "    display(Markdown(result))"
   ]
  },
  {
   "cell_type": "code",
   "execution_count": 32,
   "metadata": {},
   "outputs": [
    {
     "data": {
      "text/markdown": [
       "\n",
       "**Sparse Search Results:**"
      ],
      "text/plain": [
       "<IPython.core.display.Markdown object>"
      ]
     },
     "metadata": {},
     "output_type": "display_data"
    },
    {
     "data": {
      "text/markdown": [
       "Original Notifications shall\n",
       "be referred for perspicuity\n",
       "redevelopment.\n",
       "16. Restriction on transfer of tenements shall be governed by provisions\n",
       "of Maharashtra Rent Control Act, till such time that a Co-op. Housing Society\n",
       "is formed and thereafter the same shall be governed by the provision of\n",
       "Maharashtra Co-op. Societies Act. However, tenements constructed for slum\n",
       "rehabilitation shall not be transferable for a period of 10 years.\n",
       "17. Corpus Fund: An amount of minimum Rs. 50,000/- per tenement or as\n",
       "directed by the HPC shall be created by the Promoter/Developer as a\n",
       "Corpus fund, which will be utilised for maintenance of the\n",
       "rehabilitation buildings for a period of 10 years.\n",
       "18. Any ongoing scheme under Regulation<span style='color:red'> 33(7)</span> which fulfills the criteria\n",
       "under this Regulation can be included<span style='color:red'> in</span> the proposal under Regulation<span style='color:red'>\n",
       "33</span>(9) for approval or converted into a CDS under this Regulation<span style='color:red'> 33</span>(9).\n",
       "However, all dilutions of reservations under Regulation<span style='color:red'> 33(7)</span> shall have\n",
       "to be restored as per this Regulation.\n",
       "19. Heritage buildings of Grade-I and II as well as authorized and\n",
       "structurally sound retainable buildings may be included<span style='color:red'> in</span> the CD, but\n",
       "shall have to be kept as they are, along with land appurtenant, and this\n",
       "area shall be counted towards the slab of<span style='color:red'> Incentive</span> FSI, but shall not\n",
       "be considered for FSI under this Regulation. As regards such Heritage\n",
       "Structures, the Promoter/Developer shall have to contribute Heritage\n",
       "Cess at 5% of ASR on the basis of BUA of the Heritage structure.\n",
       "Existing provisions under the DCPR shall apply to Heritage Buildings of\n",
       "Grade-III and buildings<span style='color:red'> in</span> heritage precincts. However, if the URS\n",
       "contains Grade I structure, the HPC shall consult the MHCC before\n",
       "granting approval.\n",
       "20. If HPC MC/MCGM approves areas for amenities such as Fire\n",
       "Stations/Hospitals/ Police Stations/Schools, PAP/R&R etc. additional\n",
       "Area required by the land-owning Authority other than\n",
       "reservations/designations under the DP, such amenities shall be\n",
       "handed over to the concerned Authority free of cost. The BUA of such\n",
       "amenity shall be considered towards rehabilitation FSI, and incentive\n",
       "FSI as admissible under this Regulation shall be permissible.\n",
       "21. HPC, headed by Municipal Commissioner and constituted by the Govt.,\n",
       "shall be competent to approve the CDS with the previous sanction of\n",
       "the Govt. under this Regulation. On approval by HPC, the proposal shall\n",
       "be submitted to the Municipal Commissioner, MCGM for approval of\n",
       "plans. The decision of HPC shall be appealable as if it is an appeal under\n",
       "section 47 of the MR&TP Act, 1966.\n",
       "Provided that no CDS shall be sanctioned by the Govt without giving\n",
       "202 DCPR 2034\n"
      ],
      "text/plain": [
       "<IPython.core.display.Markdown object>"
      ]
     },
     "metadata": {},
     "output_type": "display_data"
    },
    {
     "data": {
      "text/markdown": [
       "Original Notifications shall\n",
       "be referred for perspicuity\n",
       "redevelopment.\n",
       "16. Restriction on transfer of tenements shall be governed by provisions\n",
       "of Maharashtra Rent Control Act, till such time that a Co-op. Housing Society\n",
       "is formed and thereafter the same shall be governed by the provision of\n",
       "Maharashtra Co-op. Societies Act. However, tenements constructed for slum\n",
       "rehabilitation shall not be transferable for a period of 10 years.\n",
       "17. Corpus Fund: An amount of minimum Rs. 50,000/- per tenement or as\n",
       "directed by the HPC shall be created by the Promoter/Developer as a\n",
       "Corpus fund, which will be utilised for maintenance of the\n",
       "rehabilitation buildings for a period of 10 years.\n",
       "18. Any ongoing scheme under Regulation<span style='color:red'> 33(7)</span> which fulfills the criteria\n",
       "under this Regulation can be included<span style='color:red'> in</span> the proposal under Regulation<span style='color:red'>\n",
       "33</span>(9) for approval or converted into a CDS under this Regulation<span style='color:red'> 33</span>(9).\n",
       "However, all dilutions of reservations under Regulation<span style='color:red'> 33(7)</span> shall have\n",
       "to be restored as per this Regulation.\n",
       "19. Heritage buildings of Grade-I and II as well as authorized and\n",
       "structurally sound retainable buildings may be included<span style='color:red'> in</span> the CD, but\n",
       "shall have to be kept as they are, along with land appurtenant, and this\n",
       "area shall be counted towards the slab of<span style='color:red'> Incentive</span> FSI, but shall not\n",
       "be considered for FSI under this Regulation. As regards such Heritage\n",
       "Structures, the Promoter/Developer shall have to contribute Heritage\n",
       "Cess at 5% of ASR on the basis of BUA of the Heritage structure.\n",
       "Existing provisions under the DCPR shall apply to Heritage Buildings of\n",
       "Grade-III and buildings<span style='color:red'> in</span> heritage precincts. However, if the URS\n",
       "contains Grade I structure, the HPC shall consult the MHCC before\n",
       "granting approval.\n",
       "20. If HPC MC/MCGM approves areas for amenities such as Fire\n",
       "Stations/Hospitals/ Police Stations/Schools, PAP/R&R etc. additional\n",
       "Area required by the land-owning Authority other than\n",
       "reservations/designations under the DP, such amenities shall be\n",
       "handed over to the concerned Authority free of cost. The BUA of such\n",
       "amenity shall be considered towards rehabilitation FSI, and incentive\n",
       "FSI as admissible under this Regulation shall be permissible.\n",
       "21. HPC, headed by Municipal Commissioner and constituted by the Govt.,\n",
       "shall be competent to approve the CDS with the previous sanction of\n",
       "the Govt. under this Regulation. On approval by HPC, the proposal shall\n",
       "be submitted to the Municipal Commissioner, MCGM for approval of\n",
       "plans. The decision of HPC shall be appealable as if it is an appeal under\n",
       "section 47 of the MR&TP Act, 1966.\n",
       "Provided that no CDS shall be sanctioned by the Govt without giving\n",
       "202 DCPR 2034\n"
      ],
      "text/plain": [
       "<IPython.core.display.Markdown object>"
      ]
     },
     "metadata": {},
     "output_type": "display_data"
    },
    {
     "data": {
      "text/markdown": [
       "Original Notifications shall\n",
       "be referred for perspicuity\n",
       "redevelopment.\n",
       "16. Restriction on transfer of tenements shall be governed by provisions\n",
       "of Maharashtra Rent Control Act, till such time that a Co-op. Housing Society\n",
       "is formed and thereafter the same shall be governed by the provision of\n",
       "Maharashtra Co-op. Societies Act. However, tenements constructed for slum\n",
       "rehabilitation shall not be transferable for a period of 10 years.\n",
       "17. Corpus Fund: An amount of minimum Rs. 50,000/- per tenement or as\n",
       "directed by the HPC shall be created by the Promoter/Developer as a\n",
       "Corpus fund, which will be utilised for maintenance of the\n",
       "rehabilitation buildings for a period of 10 years.\n",
       "18. Any ongoing scheme under Regulation<span style='color:red'> 33(7)</span> which fulfills the criteria\n",
       "under this Regulation can be included<span style='color:red'> in</span> the proposal under Regulation<span style='color:red'>\n",
       "33</span>(9) for approval or converted into a CDS under this Regulation<span style='color:red'> 33</span>(9).\n",
       "However, all dilutions of reservations under Regulation<span style='color:red'> 33(7)</span> shall have\n",
       "to be restored as per this Regulation.\n",
       "19. Heritage buildings of Grade-I and II as well as authorized and\n",
       "structurally sound retainable buildings may be included<span style='color:red'> in</span> the CD, but\n",
       "shall have to be kept as they are, along with land appurtenant, and this\n",
       "area shall be counted towards the slab of<span style='color:red'> Incentive</span> FSI, but shall not\n",
       "be considered for FSI under this Regulation. As regards such Heritage\n",
       "Structures, the Promoter/Developer shall have to contribute Heritage\n",
       "Cess at 5% of ASR on the basis of BUA of the Heritage structure.\n",
       "Existing provisions under the DCPR shall apply to Heritage Buildings of\n",
       "Grade-III and buildings<span style='color:red'> in</span> heritage precincts. However, if the URS\n",
       "contains Grade I structure, the HPC shall consult the MHCC before\n",
       "granting approval.\n",
       "20. If HPC MC/MCGM approves areas for amenities such as Fire\n",
       "Stations/Hospitals/ Police Stations/Schools, PAP/R&R etc. additional\n",
       "Area required by the land-owning Authority other than\n",
       "reservations/designations under the DP, such amenities shall be\n",
       "handed over to the concerned Authority free of cost. The BUA of such\n",
       "amenity shall be considered towards rehabilitation FSI, and incentive\n",
       "FSI as admissible under this Regulation shall be permissible.\n",
       "21. HPC, headed by Municipal Commissioner and constituted by the Govt.,\n",
       "shall be competent to approve the CDS with the previous sanction of\n",
       "the Govt. under this Regulation. On approval by HPC, the proposal shall\n",
       "be submitted to the Municipal Commissioner, MCGM for approval of\n",
       "plans. The decision of HPC shall be appealable as if it is an appeal under\n",
       "section 47 of the MR&TP Act, 1966.\n",
       "Provided that no CDS shall be sanctioned by the Govt without giving\n",
       "202 DCPR 2034\n"
      ],
      "text/plain": [
       "<IPython.core.display.Markdown object>"
      ]
     },
     "metadata": {},
     "output_type": "display_data"
    },
    {
     "data": {
      "text/markdown": [
       "Original Notifications shall Original Notifications shall\n",
       "be referred for perspicuity be referred for perspicuity\n",
       "mmeeaannss tthhee nneett uussaabbllee fflloooorr aarreeaa wwiitthhiinn aa tteenneemme<span style='color:red'>en</span>ntt eexxcclluuddiinngg tthhaatt\n",
       "ccoovveerreedd bbyy tthhee wwaallllss oorr aannyy ootthheerr aarreeaass ssppeecciiffiiccaallllyy eexxeemmpptteedd ffrroomm\n",
       "fflloooorr ssppaaccee iinnddeexx ccoommppuuttaattiioonn aass ppeerr tthheenn//pprreevvaaiilliinngg RReegguullaattiioonn bbuutt Basic Ratio<span style='color:red'> Incentive</span> (As % of Admissible Rehabilitation Area)\n",
       "(LR/RC)\n",
       "iinncclluuddiinngg tthhee aarreeaass ooff bbaallccoonnyy iiff aalllloowweedd ffrreeee ooff FFSSII aass ppeerr tthheenn\n",
       "RReegguullaattiioonn For 0.4 ha up More than 1 More than 5 For more\n",
       "to 1 ha. ha up to 5 ha ha up to 10 ha. than 10 ha\n",
       "Above 6.00 85% 90% 95% 100%\n",
       "Above 4.00 95% 100% 105% 110%\n",
       "66.. TToottaall PPeerrmmiissssiibbllee FFSSII ffoorr CCDDSS::\n",
       "And upto 6.00\n",
       "aa)) TThhee ttoottaall ppeerrmmiissssiibbllee FFSSII ffoorr aann CCDDSS sshhaallll bbee 44..0000 oonn ggrroossss pplloott aarreeaa,, bbuutt\n",
       "Above 2.00 and 105% 110% 115% 120%\n",
       "eexxcclluuddiinngg tthhee rreesseerrvvaattiioonnss// eexxiissttiinngg aamme<span style='color:red'>en</span>niittyy,, rrooaadd sseett bbaacckk,, aarreeaa uunnddeerr\n",
       "upto 4.00\n",
       "eexxiissttiinngg MMuunniicciippaall RRooaaddss bbuutt iinncclluuddiinngg tthhee BBUUAA uunnddeerr\n",
       "Upto 2.00 115% 120% 125% 130%\n",
       "rreesseerrvvaattiioonn//eexxiissttiinngg aamme<span style='color:red'>en</span>niittyy,, rrooaadd sseett bbaacckk oorr ssuumm ttoottaall ooff tthhee\n",
       "RReehhaabbiilliittaattiioonn FFSSII ++ IInncce<span style='color:red'>en</span>nttiivvee FFSSII,, wwhhiicchheevveerr iiss mmoorree..\n",
       "Explanation: -\n",
       "PPrroovviiddeedd tthhaatt tthhee aaffoorreessaaiidd FFSSII sshhaallll bbee eexxcclluussiivvee ooff tthhee FFuunnggiibbllee\n",
       "CCoommppe<span style='color:red'>en</span>nssaattoorryy aarreeaa aaddmmiissssiibbllee uunnddeerr tthhee pprroovviissiioonn ooff DDCCRR<span style='color:red'> 33</span>11<span style='color:red'>((</span>33))..\n",
       "(i) *RC is rate of construction<span style='color:red'> in</span> respect of RCC Construction and Land\n",
       "bb)) TThhee iinncce<span style='color:red'>en</span>nttiivvee FFSSII aaddmmiissssiibbllee aaggaaiinnsstt tthhee FFSSII rreeqquuiirreedd ffoorr rreehhaabbiilliittaattiioonn Rate (LR) is the rate of Open Land for FSI 1.\n",
       "sshhaallll bbee bbaasseedd oonn tthhee rraattiioo ((hheerreeiinnaafftteerr rreeffeerrrreedd ttoo aass BBaassiicc RRaattiioo)) ooff Provided further that<span style='color:red'> in</span> case there is more than one land rate\n",
       "LLaanndd RRaattee ((LLRR)),, iinn RRss//ssqq.. mm..,, ooff tthhee llaannddss iinncclluuddeedd iinn tthhee UURRCC;; aass ppeerr tthhee applicable to different parts of the plot under the CDS, a weighted\n",
       "AASSRR aanndd RRaattee ooff CCoonnssttrruuccttiioonn ((RRCC))** iinn RRss//ssqq.. mm,, aapppplliiccaabbllee ttoo tthhee aarreeaa average of all the applicable rates shall be taken for calculating the\n",
       "aass ppeerr tthhee AASSRR aanndd sshhaallll bbee ggiivve<span style='color:red'>en</span>n aass ppeerr tthhee TTaabbllee--BB bbeellooww:: Average Land Rate and the Basic Ratio.\n",
       "Provided further that for calculation of the Basic Ratio, the Land Rate\n",
       "TTaabbllee--BB (LR) and the Rate of Construction (RC) shall be taken for the year<span style='color:red'> in</span>\n",
       "which the Cluster Development Project is approved and LOI is issued\n",
       "by the Authority competent to approve it and the said ratio shall\n",
       "BBaassiicc IInncce<span style='color:red'>en</span>nttiivvee ((AAss %% ooff AAddmmiissssiibbllee RReehhaabbiilliittaattiioonn AArreeaa))\n",
       "remain unchanged even if such Scheme undergoes any revision or\n",
       "RRaattiioo\n",
       "modification subsequently during its course of completion.\n",
       "((LLRR//RRCC))**\n",
       "FFoorr 00..44 hhaa uupp MMoorree tthhaann MMoorree tthhaann 55 FFoorr Provided further that if any new area is allowed to be added to or\n",
       "ttoo 11 hhaa 11 hhaa uupp ttoo 55 hhaa uupp ttoo 1100 mmoorr ee deleted from the CDS after such Scheme has been approved and if\n",
       "hhaa hhaa.. tthhaann there is change<span style='color:red'> in</span> the slab prescribed above, the incentive FSI for the\n",
       "1100hhaa\n",
       "total area of the revised Scheme shall be determined as per the new\n",
       "AAbboovvee 5555%% 6600%% 6655%% 7700%%\n",
       "slab. Provided further that any new area being added to a CDS shall\n",
       "66..0000\n",
       "not be less than 75% of the minimum area required for CDS.\n",
       "AAbboovvee 6655%% 7700%% 7755%% 8800%% Provided further that augmentation of area of CD shall not be allowed\n",
       "44..0000 aanndd after further CC has been issued<span style='color:red'> in</span> respect of more than 75% of the\n",
       "uuppttoo 66..0000\n",
       "total permissible BUA sanctioned under the original Scheme and there\n",
       "AAbboovvee 7755%% 8800%% 8855%% 9900%%\n",
       "shall be no revision of individual areas as a result of such amalgamation\n",
       "22..0000 aanndd\n",
       "of area. However, deletion of area from a sanctioned scheme will be\n",
       "uuppttoo 44..0000\n",
       "permissible, provided the construction of rehabilitation component\n",
       "UUppttoo 8855%% 9900%% 9955%% 110000%%\n",
       "22..0000 has not commenced and such deletion does not break the contiguity\n",
       "of the area under CDS.\n",
       "119944 DCPR 2034 195 DCPR 2034\n"
      ],
      "text/plain": [
       "<IPython.core.display.Markdown object>"
      ]
     },
     "metadata": {},
     "output_type": "display_data"
    },
    {
     "data": {
      "text/markdown": [
       "Original Notifications shall Original Notifications shall\n",
       "be referred for perspicuity be referred for perspicuity\n",
       "mmeeaannss tthhee nneett uussaabbllee fflloooorr aarreeaa wwiitthhiinn aa tteenneemme<span style='color:red'>en</span>ntt eexxcclluuddiinngg tthhaatt\n",
       "ccoovveerreedd bbyy tthhee wwaallllss oorr aannyy ootthheerr aarreeaass ssppeecciiffiiccaallllyy eexxeemmpptteedd ffrroomm\n",
       "fflloooorr ssppaaccee iinnddeexx ccoommppuuttaattiioonn aass ppeerr tthheenn//pprreevvaaiilliinngg RReegguullaattiioonn bbuutt Basic Ratio<span style='color:red'> Incentive</span> (As % of Admissible Rehabilitation Area)\n",
       "(LR/RC)\n",
       "iinncclluuddiinngg tthhee aarreeaass ooff bbaallccoonnyy iiff aalllloowweedd ffrreeee ooff FFSSII aass ppeerr tthheenn\n",
       "RReegguullaattiioonn For 0.4 ha up More than 1 More than 5 For more\n",
       "to 1 ha. ha up to 5 ha ha up to 10 ha. than 10 ha\n",
       "Above 6.00 85% 90% 95% 100%\n",
       "Above 4.00 95% 100% 105% 110%\n",
       "66.. TToottaall PPeerrmmiissssiibbllee FFSSII ffoorr CCDDSS::\n",
       "And upto 6.00\n",
       "aa)) TThhee ttoottaall ppeerrmmiissssiibbllee FFSSII ffoorr aann CCDDSS sshhaallll bbee 44..0000 oonn ggrroossss pplloott aarreeaa,, bbuutt\n",
       "Above 2.00 and 105% 110% 115% 120%\n",
       "eexxcclluuddiinngg tthhee rreesseerrvvaattiioonnss// eexxiissttiinngg aamme<span style='color:red'>en</span>niittyy,, rrooaadd sseett bbaacckk,, aarreeaa uunnddeerr\n",
       "upto 4.00\n",
       "eexxiissttiinngg MMuunniicciippaall RRooaaddss bbuutt iinncclluuddiinngg tthhee BBUUAA uunnddeerr\n",
       "Upto 2.00 115% 120% 125% 130%\n",
       "rreesseerrvvaattiioonn//eexxiissttiinngg aamme<span style='color:red'>en</span>niittyy,, rrooaadd sseett bbaacckk oorr ssuumm ttoottaall ooff tthhee\n",
       "RReehhaabbiilliittaattiioonn FFSSII ++ IInncce<span style='color:red'>en</span>nttiivvee FFSSII,, wwhhiicchheevveerr iiss mmoorree..\n",
       "Explanation: -\n",
       "PPrroovviiddeedd tthhaatt tthhee aaffoorreessaaiidd FFSSII sshhaallll bbee eexxcclluussiivvee ooff tthhee FFuunnggiibbllee\n",
       "CCoommppe<span style='color:red'>en</span>nssaattoorryy aarreeaa aaddmmiissssiibbllee uunnddeerr tthhee pprroovviissiioonn ooff DDCCRR<span style='color:red'> 33</span>11<span style='color:red'>((</span>33))..\n",
       "(i) *RC is rate of construction<span style='color:red'> in</span> respect of RCC Construction and Land\n",
       "bb)) TThhee iinncce<span style='color:red'>en</span>nttiivvee FFSSII aaddmmiissssiibbllee aaggaaiinnsstt tthhee FFSSII rreeqquuiirreedd ffoorr rreehhaabbiilliittaattiioonn Rate (LR) is the rate of Open Land for FSI 1.\n",
       "sshhaallll bbee bbaasseedd oonn tthhee rraattiioo ((hheerreeiinnaafftteerr rreeffeerrrreedd ttoo aass BBaassiicc RRaattiioo)) ooff Provided further that<span style='color:red'> in</span> case there is more than one land rate\n",
       "LLaanndd RRaattee ((LLRR)),, iinn RRss//ssqq.. mm..,, ooff tthhee llaannddss iinncclluuddeedd iinn tthhee UURRCC;; aass ppeerr tthhee applicable to different parts of the plot under the CDS, a weighted\n",
       "AASSRR aanndd RRaattee ooff CCoonnssttrruuccttiioonn ((RRCC))** iinn RRss//ssqq.. mm,, aapppplliiccaabbllee ttoo tthhee aarreeaa average of all the applicable rates shall be taken for calculating the\n",
       "aass ppeerr tthhee AASSRR aanndd sshhaallll bbee ggiivve<span style='color:red'>en</span>n aass ppeerr tthhee TTaabbllee--BB bbeellooww:: Average Land Rate and the Basic Ratio.\n",
       "Provided further that for calculation of the Basic Ratio, the Land Rate\n",
       "TTaabbllee--BB (LR) and the Rate of Construction (RC) shall be taken for the year<span style='color:red'> in</span>\n",
       "which the Cluster Development Project is approved and LOI is issued\n",
       "by the Authority competent to approve it and the said ratio shall\n",
       "BBaassiicc IInncce<span style='color:red'>en</span>nttiivvee ((AAss %% ooff AAddmmiissssiibbllee RReehhaabbiilliittaattiioonn AArreeaa))\n",
       "remain unchanged even if such Scheme undergoes any revision or\n",
       "RRaattiioo\n",
       "modification subsequently during its course of completion.\n",
       "((LLRR//RRCC))**\n",
       "FFoorr 00..44 hhaa uupp MMoorree tthhaann MMoorree tthhaann 55 FFoorr Provided further that if any new area is allowed to be added to or\n",
       "ttoo 11 hhaa 11 hhaa uupp ttoo 55 hhaa uupp ttoo 1100 mmoorr ee deleted from the CDS after such Scheme has been approved and if\n",
       "hhaa hhaa.. tthhaann there is change<span style='color:red'> in</span> the slab prescribed above, the incentive FSI for the\n",
       "1100hhaa\n",
       "total area of the revised Scheme shall be determined as per the new\n",
       "AAbboovvee 5555%% 6600%% 6655%% 7700%%\n",
       "slab. Provided further that any new area being added to a CDS shall\n",
       "66..0000\n",
       "not be less than 75% of the minimum area required for CDS.\n",
       "AAbboovvee 6655%% 7700%% 7755%% 8800%% Provided further that augmentation of area of CD shall not be allowed\n",
       "44..0000 aanndd after further CC has been issued<span style='color:red'> in</span> respect of more than 75% of the\n",
       "uuppttoo 66..0000\n",
       "total permissible BUA sanctioned under the original Scheme and there\n",
       "AAbboovvee 7755%% 8800%% 8855%% 9900%%\n",
       "shall be no revision of individual areas as a result of such amalgamation\n",
       "22..0000 aanndd\n",
       "of area. However, deletion of area from a sanctioned scheme will be\n",
       "uuppttoo 44..0000\n",
       "permissible, provided the construction of rehabilitation component\n",
       "UUppttoo 8855%% 9900%% 9955%% 110000%%\n",
       "22..0000 has not commenced and such deletion does not break the contiguity\n",
       "of the area under CDS.\n",
       "119944 DCPR 2034 195 DCPR 2034\n"
      ],
      "text/plain": [
       "<IPython.core.display.Markdown object>"
      ]
     },
     "metadata": {},
     "output_type": "display_data"
    }
   ],
   "source": [
    "# Sparse search results\n",
    "display(Markdown(\"\\n**Sparse Search Results:**\"))\n",
    "formatted_results = doc_text_formatting(ef, query, sparse_results)\n",
    "for result in formatted_results:\n",
    "    display(Markdown(result))"
   ]
  },
  {
   "cell_type": "code",
   "execution_count": 33,
   "metadata": {},
   "outputs": [
    {
     "data": {
      "text/markdown": [
       "\n",
       "**Hybrid Search Results:**"
      ],
      "text/plain": [
       "<IPython.core.display.Markdown object>"
      ]
     },
     "metadata": {},
     "output_type": "display_data"
    },
    {
     "data": {
      "text/markdown": [
       "Original Notifications shall\n",
       "be referred for perspicuity<span style='color:red'>\n",
       "33(7)(</span>B) Additional FSI for Redevelopment of existing\n",
       "residential housing societies excluding buildings covered\n",
       "under regulation<span style='color:red'> 33(7)</span> and<span style='color:red'> 33(7)(</span>A):\n",
       "1) In case of redevelopment of existing residential housing societies\n",
       "excluding buildings covered under regulation<span style='color:red'> 33(7)</span> and<span style='color:red'> 33(7)(</span>A)\n",
       "proposed by Housing societies/landlords or through their proponents\n",
       "where existing members are proposed to be re- accommodated on the\n",
       "same plot, incentive additional BUA to the extent of 15% of existing\n",
       "BUA or 10 sq. m per tenement whichever is more shall be permissible\n",
       "without premium.\n",
       "Provided further that if the existing authorized BUA and incentive\n",
       "thereon as stated above is less than the permissible FSI as per\n",
       "regulation 30<span style='color:red'>(</span>A)(1), then society may avail ‘Additional FSI on payment\n",
       "of premium/TDR’ up to limit of permissible FSI.\n",
       "2) If staircase, lift & lift lobby areas are claimed free of FSI by charging\n",
       "premium as per then prevailing Regulation, then such areas to that\n",
       "extent only will be granted free of FSI without charging premium. If\n",
       "staircase, lift & lift lobby areas are counted<span style='color:red'> in</span> FSI<span style='color:red'> in</span> earlier\n",
       "development, then incentive additional FSI as stated<span style='color:red'> in</span> Sr. No. 1 shall\n",
       "also be given on such area & such areas may be availed free of FSI by\n",
       "charging premium as per these Regulations.\n",
       "3) This Regulation shall be applicable only when existing members of the\n",
       "societies are proposed to be re-accommodated.\n",
       "4) This regulation will be applicable for redevelopment of existing\n",
       "authorized buildings which are of thirty years of age or more.\n",
       "5) This regulation shall not be applicable<span style='color:red'> in</span> respect of redevelopment\n",
       "proposal to be/being processed under Regulation No.<span style='color:red'> 33</span>(5),<span style='color:red'> 33(7)</span>,<span style='color:red'>\n",
       "33(</span>8),<span style='color:red'> 33</span>(9),<span style='color:red'> 33</span>(9)<span style='color:red'>(</span>A),<span style='color:red'> 33</span>(9)<span style='color:red'>(</span>B),<span style='color:red'> 33</span>(10),<span style='color:red'> 33</span>(10) (A),<span style='color:red'> 33(</span>20) (A),<span style='color:red'> 33(</span>21).\n",
       "Explanation: -Age of a building shall be as on the 1st of January of the\n",
       "year<span style='color:red'> in</span> which a complete redevelopment proposal is submitted to the\n",
       "Commissioner and shall be calculated from the date of Occupation\n",
       "Certificate or alternately, from the first date of assessment as per the\n",
       "property tax record<span style='color:red'> in</span> respect of such building or building on which\n",
       "balance/admissible FSI has been consumed by way of vertical\n",
       "extension as per then prevailing Regulation, available with the MCGM.\n",
       "6) This incentive additional BUA shall be independent of additional BUA\n",
       "as permissible under Regulation No. 14<span style='color:red'>(</span>A), 15, 16 and 17, if any.\n",
       "7) Fungible compensatory area admissible under Regulation No. 31(3) on\n",
       "the existing authorised BUA shall be without charging premium and\n",
       "over the incentive additional BUA by charging of premium.\n",
       "8) If tenanted building/s and building/s of co-operative housing\n",
       "society/non- tenanted building/s co-exist on the plot under\n",
       "development, then proportionate land component as per the existing\n",
       "authorised BUA of existing tenanted building on the plot shall be\n",
       "180 DCPR 2034\n"
      ],
      "text/plain": [
       "<IPython.core.display.Markdown object>"
      ]
     },
     "metadata": {},
     "output_type": "display_data"
    },
    {
     "data": {
      "text/markdown": [
       "Original Notifications shall\n",
       "be referred for perspicuity<span style='color:red'>\n",
       "33(7)(</span>B) Additional FSI for Redevelopment of existing\n",
       "residential housing societies excluding buildings covered\n",
       "under regulation<span style='color:red'> 33(7)</span> and<span style='color:red'> 33(7)(</span>A):\n",
       "1) In case of redevelopment of existing residential housing societies\n",
       "excluding buildings covered under regulation<span style='color:red'> 33(7)</span> and<span style='color:red'> 33(7)(</span>A)\n",
       "proposed by Housing societies/landlords or through their proponents\n",
       "where existing members are proposed to be re- accommodated on the\n",
       "same plot, incentive additional BUA to the extent of 15% of existing\n",
       "BUA or 10 sq. m per tenement whichever is more shall be permissible\n",
       "without premium.\n",
       "Provided further that if the existing authorized BUA and incentive\n",
       "thereon as stated above is less than the permissible FSI as per\n",
       "regulation 30<span style='color:red'>(</span>A)(1), then society may avail ‘Additional FSI on payment\n",
       "of premium/TDR’ up to limit of permissible FSI.\n",
       "2) If staircase, lift & lift lobby areas are claimed free of FSI by charging\n",
       "premium as per then prevailing Regulation, then such areas to that\n",
       "extent only will be granted free of FSI without charging premium. If\n",
       "staircase, lift & lift lobby areas are counted<span style='color:red'> in</span> FSI<span style='color:red'> in</span> earlier\n",
       "development, then incentive additional FSI as stated<span style='color:red'> in</span> Sr. No. 1 shall\n",
       "also be given on such area & such areas may be availed free of FSI by\n",
       "charging premium as per these Regulations.\n",
       "3) This Regulation shall be applicable only when existing members of the\n",
       "societies are proposed to be re-accommodated.\n",
       "4) This regulation will be applicable for redevelopment of existing\n",
       "authorized buildings which are of thirty years of age or more.\n",
       "5) This regulation shall not be applicable<span style='color:red'> in</span> respect of redevelopment\n",
       "proposal to be/being processed under Regulation No.<span style='color:red'> 33</span>(5),<span style='color:red'> 33(7)</span>,<span style='color:red'>\n",
       "33(</span>8),<span style='color:red'> 33</span>(9),<span style='color:red'> 33</span>(9)<span style='color:red'>(</span>A),<span style='color:red'> 33</span>(9)<span style='color:red'>(</span>B),<span style='color:red'> 33</span>(10),<span style='color:red'> 33</span>(10) (A),<span style='color:red'> 33(</span>20) (A),<span style='color:red'> 33(</span>21).\n",
       "Explanation: -Age of a building shall be as on the 1st of January of the\n",
       "year<span style='color:red'> in</span> which a complete redevelopment proposal is submitted to the\n",
       "Commissioner and shall be calculated from the date of Occupation\n",
       "Certificate or alternately, from the first date of assessment as per the\n",
       "property tax record<span style='color:red'> in</span> respect of such building or building on which\n",
       "balance/admissible FSI has been consumed by way of vertical\n",
       "extension as per then prevailing Regulation, available with the MCGM.\n",
       "6) This incentive additional BUA shall be independent of additional BUA\n",
       "as permissible under Regulation No. 14<span style='color:red'>(</span>A), 15, 16 and 17, if any.\n",
       "7) Fungible compensatory area admissible under Regulation No. 31(3) on\n",
       "the existing authorised BUA shall be without charging premium and\n",
       "over the incentive additional BUA by charging of premium.\n",
       "8) If tenanted building/s and building/s of co-operative housing\n",
       "society/non- tenanted building/s co-exist on the plot under\n",
       "development, then proportionate land component as per the existing\n",
       "authorised BUA of existing tenanted building on the plot shall be\n",
       "180 DCPR 2034\n"
      ],
      "text/plain": [
       "<IPython.core.display.Markdown object>"
      ]
     },
     "metadata": {},
     "output_type": "display_data"
    },
    {
     "data": {
      "text/markdown": [
       "Original Notifications shall\n",
       "be referred for perspicuity<span style='color:red'>\n",
       "33(7)(</span>B) Additional FSI for Redevelopment of existing\n",
       "residential housing societies excluding buildings covered\n",
       "under regulation<span style='color:red'> 33(7)</span> and<span style='color:red'> 33(7)(</span>A):\n",
       "1) In case of redevelopment of existing residential housing societies\n",
       "excluding buildings covered under regulation<span style='color:red'> 33(7)</span> and<span style='color:red'> 33(7)(</span>A)\n",
       "proposed by Housing societies/landlords or through their proponents\n",
       "where existing members are proposed to be re- accommodated on the\n",
       "same plot, incentive additional BUA to the extent of 15% of existing\n",
       "BUA or 10 sq. m per tenement whichever is more shall be permissible\n",
       "without premium.\n",
       "Provided further that if the existing authorized BUA and incentive\n",
       "thereon as stated above is less than the permissible FSI as per\n",
       "regulation 30<span style='color:red'>(</span>A)(1), then society may avail ‘Additional FSI on payment\n",
       "of premium/TDR’ up to limit of permissible FSI.\n",
       "2) If staircase, lift & lift lobby areas are claimed free of FSI by charging\n",
       "premium as per then prevailing Regulation, then such areas to that\n",
       "extent only will be granted free of FSI without charging premium. If\n",
       "staircase, lift & lift lobby areas are counted<span style='color:red'> in</span> FSI<span style='color:red'> in</span> earlier\n",
       "development, then incentive additional FSI as stated<span style='color:red'> in</span> Sr. No. 1 shall\n",
       "also be given on such area & such areas may be availed free of FSI by\n",
       "charging premium as per these Regulations.\n",
       "3) This Regulation shall be applicable only when existing members of the\n",
       "societies are proposed to be re-accommodated.\n",
       "4) This regulation will be applicable for redevelopment of existing\n",
       "authorized buildings which are of thirty years of age or more.\n",
       "5) This regulation shall not be applicable<span style='color:red'> in</span> respect of redevelopment\n",
       "proposal to be/being processed under Regulation No.<span style='color:red'> 33</span>(5),<span style='color:red'> 33(7)</span>,<span style='color:red'>\n",
       "33(</span>8),<span style='color:red'> 33</span>(9),<span style='color:red'> 33</span>(9)<span style='color:red'>(</span>A),<span style='color:red'> 33</span>(9)<span style='color:red'>(</span>B),<span style='color:red'> 33</span>(10),<span style='color:red'> 33</span>(10) (A),<span style='color:red'> 33(</span>20) (A),<span style='color:red'> 33(</span>21).\n",
       "Explanation: -Age of a building shall be as on the 1st of January of the\n",
       "year<span style='color:red'> in</span> which a complete redevelopment proposal is submitted to the\n",
       "Commissioner and shall be calculated from the date of Occupation\n",
       "Certificate or alternately, from the first date of assessment as per the\n",
       "property tax record<span style='color:red'> in</span> respect of such building or building on which\n",
       "balance/admissible FSI has been consumed by way of vertical\n",
       "extension as per then prevailing Regulation, available with the MCGM.\n",
       "6) This incentive additional BUA shall be independent of additional BUA\n",
       "as permissible under Regulation No. 14<span style='color:red'>(</span>A), 15, 16 and 17, if any.\n",
       "7) Fungible compensatory area admissible under Regulation No. 31(3) on\n",
       "the existing authorised BUA shall be without charging premium and\n",
       "over the incentive additional BUA by charging of premium.\n",
       "8) If tenanted building/s and building/s of co-operative housing\n",
       "society/non- tenanted building/s co-exist on the plot under\n",
       "development, then proportionate land component as per the existing\n",
       "authorised BUA of existing tenanted building on the plot shall be\n",
       "180 DCPR 2034\n"
      ],
      "text/plain": [
       "<IPython.core.display.Markdown object>"
      ]
     },
     "metadata": {},
     "output_type": "display_data"
    },
    {
     "data": {
      "text/markdown": [
       "Original Notifications shall Original Notifications shall\n",
       "be referred for perspicuity be referred for perspicuity\n",
       "bb.. BByy aappppooiinnttiinngg PPrriivvaattee ddeevveellooppeerr bbyy aauutthhoorriittyy wwiitthh ttrriippaarrttyy aaggrreeeemme<span style='color:red'>en</span>ntt\n",
       "bbeettwweeeenn ddeevveellooppeerr MMHHAADDAA//MMCCGGMM aauutthhoorriittyy aanndd ooccccuuppaannttss 7. FSI Permissible:\n",
       "aassssoocciiaattiioonn aass ppeerr 77<span style='color:red'>((</span>1133)) ooff tthhiiss rreegguullaattiioonn.. A. For redevelopment undertak<span style='color:red'>en</span> by Private developers as per clause 2<span style='color:red'>(</span>a)\n",
       "cc.. MMHHAADDAA // MMCCGGMM tthheemmsseellvveess bbyy aappppooiinnttiinngg ddeevveellooppeerr tthhrroouugghh above:\n",
       "ccoommppeettiittiivvee bbiiddddiinngg aass ppeerr ccllaauussee 77<span style='color:red'>((</span>CC)) ooff tthhiiss rreegguullaattiioonn FSI required for rehabilitation of existing occupants plus incentive\n",
       "33.. AAllll tthhee eelliiggiibbllee ooccccuuppaannttss iinn bbuuiillddiinngg//ssttrruuccttuurreess sshhaallll bbee cceerrttiiffiieedd bbyy thereon as mentioned below, subject to minimum 3 FSI\n",
       "rreessppeeccttiivvee aauutthhoorriittiieess oorr MMHHAADDAA // MMCCGGMM..\n",
       "44.. EEaacchh ooccccuuppaanntt sshhaallll bbee rreehhaabbiilliittaatteedd aanndd ggiivve<span style='color:red'>en</span>n tthhee ccaarrppeett aarreeaa ooccccuuppiieedd Basic Ratio LR/RC<span style='color:red'> Incentive</span> (as % of Admissible rehab Area)\n",
       "bbyy hhiimm ffoorr rreessiidde<span style='color:red'>en</span>nttiiaall ppuurrppoossee iinn tthhee oolldd bbuuiillddiinngg ssuubbjjeecctt ttoo tthhee For Single Plot For Composite redevelopment of\n",
       "mmiinniimmuumm ffiixxeedd ccaarrppeett aarreeaa ooff 2277..8888 ssqq.. mm ((330000 ssqq..fftt..)) aanndd//oorr mmaaxxiimmuumm Two to Five Plots Six or more Plots\n",
       "ccaarrppeett aarreeaa uuppttoo 112200 ssqq..mm ((11229922 ssqq..fftt..)) IInn ccaassee ooff nnoonn--rreessiidde<span style='color:red'>en</span>nttiiaall Above 6 75 85 90\n",
       "ooccccuuppiieerr,, tthhee aarreeaa ttoo bbee ggiivve<span style='color:red'>en</span>n iinn tthhee rreeccoonnssttrruucctteedd bbuuiillddiinngg wwiillll bbee Above 4 and upto 6 78 88 95\n",
       "eeqquuiivvaalleenntt ttoo tthhee aarreeaa ooccccuuppiieedd iinn tthhee oolldd bbuuiillddiinngg.. PPrroovviiddeedd ffuurrtthheerr tthhaatt Upto 4 80 90 100\n",
       "eeaacchh eelliiggiibbllee rreessiidde<span style='color:red'>en</span>nttiiaall ccuumm ccoommmmeerrcciiaall ooccccuuppaanntt sshhaallll bbee eennttiittlleedd ttoo\n",
       "aa tteenneemme<span style='color:red'>en</span>ntt ooff mmiinniimmuumm ccaarrppeett aarreeaa ooff 2277..8888 ssqq.. mm ((330000 ssqq.. mm..))..\n",
       "Explanation: - RC is rate of construction<span style='color:red'> in</span> respect of RCC\n",
       "PPrroovviiddeedd ffuurrtthheerr tthhaatt tthhee rreehhaabbiilliittaattiioonn aarreeaa ooff aannyy ooccccuuppaanntt ooff aa\n",
       "Construction and Land Rate (LR) is the rate of Open Land for FSI 1.\n",
       "ccoommmmeerrcciiaall eessttaabblliisshhmme<span style='color:red'>en</span>ntt,, wwhhoo iiss aalllloowweedd bbyy tthhee rreessppeeccttiivvee aauutthhoorriittyy\n",
       "Provided further that<span style='color:red'> in</span> ease there is more than one land rate applicable\n",
       "MMHHAADDAA//MMCCGGMM ttoo bbee rreehhaabbiilliittaatteedd iinn aa rreessiidde<span style='color:red'>en</span>nttiiaall tteenneemme<span style='color:red'>en</span>ntt iinn lliieeuu\n",
       "to different parts of the plot under the CDS, a weighted average of all\n",
       "ooff hhiiss ccoommmmeerrcciiaall eessttaabblliisshhmme<span style='color:red'>en</span>ntt,, sshhaallll aallssoo bbee ggoovveerrnneedd bbyy tthhee\n",
       "the applicable rates shall be taken for calculating the Average Land Rate\n",
       "aaffoorreessaaiidd pprroovviissiioonnss aapppplliiccaabbllee ttoo tthhee rreessiidde<span style='color:red'>en</span>nttiiaall ooccccuuppaannttss iinn tthheessee\n",
       "and the Basic Ratio. Provided further that for calculation of the Basic\n",
       "RReegguullaattiioonnss..\n",
       "Ratio, the Land Rate (LR) and the Rate of Construction (RC) shall be\n",
       "55.. TThhee lliisstt ooff eelliiggiibbllee ooccccuuppaannttss aanndd aarreeaa ooccccuuppiieedd bbyy eeaacchh ooff tthheemm sshhaallll\n",
       "taken for the year<span style='color:red'> in</span> which the proposal is approved by the Authority\n",
       "bbee cceerrttiiffiieedd bbyy tthhee rreessppeeccttiivvee aauutthhoorriittyy ii..ee.. MMHHAADDAA oorr MMCCGGMM..\n",
       "and the said ratio shall remain unchanged even if such Scheme\n",
       "66.. FFuunnggiibbllee CCoommppe<span style='color:red'>en</span>nssaattoorryy AArreeaa aass aapppplliiccaabbllee oonn tthhee aarreeaa ttoo bbee hhaannddeedd\n",
       "undergoes any revision or modification subsequently during its course\n",
       "oovveerr ttoo MMHHAADDAA//MMCCGGMM sshhaallll nnoott bbee aalllloowweedd ttoo bbee uuttiilliizzeedd oonn ssaallee\n",
       "of completion.\n",
       "ccoommppoonne<span style='color:red'>en</span>ntt.. NNoo pprreemmiiuumm sshhaallll bbee cchhaarrggeedd oonn tthhee ffuunnggiibbllee\n",
       "ccoommppe<span style='color:red'>en</span>nssaattoorryy aarreeaa iinn rreessppeecctt ooff aarreeaa ttoo bbee hhaannddeedd oovveerr ttoo\n",
       "B. For redevelopment with tripartite agreement as per 2<span style='color:red'>(</span>b) above:\n",
       "MMHHAADDAA//MMCCGGMM aanndd sshhaallll bbee eexxcclluussiivvee ooff tthhee FFuunnggiibbllee ccoommppe<span style='color:red'>en</span>nssaattoorryy\n",
       "When there is no developer coming forward for redevelopment of the\n",
       "BBUUAA iiff aavvaaiilleedd..\n",
       "building as per above regulation 7<span style='color:red'>(</span>A) and at least 51% or the occupants\n",
       "PPrroovviiddeedd tthhaatt aatt tthhee ooppttiioonn ooff tthhee OOwwnneerr//DDeevveellooppeerr,, tthhee aarreeaa eeqquuiivvaalleenntt\n",
       "of at least 5 building adjacent at one location requested\n",
       "ttoo tthhee mmaarrkkeett vvaalluuee ((aass ppeerr AASSRR ooff tthhaatt yyeeaarr)) ooff aarreeaa aaddmmiissssiibbllee aass ppeerr\n",
       "MHADA/MCGM to undertake redevelopment by appointing private\n",
       "tthhee pprreessccrriibbeedd ppeerrcce<span style='color:red'>en</span>nttaaggee ooff BBUUAA ttoo MMHHAADDAA//MMCCGGMM ccaann bbee mmaaddee\n",
       "developer, then<span style='color:red'> in</span> such case MHADA/MCGM may undertake the\n",
       "aavvaaiillaabbllee wwiitthhiinn tthhee ssaammee oorr aaddjjooiinniinngg mmuunniicciippaall wwaarrdd ooff MMCCGGMM..\n",
       "redevelopment of cluster of all such buildings belongings to the\n",
       "330066 DCPR 2034 307 DCPR 2034\n"
      ],
      "text/plain": [
       "<IPython.core.display.Markdown object>"
      ]
     },
     "metadata": {},
     "output_type": "display_data"
    },
    {
     "data": {
      "text/markdown": [
       "Original Notifications shall Original Notifications shall\n",
       "be referred for perspicuity be referred for perspicuity\n",
       "bb.. BByy aappppooiinnttiinngg PPrriivvaattee ddeevveellooppeerr bbyy aauutthhoorriittyy wwiitthh ttrriippaarrttyy aaggrreeeemme<span style='color:red'>en</span>ntt\n",
       "bbeettwweeeenn ddeevveellooppeerr MMHHAADDAA//MMCCGGMM aauutthhoorriittyy aanndd ooccccuuppaannttss 7. FSI Permissible:\n",
       "aassssoocciiaattiioonn aass ppeerr 77<span style='color:red'>((</span>1133)) ooff tthhiiss rreegguullaattiioonn.. A. For redevelopment undertak<span style='color:red'>en</span> by Private developers as per clause 2<span style='color:red'>(</span>a)\n",
       "cc.. MMHHAADDAA // MMCCGGMM tthheemmsseellvveess bbyy aappppooiinnttiinngg ddeevveellooppeerr tthhrroouugghh above:\n",
       "ccoommppeettiittiivvee bbiiddddiinngg aass ppeerr ccllaauussee 77<span style='color:red'>((</span>CC)) ooff tthhiiss rreegguullaattiioonn FSI required for rehabilitation of existing occupants plus incentive\n",
       "33.. AAllll tthhee eelliiggiibbllee ooccccuuppaannttss iinn bbuuiillddiinngg//ssttrruuccttuurreess sshhaallll bbee cceerrttiiffiieedd bbyy thereon as mentioned below, subject to minimum 3 FSI\n",
       "rreessppeeccttiivvee aauutthhoorriittiieess oorr MMHHAADDAA // MMCCGGMM..\n",
       "44.. EEaacchh ooccccuuppaanntt sshhaallll bbee rreehhaabbiilliittaatteedd aanndd ggiivve<span style='color:red'>en</span>n tthhee ccaarrppeett aarreeaa ooccccuuppiieedd Basic Ratio LR/RC<span style='color:red'> Incentive</span> (as % of Admissible rehab Area)\n",
       "bbyy hhiimm ffoorr rreessiidde<span style='color:red'>en</span>nttiiaall ppuurrppoossee iinn tthhee oolldd bbuuiillddiinngg ssuubbjjeecctt ttoo tthhee For Single Plot For Composite redevelopment of\n",
       "mmiinniimmuumm ffiixxeedd ccaarrppeett aarreeaa ooff 2277..8888 ssqq.. mm ((330000 ssqq..fftt..)) aanndd//oorr mmaaxxiimmuumm Two to Five Plots Six or more Plots\n",
       "ccaarrppeett aarreeaa uuppttoo 112200 ssqq..mm ((11229922 ssqq..fftt..)) IInn ccaassee ooff nnoonn--rreessiidde<span style='color:red'>en</span>nttiiaall Above 6 75 85 90\n",
       "ooccccuuppiieerr,, tthhee aarreeaa ttoo bbee ggiivve<span style='color:red'>en</span>n iinn tthhee rreeccoonnssttrruucctteedd bbuuiillddiinngg wwiillll bbee Above 4 and upto 6 78 88 95\n",
       "eeqquuiivvaalleenntt ttoo tthhee aarreeaa ooccccuuppiieedd iinn tthhee oolldd bbuuiillddiinngg.. PPrroovviiddeedd ffuurrtthheerr tthhaatt Upto 4 80 90 100\n",
       "eeaacchh eelliiggiibbllee rreessiidde<span style='color:red'>en</span>nttiiaall ccuumm ccoommmmeerrcciiaall ooccccuuppaanntt sshhaallll bbee eennttiittlleedd ttoo\n",
       "aa tteenneemme<span style='color:red'>en</span>ntt ooff mmiinniimmuumm ccaarrppeett aarreeaa ooff 2277..8888 ssqq.. mm ((330000 ssqq.. mm..))..\n",
       "Explanation: - RC is rate of construction<span style='color:red'> in</span> respect of RCC\n",
       "PPrroovviiddeedd ffuurrtthheerr tthhaatt tthhee rreehhaabbiilliittaattiioonn aarreeaa ooff aannyy ooccccuuppaanntt ooff aa\n",
       "Construction and Land Rate (LR) is the rate of Open Land for FSI 1.\n",
       "ccoommmmeerrcciiaall eessttaabblliisshhmme<span style='color:red'>en</span>ntt,, wwhhoo iiss aalllloowweedd bbyy tthhee rreessppeeccttiivvee aauutthhoorriittyy\n",
       "Provided further that<span style='color:red'> in</span> ease there is more than one land rate applicable\n",
       "MMHHAADDAA//MMCCGGMM ttoo bbee rreehhaabbiilliittaatteedd iinn aa rreessiidde<span style='color:red'>en</span>nttiiaall tteenneemme<span style='color:red'>en</span>ntt iinn lliieeuu\n",
       "to different parts of the plot under the CDS, a weighted average of all\n",
       "ooff hhiiss ccoommmmeerrcciiaall eessttaabblliisshhmme<span style='color:red'>en</span>ntt,, sshhaallll aallssoo bbee ggoovveerrnneedd bbyy tthhee\n",
       "the applicable rates shall be taken for calculating the Average Land Rate\n",
       "aaffoorreessaaiidd pprroovviissiioonnss aapppplliiccaabbllee ttoo tthhee rreessiidde<span style='color:red'>en</span>nttiiaall ooccccuuppaannttss iinn tthheessee\n",
       "and the Basic Ratio. Provided further that for calculation of the Basic\n",
       "RReegguullaattiioonnss..\n",
       "Ratio, the Land Rate (LR) and the Rate of Construction (RC) shall be\n",
       "55.. TThhee lliisstt ooff eelliiggiibbllee ooccccuuppaannttss aanndd aarreeaa ooccccuuppiieedd bbyy eeaacchh ooff tthheemm sshhaallll\n",
       "taken for the year<span style='color:red'> in</span> which the proposal is approved by the Authority\n",
       "bbee cceerrttiiffiieedd bbyy tthhee rreessppeeccttiivvee aauutthhoorriittyy ii..ee.. MMHHAADDAA oorr MMCCGGMM..\n",
       "and the said ratio shall remain unchanged even if such Scheme\n",
       "66.. FFuunnggiibbllee CCoommppe<span style='color:red'>en</span>nssaattoorryy AArreeaa aass aapppplliiccaabbllee oonn tthhee aarreeaa ttoo bbee hhaannddeedd\n",
       "undergoes any revision or modification subsequently during its course\n",
       "oovveerr ttoo MMHHAADDAA//MMCCGGMM sshhaallll nnoott bbee aalllloowweedd ttoo bbee uuttiilliizzeedd oonn ssaallee\n",
       "of completion.\n",
       "ccoommppoonne<span style='color:red'>en</span>ntt.. NNoo pprreemmiiuumm sshhaallll bbee cchhaarrggeedd oonn tthhee ffuunnggiibbllee\n",
       "ccoommppe<span style='color:red'>en</span>nssaattoorryy aarreeaa iinn rreessppeecctt ooff aarreeaa ttoo bbee hhaannddeedd oovveerr ttoo\n",
       "B. For redevelopment with tripartite agreement as per 2<span style='color:red'>(</span>b) above:\n",
       "MMHHAADDAA//MMCCGGMM aanndd sshhaallll bbee eexxcclluussiivvee ooff tthhee FFuunnggiibbllee ccoommppe<span style='color:red'>en</span>nssaattoorryy\n",
       "When there is no developer coming forward for redevelopment of the\n",
       "BBUUAA iiff aavvaaiilleedd..\n",
       "building as per above regulation 7<span style='color:red'>(</span>A) and at least 51% or the occupants\n",
       "PPrroovviiddeedd tthhaatt aatt tthhee ooppttiioonn ooff tthhee OOwwnneerr//DDeevveellooppeerr,, tthhee aarreeaa eeqquuiivvaalleenntt\n",
       "of at least 5 building adjacent at one location requested\n",
       "ttoo tthhee mmaarrkkeett vvaalluuee ((aass ppeerr AASSRR ooff tthhaatt yyeeaarr)) ooff aarreeaa aaddmmiissssiibbllee aass ppeerr\n",
       "MHADA/MCGM to undertake redevelopment by appointing private\n",
       "tthhee pprreessccrriibbeedd ppeerrcce<span style='color:red'>en</span>nttaaggee ooff BBUUAA ttoo MMHHAADDAA//MMCCGGMM ccaann bbee mmaaddee\n",
       "developer, then<span style='color:red'> in</span> such case MHADA/MCGM may undertake the\n",
       "aavvaaiillaabbllee wwiitthhiinn tthhee ssaammee oorr aaddjjooiinniinngg mmuunniicciippaall wwaarrdd ooff MMCCGGMM..\n",
       "redevelopment of cluster of all such buildings belongings to the\n",
       "330066 DCPR 2034 307 DCPR 2034\n"
      ],
      "text/plain": [
       "<IPython.core.display.Markdown object>"
      ]
     },
     "metadata": {},
     "output_type": "display_data"
    }
   ],
   "source": [
    "# Hybrid search results\n",
    "display(Markdown(\"\\n**Hybrid Search Results:**\"))\n",
    "formatted_results = doc_text_formatting(ef, query, hybrid_results)\n",
    "for result in formatted_results:\n",
    "    display(Markdown(result))"
   ]
  },
  {
   "cell_type": "code",
   "execution_count": 34,
   "metadata": {},
   "outputs": [
    {
     "data": {
      "text/plain": [
       "\"\\nYou are an legal expert assistant providing detailed and accurate information. The user has asked the following question:\\n**Question:** Incentive in 33(7)\\n\\nBelow is relevant information retrieved from various sources:\\n**Retrieved Information:**\\n['Original Notifications shall\\\\nbe referred for perspicuity\\\\n33(7)(B) Additional FSI for Redevelopment of existing\\\\nresidential housing societies excluding buildings covered\\\\nunder regulation 33(7) and 33(7)(A):\\\\n1) In case of redevelopment of existing residential housing societies\\\\nexcluding buildings covered under regulation 33(7) and 33(7)(A)\\\\nproposed by Housing societies/landlords or through their proponents\\\\nwhere existing members are proposed to be re- accommodated on the\\\\nsame plot, incentive additional BUA to the extent of 15% of existing\\\\nBUA or 10 sq. m per tenement whichever is more shall be permissible\\\\nwithout premium.\\\\nProvided further that if the existing authorized BUA and incentive\\\\nthereon as stated above is less than the permissible FSI as per\\\\nregulation 30(A)(1), then society may avail ‘Additional FSI on payment\\\\nof premium/TDR’ up to limit of permissible FSI.\\\\n2) If staircase, lift & lift lobby areas are claimed free of FSI by charging\\\\npremium as per then prevailing Regulation, then such areas to that\\\\nextent only will be granted free of FSI without charging premium. If\\\\nstaircase, lift & lift lobby areas are counted in FSI in earlier\\\\ndevelopment, then incentive additional FSI as stated in Sr. No. 1 shall\\\\nalso be given on such area & such areas may be availed free of FSI by\\\\ncharging premium as per these Regulations.\\\\n3) This Regulation shall be applicable only when existing members of the\\\\nsocieties are proposed to be re-accommodated.\\\\n4) This regulation will be applicable for redevelopment of existing\\\\nauthorized buildings which are of thirty years of age or more.\\\\n5) This regulation shall not be applicable in respect of redevelopment\\\\nproposal to be/being processed under Regulation No. 33(5), 33(7),\\\\n33(8), 33(9), 33(9)(A), 33(9)(B), 33(10), 33(10) (A), 33(20) (A), 33(21).\\\\nExplanation: -Age of a building shall be as on the 1st of January of the\\\\nyear in which a complete redevelopment proposal is submitted to the\\\\nCommissioner and shall be calculated from the date of Occupation\\\\nCertificate or alternately, from the first date of assessment as per the\\\\nproperty tax record in respect of such building or building on which\\\\nbalance/admissible FSI has been consumed by way of vertical\\\\nextension as per then prevailing Regulation, available with the MCGM.\\\\n6) This incentive additional BUA shall be independent of additional BUA\\\\nas permissible under Regulation No. 14(A), 15, 16 and 17, if any.\\\\n7) Fungible compensatory area admissible under Regulation No. 31(3) on\\\\nthe existing authorised BUA shall be without charging premium and\\\\nover the incentive additional BUA by charging of premium.\\\\n8) If tenanted building/s and building/s of co-operative housing\\\\nsociety/non- tenanted building/s co-exist on the plot under\\\\ndevelopment, then proportionate land component as per the existing\\\\nauthorised BUA of existing tenanted building on the plot shall be\\\\n180 DCPR 2034\\\\n', 'Original Notifications shall\\\\nbe referred for perspicuity\\\\n33(7)(B) Additional FSI for Redevelopment of existing\\\\nresidential housing societies excluding buildings covered\\\\nunder regulation 33(7) and 33(7)(A):\\\\n1) In case of redevelopment of existing residential housing societies\\\\nexcluding buildings covered under regulation 33(7) and 33(7)(A)\\\\nproposed by Housing societies/landlords or through their proponents\\\\nwhere existing members are proposed to be re- accommodated on the\\\\nsame plot, incentive additional BUA to the extent of 15% of existing\\\\nBUA or 10 sq. m per tenement whichever is more shall be permissible\\\\nwithout premium.\\\\nProvided further that if the existing authorized BUA and incentive\\\\nthereon as stated above is less than the permissible FSI as per\\\\nregulation 30(A)(1), then society may avail ‘Additional FSI on payment\\\\nof premium/TDR’ up to limit of permissible FSI.\\\\n2) If staircase, lift & lift lobby areas are claimed free of FSI by charging\\\\npremium as per then prevailing Regulation, then such areas to that\\\\nextent only will be granted free of FSI without charging premium. If\\\\nstaircase, lift & lift lobby areas are counted in FSI in earlier\\\\ndevelopment, then incentive additional FSI as stated in Sr. No. 1 shall\\\\nalso be given on such area & such areas may be availed free of FSI by\\\\ncharging premium as per these Regulations.\\\\n3) This Regulation shall be applicable only when existing members of the\\\\nsocieties are proposed to be re-accommodated.\\\\n4) This regulation will be applicable for redevelopment of existing\\\\nauthorized buildings which are of thirty years of age or more.\\\\n5) This regulation shall not be applicable in respect of redevelopment\\\\nproposal to be/being processed under Regulation No. 33(5), 33(7),\\\\n33(8), 33(9), 33(9)(A), 33(9)(B), 33(10), 33(10) (A), 33(20) (A), 33(21).\\\\nExplanation: -Age of a building shall be as on the 1st of January of the\\\\nyear in which a complete redevelopment proposal is submitted to the\\\\nCommissioner and shall be calculated from the date of Occupation\\\\nCertificate or alternately, from the first date of assessment as per the\\\\nproperty tax record in respect of such building or building on which\\\\nbalance/admissible FSI has been consumed by way of vertical\\\\nextension as per then prevailing Regulation, available with the MCGM.\\\\n6) This incentive additional BUA shall be independent of additional BUA\\\\nas permissible under Regulation No. 14(A), 15, 16 and 17, if any.\\\\n7) Fungible compensatory area admissible under Regulation No. 31(3) on\\\\nthe existing authorised BUA shall be without charging premium and\\\\nover the incentive additional BUA by charging of premium.\\\\n8) If tenanted building/s and building/s of co-operative housing\\\\nsociety/non- tenanted building/s co-exist on the plot under\\\\ndevelopment, then proportionate land component as per the existing\\\\nauthorised BUA of existing tenanted building on the plot shall be\\\\n180 DCPR 2034\\\\n', 'Original Notifications shall\\\\nbe referred for perspicuity\\\\n33(7)(B) Additional FSI for Redevelopment of existing\\\\nresidential housing societies excluding buildings covered\\\\nunder regulation 33(7) and 33(7)(A):\\\\n1) In case of redevelopment of existing residential housing societies\\\\nexcluding buildings covered under regulation 33(7) and 33(7)(A)\\\\nproposed by Housing societies/landlords or through their proponents\\\\nwhere existing members are proposed to be re- accommodated on the\\\\nsame plot, incentive additional BUA to the extent of 15% of existing\\\\nBUA or 10 sq. m per tenement whichever is more shall be permissible\\\\nwithout premium.\\\\nProvided further that if the existing authorized BUA and incentive\\\\nthereon as stated above is less than the permissible FSI as per\\\\nregulation 30(A)(1), then society may avail ‘Additional FSI on payment\\\\nof premium/TDR’ up to limit of permissible FSI.\\\\n2) If staircase, lift & lift lobby areas are claimed free of FSI by charging\\\\npremium as per then prevailing Regulation, then such areas to that\\\\nextent only will be granted free of FSI without charging premium. If\\\\nstaircase, lift & lift lobby areas are counted in FSI in earlier\\\\ndevelopment, then incentive additional FSI as stated in Sr. No. 1 shall\\\\nalso be given on such area & such areas may be availed free of FSI by\\\\ncharging premium as per these Regulations.\\\\n3) This Regulation shall be applicable only when existing members of the\\\\nsocieties are proposed to be re-accommodated.\\\\n4) This regulation will be applicable for redevelopment of existing\\\\nauthorized buildings which are of thirty years of age or more.\\\\n5) This regulation shall not be applicable in respect of redevelopment\\\\nproposal to be/being processed under Regulation No. 33(5), 33(7),\\\\n33(8), 33(9), 33(9)(A), 33(9)(B), 33(10), 33(10) (A), 33(20) (A), 33(21).\\\\nExplanation: -Age of a building shall be as on the 1st of January of the\\\\nyear in which a complete redevelopment proposal is submitted to the\\\\nCommissioner and shall be calculated from the date of Occupation\\\\nCertificate or alternately, from the first date of assessment as per the\\\\nproperty tax record in respect of such building or building on which\\\\nbalance/admissible FSI has been consumed by way of vertical\\\\nextension as per then prevailing Regulation, available with the MCGM.\\\\n6) This incentive additional BUA shall be independent of additional BUA\\\\nas permissible under Regulation No. 14(A), 15, 16 and 17, if any.\\\\n7) Fungible compensatory area admissible under Regulation No. 31(3) on\\\\nthe existing authorised BUA shall be without charging premium and\\\\nover the incentive additional BUA by charging of premium.\\\\n8) If tenanted building/s and building/s of co-operative housing\\\\nsociety/non- tenanted building/s co-exist on the plot under\\\\ndevelopment, then proportionate land component as per the existing\\\\nauthorised BUA of existing tenanted building on the plot shall be\\\\n180 DCPR 2034\\\\n', 'Original Notifications shall Original Notifications shall\\\\nbe referred for perspicuity be referred for perspicuity\\\\nbb.. BByy aappppooiinnttiinngg PPrriivvaattee ddeevveellooppeerr bbyy aauutthhoorriittyy wwiitthh ttrriippaarrttyy aaggrreeeemmeenntt\\\\nbbeettwweeeenn ddeevveellooppeerr MMHHAADDAA//MMCCGGMM aauutthhoorriittyy aanndd ooccccuuppaannttss 7. FSI Permissible:\\\\naassssoocciiaattiioonn aass ppeerr 77((1133)) ooff tthhiiss rreegguullaattiioonn.. A. For redevelopment undertaken by Private developers as per clause 2(a)\\\\ncc.. MMHHAADDAA // MMCCGGMM tthheemmsseellvveess bbyy aappppooiinnttiinngg ddeevveellooppeerr tthhrroouugghh above:\\\\nccoommppeettiittiivvee bbiiddddiinngg aass ppeerr ccllaauussee 77((CC)) ooff tthhiiss rreegguullaattiioonn FSI required for rehabilitation of existing occupants plus incentive\\\\n33.. AAllll tthhee eelliiggiibbllee ooccccuuppaannttss iinn bbuuiillddiinngg//ssttrruuccttuurreess sshhaallll bbee cceerrttiiffiieedd bbyy thereon as mentioned below, subject to minimum 3 FSI\\\\nrreessppeeccttiivvee aauutthhoorriittiieess oorr MMHHAADDAA // MMCCGGMM..\\\\n44.. EEaacchh ooccccuuppaanntt sshhaallll bbee rreehhaabbiilliittaatteedd aanndd ggiivveenn tthhee ccaarrppeett aarreeaa ooccccuuppiieedd Basic Ratio LR/RC Incentive (as % of Admissible rehab Area)\\\\nbbyy hhiimm ffoorr rreessiiddeennttiiaall ppuurrppoossee iinn tthhee oolldd bbuuiillddiinngg ssuubbjjeecctt ttoo tthhee For Single Plot For Composite redevelopment of\\\\nmmiinniimmuumm ffiixxeedd ccaarrppeett aarreeaa ooff 2277..8888 ssqq.. mm ((330000 ssqq..fftt..)) aanndd//oorr mmaaxxiimmuumm Two to Five Plots Six or more Plots\\\\nccaarrppeett aarreeaa uuppttoo 112200 ssqq..mm ((11229922 ssqq..fftt..)) IInn ccaassee ooff nnoonn--rreessiiddeennttiiaall Above 6 75 85 90\\\\nooccccuuppiieerr,, tthhee aarreeaa ttoo bbee ggiivveenn iinn tthhee rreeccoonnssttrruucctteedd bbuuiillddiinngg wwiillll bbee Above 4 and upto 6 78 88 95\\\\neeqquuiivvaalleenntt ttoo tthhee aarreeaa ooccccuuppiieedd iinn tthhee oolldd bbuuiillddiinngg.. PPrroovviiddeedd ffuurrtthheerr tthhaatt Upto 4 80 90 100\\\\neeaacchh eelliiggiibbllee rreessiiddeennttiiaall ccuumm ccoommmmeerrcciiaall ooccccuuppaanntt sshhaallll bbee eennttiittlleedd ttoo\\\\naa tteenneemmeenntt ooff mmiinniimmuumm ccaarrppeett aarreeaa ooff 2277..8888 ssqq.. mm ((330000 ssqq.. mm..))..\\\\nExplanation: - RC is rate of construction in respect of RCC\\\\nPPrroovviiddeedd ffuurrtthheerr tthhaatt tthhee rreehhaabbiilliittaattiioonn aarreeaa ooff aannyy ooccccuuppaanntt ooff aa\\\\nConstruction and Land Rate (LR) is the rate of Open Land for FSI 1.\\\\nccoommmmeerrcciiaall eessttaabblliisshhmmeenntt,, wwhhoo iiss aalllloowweedd bbyy tthhee rreessppeeccttiivvee aauutthhoorriittyy\\\\nProvided further that in ease there is more than one land rate applicable\\\\nMMHHAADDAA//MMCCGGMM ttoo bbee rreehhaabbiilliittaatteedd iinn aa rreessiiddeennttiiaall tteenneemmeenntt iinn lliieeuu\\\\nto different parts of the plot under the CDS, a weighted average of all\\\\nooff hhiiss ccoommmmeerrcciiaall eessttaabblliisshhmmeenntt,, sshhaallll aallssoo bbee ggoovveerrnneedd bbyy tthhee\\\\nthe applicable rates shall be taken for calculating the Average Land Rate\\\\naaffoorreessaaiidd pprroovviissiioonnss aapppplliiccaabbllee ttoo tthhee rreessiiddeennttiiaall ooccccuuppaannttss iinn tthheessee\\\\nand the Basic Ratio. Provided further that for calculation of the Basic\\\\nRReegguullaattiioonnss..\\\\nRatio, the Land Rate (LR) and the Rate of Construction (RC) shall be\\\\n55.. TThhee lliisstt ooff eelliiggiibbllee ooccccuuppaannttss aanndd aarreeaa ooccccuuppiieedd bbyy eeaacchh ooff tthheemm sshhaallll\\\\ntaken for the year in which the proposal is approved by the Authority\\\\nbbee cceerrttiiffiieedd bbyy tthhee rreessppeeccttiivvee aauutthhoorriittyy ii..ee.. MMHHAADDAA oorr MMCCGGMM..\\\\nand the said ratio shall remain unchanged even if such Scheme\\\\n66.. FFuunnggiibbllee CCoommppeennssaattoorryy AArreeaa aass aapppplliiccaabbllee oonn tthhee aarreeaa ttoo bbee hhaannddeedd\\\\nundergoes any revision or modification subsequently during its course\\\\noovveerr ttoo MMHHAADDAA//MMCCGGMM sshhaallll nnoott bbee aalllloowweedd ttoo bbee uuttiilliizzeedd oonn ssaallee\\\\nof completion.\\\\nccoommppoonneenntt.. NNoo pprreemmiiuumm sshhaallll bbee cchhaarrggeedd oonn tthhee ffuunnggiibbllee\\\\nccoommppeennssaattoorryy aarreeaa iinn rreessppeecctt ooff aarreeaa ttoo bbee hhaannddeedd oovveerr ttoo\\\\nB. For redevelopment with tripartite agreement as per 2(b) above:\\\\nMMHHAADDAA//MMCCGGMM aanndd sshhaallll bbee eexxcclluussiivvee ooff tthhee FFuunnggiibbllee ccoommppeennssaattoorryy\\\\nWhen there is no developer coming forward for redevelopment of the\\\\nBBUUAA iiff aavvaaiilleedd..\\\\nbuilding as per above regulation 7(A) and at least 51% or the occupants\\\\nPPrroovviiddeedd tthhaatt aatt tthhee ooppttiioonn ooff tthhee OOwwnneerr//DDeevveellooppeerr,, tthhee aarreeaa eeqquuiivvaalleenntt\\\\nof at least 5 building adjacent at one location requested\\\\nttoo tthhee mmaarrkkeett vvaalluuee ((aass ppeerr AASSRR ooff tthhaatt yyeeaarr)) ooff aarreeaa aaddmmiissssiibbllee aass ppeerr\\\\nMHADA/MCGM to undertake redevelopment by appointing private\\\\ntthhee pprreessccrriibbeedd ppeerrcceennttaaggee ooff BBUUAA ttoo MMHHAADDAA//MMCCGGMM ccaann bbee mmaaddee\\\\ndeveloper, then in such case MHADA/MCGM may undertake the\\\\naavvaaiillaabbllee wwiitthhiinn tthhee ssaammee oorr aaddjjooiinniinngg mmuunniicciippaall wwaarrdd ooff MMCCGGMM..\\\\nredevelopment of cluster of all such buildings belongings to the\\\\n330066 DCPR 2034 307 DCPR 2034\\\\n', 'Original Notifications shall Original Notifications shall\\\\nbe referred for perspicuity be referred for perspicuity\\\\nbb.. BByy aappppooiinnttiinngg PPrriivvaattee ddeevveellooppeerr bbyy aauutthhoorriittyy wwiitthh ttrriippaarrttyy aaggrreeeemmeenntt\\\\nbbeettwweeeenn ddeevveellooppeerr MMHHAADDAA//MMCCGGMM aauutthhoorriittyy aanndd ooccccuuppaannttss 7. FSI Permissible:\\\\naassssoocciiaattiioonn aass ppeerr 77((1133)) ooff tthhiiss rreegguullaattiioonn.. A. For redevelopment undertaken by Private developers as per clause 2(a)\\\\ncc.. MMHHAADDAA // MMCCGGMM tthheemmsseellvveess bbyy aappppooiinnttiinngg ddeevveellooppeerr tthhrroouugghh above:\\\\nccoommppeettiittiivvee bbiiddddiinngg aass ppeerr ccllaauussee 77((CC)) ooff tthhiiss rreegguullaattiioonn FSI required for rehabilitation of existing occupants plus incentive\\\\n33.. AAllll tthhee eelliiggiibbllee ooccccuuppaannttss iinn bbuuiillddiinngg//ssttrruuccttuurreess sshhaallll bbee cceerrttiiffiieedd bbyy thereon as mentioned below, subject to minimum 3 FSI\\\\nrreessppeeccttiivvee aauutthhoorriittiieess oorr MMHHAADDAA // MMCCGGMM..\\\\n44.. EEaacchh ooccccuuppaanntt sshhaallll bbee rreehhaabbiilliittaatteedd aanndd ggiivveenn tthhee ccaarrppeett aarreeaa ooccccuuppiieedd Basic Ratio LR/RC Incentive (as % of Admissible rehab Area)\\\\nbbyy hhiimm ffoorr rreessiiddeennttiiaall ppuurrppoossee iinn tthhee oolldd bbuuiillddiinngg ssuubbjjeecctt ttoo tthhee For Single Plot For Composite redevelopment of\\\\nmmiinniimmuumm ffiixxeedd ccaarrppeett aarreeaa ooff 2277..8888 ssqq.. mm ((330000 ssqq..fftt..)) aanndd//oorr mmaaxxiimmuumm Two to Five Plots Six or more Plots\\\\nccaarrppeett aarreeaa uuppttoo 112200 ssqq..mm ((11229922 ssqq..fftt..)) IInn ccaassee ooff nnoonn--rreessiiddeennttiiaall Above 6 75 85 90\\\\nooccccuuppiieerr,, tthhee aarreeaa ttoo bbee ggiivveenn iinn tthhee rreeccoonnssttrruucctteedd bbuuiillddiinngg wwiillll bbee Above 4 and upto 6 78 88 95\\\\neeqquuiivvaalleenntt ttoo tthhee aarreeaa ooccccuuppiieedd iinn tthhee oolldd bbuuiillddiinngg.. PPrroovviiddeedd ffuurrtthheerr tthhaatt Upto 4 80 90 100\\\\neeaacchh eelliiggiibbllee rreessiiddeennttiiaall ccuumm ccoommmmeerrcciiaall ooccccuuppaanntt sshhaallll bbee eennttiittlleedd ttoo\\\\naa tteenneemmeenntt ooff mmiinniimmuumm ccaarrppeett aarreeaa ooff 2277..8888 ssqq.. mm ((330000 ssqq.. mm..))..\\\\nExplanation: - RC is rate of construction in respect of RCC\\\\nPPrroovviiddeedd ffuurrtthheerr tthhaatt tthhee rreehhaabbiilliittaattiioonn aarreeaa ooff aannyy ooccccuuppaanntt ooff aa\\\\nConstruction and Land Rate (LR) is the rate of Open Land for FSI 1.\\\\nccoommmmeerrcciiaall eessttaabblliisshhmmeenntt,, wwhhoo iiss aalllloowweedd bbyy tthhee rreessppeeccttiivvee aauutthhoorriittyy\\\\nProvided further that in ease there is more than one land rate applicable\\\\nMMHHAADDAA//MMCCGGMM ttoo bbee rreehhaabbiilliittaatteedd iinn aa rreessiiddeennttiiaall tteenneemmeenntt iinn lliieeuu\\\\nto different parts of the plot under the CDS, a weighted average of all\\\\nooff hhiiss ccoommmmeerrcciiaall eessttaabblliisshhmmeenntt,, sshhaallll aallssoo bbee ggoovveerrnneedd bbyy tthhee\\\\nthe applicable rates shall be taken for calculating the Average Land Rate\\\\naaffoorreessaaiidd pprroovviissiioonnss aapppplliiccaabbllee ttoo tthhee rreessiiddeennttiiaall ooccccuuppaannttss iinn tthheessee\\\\nand the Basic Ratio. Provided further that for calculation of the Basic\\\\nRReegguullaattiioonnss..\\\\nRatio, the Land Rate (LR) and the Rate of Construction (RC) shall be\\\\n55.. TThhee lliisstt ooff eelliiggiibbllee ooccccuuppaannttss aanndd aarreeaa ooccccuuppiieedd bbyy eeaacchh ooff tthheemm sshhaallll\\\\ntaken for the year in which the proposal is approved by the Authority\\\\nbbee cceerrttiiffiieedd bbyy tthhee rreessppeeccttiivvee aauutthhoorriittyy ii..ee.. MMHHAADDAA oorr MMCCGGMM..\\\\nand the said ratio shall remain unchanged even if such Scheme\\\\n66.. FFuunnggiibbllee CCoommppeennssaattoorryy AArreeaa aass aapppplliiccaabbllee oonn tthhee aarreeaa ttoo bbee hhaannddeedd\\\\nundergoes any revision or modification subsequently during its course\\\\noovveerr ttoo MMHHAADDAA//MMCCGGMM sshhaallll nnoott bbee aalllloowweedd ttoo bbee uuttiilliizzeedd oonn ssaallee\\\\nof completion.\\\\nccoommppoonneenntt.. NNoo pprreemmiiuumm sshhaallll bbee cchhaarrggeedd oonn tthhee ffuunnggiibbllee\\\\nccoommppeennssaattoorryy aarreeaa iinn rreessppeecctt ooff aarreeaa ttoo bbee hhaannddeedd oovveerr ttoo\\\\nB. For redevelopment with tripartite agreement as per 2(b) above:\\\\nMMHHAADDAA//MMCCGGMM aanndd sshhaallll bbee eexxcclluussiivvee ooff tthhee FFuunnggiibbllee ccoommppeennssaattoorryy\\\\nWhen there is no developer coming forward for redevelopment of the\\\\nBBUUAA iiff aavvaaiilleedd..\\\\nbuilding as per above regulation 7(A) and at least 51% or the occupants\\\\nPPrroovviiddeedd tthhaatt aatt tthhee ooppttiioonn ooff tthhee OOwwnneerr//DDeevveellooppeerr,, tthhee aarreeaa eeqquuiivvaalleenntt\\\\nof at least 5 building adjacent at one location requested\\\\nttoo tthhee mmaarrkkeett vvaalluuee ((aass ppeerr AASSRR ooff tthhaatt yyeeaarr)) ooff aarreeaa aaddmmiissssiibbllee aass ppeerr\\\\nMHADA/MCGM to undertake redevelopment by appointing private\\\\ntthhee pprreessccrriibbeedd ppeerrcceennttaaggee ooff BBUUAA ttoo MMHHAADDAA//MMCCGGMM ccaann bbee mmaaddee\\\\ndeveloper, then in such case MHADA/MCGM may undertake the\\\\naavvaaiillaabbllee wwiitthhiinn tthhee ssaammee oorr aaddjjooiinniinngg mmuunniicciippaall wwaarrdd ooff MMCCGGMM..\\\\nredevelopment of cluster of all such buildings belongings to the\\\\n330066 DCPR 2034 307 DCPR 2034\\\\n']\\n\\n**Instruction:** Use only the query-relevant content from the retrieved information to answer the question. Focus on providing a comprehensive, informative response based solely on the given data. If any conflicting details are present, prioritize the most reliable and consistent information.\\n\""
      ]
     },
     "execution_count": 34,
     "metadata": {},
     "output_type": "execute_result"
    }
   ],
   "source": [
    "final_template = f\"\"\"\n",
    "You are an legal expert assistant providing detailed and accurate information. The user has asked the following question:\n",
    "**Question:** {query}\n",
    "\n",
    "Below is relevant information retrieved from various sources:\n",
    "**Retrieved Information:**\n",
    "{hybrid_results}\n",
    "\n",
    "**Instruction:** Use only the query-relevant content from the retrieved information to answer the question. Focus on providing a comprehensive, informative response based solely on the given data. If any conflicting details are present, prioritize the most reliable and consistent information.\n",
    "\"\"\"\n",
    "final_template"
   ]
  },
  {
   "cell_type": "code",
   "execution_count": 35,
   "metadata": {},
   "outputs": [
    {
     "name": "stdout",
     "output_type": "stream",
     "text": [
      "Incentive in 33(7) refers to the incentive for redevelopment of existing residential housing societies under Regulation 33(7) of the Mumbai Development Control and Promotion Regulations 2034 (DCPR 2034).\n",
      "\n",
      "According to the retrieved information, the incentive for redevelopment under Regulation 33(7) is as follows:\n",
      "\n",
      "- In case of redevelopment of existing residential housing societies, where existing members are proposed to be re-accommodated on the same plot, an incentive additional BUA (Built-up Area) to the extent of 15% of existing BUA or 10 sq.m per tenement, whichever is more, shall be permissible without premium.\n",
      "\n",
      "- If the existing authorized BUA and incentive thereon as stated above is less than the permissible FSI (Floor Space Index) as per Regulation 30(A)(1), then the society may avail of ‘Additional FSI on payment of premium/TDR’ up to the limit of permissible FSI.\n",
      "\n",
      "- If staircase, lift & lift lobby areas are claimed free of FSI by charging premium as per then prevailing Regulation, then such areas will be granted free of FSI without charging premium.\n",
      "\n",
      "- The regulation shall be applicable only when existing members of the societies are proposed to be re-accommodated.\n",
      "\n",
      "- This regulation will be applicable for redevelopment of existing authorized buildings which are of thirty years of age or more.\n",
      "\n",
      "- The age of a building shall be calculated from the date of Occupation Certificate or alternately, from the first date of assessment as per the property tax record in respect of such building or building on which balance/admissible FSI has been consumed by way of vertical extension as per then prevailing Regulation available with MCGM.\n",
      "\n",
      "- The incentive additional BUA shall be independent of additional BUA as permissible under Regulation No. 14(A), 15, 16, and 17, if any.\n",
      "\n",
      "- Fungible compensatory area admissible under Regulation No. 31(3) on the existing authorized BUA shall be without charging premium and over the incentive additional BUA by charging of premium.\n",
      "\n",
      "- If tenanted building(s) and building(s) of co-operative housing society/non-tenanted building(s) co-exist on the plot under development, then proportionate land component as per the existing authorized BUA of existing tenanted building on the plot shall be 180 DCPR 2034.\n",
      "\n",
      "In the context of redevelopment with a tripartite agreement, the FSI permissible for redevelopment undertaken by private developers is as follows:\n",
      "\n",
      "- For single plot, FSI required for rehabilitation of existing occupants plus incentive thereon and for composite redevelopment of multiple plots, incentive varies from 75% to 100% depending on the number of plots.\n",
      "\n",
      "- The rehabilitation area for each occupant shall be minimum 2.75 sq.m (300 sq.ft) and maximum 11.20 sq.m (1209 sq.ft) and the market value of the admissible BUA to MCGM can be made available within the same or adjacent municipal ward of MCGM.\n",
      "\n",
      "- Fungible compensatory area admissible under Regulation No. 31(3) on the existing authorized BUA shall be without charging premium and over the incentive additional BUA by charging of premium.\n",
      "\n",
      "- There is no premium to be charged on fungible compensatory area and over the incentive additional BUA by charging of premium.\n",
      "\n",
      "Note that this information is based on a specific set of regulations and may be subject to change.\n"
     ]
    }
   ],
   "source": [
    "from groq import Groq\n",
    "client = Groq(\n",
    "    api_key='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' ,\n",
    ")\n",
    "\n",
    "chat_completion = client.chat.completions.create(\n",
    "    messages=[\n",
    "        {\n",
    "            \"role\": \"user\",\n",
    "            \"content\": final_template,\n",
    "        }\n",
    "    ],\n",
    "    model=\"llama-3.1-70b-versatile\",\n",
    ")\n",
    "print(chat_completion.choices[0].message.content)"
   ]
  },
  {
   "cell_type": "markdown",
   "metadata": {},
   "source": []
  }
 ],
 "metadata": {
  "kernelspec": {
   "display_name": "Python 3",
   "language": "python",
   "name": "python3"
  },
  "language_info": {
   "codemirror_mode": {
    "name": "ipython",
    "version": 3
   },
   "file_extension": ".py",
   "mimetype": "text/x-python",
   "name": "python",
   "nbconvert_exporter": "python",
   "pygments_lexer": "ipython3",
   "version": "3.12.0"
  }
 },
 "nbformat": 4,
 "nbformat_minor": 2
}
