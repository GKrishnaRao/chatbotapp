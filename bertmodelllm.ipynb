{
 "cells": [
  {
   "cell_type": "code",
   "execution_count": 30,
   "metadata": {},
   "outputs": [
    {
     "name": "stderr",
     "output_type": "stream",
     "text": [
      "Some weights of BertForQuestionAnswering were not initialized from the model checkpoint at nlpaueb/legal-bert-base-uncased and are newly initialized: ['qa_outputs.bias', 'qa_outputs.weight']\n",
      "You should probably TRAIN this model on a down-stream task to be able to use it for predictions and inference.\n"
     ]
    },
    {
     "name": "stdout",
     "output_type": "stream",
     "text": [
      "Question: What is FSI?\n",
      "Answer: . shreepatigroup.in\n",
      "Shreepati\n"
     ]
    }
   ],
   "source": [
    "from transformers import pipeline, AutoTokenizer, AutoModelForQuestionAnswering\n",
    "import torch\n",
    "import PyPDF2\n",
    "\n",
    "# Step 1: Load the Legal-BERT Model and Tokenizer\n",
    "model_name = \"nlpaueb/legal-bert-base-uncased\"\n",
    "tokenizer = AutoTokenizer.from_pretrained(model_name)\n",
    "model = AutoModelForQuestionAnswering.from_pretrained(model_name)\n",
    "\n",
    "# Check if GPU is available\n",
    "device = torch.device(\"cuda\" if torch.cuda.is_available() else \"cpu\")\n",
    "model = model.to(device)  # Move model to GPU if available\n",
    "\n",
    "# Step 2: Define PDF extraction function (unchanged)\n",
    "def extract_text_from_pdf(pdf_path):\n",
    "    pdf_text = \"\"\n",
    "    with open(pdf_path, \"rb\") as file:\n",
    "        reader = PyPDF2.PdfReader(file)\n",
    "        for page in reader.pages:\n",
    "            pdf_text += page.extract_text()\n",
    "    return pdf_text\n",
    "\n",
    "# Step 3: Define Question-Answering function with proper pipeline creation\n",
    "def answer_question(question, context):\n",
    "    # Create the pipeline correctly\n",
    "    qa_pipeline = pipeline(\n",
    "        task=\"question-answering\",\n",
    "        model=model,\n",
    "        tokenizer=tokenizer,\n",
    "        device=device  # Specify device for GPU support\n",
    "    )\n",
    "    \n",
    "    result = qa_pipeline(question=question, context=context)\n",
    "    return result[\"answer\"]\n",
    "\n",
    "# Example usage\n",
    "pdf_path = \"pdf/DCPR_2034_13-09-2024.pdf\"\n",
    "question = \"What is FSI?\"\n",
    "\n",
    "# Extract text and get answer\n",
    "context = extract_text_from_pdf(pdf_path)\n",
    "answer = answer_question(question, context)\n",
    "\n",
    "# Output the result\n",
    "print(f\"Question: {question}\")\n",
    "print(f\"Answer: {answer}\")\n"
   ]
  }
 ],
 "metadata": {
  "kernelspec": {
   "display_name": "Python 3",
   "language": "python",
   "name": "python3"
  },
  "language_info": {
   "codemirror_mode": {
    "name": "ipython",
    "version": 3
   },
   "file_extension": ".py",
   "mimetype": "text/x-python",
   "name": "python",
   "nbconvert_exporter": "python",
   "pygments_lexer": "ipython3",
   "version": "3.12.7"
  }
 },
 "nbformat": 4,
 "nbformat_minor": 2
}
